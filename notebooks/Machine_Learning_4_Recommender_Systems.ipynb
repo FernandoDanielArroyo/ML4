{
 "cells": [
  {
   "cell_type": "code",
   "execution_count": 1,
   "metadata": {},
   "outputs": [],
   "source": [
    "import numpy as np\n",
    "import pandas as pd\n",
    "from collections import defaultdict\n",
    "from sklearn.model_selection import train_test_split\n",
    "import matplotlib.pyplot as plt\n",
    "from matplotlib import rcParams\n",
    "%matplotlib inline"
   ]
  },
  {
   "cell_type": "code",
   "execution_count": 2,
   "metadata": {},
   "outputs": [
    {
     "name": "stderr",
     "output_type": "stream",
     "text": [
      "2022-06-21 09:24:43.491721: I tensorflow/stream_executor/platform/default/dso_loader.cc:49] Successfully opened dynamic library libcudart.so.10.1\n"
     ]
    }
   ],
   "source": [
    "import keras\n",
    "from keras.models import Model\n",
    "from keras.layers import Embedding, Input, Reshape\n",
    "from keras.layers.merge import Dot"
   ]
  },
  {
   "cell_type": "code",
   "execution_count": 3,
   "metadata": {},
   "outputs": [],
   "source": [
    "import itertools"
   ]
  },
  {
   "cell_type": "markdown",
   "metadata": {},
   "source": [
    "**Resources** :\n",
    "\n",
    "*Matrix Factorization techniques for Recommender Systems*, Koren (2009)    \n",
    "https://www.inf.unibz.it/~ricci/ISR/papers/ieeecomputer.pdf\n",
    "\n",
    "Hands on Machine Learning with scikit-learn and tensorflow:             \n",
    "https://drive.google.com/file/d/1t0rc3x5YQBgLXVLET6BzR4jn5vzMI_m0/view?usp=sharing\n",
    "\n",
    "The movieLens dataset:                                                \n",
    "https://grouplens.org/datasets/movielens/ \n",
    "\n",
    "Keras Functional API doc :                                            \n",
    "https://keras.io/guides/functional_api/\n"
   ]
  },
  {
   "cell_type": "markdown",
   "metadata": {},
   "source": [
    "# Recommender systems : collaborative filtering via matrix factorization"
   ]
  },
  {
   "cell_type": "markdown",
   "metadata": {},
   "source": [
    "Do you wonder how Netflix is able to recommend you movies despite it doesn't know anything about you but the ratings you gave to the movies you watched ? This is what we are going to explore during this 3 days machine learning module.\n",
    "\n",
    "First off, let's learn about what are recommender system, collaborative filtering and matrix factorization techniques, which are all very well introduced in Koren's 2009 famous article : *Matrix Factorization techniques for Recommender Systems* : https://www.inf.unibz.it/~ricci/ISR/papers/ieeecomputer.pdf . Read the 4 first pages (up to section *adding biases* included). \n",
    "\n",
    "Through this notebook we are going to re-implement the model described in the pages you read, and apply it to a classic movie ratings dataset coming from the website *movieLens*. To do so, we will use a powerful deep learning python library called *Keras*, that makes it easy to train complex models based on linear algebra."
   ]
  },
  {
   "cell_type": "markdown",
   "metadata": {},
   "source": [
    "## Load the dataset"
   ]
  },
  {
   "cell_type": "markdown",
   "metadata": {},
   "source": [
    "For this module, we are going to use the movieLens dataset, that contains data from the movie recommending website movielens. The data is a subset of ratings from 0 to 5 given by some users of the website to a subset of movies. You can read more about it here (we are using the latest small dataset) : https://grouplens.org/datasets/movielens/ , and in the *README* file that is in the *data/ml-latest-small/* folder.\n",
    "\n",
    "Load the ratings data from the `ratings.csv` file into a dataframe. The userId and movieId provided in the file don't start from 0, and are not contiguous (i.e. there are missing indexes).\n",
    "\n",
    "Re-index the user and movie ids to indexes going from 0 to `nb_users` and 0 to `nb_movies` respectively, by building two dictionnaries `user_ids_map` and `movie_ids_map` that maps the file ids to your new ids. \n",
    "And finally, split the rows of this dataframe in a random 90%/10% train/test sets.\n",
    "\n",
    "To do so, fill the `get_train_test_sets` function below, and respect the returned objects structures that are described in the docstring.\n"
   ]
  },
  {
   "cell_type": "code",
   "execution_count": 4,
   "metadata": {},
   "outputs": [],
   "source": [
    "# Loading datasets \n",
    "df_ratings = pd.read_csv('../data/ml-latest-small/ratings.csv')\n",
    "df_rat = df_ratings.copy()\n",
    "\n",
    "df_movies_csv = pd.read_csv('../data/ml-latest-small/movies.csv')\n",
    "df_movies = df_movies_csv.copy()\n",
    "\n",
    "df_links_csv = pd.read_csv('../data/ml-latest-small/links.csv')\n",
    "df_links = df_links_csv.copy()\n",
    "\n",
    "df_tags_csv = pd.read_csv('../data/ml-latest-small/tags.csv')\n",
    "df_tags = df_tags_csv.copy()\n"
   ]
  },
  {
   "cell_type": "code",
   "execution_count": 4,
   "metadata": {},
   "outputs": [],
   "source": [
    "## Exploring data structure \n",
    "# df_ratings.shape\n",
    "# df_ratings.columns\n",
    "# df_ratings.info()\n",
    "# df_ratings.describe()\n",
    "\n",
    "## checking nan\n",
    "# df_ratings.isna().sum()\n",
    "\n",
    "## unique values and vamue counts \n",
    "# df_ratings.nunique()\n",
    "# df_ratings.value_counts()\n",
    "\n",
    "# df_rat"
   ]
  },
  {
   "cell_type": "code",
   "execution_count": 5,
   "metadata": {},
   "outputs": [],
   "source": [
    "## Testing functiion \n",
    "# user_ids_map = dict(zip(df_rat['userId'].unique(),list(range(0,df_rat['userId'].nunique())))) \n",
    "# movie_ids_map = dict(zip(df_rat['movieId'].unique(),list(range(0,df_rat['movieId'].nunique()))))\n",
    "# nb_users = df_rat['userId'].nunique()\n",
    "# nb_movies = df_rat['movieId'].nunique()\n",
    "# df_rat['movieId'] = df_rat.movieId.map(movie_ids_map)\n",
    "# df_rat['userId'] = df_rat.userId.map(user_ids_map)\n",
    "# train, test = train_test_split(df_rat, train_size=0.9)"
   ]
  },
  {
   "cell_type": "code",
   "execution_count": 5,
   "metadata": {},
   "outputs": [],
   "source": [
    "def get_train_test_sets(data_path, train_prop = 0.9):\n",
    "    \"\"\"\n",
    "    Build train and test sets and reindex userIds and MovieIds from 0 with contiguous indexes.\n",
    "    \n",
    "    Input: \n",
    "        data_path : string : the path to the ratings file\n",
    "        train_prop : float : The proportion of the training set \n",
    "    \n",
    "    Output:\n",
    "        train : pandas.DataFrame : A dataframe with columns [userId, movieId, rating, timestamp], where\n",
    "            the userId and movieId value have been replaced with new ids starting at 0. \n",
    "            Contains `train_prop` random entries from the input file.\n",
    "        test : pandas.DataFrame : Same as `train`, contains the 1 - `train_prop` remaining entries.\n",
    "        nb_users : int : Number of unique user ids\n",
    "        nb_movies : int : Number of unique movie ids\n",
    "        user_ids_map : dict : A mapping of original file userId to a new index starting at 0.\n",
    "            Keys are int from the original userId column, values are int of the new indexation.\n",
    "        movie_ids_map : dict : Same as `user_ids_map` for the movieIds.\n",
    "    \"\"\"\n",
    "    \n",
    "    #TOFILL\n",
    "    df = pd.read_csv(data_path)\n",
    "    user_ids_map = dict(zip(df['userId'].unique(),list(range(0,df['userId'].nunique())))) \n",
    "    movie_ids_map = dict(zip(df['movieId'].unique(),list(range(0,df['movieId'].nunique()))))\n",
    "    nb_users = df['userId'].nunique()\n",
    "    nb_movies = df['movieId'].nunique()\n",
    "    df['movieId'] = df.movieId.map(movie_ids_map)\n",
    "    df['userId'] = df.userId.map(user_ids_map)\n",
    "    train, test = train_test_split(df, train_size=train_prop)\n",
    "\n",
    "    return train, test, nb_users, nb_movies, user_ids_map, movie_ids_map"
   ]
  },
  {
   "cell_type": "code",
   "execution_count": 6,
   "metadata": {
    "scrolled": true
   },
   "outputs": [
    {
     "name": "stdout",
     "output_type": "stream",
     "text": [
      "There are 9724 movies, 610 users, and 100836 ratings\n"
     ]
    }
   ],
   "source": [
    "ratings_s_path =  '../data/ml-latest-small/ratings.csv'\n",
    "train, test, nb_users, nb_movies, user_ids_map, movie_ids_map = get_train_test_sets(ratings_s_path)\n",
    "dataset = pd.concat((train,test), axis = 0)\n",
    "\n",
    "print(\"There are %i movies, %i users, and %i ratings\" % (nb_movies, nb_users, dataset.shape[0]))"
   ]
  },
  {
   "cell_type": "code",
   "execution_count": 7,
   "metadata": {},
   "outputs": [],
   "source": [
    "X_train = [train[\"userId\"].to_numpy(), train[\"movieId\"].to_numpy()]\n",
    "y_train = train[\"rating\"].to_numpy()\n",
    "\n",
    "X_test = [test[\"userId\"].to_numpy(), test[\"movieId\"].to_numpy()]\n",
    "y_test = test[\"rating\"].to_numpy()"
   ]
  },
  {
   "cell_type": "markdown",
   "metadata": {},
   "source": [
    "Let's have a quick look at the ratings distribution:"
   ]
  },
  {
   "cell_type": "code",
   "execution_count": 8,
   "metadata": {
    "scrolled": true
   },
   "outputs": [
    {
     "data": {
      "image/png": "[encoded data removed]",
      "text/plain": [
       "<Figure size 432x288 with 1 Axes>"
      ]
     },
     "metadata": {
      "needs_background": "light"
     },
     "output_type": "display_data"
    }
   ],
   "source": [
    "dataset['rating'].hist(bins=10);"
   ]
  },
  {
   "cell_type": "markdown",
   "metadata": {},
   "source": [
    "In this dataset there are a lot of missing values, because not all the user/movie pairs have an associated rating. Indeed, each user rates only a few movies ! The goal of this notebook is to predict (some of) the missing user/movie ratings.\n",
    "\n",
    "Print how many movies each of the 5 first users have rated, and print the percentage of available ratings in the whole dataset (i.e. the ratio between number of ratings and all the possible users/movies combinations):"
   ]
  },
  {
   "cell_type": "code",
   "execution_count": 9,
   "metadata": {},
   "outputs": [
    {
     "name": "stdout",
     "output_type": "stream",
     "text": [
      "5 first users have rated 874 movies\n"
     ]
    }
   ],
   "source": [
    "#TOFILL\n",
    "# creating a DF with 5 first users \n",
    "df_5users = dataset[dataset['userId'] <= 5]\n",
    "# Printing how many movies each of the 5 first users have rated \n",
    "print('5 first users have rated', len(df_5users['rating']), 'movies')"
   ]
  },
  {
   "cell_type": "code",
   "execution_count": 27,
   "metadata": {},
   "outputs": [],
   "source": [
    "# # verifying total of rated movies multiplying nb_users times nb_movies\n",
    "# test = dataset.groupby(['userId']).count()\n",
    "\n",
    "# test[test.index <= 5].summ()"
   ]
  },
  {
   "cell_type": "code",
   "execution_count": 11,
   "metadata": {},
   "outputs": [
    {
     "name": "stdout",
     "output_type": "stream",
     "text": [
      "The percentage of available ratings in the whole dataset is 1.7 %\n"
     ]
    }
   ],
   "source": [
    "# Total of available rated movies \n",
    "rated_movies = len(dataset['rating'])\n",
    "\n",
    "# Total of all possible rated movies \n",
    "all_possible_rated_movies = nb_users * nb_movies\n",
    "\n",
    "# Percentage of available ratings\n",
    "percentage_rated_movies = rated_movies/all_possible_rated_movies\n",
    "\n",
    "print('The percentage of available ratings in the whole dataset is', \n",
    "      round((percentage_rated_movies*100), 2), '%')"
   ]
  },
  {
   "cell_type": "markdown",
   "metadata": {},
   "source": [
    "There is only 1.7% of ratings that are available, which is normal as each hasn't rated all the movies. To see the dataset in a matrix form with all the missing ratings, use the `Dataframe.pivot()` function, with the `userId` as index, the `movieId` as columns, and the ratings for the `values` :"
   ]
  },
  {
   "cell_type": "code",
   "execution_count": 8,
   "metadata": {},
   "outputs": [
    {
     "data": {
      "text/html": [
       "<div>\n",
       "<style scoped>\n",
       "    .dataframe tbody tr th:only-of-type {\n",
       "        vertical-align: middle;\n",
       "    }\n",
       "\n",
       "    .dataframe tbody tr th {\n",
       "        vertical-align: top;\n",
       "    }\n",
       "\n",
       "    .dataframe thead th {\n",
       "        text-align: right;\n",
       "    }\n",
       "</style>\n",
       "<table border=\"1\" class=\"dataframe\">\n",
       "  <thead>\n",
       "    <tr style=\"text-align: right;\">\n",
       "      <th>movieId</th>\n",
       "      <th>0</th>\n",
       "      <th>1</th>\n",
       "      <th>2</th>\n",
       "      <th>3</th>\n",
       "      <th>4</th>\n",
       "      <th>5</th>\n",
       "      <th>6</th>\n",
       "      <th>7</th>\n",
       "      <th>8</th>\n",
       "      <th>9</th>\n",
       "      <th>...</th>\n",
       "      <th>9714</th>\n",
       "      <th>9715</th>\n",
       "      <th>9716</th>\n",
       "      <th>9717</th>\n",
       "      <th>9718</th>\n",
       "      <th>9719</th>\n",
       "      <th>9720</th>\n",
       "      <th>9721</th>\n",
       "      <th>9722</th>\n",
       "      <th>9723</th>\n",
       "    </tr>\n",
       "    <tr>\n",
       "      <th>userId</th>\n",
       "      <th></th>\n",
       "      <th></th>\n",
       "      <th></th>\n",
       "      <th></th>\n",
       "      <th></th>\n",
       "      <th></th>\n",
       "      <th></th>\n",
       "      <th></th>\n",
       "      <th></th>\n",
       "      <th></th>\n",
       "      <th></th>\n",
       "      <th></th>\n",
       "      <th></th>\n",
       "      <th></th>\n",
       "      <th></th>\n",
       "      <th></th>\n",
       "      <th></th>\n",
       "      <th></th>\n",
       "      <th></th>\n",
       "      <th></th>\n",
       "      <th></th>\n",
       "    </tr>\n",
       "  </thead>\n",
       "  <tbody>\n",
       "    <tr>\n",
       "      <th>0</th>\n",
       "      <td>4.0</td>\n",
       "      <td>4.0</td>\n",
       "      <td>4.0</td>\n",
       "      <td>5.0</td>\n",
       "      <td>5.0</td>\n",
       "      <td>3.0</td>\n",
       "      <td>5.0</td>\n",
       "      <td>4.0</td>\n",
       "      <td>5.0</td>\n",
       "      <td>5.0</td>\n",
       "      <td>...</td>\n",
       "      <td>NaN</td>\n",
       "      <td>NaN</td>\n",
       "      <td>NaN</td>\n",
       "      <td>NaN</td>\n",
       "      <td>NaN</td>\n",
       "      <td>NaN</td>\n",
       "      <td>NaN</td>\n",
       "      <td>NaN</td>\n",
       "      <td>NaN</td>\n",
       "      <td>NaN</td>\n",
       "    </tr>\n",
       "    <tr>\n",
       "      <th>1</th>\n",
       "      <td>NaN</td>\n",
       "      <td>NaN</td>\n",
       "      <td>NaN</td>\n",
       "      <td>NaN</td>\n",
       "      <td>NaN</td>\n",
       "      <td>NaN</td>\n",
       "      <td>NaN</td>\n",
       "      <td>NaN</td>\n",
       "      <td>NaN</td>\n",
       "      <td>NaN</td>\n",
       "      <td>...</td>\n",
       "      <td>NaN</td>\n",
       "      <td>NaN</td>\n",
       "      <td>NaN</td>\n",
       "      <td>NaN</td>\n",
       "      <td>NaN</td>\n",
       "      <td>NaN</td>\n",
       "      <td>NaN</td>\n",
       "      <td>NaN</td>\n",
       "      <td>NaN</td>\n",
       "      <td>NaN</td>\n",
       "    </tr>\n",
       "    <tr>\n",
       "      <th>2</th>\n",
       "      <td>NaN</td>\n",
       "      <td>NaN</td>\n",
       "      <td>NaN</td>\n",
       "      <td>NaN</td>\n",
       "      <td>NaN</td>\n",
       "      <td>NaN</td>\n",
       "      <td>NaN</td>\n",
       "      <td>NaN</td>\n",
       "      <td>NaN</td>\n",
       "      <td>NaN</td>\n",
       "      <td>...</td>\n",
       "      <td>NaN</td>\n",
       "      <td>NaN</td>\n",
       "      <td>NaN</td>\n",
       "      <td>NaN</td>\n",
       "      <td>NaN</td>\n",
       "      <td>NaN</td>\n",
       "      <td>NaN</td>\n",
       "      <td>NaN</td>\n",
       "      <td>NaN</td>\n",
       "      <td>NaN</td>\n",
       "    </tr>\n",
       "    <tr>\n",
       "      <th>3</th>\n",
       "      <td>NaN</td>\n",
       "      <td>NaN</td>\n",
       "      <td>NaN</td>\n",
       "      <td>2.0</td>\n",
       "      <td>NaN</td>\n",
       "      <td>NaN</td>\n",
       "      <td>NaN</td>\n",
       "      <td>NaN</td>\n",
       "      <td>NaN</td>\n",
       "      <td>NaN</td>\n",
       "      <td>...</td>\n",
       "      <td>NaN</td>\n",
       "      <td>NaN</td>\n",
       "      <td>NaN</td>\n",
       "      <td>NaN</td>\n",
       "      <td>NaN</td>\n",
       "      <td>NaN</td>\n",
       "      <td>NaN</td>\n",
       "      <td>NaN</td>\n",
       "      <td>NaN</td>\n",
       "      <td>NaN</td>\n",
       "    </tr>\n",
       "    <tr>\n",
       "      <th>4</th>\n",
       "      <td>4.0</td>\n",
       "      <td>NaN</td>\n",
       "      <td>NaN</td>\n",
       "      <td>NaN</td>\n",
       "      <td>4.0</td>\n",
       "      <td>NaN</td>\n",
       "      <td>NaN</td>\n",
       "      <td>4.0</td>\n",
       "      <td>NaN</td>\n",
       "      <td>NaN</td>\n",
       "      <td>...</td>\n",
       "      <td>NaN</td>\n",
       "      <td>NaN</td>\n",
       "      <td>NaN</td>\n",
       "      <td>NaN</td>\n",
       "      <td>NaN</td>\n",
       "      <td>NaN</td>\n",
       "      <td>NaN</td>\n",
       "      <td>NaN</td>\n",
       "      <td>NaN</td>\n",
       "      <td>NaN</td>\n",
       "    </tr>\n",
       "    <tr>\n",
       "      <th>...</th>\n",
       "      <td>...</td>\n",
       "      <td>...</td>\n",
       "      <td>...</td>\n",
       "      <td>...</td>\n",
       "      <td>...</td>\n",
       "      <td>...</td>\n",
       "      <td>...</td>\n",
       "      <td>...</td>\n",
       "      <td>...</td>\n",
       "      <td>...</td>\n",
       "      <td>...</td>\n",
       "      <td>...</td>\n",
       "      <td>...</td>\n",
       "      <td>...</td>\n",
       "      <td>...</td>\n",
       "      <td>...</td>\n",
       "      <td>...</td>\n",
       "      <td>...</td>\n",
       "      <td>...</td>\n",
       "      <td>...</td>\n",
       "      <td>...</td>\n",
       "    </tr>\n",
       "    <tr>\n",
       "      <th>605</th>\n",
       "      <td>2.5</td>\n",
       "      <td>NaN</td>\n",
       "      <td>NaN</td>\n",
       "      <td>3.0</td>\n",
       "      <td>4.5</td>\n",
       "      <td>4.0</td>\n",
       "      <td>NaN</td>\n",
       "      <td>3.5</td>\n",
       "      <td>NaN</td>\n",
       "      <td>4.0</td>\n",
       "      <td>...</td>\n",
       "      <td>NaN</td>\n",
       "      <td>NaN</td>\n",
       "      <td>NaN</td>\n",
       "      <td>NaN</td>\n",
       "      <td>NaN</td>\n",
       "      <td>NaN</td>\n",
       "      <td>NaN</td>\n",
       "      <td>NaN</td>\n",
       "      <td>NaN</td>\n",
       "      <td>NaN</td>\n",
       "    </tr>\n",
       "    <tr>\n",
       "      <th>606</th>\n",
       "      <td>4.0</td>\n",
       "      <td>NaN</td>\n",
       "      <td>NaN</td>\n",
       "      <td>NaN</td>\n",
       "      <td>NaN</td>\n",
       "      <td>NaN</td>\n",
       "      <td>NaN</td>\n",
       "      <td>5.0</td>\n",
       "      <td>NaN</td>\n",
       "      <td>NaN</td>\n",
       "      <td>...</td>\n",
       "      <td>NaN</td>\n",
       "      <td>NaN</td>\n",
       "      <td>NaN</td>\n",
       "      <td>NaN</td>\n",
       "      <td>NaN</td>\n",
       "      <td>NaN</td>\n",
       "      <td>NaN</td>\n",
       "      <td>NaN</td>\n",
       "      <td>NaN</td>\n",
       "      <td>NaN</td>\n",
       "    </tr>\n",
       "    <tr>\n",
       "      <th>607</th>\n",
       "      <td>2.5</td>\n",
       "      <td>2.0</td>\n",
       "      <td>NaN</td>\n",
       "      <td>4.5</td>\n",
       "      <td>4.5</td>\n",
       "      <td>3.0</td>\n",
       "      <td>NaN</td>\n",
       "      <td>4.0</td>\n",
       "      <td>NaN</td>\n",
       "      <td>NaN</td>\n",
       "      <td>...</td>\n",
       "      <td>NaN</td>\n",
       "      <td>NaN</td>\n",
       "      <td>NaN</td>\n",
       "      <td>NaN</td>\n",
       "      <td>NaN</td>\n",
       "      <td>NaN</td>\n",
       "      <td>NaN</td>\n",
       "      <td>NaN</td>\n",
       "      <td>NaN</td>\n",
       "      <td>NaN</td>\n",
       "    </tr>\n",
       "    <tr>\n",
       "      <th>608</th>\n",
       "      <td>3.0</td>\n",
       "      <td>NaN</td>\n",
       "      <td>NaN</td>\n",
       "      <td>NaN</td>\n",
       "      <td>NaN</td>\n",
       "      <td>NaN</td>\n",
       "      <td>NaN</td>\n",
       "      <td>3.0</td>\n",
       "      <td>NaN</td>\n",
       "      <td>NaN</td>\n",
       "      <td>...</td>\n",
       "      <td>NaN</td>\n",
       "      <td>NaN</td>\n",
       "      <td>NaN</td>\n",
       "      <td>NaN</td>\n",
       "      <td>NaN</td>\n",
       "      <td>NaN</td>\n",
       "      <td>NaN</td>\n",
       "      <td>NaN</td>\n",
       "      <td>NaN</td>\n",
       "      <td>NaN</td>\n",
       "    </tr>\n",
       "    <tr>\n",
       "      <th>609</th>\n",
       "      <td>5.0</td>\n",
       "      <td>NaN</td>\n",
       "      <td>5.0</td>\n",
       "      <td>5.0</td>\n",
       "      <td>4.0</td>\n",
       "      <td>4.0</td>\n",
       "      <td>NaN</td>\n",
       "      <td>4.5</td>\n",
       "      <td>NaN</td>\n",
       "      <td>NaN</td>\n",
       "      <td>...</td>\n",
       "      <td>3.0</td>\n",
       "      <td>3.5</td>\n",
       "      <td>3.5</td>\n",
       "      <td>3.5</td>\n",
       "      <td>3.5</td>\n",
       "      <td>2.5</td>\n",
       "      <td>4.5</td>\n",
       "      <td>3.0</td>\n",
       "      <td>3.5</td>\n",
       "      <td>3.5</td>\n",
       "    </tr>\n",
       "  </tbody>\n",
       "</table>\n",
       "<p>610 rows × 9724 columns</p>\n",
       "</div>"
      ],
      "text/plain": [
       "movieId  0     1     2     3     4     5     6     7     8     9     ...  \\\n",
       "userId                                                               ...   \n",
       "0         4.0   4.0   4.0   5.0   5.0   3.0   5.0   4.0   5.0   5.0  ...   \n",
       "1         NaN   NaN   NaN   NaN   NaN   NaN   NaN   NaN   NaN   NaN  ...   \n",
       "2         NaN   NaN   NaN   NaN   NaN   NaN   NaN   NaN   NaN   NaN  ...   \n",
       "3         NaN   NaN   NaN   2.0   NaN   NaN   NaN   NaN   NaN   NaN  ...   \n",
       "4         4.0   NaN   NaN   NaN   4.0   NaN   NaN   4.0   NaN   NaN  ...   \n",
       "...       ...   ...   ...   ...   ...   ...   ...   ...   ...   ...  ...   \n",
       "605       2.5   NaN   NaN   3.0   4.5   4.0   NaN   3.5   NaN   4.0  ...   \n",
       "606       4.0   NaN   NaN   NaN   NaN   NaN   NaN   5.0   NaN   NaN  ...   \n",
       "607       2.5   2.0   NaN   4.5   4.5   3.0   NaN   4.0   NaN   NaN  ...   \n",
       "608       3.0   NaN   NaN   NaN   NaN   NaN   NaN   3.0   NaN   NaN  ...   \n",
       "609       5.0   NaN   5.0   5.0   4.0   4.0   NaN   4.5   NaN   NaN  ...   \n",
       "\n",
       "movieId  9714  9715  9716  9717  9718  9719  9720  9721  9722  9723  \n",
       "userId                                                               \n",
       "0         NaN   NaN   NaN   NaN   NaN   NaN   NaN   NaN   NaN   NaN  \n",
       "1         NaN   NaN   NaN   NaN   NaN   NaN   NaN   NaN   NaN   NaN  \n",
       "2         NaN   NaN   NaN   NaN   NaN   NaN   NaN   NaN   NaN   NaN  \n",
       "3         NaN   NaN   NaN   NaN   NaN   NaN   NaN   NaN   NaN   NaN  \n",
       "4         NaN   NaN   NaN   NaN   NaN   NaN   NaN   NaN   NaN   NaN  \n",
       "...       ...   ...   ...   ...   ...   ...   ...   ...   ...   ...  \n",
       "605       NaN   NaN   NaN   NaN   NaN   NaN   NaN   NaN   NaN   NaN  \n",
       "606       NaN   NaN   NaN   NaN   NaN   NaN   NaN   NaN   NaN   NaN  \n",
       "607       NaN   NaN   NaN   NaN   NaN   NaN   NaN   NaN   NaN   NaN  \n",
       "608       NaN   NaN   NaN   NaN   NaN   NaN   NaN   NaN   NaN   NaN  \n",
       "609       3.0   3.5   3.5   3.5   3.5   2.5   4.5   3.0   3.5   3.5  \n",
       "\n",
       "[610 rows x 9724 columns]"
      ]
     },
     "execution_count": 8,
     "metadata": {},
     "output_type": "execute_result"
    }
   ],
   "source": [
    "#TOFILL\n",
    "dataset2 = dataset.copy()\n",
    "data_matrix = dataset2.pivot(index='userId', columns='movieId', values='rating')\n",
    "data_matrix"
   ]
  },
  {
   "cell_type": "markdown",
   "metadata": {},
   "source": [
    "Print all the ratings of user 1. To do so, use the *movies.csv* file and your `movie_ids_map` dictionnary to find the movie title from the new movie indexes, and print the real movie title associated to each rating of user 1 :"
   ]
  },
  {
   "cell_type": "code",
   "execution_count": 13,
   "metadata": {},
   "outputs": [],
   "source": [
    "#TOFILL\n",
    "# creating DF with user 1 values on dataset \n",
    "user1 = dataset[dataset['userId'] == 1]\n",
    "# user1['movieId']"
   ]
  },
  {
   "cell_type": "code",
   "execution_count": 14,
   "metadata": {
    "scrolled": true,
    "tags": []
   },
   "outputs": [],
   "source": [
    "# Loop to get user1_moviesId_list\n",
    "\n",
    "user1_moviesId_list = [] \n",
    "for Id in user1['movieId']:\n",
    "    user1_moviesId_list.append(Id)\n",
    "    "
   ]
  },
  {
   "cell_type": "code",
   "execution_count": 15,
   "metadata": {
    "tags": []
   },
   "outputs": [],
   "source": [
    "# list out keys and values separately\n",
    "key_mov_Id_map_list = list(movie_ids_map.keys())\n",
    "val_mov_Id_map_list = list(movie_ids_map.values())\n",
    "user1_moviesId_list\n",
    "\n",
    "# loop to get key with values from user1_moviesId_list\n",
    "\n",
    "old_movId_list = []\n",
    "for Id in user1_moviesId_list: \n",
    "    position = val_mov_Id_map_list.index(Id)\n",
    "    # print(key_mov_Id_map_list[position])\n",
    "    old_movId_list.append(key_mov_Id_map_list[position])"
   ]
  },
  {
   "cell_type": "code",
   "execution_count": 16,
   "metadata": {},
   "outputs": [
    {
     "name": "stdout",
     "output_type": "stream",
     "text": [
      "['Town, The (2010)']\n",
      "['Shutter Island (2010)']\n",
      "['The Drop (2014)']\n",
      "['The Jinx: The Life and Deaths of Robert Durst (2015)']\n",
      "['Talladega Nights: The Ballad of Ricky Bobby (2006)']\n",
      "['Inglourious Basterds (2009)']\n",
      "['Kill Bill: Vol. 1 (2003)']\n",
      "['Interstellar (2014)']\n",
      "['Django Unchained (2012)']\n",
      "['Girl with the Dragon Tattoo, The (2011)']\n",
      "['Good Will Hunting (1997)']\n",
      "['Inception (2010)']\n",
      "['Mad Max: Fury Road (2015)']\n",
      "['Departed, The (2006)']\n",
      "['Zombieland (2009)']\n",
      "['Tommy Boy (1995)']\n",
      "['Shawshank Redemption, The (1994)']\n",
      "['Dark Knight, The (2008)']\n",
      "['Exit Through the Gift Shop (2010)']\n",
      "['Dark Knight Rises, The (2012)']\n",
      "['Louis C.K.: Hilarious (2010)']\n",
      "['Step Brothers (2008)']\n",
      "['Wolf of Wall Street, The (2013)']\n",
      "['Collateral (2004)']\n",
      "['Inside Job (2010)']\n",
      "['Ex Machina (2015)']\n",
      "['Whiplash (2014)']\n",
      "['Warrior (2011)']\n",
      "['Gladiator (2000)']\n"
     ]
    }
   ],
   "source": [
    "# loop to print movie titles rated by user1 \n",
    "\n",
    "for Id in old_movId_list:\n",
    "    print(df_movies[df_movies['movieId'] == Id].title.values)"
   ]
  },
  {
   "cell_type": "markdown",
   "metadata": {},
   "source": [
    "## Matrix Factorization with Keras"
   ]
  },
  {
   "cell_type": "markdown",
   "metadata": {},
   "source": [
    "Keras is a python library made for easily designing complex models such as deep learning models, in this module we are going to use just a few features from it to implement our simple matrix factorization model, as it makes a good introduction to the library before the next module about deep learning where you will also be using Keras.\n",
    "\n",
    "The following function `get_mf_model` implements the model described in equation (2) in Koren's paper (without the $+\\lambda(\\ldots)$ part for the moment). So it basically tries to find the $p_u \\in \\mathbb{R}^k$ and $q_i \\in \\mathbb{R}^k$ vectors that minimizes the squared loss between their dot product $p_u^Tq_i$, and the observed ratings $r_{ui}$, from random initialization of $p_u$ and $q_i$. In machine learning terms, $p_u$ and $q_i$ are called the *embeddings* of the user $u$ and of the movie $i$ respectively. Their size $k$ is an hyper-parameter of the model, which is called the *rank* of the factorization.\n",
    "\n",
    "To do so, it uses the functional API from Keras (the other API proposed is the sequential one, but is not adapted for this model), you can read about it here : https://keras.io/guides/functional_api/ .\n",
    "\n",
    "Keras, unlike Numpy, uses a different progamming paradigm. Numpy uses an *imperative* programming style (like python in general), meaning that when you execute `x.dot(y)`, the dot product is actually calculated. Keras however, uses a *declarative* (also called *symbolic*) programming style, meaning that when you write `Dot()([x, y])`, you tell Keras than when you will call the *fit* function of your model in the future, you will want to do a dot product between the future values that *x* and *y* will have. And this is what Keras is about, it allows you to build your own model as a sequence of operations, describing each input and output, and then later fit it and predict with it.\n",
    "\n",
    "Let's not get in too many details, but retain that the `get_mf_model` function below is not actually executing the model, it creates it, and returns an object of the class `keras.models.Model` that has been instructed with your model operations, and this object can then be trained with the classic `fit` and `predict` functions. \n",
    "\n",
    "Read carefully the comments in the code of the function to understand the different steps in the model creation process:"
   ]
  },
  {
   "cell_type": "code",
   "execution_count": 9,
   "metadata": {},
   "outputs": [],
   "source": [
    "\n",
    "\n",
    "def get_mf_model(nb_users, nb_movies, k):\n",
    "    \"\"\"\n",
    "    Build a simple matrix factorization model from\n",
    "    the number of user, the number of movies, and the size of the embeddings k.\n",
    "    \n",
    "    Input:\n",
    "        nb_users : int : The number of unique users\n",
    "        nb_movies : int : The number of unique movies\n",
    "        k : int : The size of the embeddings\n",
    "        \n",
    "    Output:\n",
    "        model : keras.models.Model : A keras model that implements matrix factorization\n",
    "        \n",
    "    \"\"\"\n",
    "    dim_embedddings = k\n",
    "    \n",
    "    #Inputs:\n",
    "    #First we describe the input of the model, that is the training data that we will give it as X\n",
    "    #In our case, the input are just the user index u and the movie index i.\n",
    "    #So we declare two inputs of size one:\n",
    "    u = Input(shape=(1,), dtype='int32', name = \"u__user_id\")\n",
    "    i = Input(shape=(1,), dtype='int32', name = 'i__movie_id')\n",
    "    \n",
    "    #Then let's declare our variable, the embeddings p and q.\n",
    "    #First with the users, we declare that we have nb_users embeddings, each of size dim_embeddings.\n",
    "    #An embedding object is indexed by calling it with the index parameter like a function,\n",
    "    #so we add a `(u)` at the end to tell keras we want it to be indexed \n",
    "    #by the user ids we will pass at training time as inputs.\n",
    "    p_u = Embedding(nb_users, dim_embedddings, name=\"p_u__user_embedding\")(u)\n",
    "    \n",
    "    #Unfortunatly, when indexing an embeddings it keeps [1,k] matrix shape instead\n",
    "    #of just a [k] vector, so we have to tell Keras that we just want a vector by\n",
    "    #redefining its shape:\n",
    "    p_u = Reshape((dim_embedddings,), name=\"p_u__user_embedding_reshaped\")(p_u)\n",
    "    \n",
    "    # Same thing for the movie embeddings:\n",
    "    q_i = Embedding(nb_movies, dim_embedddings, name=\"q_i__movie_embedding\")(i)\n",
    "    q_i = Reshape((dim_embedddings,), name=\"q_i__movie_embedding_reshaped\")(q_i)\n",
    "    \n",
    "    #Then the dot product between the two indexed embeddings, \n",
    "    #we'll understand the axes = 1 part later.\n",
    "    r_hat = Dot(axes = 1)([q_i, p_u])\n",
    "\n",
    "    #We define our model by giving its input and outputs, in our case\n",
    "    #the user and movie ids will be the inputs, and the output will be\n",
    "    #the estimated rating r_hat, that is the dot product of the \n",
    "    #corresponding embeddings.\n",
    "    model = Model(inputs=[u, i], outputs=r_hat)\n",
    "    \n",
    "    #Finally, we define the loss and metric to use, in our case the mean squared error,\n",
    "    #along with the optimization method, we'll understand what is 'adam' later also.\n",
    "    model.compile(loss='mse', optimizer='adam', metrics=[\"mse\"])\n",
    "\n",
    "    return model\n",
    "\n"
   ]
  },
  {
   "cell_type": "code",
   "execution_count": 10,
   "metadata": {},
   "outputs": [
    {
     "name": "stderr",
     "output_type": "stream",
     "text": [
      "2022-06-21 09:26:38.462366: I tensorflow/compiler/jit/xla_cpu_device.cc:41] Not creating XLA devices, tf_xla_enable_xla_devices not set\n",
      "2022-06-21 09:26:38.464525: I tensorflow/stream_executor/platform/default/dso_loader.cc:49] Successfully opened dynamic library libcuda.so.1\n",
      "2022-06-21 09:26:38.556972: I tensorflow/core/common_runtime/gpu/gpu_device.cc:1720] Found device 0 with properties: \n",
      "pciBusID: 0000:61:00.0 name: NVIDIA GeForce GTX 1660 computeCapability: 7.5\n",
      "coreClock: 1.785GHz coreCount: 22 deviceMemorySize: 5.80GiB deviceMemoryBandwidth: 178.86GiB/s\n",
      "2022-06-21 09:26:38.557085: I tensorflow/stream_executor/platform/default/dso_loader.cc:49] Successfully opened dynamic library libcudart.so.10.1\n",
      "2022-06-21 09:26:38.757319: I tensorflow/stream_executor/platform/default/dso_loader.cc:49] Successfully opened dynamic library libcublas.so.10\n",
      "2022-06-21 09:26:38.757468: I tensorflow/stream_executor/platform/default/dso_loader.cc:49] Successfully opened dynamic library libcublasLt.so.10\n",
      "2022-06-21 09:26:38.874637: I tensorflow/stream_executor/platform/default/dso_loader.cc:49] Successfully opened dynamic library libcufft.so.10\n",
      "2022-06-21 09:26:38.909158: I tensorflow/stream_executor/platform/default/dso_loader.cc:49] Successfully opened dynamic library libcurand.so.10\n",
      "2022-06-21 09:26:39.126489: I tensorflow/stream_executor/platform/default/dso_loader.cc:49] Successfully opened dynamic library libcusolver.so.10\n",
      "2022-06-21 09:26:39.165700: I tensorflow/stream_executor/platform/default/dso_loader.cc:49] Successfully opened dynamic library libcusparse.so.10\n",
      "2022-06-21 09:26:39.599852: I tensorflow/stream_executor/platform/default/dso_loader.cc:49] Successfully opened dynamic library libcudnn.so.7\n",
      "2022-06-21 09:26:39.600623: I tensorflow/core/common_runtime/gpu/gpu_device.cc:1862] Adding visible gpu devices: 0\n",
      "2022-06-21 09:26:39.601947: I tensorflow/core/platform/cpu_feature_guard.cc:142] This TensorFlow binary is optimized with oneAPI Deep Neural Network Library (oneDNN) to use the following CPU instructions in performance-critical operations:  SSE4.1 SSE4.2 AVX AVX2 AVX512F FMA\n",
      "To enable them in other operations, rebuild TensorFlow with the appropriate compiler flags.\n",
      "2022-06-21 09:26:39.602615: I tensorflow/compiler/jit/xla_gpu_device.cc:99] Not creating XLA devices, tf_xla_enable_xla_devices not set\n",
      "2022-06-21 09:26:39.603106: I tensorflow/core/common_runtime/gpu/gpu_device.cc:1720] Found device 0 with properties: \n",
      "pciBusID: 0000:61:00.0 name: NVIDIA GeForce GTX 1660 computeCapability: 7.5\n",
      "coreClock: 1.785GHz coreCount: 22 deviceMemorySize: 5.80GiB deviceMemoryBandwidth: 178.86GiB/s\n",
      "2022-06-21 09:26:39.603184: I tensorflow/stream_executor/platform/default/dso_loader.cc:49] Successfully opened dynamic library libcudart.so.10.1\n",
      "2022-06-21 09:26:39.603222: I tensorflow/stream_executor/platform/default/dso_loader.cc:49] Successfully opened dynamic library libcublas.so.10\n",
      "2022-06-21 09:26:39.603252: I tensorflow/stream_executor/platform/default/dso_loader.cc:49] Successfully opened dynamic library libcublasLt.so.10\n",
      "2022-06-21 09:26:39.603281: I tensorflow/stream_executor/platform/default/dso_loader.cc:49] Successfully opened dynamic library libcufft.so.10\n",
      "2022-06-21 09:26:39.603310: I tensorflow/stream_executor/platform/default/dso_loader.cc:49] Successfully opened dynamic library libcurand.so.10\n",
      "2022-06-21 09:26:39.603339: I tensorflow/stream_executor/platform/default/dso_loader.cc:49] Successfully opened dynamic library libcusolver.so.10\n",
      "2022-06-21 09:26:39.603367: I tensorflow/stream_executor/platform/default/dso_loader.cc:49] Successfully opened dynamic library libcusparse.so.10\n",
      "2022-06-21 09:26:39.603397: I tensorflow/stream_executor/platform/default/dso_loader.cc:49] Successfully opened dynamic library libcudnn.so.7\n",
      "2022-06-21 09:26:39.604014: I tensorflow/core/common_runtime/gpu/gpu_device.cc:1862] Adding visible gpu devices: 0\n",
      "2022-06-21 09:26:39.613860: I tensorflow/stream_executor/platform/default/dso_loader.cc:49] Successfully opened dynamic library libcudart.so.10.1\n",
      "2022-06-21 09:26:43.288006: I tensorflow/core/common_runtime/gpu/gpu_device.cc:1261] Device interconnect StreamExecutor with strength 1 edge matrix:\n",
      "2022-06-21 09:26:43.288070: I tensorflow/core/common_runtime/gpu/gpu_device.cc:1267]      0 \n",
      "2022-06-21 09:26:43.288094: I tensorflow/core/common_runtime/gpu/gpu_device.cc:1280] 0:   N \n",
      "2022-06-21 09:26:43.292374: I tensorflow/core/common_runtime/gpu/gpu_device.cc:1406] Created TensorFlow device (/job:localhost/replica:0/task:0/device:GPU:0 with 4888 MB memory) -> physical GPU (device: 0, name: NVIDIA GeForce GTX 1660, pci bus id: 0000:61:00.0, compute capability: 7.5)\n"
     ]
    }
   ],
   "source": [
    "k = 30\n",
    "mf_model = get_mf_model(nb_users, nb_movies, k)"
   ]
  },
  {
   "cell_type": "markdown",
   "metadata": {},
   "source": [
    "Keras allows us to have a textual overview of the model we defined with the *summary()* function:"
   ]
  },
  {
   "cell_type": "code",
   "execution_count": 20,
   "metadata": {
    "collapsed": true,
    "jupyter": {
     "outputs_hidden": true,
     "source_hidden": true
    },
    "tags": []
   },
   "outputs": [
    {
     "name": "stdout",
     "output_type": "stream",
     "text": [
      "Model: \"model_1\"\n",
      "__________________________________________________________________________________________________\n",
      "Layer (type)                    Output Shape         Param #     Connected to                     \n",
      "==================================================================================================\n",
      "i__movie_id (InputLayer)        [(None, 1)]          0                                            \n",
      "__________________________________________________________________________________________________\n",
      "u__user_id (InputLayer)         [(None, 1)]          0                                            \n",
      "__________________________________________________________________________________________________\n",
      "q_i__movie_embedding (Embedding (None, 1, 30)        291720      i__movie_id[0][0]                \n",
      "__________________________________________________________________________________________________\n",
      "p_u__user_embedding (Embedding) (None, 1, 30)        18300       u__user_id[0][0]                 \n",
      "__________________________________________________________________________________________________\n",
      "q_i__movie_embedding_reshaped ( (None, 30)           0           q_i__movie_embedding[0][0]       \n",
      "__________________________________________________________________________________________________\n",
      "p_u__user_embedding_reshaped (R (None, 30)           0           p_u__user_embedding[0][0]        \n",
      "__________________________________________________________________________________________________\n",
      "dot_1 (Dot)                     (None, 1)            0           q_i__movie_embedding_reshaped[0][\n",
      "                                                                 p_u__user_embedding_reshaped[0][0\n",
      "==================================================================================================\n",
      "Total params: 310,020\n",
      "Trainable params: 310,020\n",
      "Non-trainable params: 0\n",
      "__________________________________________________________________________________________________\n"
     ]
    }
   ],
   "source": [
    "mf_model.summary()"
   ]
  },
  {
   "cell_type": "markdown",
   "metadata": {
    "jupyter": {
     "source_hidden": true
    },
    "tags": []
   },
   "source": [
    "Each of the keras objects we defined in our model is called a *layer*, and we find them in order in the first column. The *Param #* column gives the number of trainable parameters of the layer, in our case these are just the embeddings, and they should be equal to $nb\\_users \\times k$ and $nb\\_movies \\times k$. The *Connected to* column tells for each layer which layers are inputs for this layer (you can safely ignore the `[0][0]` for this module).\n",
    "\n",
    "Finally the *Output Shape* column gives us the shape of the layer, each layer being a *tensor*. A tensor is the generalization of matrices to more than two dimensions. So a matrix is a 2D-tensor and a vector is a 1D-tensor, and each layer can be a matrix, a vector, or a higher-order tensor. The output shape we see is indeed the expected one at each layer, except there is this `None` in first dimension, why is that ?\n",
    "\n",
    "To understand it, we have to get into how Keras is actually minimizing the mean squared loss of our model. In general, when in comes to minimizing error functions on big datasets, a generic method is to use Stocastic Gradient Descent (SGD), briefly described in page 4 of Koren's article. \n",
    "\n",
    "Read about gradient descent, SGD and its variant mini-batch SGD in Chapter 4 of *Hands on ML ...* (pages 111-120):\n",
    "https://drive.google.com/file/d/1t0rc3x5YQBgLXVLET6BzR4jn5vzMI_m0/view?usp=sharing\n",
    "\n",
    "This is what Keras does when it fits the model, it initializes the $q_i$ and $p_u$ embedding vectors randomly, and then perform mini-batch SGD to find the minimum mean squared error on the training set. Since mini-batching means considering multiple training samples at the same time, Keras keeps the first dimension of each layer to stack the samples of each batch, this is why `None` is written, the actual batch_size being set at training time when calling the `fit` function. This is also why we had to set `axes=1` when calling the `Dot` layer in the `get_mf_model` function, because the first dimension (axe 0) of each layer is kept for the batches. And about the `optimizer='adam'`, it is just a variation of mini-batch SGD that is faster, we'll get into more details about SGD variations in the optional parts of this notebook."
   ]
  },
  {
   "cell_type": "markdown",
   "metadata": {
    "jupyter": {
     "source_hidden": true
    },
    "tags": []
   },
   "source": [
    "Let's finally train our matrix factorization model on our movieLens data. The `epochs` parameter controls the number of iterations of the SGD algorithm, that is the number of times it is going to pass on each training rating and update the embeddings accordingly. Let's keep it at 20 for the moment:"
   ]
  },
  {
   "cell_type": "code",
   "execution_count": 21,
   "metadata": {
    "collapsed": true,
    "jupyter": {
     "outputs_hidden": true,
     "source_hidden": true
    },
    "scrolled": true,
    "tags": []
   },
   "outputs": [
    {
     "name": "stderr",
     "output_type": "stream",
     "text": [
      "2022-06-20 11:40:35.614983: I tensorflow/compiler/mlir/mlir_graph_optimization_pass.cc:116] None of the MLIR optimization passes are enabled (registered 2)\n",
      "2022-06-20 11:40:35.667123: I tensorflow/core/platform/profile_utils/cpu_utils.cc:112] CPU Frequency: 1700000000 Hz\n"
     ]
    },
    {
     "name": "stdout",
     "output_type": "stream",
     "text": [
      "Epoch 1/20\n"
     ]
    },
    {
     "name": "stderr",
     "output_type": "stream",
     "text": [
      "2022-06-20 11:40:36.780850: I tensorflow/stream_executor/platform/default/dso_loader.cc:49] Successfully opened dynamic library libcublas.so.10\n"
     ]
    },
    {
     "name": "stdout",
     "output_type": "stream",
     "text": [
      "178/178 [==============================] - 3s 4ms/step - loss: 13.3655 - mse: 13.3655\n",
      "Epoch 2/20\n",
      "178/178 [==============================] - 1s 4ms/step - loss: 12.4822 - mse: 12.4822\n",
      "Epoch 3/20\n",
      "178/178 [==============================] - 1s 4ms/step - loss: 6.4944 - mse: 6.4944\n",
      "Epoch 4/20\n",
      "178/178 [==============================] - 1s 4ms/step - loss: 2.7875 - mse: 2.7875\n",
      "Epoch 5/20\n",
      "178/178 [==============================] - 1s 4ms/step - loss: 1.8110 - mse: 1.8110\n",
      "Epoch 6/20\n",
      "178/178 [==============================] - 1s 4ms/step - loss: 1.3922 - mse: 1.3922\n",
      "Epoch 7/20\n",
      "178/178 [==============================] - 1s 4ms/step - loss: 1.1625 - mse: 1.1625\n",
      "Epoch 8/20\n",
      "178/178 [==============================] - 1s 4ms/step - loss: 0.9983 - mse: 0.9983\n",
      "Epoch 9/20\n",
      "178/178 [==============================] - 1s 4ms/step - loss: 0.9039 - mse: 0.9039\n",
      "Epoch 10/20\n",
      "178/178 [==============================] - 1s 4ms/step - loss: 0.8259 - mse: 0.8259\n",
      "Epoch 11/20\n",
      "178/178 [==============================] - 1s 4ms/step - loss: 0.7682 - mse: 0.7682\n",
      "Epoch 12/20\n",
      "178/178 [==============================] - 1s 4ms/step - loss: 0.7447 - mse: 0.7447\n",
      "Epoch 13/20\n",
      "178/178 [==============================] - 1s 4ms/step - loss: 0.6951 - mse: 0.6951\n",
      "Epoch 14/20\n",
      "178/178 [==============================] - 1s 4ms/step - loss: 0.6810 - mse: 0.6810\n",
      "Epoch 15/20\n",
      "178/178 [==============================] - 1s 4ms/step - loss: 0.6560 - mse: 0.6560\n",
      "Epoch 16/20\n",
      "178/178 [==============================] - 1s 4ms/step - loss: 0.6353 - mse: 0.6353\n",
      "Epoch 17/20\n",
      "178/178 [==============================] - 1s 4ms/step - loss: 0.6236 - mse: 0.6236\n",
      "Epoch 18/20\n",
      "178/178 [==============================] - 1s 4ms/step - loss: 0.6051 - mse: 0.6051\n",
      "Epoch 19/20\n",
      "178/178 [==============================] - 1s 4ms/step - loss: 0.5916 - mse: 0.5916\n",
      "Epoch 20/20\n",
      "178/178 [==============================] - 1s 4ms/step - loss: 0.5816 - mse: 0.5816\n"
     ]
    }
   ],
   "source": [
    "history = mf_model.fit(X_train, y_train, epochs=20, batch_size=512)"
   ]
  },
  {
   "cell_type": "markdown",
   "metadata": {},
   "source": [
    "And we can now try to predict the test ratings, and report our root mean squared error like in other regression problems:"
   ]
  },
  {
   "cell_type": "code",
   "execution_count": 16,
   "metadata": {},
   "outputs": [],
   "source": [
    "from sklearn.metrics import mean_squared_error\n",
    "from math import sqrt"
   ]
  },
  {
   "cell_type": "code",
   "execution_count": 22,
   "metadata": {},
   "outputs": [
    {
     "name": "stdout",
     "output_type": "stream",
     "text": [
      " Test RMSE : 1.0596894726604789 \n"
     ]
    }
   ],
   "source": [
    "\n",
    "\n",
    "y_pred = mf_model.predict(X_test)\n",
    "\n",
    "test_rmse = sqrt(mean_squared_error(y_test, y_pred))\n",
    "\n",
    "print(\" Test RMSE : %s \" % test_rmse)"
   ]
  },
  {
   "cell_type": "markdown",
   "metadata": {},
   "source": [
    "You should get about 1.1/1.2 RMSE, we can probably do better !"
   ]
  },
  {
   "cell_type": "markdown",
   "metadata": {},
   "source": [
    "## Train the same model on your GPU and on your CPU, and compare the training time"
   ]
  },
  {
   "cell_type": "markdown",
   "metadata": {},
   "source": [
    "Keras uses the `tensorflow` python library for the computation part, if you have installed your GPU drivers and the GPU version of keras, then it will run on your GPU by default. We can force tensorflow to use the cpu instead:"
   ]
  },
  {
   "cell_type": "code",
   "execution_count": 17,
   "metadata": {},
   "outputs": [],
   "source": [
    "import tensorflow as tf"
   ]
  },
  {
   "cell_type": "code",
   "execution_count": 23,
   "metadata": {
    "scrolled": true,
    "tags": []
   },
   "outputs": [
    {
     "name": "stdout",
     "output_type": "stream",
     "text": [
      "Epoch 1/20\n",
      "178/178 [==============================] - 1s 3ms/step - loss: 13.3604 - mse: 13.3604\n",
      "Epoch 2/20\n",
      "178/178 [==============================] - 0s 2ms/step - loss: 12.4176 - mse: 12.4176\n",
      "Epoch 3/20\n",
      "178/178 [==============================] - 0s 2ms/step - loss: 6.4976 - mse: 6.4976\n",
      "Epoch 4/20\n",
      "178/178 [==============================] - 0s 2ms/step - loss: 2.7922 - mse: 2.7922\n",
      "Epoch 5/20\n",
      "178/178 [==============================] - 0s 2ms/step - loss: 1.8143 - mse: 1.8143\n",
      "Epoch 6/20\n",
      "178/178 [==============================] - 0s 2ms/step - loss: 1.3691 - mse: 1.3691\n",
      "Epoch 7/20\n",
      "178/178 [==============================] - 0s 2ms/step - loss: 1.1306 - mse: 1.1306\n",
      "Epoch 8/20\n",
      "178/178 [==============================] - 0s 3ms/step - loss: 0.9815 - mse: 0.9815\n",
      "Epoch 9/20\n",
      "178/178 [==============================] - 0s 3ms/step - loss: 0.8723 - mse: 0.8723\n",
      "Epoch 10/20\n",
      "178/178 [==============================] - 0s 2ms/step - loss: 0.8000 - mse: 0.8000\n",
      "Epoch 11/20\n",
      "178/178 [==============================] - 0s 2ms/step - loss: 0.7483 - mse: 0.7483\n",
      "Epoch 12/20\n",
      "178/178 [==============================] - 0s 2ms/step - loss: 0.7067 - mse: 0.7067\n",
      "Epoch 13/20\n",
      "178/178 [==============================] - 0s 3ms/step - loss: 0.6777 - mse: 0.6777\n",
      "Epoch 14/20\n",
      "178/178 [==============================] - 0s 2ms/step - loss: 0.6558 - mse: 0.6558\n",
      "Epoch 15/20\n",
      "178/178 [==============================] - 0s 2ms/step - loss: 0.6302 - mse: 0.6302\n",
      "Epoch 16/20\n",
      "178/178 [==============================] - 0s 3ms/step - loss: 0.6223 - mse: 0.6223\n",
      "Epoch 17/20\n",
      "178/178 [==============================] - 0s 3ms/step - loss: 0.6029 - mse: 0.6029\n",
      "Epoch 18/20\n",
      "178/178 [==============================] - 0s 3ms/step - loss: 0.5887 - mse: 0.5887\n",
      "Epoch 19/20\n",
      "178/178 [==============================] - 0s 2ms/step - loss: 0.5827 - mse: 0.5827\n",
      "Epoch 20/20\n",
      "178/178 [==============================] - 0s 2ms/step - loss: 0.5743 - mse: 0.5743\n"
     ]
    }
   ],
   "source": [
    "\n",
    "\n",
    "with tf.device('/cpu:0'):\n",
    "    mf_model = get_mf_model(nb_users, nb_movies, k)\n",
    "    history = mf_model.fit(X_train, y_train, epochs=20, batch_size=512)"
   ]
  },
  {
   "cell_type": "code",
   "execution_count": 28,
   "metadata": {},
   "outputs": [
    {
     "name": "stdout",
     "output_type": "stream",
     "text": [
      " Test RMSE : 1.062314342408343 \n"
     ]
    }
   ],
   "source": [
    "# mean squared error's model using CPU \n",
    "\n",
    "y_pred = mf_model.predict(X_test)\n",
    "\n",
    "test_rmse = sqrt(mean_squared_error(y_test, y_pred))\n",
    "\n",
    "print(\" Test RMSE : %s \" % test_rmse)"
   ]
  },
  {
   "cell_type": "code",
   "execution_count": 27,
   "metadata": {},
   "outputs": [
    {
     "name": "stderr",
     "output_type": "stream",
     "text": [
      "2022-06-20 11:42:00.558305: I tensorflow/compiler/jit/xla_gpu_device.cc:99] Not creating XLA devices, tf_xla_enable_xla_devices not set\n",
      "2022-06-20 11:42:00.559046: I tensorflow/core/common_runtime/gpu/gpu_device.cc:1720] Found device 0 with properties: \n",
      "pciBusID: 0000:61:00.0 name: NVIDIA GeForce GTX 1660 computeCapability: 7.5\n",
      "coreClock: 1.785GHz coreCount: 22 deviceMemorySize: 5.80GiB deviceMemoryBandwidth: 178.86GiB/s\n",
      "2022-06-20 11:42:00.559138: I tensorflow/stream_executor/platform/default/dso_loader.cc:49] Successfully opened dynamic library libcudart.so.10.1\n",
      "2022-06-20 11:42:00.559186: I tensorflow/stream_executor/platform/default/dso_loader.cc:49] Successfully opened dynamic library libcublas.so.10\n",
      "2022-06-20 11:42:00.559221: I tensorflow/stream_executor/platform/default/dso_loader.cc:49] Successfully opened dynamic library libcublasLt.so.10\n",
      "2022-06-20 11:42:00.559254: I tensorflow/stream_executor/platform/default/dso_loader.cc:49] Successfully opened dynamic library libcufft.so.10\n",
      "2022-06-20 11:42:00.559288: I tensorflow/stream_executor/platform/default/dso_loader.cc:49] Successfully opened dynamic library libc"
     ]
    },
    {
     "data": {
      "text/plain": [
       "True"
      ]
     },
     "execution_count": 27,
     "metadata": {},
     "output_type": "execute_result"
    },
    {
     "name": "stderr",
     "output_type": "stream",
     "text": [
      "urand.so.10\n",
      "2022-06-20 11:42:00.559322: I tensorflow/stream_executor/platform/default/dso_loader.cc:49] Successfully opened dynamic library libcusolver.so.10\n",
      "2022-06-20 11:42:00.559355: I tensorflow/stream_executor/platform/default/dso_loader.cc:49] Successfully opened dynamic library libcusparse.so.10\n",
      "2022-06-20 11:42:00.559389: I tensorflow/stream_executor/platform/default/dso_loader.cc:49] Successfully opened dynamic library libcudnn.so.7\n",
      "2022-06-20 11:42:00.560150: I tensorflow/core/common_runtime/gpu/gpu_device.cc:1862] Adding visible gpu devices: 0\n",
      "2022-06-20 11:42:00.560205: I tensorflow/core/common_runtime/gpu/gpu_device.cc:1261] Device interconnect StreamExecutor with strength 1 edge matrix:\n",
      "2022-06-20 11:42:00.560219: I tensorflow/core/common_runtime/gpu/gpu_device.cc:1267]      0 \n",
      "2022-06-20 11:42:00.560232: I tensorflow/core/common_runtime/gpu/gpu_device.cc:1280] 0:   N \n",
      "2022-06-20 11:42:00.561022: I tensorflow/core/common_runtime/gpu/gpu_device.cc:1406] Created TensorFlow device (/device:GPU:0 with 4855 MB memory) -> physical GPU (device: 0, name: NVIDIA GeForce GTX 1660, pci bus id: 0000:61:00.0, compute capability: 7.5)\n"
     ]
    }
   ],
   "source": [
    "# Verifying GPU installation  \n",
    "tf.test.is_gpu_available()"
   ]
  },
  {
   "cell_type": "markdown",
   "metadata": {},
   "source": [
    "Our matrix farctorization model is a really simple model, with not enough operations to parallelize on the GPU, this is why the training time is quite similar for this model. However with deep networks models the training time can be up to 10x times faster on a GPU."
   ]
  },
  {
   "cell_type": "markdown",
   "metadata": {},
   "source": [
    "## Adding user and movie bias"
   ]
  },
  {
   "cell_type": "markdown",
   "metadata": {},
   "source": [
    "Let's enhance our matrix factorization model and add the user and movie biases to the rating estimation function as in equation (4) of Koren's paper ; except we will for the moment forget about the global bias $\\mu$ as it is not so intuitive to implement in Keras. Fill the function below to do so:"
   ]
  },
  {
   "cell_type": "code",
   "execution_count": 11,
   "metadata": {},
   "outputs": [],
   "source": [
    "from keras.layers.merge import Add\n",
    "\n",
    "def get_mf_bias_model(nb_users, nb_movies, k):\n",
    "    \"\"\"\n",
    "    Build a smatrix factorization model with user and movie biases\n",
    "    \n",
    "    Input:\n",
    "        nb_users : int : The number of unique users\n",
    "        nb_movies : int : The number of unique movies\n",
    "        k : int : The size of the embeddings\n",
    "        \n",
    "    Output:\n",
    "        model : keras.models.Model : A keras model that implements matrix factorization with biases\n",
    "        \n",
    "    \"\"\"\n",
    "    \n",
    "    dim_embedddings = k\n",
    "    \n",
    "    # User embeddings\n",
    "    u = Input(shape=(1,), dtype='int32', name = 'u__user_id')\n",
    "    p_u = Embedding(nb_users, dim_embedddings, name=\"p_u__user_embedding\")(u)\n",
    "    p_u = Reshape((dim_embedddings,), name=\"p_u__user_embedding_reshaped\")(p_u)\n",
    "    \n",
    "    # Movie embeddings\n",
    "    i = Input(shape=(1,), dtype='int32', name = 'i__movie_id')\n",
    "    q_i = Embedding(nb_movies, dim_embedddings, name=\"q_i__movie_embedding\")(i)\n",
    "    q_i = Reshape((dim_embedddings,), name=\"q_i__movie_embedding_reshaped\")(q_i)\n",
    "\n",
    "    # Dot product\n",
    "    d = Dot(axes = 1)([p_u, q_i])\n",
    "    \n",
    "    # Computing user biais = the embeddings of the user of 1D  \n",
    "    b_u = Embedding(nb_users, 1)(u)\n",
    "    b_u = Reshape((1,),)(b_u)\n",
    "    \n",
    "    # Computing movie biais = the embeddings of the movies of 1D\n",
    "    b_i = Embedding(nb_movies, 1)(i)\n",
    "    b_i = Reshape((1,),)(b_i)\n",
    "    \n",
    "    # Adding use and movie biais to de output\n",
    "    # source : https://stackoverflow.com/questions/44932823/bias-weights-for-embedding-layers-in-keras\n",
    "    r_hat = Add()([d, b_i, b_u])\n",
    "    \n",
    "    model = Model(inputs=[u, i], outputs=r_hat)\n",
    "    \n",
    "    model.compile(loss='mse', optimizer='adam', metrics=[\"mse\"])\n",
    "    \n",
    "    return model\n",
    "\n"
   ]
  },
  {
   "cell_type": "code",
   "execution_count": 12,
   "metadata": {},
   "outputs": [],
   "source": [
    "mf_bias_model = get_mf_bias_model(nb_users, nb_movies, k)"
   ]
  },
  {
   "cell_type": "code",
   "execution_count": 31,
   "metadata": {
    "collapsed": true,
    "jupyter": {
     "outputs_hidden": true,
     "source_hidden": true
    },
    "tags": []
   },
   "outputs": [
    {
     "name": "stdout",
     "output_type": "stream",
     "text": [
      "Model: \"model_3\"\n",
      "__________________________________________________________________________________________________\n",
      "Layer (type)                    Output Shape         Param #     Connected to                     \n",
      "==================================================================================================\n",
      "u__user_id (InputLayer)         [(None, 1)]          0                                            \n",
      "__________________________________________________________________________________________________\n",
      "i__movie_id (InputLayer)        [(None, 1)]          0                                            \n",
      "__________________________________________________________________________________________________\n",
      "p_u__user_embedding (Embedding) (None, 1, 30)        18300       u__user_id[0][0]                 \n",
      "__________________________________________________________________________________________________\n",
      "q_i__movie_embedding (Embedding (None, 1, 30)        291720      i__movie_id[0][0]                \n",
      "__________________________________________________________________________________________________\n",
      "p_u__user_embedding_reshaped (R (None, 30)           0           p_u__user_embedding[0][0]        \n",
      "__________________________________________________________________________________________________\n",
      "q_i__movie_embedding_reshaped ( (None, 30)           0           q_i__movie_embedding[0][0]       \n",
      "__________________________________________________________________________________________________\n",
      "embedding_1 (Embedding)         (None, 1, 1)         9724        i__movie_id[0][0]                \n",
      "__________________________________________________________________________________________________\n",
      "embedding (Embedding)           (None, 1, 1)         610         u__user_id[0][0]                 \n",
      "__________________________________________________________________________________________________\n",
      "dot_3 (Dot)                     (None, 1)            0           p_u__user_embedding_reshaped[0][0\n",
      "                                                                 q_i__movie_embedding_reshaped[0][\n",
      "__________________________________________________________________________________________________\n",
      "reshape_1 (Reshape)             (None, 1)            0           embedding_1[0][0]                \n",
      "__________________________________________________________________________________________________\n",
      "reshape (Reshape)               (None, 1)            0           embedding[0][0]                  \n",
      "__________________________________________________________________________________________________\n",
      "add (Add)                       (None, 1)            0           dot_3[0][0]                      \n",
      "                                                                 reshape_1[0][0]                  \n",
      "                                                                 reshape[0][0]                    \n",
      "==================================================================================================\n",
      "Total params: 320,354\n",
      "Trainable params: 320,354\n",
      "Non-trainable params: 0\n",
      "__________________________________________________________________________________________________\n"
     ]
    }
   ],
   "source": [
    "mf_bias_model.summary()"
   ]
  },
  {
   "cell_type": "code",
   "execution_count": 32,
   "metadata": {
    "collapsed": true,
    "jupyter": {
     "outputs_hidden": true,
     "source_hidden": true
    },
    "scrolled": true,
    "tags": []
   },
   "outputs": [
    {
     "name": "stdout",
     "output_type": "stream",
     "text": [
      "Epoch 1/20\n",
      "178/178 [==============================] - 2s 4ms/step - loss: 13.0185 - mse: 13.0185\n",
      "Epoch 2/20\n",
      "178/178 [==============================] - 1s 4ms/step - loss: 10.8305 - mse: 10.8305\n",
      "Epoch 3/20\n",
      "178/178 [==============================] - 1s 4ms/step - loss: 4.9953 - mse: 4.9953\n",
      "Epoch 4/20\n",
      "178/178 [==============================] - 1s 4ms/step - loss: 2.2040 - mse: 2.2040\n",
      "Epoch 5/20\n",
      "178/178 [==============================] - 1s 4ms/step - loss: 1.5002 - mse: 1.5002\n",
      "Epoch 6/20\n",
      "178/178 [==============================] - 1s 4ms/step - loss: 1.1791 - mse: 1.1791\n",
      "Epoch 7/20\n",
      "178/178 [==============================] - 1s 4ms/step - loss: 0.9947 - mse: 0.9947\n",
      "Epoch 8/20\n",
      "178/178 [==============================] - 1s 4ms/step - loss: 0.8903 - mse: 0.8903\n",
      "Epoch 9/20\n",
      "178/178 [==============================] - 1s 4ms/step - loss: 0.8035 - mse: 0.8035\n",
      "Epoch 10/20\n",
      "178/178 [==============================] - 1s 4ms/step - loss: 0.7476 - mse: 0.7476\n",
      "Epoch 11/20\n",
      "178/178 [==============================] - 1s 4ms/step - loss: 0.7058 - mse: 0.7058\n",
      "Epoch 12/20\n",
      "178/178 [==============================] - 1s 4ms/step - loss: 0.6783 - mse: 0.6783\n",
      "Epoch 13/20\n",
      "178/178 [==============================] - 1s 4ms/step - loss: 0.6545 - mse: 0.6545\n",
      "Epoch 14/20\n",
      "178/178 [==============================] - 1s 4ms/step - loss: 0.6328 - mse: 0.6328\n",
      "Epoch 15/20\n",
      "178/178 [==============================] - 1s 4ms/step - loss: 0.6165 - mse: 0.6165\n",
      "Epoch 16/20\n",
      "178/178 [==============================] - 1s 4ms/step - loss: 0.5934 - mse: 0.5934\n",
      "Epoch 17/20\n",
      "178/178 [==============================] - 1s 4ms/step - loss: 0.5757 - mse: 0.5757\n",
      "Epoch 18/20\n",
      "178/178 [==============================] - 1s 4ms/step - loss: 0.5664 - mse: 0.5664\n",
      "Epoch 19/20\n",
      "178/178 [==============================] - 1s 4ms/step - loss: 0.5556 - mse: 0.5556\n",
      "Epoch 20/20\n",
      "178/178 [==============================] - 1s 4ms/step - loss: 0.5456 - mse: 0.5456\n"
     ]
    }
   ],
   "source": [
    "history = mf_bias_model.fit(X_train, y_train, epochs=20, batch_size=512)\n"
   ]
  },
  {
   "cell_type": "code",
   "execution_count": 33,
   "metadata": {},
   "outputs": [
    {
     "name": "stdout",
     "output_type": "stream",
     "text": [
      " Test RMSE : 1.0042778471656466 \n"
     ]
    }
   ],
   "source": [
    "y_pred = mf_bias_model.predict(X_test)\n",
    "\n",
    "test_rmse = sqrt(mean_squared_error(y_test, y_pred))\n",
    "\n",
    "print(\" Test RMSE : %s \" % test_rmse)"
   ]
  },
  {
   "cell_type": "markdown",
   "metadata": {},
   "source": [
    "You should get a lower RMSE, about 1.0/1.1"
   ]
  },
  {
   "cell_type": "markdown",
   "metadata": {},
   "source": [
    "## Adding L2 regularization"
   ]
  },
  {
   "cell_type": "markdown",
   "metadata": {},
   "source": [
    "For the moment we have omitted the regularization of the embeddings and bias parameters, as described in equation (5) of Koren's paper. We are now going to add them to the model, have a look at https://keras.io/layers/embeddings/ and https://keras.io/regularizers/ to see how to do this with keras. Fill the function below to implement it:"
   ]
  },
  {
   "cell_type": "code",
   "execution_count": 13,
   "metadata": {},
   "outputs": [],
   "source": [
    "from keras import regularizers\n",
    "\n",
    "def get_mf_bias_l2_reg_model(nb_users, nb_movies, k, lambda_):\n",
    "    \"\"\"\n",
    "    Build a smatrix factorization model with user and movie biases, and L2 regularization\n",
    "    \n",
    "    Input:\n",
    "        nb_users : int : The number of unique users\n",
    "        nb_movies : int : The number of unique movies\n",
    "        k : int : The size of the embeddings\n",
    "        \n",
    "    Output:\n",
    "        model : keras.models.Model : A keras model that implements matrix factorization with biases\n",
    "            and L2 regularization\n",
    "        \n",
    "    \"\"\"\n",
    "    \n",
    "    #TOFILL\n",
    "    \n",
    "    dim_embedddings = k\n",
    "    \n",
    "    # User embeddings\n",
    "    u = Input(shape=(1,), dtype='int32', name = 'u__user_id')\n",
    "    p_u = Embedding(nb_users, dim_embedddings, name=\"p_u__user_embedding\", embeddings_regularizer=regularizers.L2(lambda_))(u)\n",
    "    p_u = Reshape((dim_embedddings,), name=\"p_u__user_embedding_reshaped\")(p_u)\n",
    "    \n",
    "    # Movie embeddings\n",
    "    i = Input(shape=(1,), dtype='int32', name = 'i__movie_id')\n",
    "    q_i = Embedding(nb_movies, dim_embedddings, name=\"q_i__movie_embedding\", embeddings_regularizer=regularizers.L2(lambda_))(i)\n",
    "    q_i = Reshape((dim_embedddings,), name=\"q_i__movie_embedding_reshaped\")(q_i)\n",
    "\n",
    "    # Dot product\n",
    "    d = Dot(axes = 1)([p_u, q_i])\n",
    "    \n",
    "    # Computing user biais = the embeddings of the user of 1D  \n",
    "    b_u = Embedding(nb_users, 1, embeddings_regularizer=regularizers.L2(lambda_))(u)\n",
    "    b_u = Reshape((1,),)(b_u)\n",
    "    \n",
    "    # Computing movie biais = the embeddings of the movies of 1D\n",
    "    b_i = Embedding(nb_movies, 1, embeddings_regularizer=regularizers.L2(lambda_))(i)\n",
    "    b_i = Reshape((1,),)(b_i)\n",
    "    \n",
    "    # Adding use and movie biais to de output\n",
    "    # source : https://stackoverflow.com/questions/44932823/bias-weights-for-embedding-layers-in-keras\n",
    "    r_hat = Add()([d, b_i, b_u])\n",
    "    \n",
    "    model = Model(inputs=[u, i], outputs=r_hat)\n",
    "    \n",
    "    model.compile(loss='mse', optimizer='adam', metrics=[\"mse\"])\n",
    "    \n",
    "    return model\n",
    "\n"
   ]
  },
  {
   "cell_type": "code",
   "execution_count": 14,
   "metadata": {},
   "outputs": [],
   "source": [
    "lambda_ = 0.0001\n",
    "mf_bias_reg_model = get_mf_bias_l2_reg_model(nb_users, nb_movies, k, lambda_)"
   ]
  },
  {
   "cell_type": "code",
   "execution_count": 36,
   "metadata": {
    "collapsed": true,
    "jupyter": {
     "outputs_hidden": true,
     "source_hidden": true
    },
    "tags": []
   },
   "outputs": [
    {
     "name": "stdout",
     "output_type": "stream",
     "text": [
      "Model: \"model_4\"\n",
      "__________________________________________________________________________________________________\n",
      "Layer (type)                    Output Shape         Param #     Connected to                     \n",
      "==================================================================================================\n",
      "u__user_id (InputLayer)         [(None, 1)]          0                                            \n",
      "__________________________________________________________________________________________________\n",
      "i__movie_id (InputLayer)        [(None, 1)]          0                                            \n",
      "__________________________________________________________________________________________________\n",
      "p_u__user_embedding (Embedding) (None, 1, 30)        18300       u__user_id[0][0]                 \n",
      "__________________________________________________________________________________________________\n",
      "q_i__movie_embedding (Embedding (None, 1, 30)        291720      i__movie_id[0][0]                \n",
      "__________________________________________________________________________________________________\n",
      "p_u__user_embedding_reshaped (R (None, 30)           0           p_u__user_embedding[0][0]        \n",
      "__________________________________________________________________________________________________\n",
      "q_i__movie_embedding_reshaped ( (None, 30)           0           q_i__movie_embedding[0][0]       \n",
      "__________________________________________________________________________________________________\n",
      "embedding_3 (Embedding)         (None, 1, 1)         9724        i__movie_id[0][0]                \n",
      "__________________________________________________________________________________________________\n",
      "embedding_2 (Embedding)         (None, 1, 1)         610         u__user_id[0][0]                 \n",
      "__________________________________________________________________________________________________\n",
      "dot_4 (Dot)                     (None, 1)            0           p_u__user_embedding_reshaped[0][0\n",
      "                                                                 q_i__movie_embedding_reshaped[0][\n",
      "__________________________________________________________________________________________________\n",
      "reshape_3 (Reshape)             (None, 1)            0           embedding_3[0][0]                \n",
      "__________________________________________________________________________________________________\n",
      "reshape_2 (Reshape)             (None, 1)            0           embedding_2[0][0]                \n",
      "__________________________________________________________________________________________________\n",
      "add_1 (Add)                     (None, 1)            0           dot_4[0][0]                      \n",
      "                                                                 reshape_3[0][0]                  \n",
      "                                                                 reshape_2[0][0]                  \n",
      "==================================================================================================\n",
      "Total params: 320,354\n",
      "Trainable params: 320,354\n",
      "Non-trainable params: 0\n",
      "__________________________________________________________________________________________________\n"
     ]
    }
   ],
   "source": [
    "mf_bias_reg_model.summary()"
   ]
  },
  {
   "cell_type": "code",
   "execution_count": 37,
   "metadata": {
    "collapsed": true,
    "jupyter": {
     "outputs_hidden": true,
     "source_hidden": true
    },
    "scrolled": true,
    "tags": []
   },
   "outputs": [
    {
     "name": "stdout",
     "output_type": "stream",
     "text": [
      "Epoch 1/50\n",
      "178/178 [==============================] - 2s 3ms/step - loss: 13.0241 - mse: 13.0112\n",
      "Epoch 2/50\n",
      "178/178 [==============================] - 1s 3ms/step - loss: 10.8742 - mse: 10.8398\n",
      "Epoch 3/50\n",
      "178/178 [==============================] - 1s 3ms/step - loss: 5.3899 - mse: 5.1538\n",
      "Epoch 4/50\n",
      "178/178 [==============================] - 1s 3ms/step - loss: 2.8735 - mse: 2.4064\n",
      "Epoch 5/50\n",
      "178/178 [==============================] - 1s 3ms/step - loss: 2.3167 - mse: 1.7199\n",
      "Epoch 6/50\n",
      "178/178 [==============================] - 1s 3ms/step - loss: 2.0631 - mse: 1.3827\n",
      "Epoch 7/50\n",
      "178/178 [==============================] - 1s 4ms/step - loss: 1.9466 - mse: 1.2091\n",
      "Epoch 8/50\n",
      "178/178 [==============================] - 1s 3ms/step - loss: 1.8762 - mse: 1.0979\n",
      "Epoch 9/50\n",
      "178/178 [==============================] - 1s 3ms/step - loss: 1.8429 - mse: 1.0351\n",
      "Epoch 10/50\n",
      "178/178 [==============================] - 1s 3ms/step - loss: 1.8001 - mse: 0.9733\n",
      "Epoch 11/50\n",
      "178/178 [==============================] - 1s 4ms/step - loss: 1.7768 - mse: 0.9362\n",
      "Epoch 12/50\n",
      "178/178 [==============================] - 1s 4ms/step - loss: 1.7498 - mse: 0.9002\n",
      "Epoch 13/50\n",
      "178/178 [==============================] - 1s 4ms/step - loss: 1.7290 - mse: 0.8747\n",
      "Epoch 14/50\n",
      "178/178 [==============================] - 1s 3ms/step - loss: 1.7123 - mse: 0.8559\n",
      "Epoch 15/50\n",
      "178/178 [==============================] - 1s 4ms/step - loss: 1.6820 - mse: 0.8257\n",
      "Epoch 16/50\n",
      "178/178 [==============================] - 1s 3ms/step - loss: 1.6757 - mse: 0.8199\n",
      "Epoch 17/50\n",
      "178/178 [==============================] - 1s 4ms/step - loss: 1.6612 - mse: 0.8088\n",
      "Epoch 18/50\n",
      "178/178 [==============================] - 1s 4ms/step - loss: 1.6395 - mse: 0.7908\n",
      "Epoch 19/50\n",
      "178/178 [==============================] - 1s 3ms/step - loss: 1.6179 - mse: 0.7743\n",
      "Epoch 20/50\n",
      "178/178 [==============================] - 1s 3ms/step - loss: 1.6136 - mse: 0.7744\n",
      "Epoch 21/50\n",
      "178/178 [==============================] - 1s 3ms/step - loss: 1.5948 - mse: 0.7615\n",
      "Epoch 22/50\n",
      "178/178 [==============================] - 1s 3ms/step - loss: 1.5842 - mse: 0.7572\n",
      "Epoch 23/50\n",
      "178/178 [==============================] - 1s 3ms/step - loss: 1.5619 - mse: 0.7409\n",
      "Epoch 24/50\n",
      "178/178 [==============================] - 1s 3ms/step - loss: 1.5457 - mse: 0.7304\n",
      "Epoch 25/50\n",
      "178/178 [==============================] - 1s 4ms/step - loss: 1.5367 - mse: 0.7279\n",
      "Epoch 26/50\n",
      "178/178 [==============================] - 1s 3ms/step - loss: 1.5187 - mse: 0.7155\n",
      "Epoch 27/50\n",
      "178/178 [==============================] - 1s 4ms/step - loss: 1.5094 - mse: 0.7122\n",
      "Epoch 28/50\n",
      "178/178 [==============================] - 1s 4ms/step - loss: 1.4949 - mse: 0.7037\n",
      "Epoch 29/50\n",
      "178/178 [==============================] - 1s 4ms/step - loss: 1.4745 - mse: 0.6889\n",
      "Epoch 30/50\n",
      "178/178 [==============================] - 1s 3ms/step - loss: 1.4620 - mse: 0.6804\n",
      "Epoch 31/50\n",
      "178/178 [==============================] - 1s 3ms/step - loss: 1.4471 - mse: 0.6712\n",
      "Epoch 32/50\n",
      "178/178 [==============================] - 1s 3ms/step - loss: 1.4352 - mse: 0.6640\n",
      "Epoch 33/50\n",
      "178/178 [==============================] - 1s 3ms/step - loss: 1.4108 - mse: 0.6448\n",
      "Epoch 34/50\n",
      "178/178 [==============================] - 1s 3ms/step - loss: 1.4047 - mse: 0.6422\n",
      "Epoch 35/50\n",
      "178/178 [==============================] - 1s 3ms/step - loss: 1.3940 - mse: 0.6347\n",
      "Epoch 36/50\n",
      "178/178 [==============================] - 1s 3ms/step - loss: 1.3828 - mse: 0.6279\n",
      "Epoch 37/50\n",
      "178/178 [==============================] - 1s 3ms/step - loss: 1.3697 - mse: 0.6181\n",
      "Epoch 38/50\n",
      "178/178 [==============================] - 1s 3ms/step - loss: 1.3636 - mse: 0.6150\n",
      "Epoch 39/50\n",
      "178/178 [==============================] - 1s 4ms/step - loss: 1.3517 - mse: 0.6062\n",
      "Epoch 40/50\n",
      "178/178 [==============================] - 1s 3ms/step - loss: 1.3367 - mse: 0.5945\n",
      "Epoch 41/50\n",
      "178/178 [==============================] - 1s 3ms/step - loss: 1.3287 - mse: 0.5890\n",
      "Epoch 42/50\n",
      "178/178 [==============================] - 1s 3ms/step - loss: 1.3192 - mse: 0.5815\n",
      "Epoch 43/50\n",
      "178/178 [==============================] - 1s 3ms/step - loss: 1.3103 - mse: 0.5752\n",
      "Epoch 44/50\n",
      "178/178 [==============================] - 1s 3ms/step - loss: 1.3009 - mse: 0.5681\n",
      "Epoch 45/50\n",
      "178/178 [==============================] - 1s 3ms/step - loss: 1.2914 - mse: 0.5608\n",
      "Epoch 46/50\n",
      "178/178 [==============================] - 1s 3ms/step - loss: 1.2825 - mse: 0.5538\n",
      "Epoch 47/50\n",
      "178/178 [==============================] - 1s 3ms/step - loss: 1.2742 - mse: 0.5471\n",
      "Epoch 48/50\n",
      "178/178 [==============================] - 1s 4ms/step - loss: 1.2649 - mse: 0.5394\n",
      "Epoch 49/50\n",
      "178/178 [==============================] - 1s 4ms/step - loss: 1.2615 - mse: 0.5371\n",
      "Epoch 50/50\n",
      "178/178 [==============================] - 1s 4ms/step - loss: 1.2493 - mse: 0.5260\n"
     ]
    }
   ],
   "source": [
    "history = mf_bias_reg_model.fit(X_train, y_train, epochs=50, batch_size=512)\n"
   ]
  },
  {
   "cell_type": "code",
   "execution_count": 55,
   "metadata": {},
   "outputs": [
    {
     "name": "stdout",
     "output_type": "stream",
     "text": [
      " Test RMSE : 0.9358759989405657 \n"
     ]
    }
   ],
   "source": [
    "y_pred = mf_bias_reg_model.predict(X_test)\n",
    "\n",
    "test_rmse = sqrt(mean_squared_error(y_test, y_pred))\n",
    "\n",
    "print(\" Test RMSE : %s \" % test_rmse)\n",
    "\n",
    "# là on obtient un meilleur RMSE "
   ]
  },
  {
   "cell_type": "markdown",
   "metadata": {},
   "source": [
    "You should get a slightly better RMSE, but sometimes regularization is very important for achieving good test performances, in depends on the data."
   ]
  },
  {
   "cell_type": "markdown",
   "metadata": {},
   "source": [
    "## Early Stopping"
   ]
  },
  {
   "cell_type": "markdown",
   "metadata": {},
   "source": [
    "Instead of setting manually the maximum number of epochs, we prefer to use *early stopping*. When training with early stopping, keras keeps a given validation set though the parameter `validation_split`, on which it is going to monitor a performance measure you give it (here the `mse`) at every epoch, and continue optimization while the mse on the validation set keeps going down, and stops it when it goes back up. This mechanism is an easy way to avoid over-fitting, you can read more about it there : https://machinelearningmastery.com/how-to-stop-training-deep-neural-networks-at-the-right-time-using-early-stopping/\n",
    "\n",
    "In general when using early stopping we setup a high number of maximum epochs, that is never reach because the optimization is stopped by early stopping first :"
   ]
  },
  {
   "cell_type": "code",
   "execution_count": 56,
   "metadata": {},
   "outputs": [
    {
     "data": {
      "text/plain": [
       "[PhysicalDevice(name='/physical_device:CPU:0', device_type='CPU')]"
      ]
     },
     "execution_count": 56,
     "metadata": {},
     "output_type": "execute_result"
    }
   ],
   "source": [
    "tf.config.list_physical_devices()"
   ]
  },
  {
   "cell_type": "code",
   "execution_count": 15,
   "metadata": {},
   "outputs": [],
   "source": [
    "from keras.callbacks import EarlyStopping"
   ]
  },
  {
   "cell_type": "code",
   "execution_count": 41,
   "metadata": {
    "scrolled": true,
    "tags": []
   },
   "outputs": [],
   "source": [
    "# mf_bias_reg_model = get_mf_bias_l2_reg_model(nb_users, nb_movies, k, lambda_)\n",
    "\n",
    "# early_stopping = EarlyStopping(monitor='val_mse', patience=5, verbose=1)\n",
    "\n",
    "# history = mf_bias_reg_model.fit(X_train, y_train, epochs=500, batch_size=512, validation_split=0.1, callbacks=[early_stopping])"
   ]
  },
  {
   "cell_type": "code",
   "execution_count": 44,
   "metadata": {
    "scrolled": true,
    "tags": []
   },
   "outputs": [
    {
     "name": "stdout",
     "output_type": "stream",
     "text": [
      "Epoch 1/500\n",
      "160/160 [==============================] - 2s 8ms/step - loss: 13.0596 - mse: 13.0464 - val_loss: 12.0721 - val_mse: 12.0608\n",
      "Epoch 2/500\n",
      "160/160 [==============================] - 0s 3ms/step - loss: 11.2450 - mse: 11.2194 - val_loss: 7.8675 - val_mse: 7.7433\n",
      "Epoch 3/500\n",
      "160/160 [==============================] - 0s 3ms/step - loss: 6.4231 - mse: 6.2388 - val_loss: 3.8084 - val_mse: 3.4422\n",
      "Epoch 4/500\n",
      "160/160 [==============================] - 0s 3ms/step - loss: 3.2441 - mse: 2.8307 - val_loss: 2.8445 - val_mse: 2.3169\n",
      "Epoch 5/500\n",
      "160/160 [==============================] - 0s 3ms/step - loss: 2.4535 - mse: 1.8985 - val_loss: 2.5097 - val_mse: 1.8837\n",
      "Epoch 6/500\n",
      "160/160 [==============================] - 0s 3ms/step - loss: 2.1544 - mse: 1.5094 - val_loss: 2.3475 - val_mse: 1.6524\n",
      "Epoch 7/500\n",
      "160/160 [==============================] - 0s 3ms/step - loss: 1.9987 - mse: 1.2901 - val_loss: 2.2563 - val_mse: 1.5125\n",
      "Epoch 8/500\n",
      "160/160 [==============================] - 0s 3ms/step - loss: 1.8957 - mse: 1.1422 - val_loss: 2.2009 - val_mse: 1.4204\n",
      "Epoch 9/500\n",
      "160/160 [==============================] - 0s 3ms/step - loss: 1.8501 - mse: 1.0625 - val_loss: 2.1623 - val_mse: 1.3553\n",
      "Epoch 10/500\n",
      "160/160 [==============================] - 0s 3ms/step - loss: 1.8103 - mse: 0.9982 - val_loss: 2.1343 - val_mse: 1.3091\n",
      "Epoch 11/500\n",
      "160/160 [==============================] - 0s 3ms/step - loss: 1.7708 - mse: 0.9421 - val_loss: 2.1112 - val_mse: 1.2728\n",
      "Epoch 12/500\n",
      "160/160 [==============================] - 0s 3ms/step - loss: 1.7497 - mse: 0.9085 - val_loss: 2.0918 - val_mse: 1.2446\n",
      "Epoch 13/500\n",
      "160/160 [==============================] - 0s 3ms/step - loss: 1.7253 - mse: 0.8764 - val_loss: 2.0756 - val_mse: 1.2230\n",
      "Epoch 14/500\n",
      "160/160 [==============================] - 0s 3ms/step - loss: 1.7085 - mse: 0.8548 - val_loss: 2.0606 - val_mse: 1.2051\n",
      "Epoch 15/500\n",
      "160/160 [==============================] - 0s 3ms/step - loss: 1.6894 - mse: 0.8338 - val_loss: 2.0455 - val_mse: 1.1894\n",
      "Epoch 16/500\n",
      "160/160 [==============================] - 0s 3ms/step - loss: 1.6748 - mse: 0.8189 - val_loss: 2.0313 - val_mse: 1.1758\n",
      "Epoch 17/500\n",
      "160/160 [==============================] - 0s 3ms/step - loss: 1.6564 - mse: 0.8014 - val_loss: 2.0162 - val_mse: 1.1629\n",
      "Epoch 18/500\n",
      "160/160 [==============================] - 0s 3ms/step - loss: 1.6421 - mse: 0.7900 - val_loss: 2.0027 - val_mse: 1.1523\n",
      "Epoch 19/500\n",
      "160/160 [==============================] - 0s 3ms/step - loss: 1.6288 - mse: 0.7796 - val_loss: 1.9893 - val_mse: 1.1424\n",
      "Epoch 20/500\n",
      "160/160 [==============================] - 0s 3ms/step - loss: 1.6146 - mse: 0.7691 - val_loss: 1.9763 - val_mse: 1.1338\n",
      "Epoch 21/500\n",
      "160/160 [==============================] - 0s 3ms/step - loss: 1.6031 - mse: 0.7614 - val_loss: 1.9641 - val_mse: 1.1270\n",
      "Epoch 22/500\n",
      "160/160 [==============================] - 0s 3ms/step - loss: 1.5870 - mse: 0.7509 - val_loss: 1.9507 - val_mse: 1.1175\n",
      "Epoch 23/500\n",
      "160/160 [==============================] - 0s 3ms/step - loss: 1.5769 - mse: 0.7453 - val_loss: 1.9360 - val_mse: 1.1083\n",
      "Epoch 24/500\n",
      "160/160 [==============================] - 0s 3ms/step - loss: 1.5526 - mse: 0.7265 - val_loss: 1.9239 - val_mse: 1.1020\n",
      "Epoch 25/500\n",
      "160/160 [==============================] - 0s 3ms/step - loss: 1.5447 - mse: 0.7241 - val_loss: 1.9111 - val_mse: 1.0940\n",
      "Epoch 26/500\n",
      "160/160 [==============================] - 0s 3ms/step - loss: 1.5305 - mse: 0.7147 - val_loss: 1.8990 - val_mse: 1.0873\n",
      "Epoch 27/500\n",
      "160/160 [==============================] - 0s 3ms/step - loss: 1.5295 - mse: 0.7192 - val_loss: 1.8884 - val_mse: 1.0816\n",
      "Epoch 28/500\n",
      "160/160 [==============================] - 0s 3ms/step - loss: 1.5093 - mse: 0.7041 - val_loss: 1.8751 - val_mse: 1.0734\n",
      "Epoch 29/500\n",
      "160/160 [==============================] - 0s 3ms/step - loss: 1.4935 - mse: 0.6927 - val_loss: 1.8643 - val_mse: 1.0678\n",
      "Epoch 30/500\n",
      "160/160 [==============================] - 0s 3ms/step - loss: 1.4784 - mse: 0.6835 - val_loss: 1.8526 - val_mse: 1.0602\n",
      "Epoch 31/500\n",
      "160/160 [==============================] - 0s 3ms/step - loss: 1.4707 - mse: 0.6798 - val_loss: 1.8414 - val_mse: 1.0537\n",
      "Epoch 32/500\n",
      "160/160 [==============================] - 0s 3ms/step - loss: 1.4589 - mse: 0.6724 - val_loss: 1.8323 - val_mse: 1.0497\n",
      "Epoch 33/500\n",
      "160/160 [==============================] - 0s 3ms/step - loss: 1.4481 - mse: 0.6663 - val_loss: 1.8200 - val_mse: 1.0410\n",
      "Epoch 34/500\n",
      "160/160 [==============================] - 0s 3ms/step - loss: 1.4350 - mse: 0.6575 - val_loss: 1.8095 - val_mse: 1.0346\n",
      "Epoch 35/500\n",
      "160/160 [==============================] - 0s 3ms/step - loss: 1.4220 - mse: 0.6484 - val_loss: 1.7995 - val_mse: 1.0281\n",
      "Epoch 36/500\n",
      "160/160 [==============================] - 0s 3ms/step - loss: 1.4076 - mse: 0.6368 - val_loss: 1.7918 - val_mse: 1.0244\n",
      "Epoch 37/500\n",
      "160/160 [==============================] - 0s 3ms/step - loss: 1.3952 - mse: 0.6285 - val_loss: 1.7818 - val_mse: 1.0177\n",
      "Epoch 38/500\n",
      "160/160 [==============================] - 0s 3ms/step - loss: 1.3878 - mse: 0.6248 - val_loss: 1.7732 - val_mse: 1.0118\n",
      "Epoch 39/500\n",
      "160/160 [==============================] - 0s 3ms/step - loss: 1.3809 - mse: 0.6205 - val_loss: 1.7642 - val_mse: 1.0062\n",
      "Epoch 40/500\n",
      "160/160 [==============================] - 0s 3ms/step - loss: 1.3724 - mse: 0.6150 - val_loss: 1.7567 - val_mse: 1.0013\n",
      "Epoch 41/500\n",
      "160/160 [==============================] - 0s 3ms/step - loss: 1.3594 - mse: 0.6047 - val_loss: 1.7478 - val_mse: 0.9952\n",
      "Epoch 42/500\n",
      "160/160 [==============================] - 0s 3ms/step - loss: 1.3471 - mse: 0.5952 - val_loss: 1.7398 - val_mse: 0.9896\n",
      "Epoch 43/500\n",
      "160/160 [==============================] - 0s 3ms/step - loss: 1.3350 - mse: 0.5856 - val_loss: 1.7327 - val_mse: 0.9845\n",
      "Epoch 44/500\n",
      "160/160 [==============================] - 0s 3ms/step - loss: 1.3276 - mse: 0.5798 - val_loss: 1.7252 - val_mse: 0.9792\n",
      "Epoch 45/500\n",
      "160/160 [==============================] - 0s 3ms/step - loss: 1.3202 - mse: 0.5752 - val_loss: 1.7182 - val_mse: 0.9739\n",
      "Epoch 46/500\n",
      "160/160 [==============================] - 0s 3ms/step - loss: 1.3086 - mse: 0.5652 - val_loss: 1.7121 - val_mse: 0.9697\n",
      "Epoch 47/500\n",
      "160/160 [==============================] - 0s 3ms/step - loss: 1.3027 - mse: 0.5608 - val_loss: 1.7055 - val_mse: 0.9649\n",
      "Epoch 48/500\n",
      "160/160 [==============================] - 0s 3ms/step - loss: 1.2937 - mse: 0.5536 - val_loss: 1.6993 - val_mse: 0.9602\n",
      "Epoch 49/500\n",
      "160/160 [==============================] - 0s 3ms/step - loss: 1.2836 - mse: 0.5449 - val_loss: 1.6934 - val_mse: 0.9558\n",
      "Epoch 50/500\n",
      "160/160 [==============================] - 0s 3ms/step - loss: 1.2788 - mse: 0.5417 - val_loss: 1.6876 - val_mse: 0.9514\n",
      "Epoch 51/500\n",
      "160/160 [==============================] - 0s 3ms/step - loss: 1.2629 - mse: 0.5274 - val_loss: 1.6812 - val_mse: 0.9460\n",
      "Epoch 52/500\n",
      "160/160 [==============================] - 0s 3ms/step - loss: 1.2617 - mse: 0.5268 - val_loss: 1.6772 - val_mse: 0.9434\n",
      "Epoch 53/500\n",
      "160/160 [==============================] - 0s 3ms/step - loss: 1.2507 - mse: 0.5176 - val_loss: 1.6729 - val_mse: 0.9400\n",
      "Epoch 54/500\n",
      "160/160 [==============================] - 0s 3ms/step - loss: 1.2401 - mse: 0.5078 - val_loss: 1.6668 - val_mse: 0.9349\n",
      "Epoch 55/500\n",
      "160/160 [==============================] - 0s 3ms/step - loss: 1.2360 - mse: 0.5044 - val_loss: 1.6639 - val_mse: 0.9327\n",
      "Epoch 56/500\n",
      "160/160 [==============================] - 0s 3ms/step - loss: 1.2266 - mse: 0.4960 - val_loss: 1.6602 - val_mse: 0.9301\n",
      "Epoch 57/500\n",
      "160/160 [==============================] - 0s 3ms/step - loss: 1.2165 - mse: 0.4868 - val_loss: 1.6558 - val_mse: 0.9259\n",
      "Epoch 58/500\n",
      "160/160 [==============================] - 0s 3ms/step - loss: 1.2137 - mse: 0.4842 - val_loss: 1.6510 - val_mse: 0.9220\n",
      "Epoch 59/500\n",
      "160/160 [==============================] - 0s 3ms/step - loss: 1.2094 - mse: 0.4806 - val_loss: 1.6488 - val_mse: 0.9206\n",
      "Epoch 60/500\n",
      "160/160 [==============================] - 0s 3ms/step - loss: 1.2004 - mse: 0.4728 - val_loss: 1.6453 - val_mse: 0.9175\n",
      "Epoch 61/500\n",
      "160/160 [==============================] - 0s 2ms/step - loss: 1.1936 - mse: 0.4662 - val_loss: 1.6414 - val_mse: 0.9140\n",
      "Epoch 62/500\n",
      "160/160 [==============================] - 0s 3ms/step - loss: 1.1932 - mse: 0.4657 - val_loss: 1.6383 - val_mse: 0.9117\n",
      "Epoch 63/500\n",
      "160/160 [==============================] - 0s 3ms/step - loss: 1.1851 - mse: 0.4589 - val_loss: 1.6346 - val_mse: 0.9083\n",
      "Epoch 64/500\n",
      "160/160 [==============================] - 0s 3ms/step - loss: 1.1768 - mse: 0.4502 - val_loss: 1.6324 - val_mse: 0.9068\n",
      "Epoch 65/500\n",
      "160/160 [==============================] - 0s 3ms/step - loss: 1.1751 - mse: 0.4498 - val_loss: 1.6295 - val_mse: 0.9039\n",
      "Epoch 66/500\n",
      "160/160 [==============================] - 0s 3ms/step - loss: 1.1690 - mse: 0.4432 - val_loss: 1.6268 - val_mse: 0.9011\n",
      "Epoch 67/500\n",
      "160/160 [==============================] - 0s 3ms/step - loss: 1.1629 - mse: 0.4376 - val_loss: 1.6248 - val_mse: 0.8993\n",
      "Epoch 68/500\n",
      "160/160 [==============================] - 0s 3ms/step - loss: 1.1675 - mse: 0.4422 - val_loss: 1.6227 - val_mse: 0.8978\n",
      "Epoch 69/500\n",
      "160/160 [==============================] - 0s 3ms/step - loss: 1.1564 - mse: 0.4312 - val_loss: 1.6213 - val_mse: 0.8966\n",
      "Epoch 70/500\n",
      "160/160 [==============================] - 0s 3ms/step - loss: 1.1505 - mse: 0.4262 - val_loss: 1.6178 - val_mse: 0.8931\n",
      "Epoch 71/500\n",
      "160/160 [==============================] - 0s 3ms/step - loss: 1.1485 - mse: 0.4238 - val_loss: 1.6160 - val_mse: 0.8914\n",
      "Epoch 72/500\n",
      "160/160 [==============================] - 0s 3ms/step - loss: 1.1478 - mse: 0.4234 - val_loss: 1.6138 - val_mse: 0.8895\n",
      "Epoch 73/500\n",
      "160/160 [==============================] - 0s 3ms/step - loss: 1.1402 - mse: 0.4160 - val_loss: 1.6120 - val_mse: 0.8877\n",
      "Epoch 74/500\n",
      "160/160 [==============================] - 0s 3ms/step - loss: 1.1362 - mse: 0.4120 - val_loss: 1.6106 - val_mse: 0.8863\n",
      "Epoch 75/500\n",
      "160/160 [==============================] - 0s 3ms/step - loss: 1.1312 - mse: 0.4073 - val_loss: 1.6087 - val_mse: 0.8846\n",
      "Epoch 76/500\n",
      "160/160 [==============================] - 0s 3ms/step - loss: 1.1267 - mse: 0.4027 - val_loss: 1.6077 - val_mse: 0.8833\n",
      "Epoch 77/500\n",
      "160/160 [==============================] - 0s 3ms/step - loss: 1.1286 - mse: 0.4046 - val_loss: 1.6062 - val_mse: 0.8822\n",
      "Epoch 78/500\n",
      "160/160 [==============================] - 0s 3ms/step - loss: 1.1234 - mse: 0.3998 - val_loss: 1.6047 - val_mse: 0.8805\n",
      "Epoch 79/500\n",
      "160/160 [==============================] - 0s 3ms/step - loss: 1.1189 - mse: 0.3950 - val_loss: 1.6034 - val_mse: 0.8795\n",
      "Epoch 80/500\n",
      "160/160 [==============================] - 0s 3ms/step - loss: 1.1202 - mse: 0.3963 - val_loss: 1.6013 - val_mse: 0.8774\n",
      "Epoch 81/500\n",
      "160/160 [==============================] - 0s 3ms/step - loss: 1.1128 - mse: 0.3892 - val_loss: 1.6003 - val_mse: 0.8764\n",
      "Epoch 82/500\n",
      "160/160 [==============================] - 0s 3ms/step - loss: 1.1100 - mse: 0.3864 - val_loss: 1.5986 - val_mse: 0.8748\n",
      "Epoch 83/500\n",
      "160/160 [==============================] - 0s 3ms/step - loss: 1.1084 - mse: 0.3849 - val_loss: 1.5976 - val_mse: 0.8735\n",
      "Epoch 84/500\n",
      "160/160 [==============================] - 0s 3ms/step - loss: 1.1041 - mse: 0.3802 - val_loss: 1.5966 - val_mse: 0.8725\n",
      "Epoch 85/500\n",
      "160/160 [==============================] - 0s 3ms/step - loss: 1.1043 - mse: 0.3804 - val_loss: 1.5954 - val_mse: 0.8712\n",
      "Epoch 86/500\n",
      "160/160 [==============================] - 0s 3ms/step - loss: 1.0997 - mse: 0.3758 - val_loss: 1.5942 - val_mse: 0.8700\n",
      "Epoch 87/500\n",
      "160/160 [==============================] - 0s 3ms/step - loss: 1.0981 - mse: 0.3742 - val_loss: 1.5932 - val_mse: 0.8690\n",
      "Epoch 88/500\n",
      "160/160 [==============================] - 0s 3ms/step - loss: 1.0971 - mse: 0.3733 - val_loss: 1.5915 - val_mse: 0.8674\n",
      "Epoch 89/500\n",
      "160/160 [==============================] - 0s 3ms/step - loss: 1.0936 - mse: 0.3695 - val_loss: 1.5902 - val_mse: 0.8660\n",
      "Epoch 90/500\n",
      "160/160 [==============================] - 0s 3ms/step - loss: 1.0910 - mse: 0.3670 - val_loss: 1.5895 - val_mse: 0.8650\n",
      "Epoch 91/500\n",
      "160/160 [==============================] - 0s 3ms/step - loss: 1.0917 - mse: 0.3677 - val_loss: 1.5887 - val_mse: 0.8643\n",
      "Epoch 92/500\n",
      "160/160 [==============================] - 0s 3ms/step - loss: 1.0927 - mse: 0.3682 - val_loss: 1.5878 - val_mse: 0.8636\n",
      "Epoch 93/500\n",
      "160/160 [==============================] - 0s 3ms/step - loss: 1.0885 - mse: 0.3646 - val_loss: 1.5871 - val_mse: 0.8624\n",
      "Epoch 94/500\n",
      "160/160 [==============================] - 0s 3ms/step - loss: 1.0883 - mse: 0.3639 - val_loss: 1.5857 - val_mse: 0.8614\n",
      "Epoch 95/500\n",
      "160/160 [==============================] - 0s 3ms/step - loss: 1.0839 - mse: 0.3594 - val_loss: 1.5851 - val_mse: 0.8606\n",
      "Epoch 96/500\n",
      "160/160 [==============================] - 0s 3ms/step - loss: 1.0849 - mse: 0.3603 - val_loss: 1.5844 - val_mse: 0.8600\n",
      "Epoch 97/500\n",
      "160/160 [==============================] - 0s 3ms/step - loss: 1.0792 - mse: 0.3548 - val_loss: 1.5829 - val_mse: 0.8582\n",
      "Epoch 98/500\n",
      "160/160 [==============================] - 0s 3ms/step - loss: 1.0830 - mse: 0.3584 - val_loss: 1.5827 - val_mse: 0.8579\n",
      "Epoch 99/500\n",
      "160/160 [==============================] - 0s 3ms/step - loss: 1.0796 - mse: 0.3548 - val_loss: 1.5812 - val_mse: 0.8562\n",
      "Epoch 100/500\n",
      "160/160 [==============================] - 0s 3ms/step - loss: 1.0772 - mse: 0.3523 - val_loss: 1.5808 - val_mse: 0.8558\n",
      "Epoch 101/500\n",
      "160/160 [==============================] - 0s 3ms/step - loss: 1.0751 - mse: 0.3503 - val_loss: 1.5807 - val_mse: 0.8555\n",
      "Epoch 102/500\n",
      "160/160 [==============================] - 0s 3ms/step - loss: 1.0718 - mse: 0.3469 - val_loss: 1.5793 - val_mse: 0.8540\n",
      "Epoch 103/500\n",
      "160/160 [==============================] - 0s 3ms/step - loss: 1.0746 - mse: 0.3493 - val_loss: 1.5787 - val_mse: 0.8533\n",
      "Epoch 104/500\n",
      "160/160 [==============================] - 0s 3ms/step - loss: 1.0649 - mse: 0.3398 - val_loss: 1.5785 - val_mse: 0.8535\n",
      "Epoch 105/500\n",
      "160/160 [==============================] - 0s 3ms/step - loss: 1.0706 - mse: 0.3454 - val_loss: 1.5776 - val_mse: 0.8519\n",
      "Epoch 106/500\n",
      "160/160 [==============================] - 0s 3ms/step - loss: 1.0704 - mse: 0.3448 - val_loss: 1.5774 - val_mse: 0.8518\n",
      "Epoch 107/500\n",
      "160/160 [==============================] - 0s 3ms/step - loss: 1.0730 - mse: 0.3473 - val_loss: 1.5761 - val_mse: 0.8503\n",
      "Epoch 108/500\n",
      "160/160 [==============================] - 0s 3ms/step - loss: 1.0718 - mse: 0.3461 - val_loss: 1.5757 - val_mse: 0.8499\n",
      "Epoch 109/500\n",
      "160/160 [==============================] - 1s 3ms/step - loss: 1.0657 - mse: 0.3402 - val_loss: 1.5754 - val_mse: 0.8493\n",
      "Epoch 110/500\n",
      "160/160 [==============================] - 0s 3ms/step - loss: 1.0665 - mse: 0.3404 - val_loss: 1.5751 - val_mse: 0.8494\n",
      "Epoch 111/500\n",
      "160/160 [==============================] - 0s 3ms/step - loss: 1.0671 - mse: 0.3414 - val_loss: 1.5746 - val_mse: 0.8486\n",
      "Epoch 112/500\n",
      "160/160 [==============================] - 0s 3ms/step - loss: 1.0654 - mse: 0.3397 - val_loss: 1.5742 - val_mse: 0.8480\n",
      "Epoch 113/500\n",
      "160/160 [==============================] - 0s 3ms/step - loss: 1.0622 - mse: 0.3360 - val_loss: 1.5736 - val_mse: 0.8471\n",
      "Epoch 114/500\n",
      "160/160 [==============================] - 0s 3ms/step - loss: 1.0656 - mse: 0.3393 - val_loss: 1.5735 - val_mse: 0.8469\n",
      "Epoch 115/500\n",
      "160/160 [==============================] - 0s 2ms/step - loss: 1.0589 - mse: 0.3326 - val_loss: 1.5724 - val_mse: 0.8456\n",
      "Epoch 116/500\n",
      "160/160 [==============================] - 0s 3ms/step - loss: 1.0590 - mse: 0.3323 - val_loss: 1.5721 - val_mse: 0.8452\n",
      "Epoch 117/500\n",
      "160/160 [==============================] - 0s 3ms/step - loss: 1.0576 - mse: 0.3310 - val_loss: 1.5717 - val_mse: 0.8448\n",
      "Epoch 118/500\n",
      "160/160 [==============================] - 0s 3ms/step - loss: 1.0609 - mse: 0.3342 - val_loss: 1.5712 - val_mse: 0.8441\n",
      "Epoch 119/500\n",
      "160/160 [==============================] - 0s 3ms/step - loss: 1.0564 - mse: 0.3296 - val_loss: 1.5709 - val_mse: 0.8438\n",
      "Epoch 120/500\n",
      "160/160 [==============================] - 0s 3ms/step - loss: 1.0658 - mse: 0.3385 - val_loss: 1.5708 - val_mse: 0.8436\n",
      "Epoch 121/500\n",
      "160/160 [==============================] - 0s 3ms/step - loss: 1.0553 - mse: 0.3284 - val_loss: 1.5710 - val_mse: 0.8436\n",
      "Epoch 122/500\n",
      "160/160 [==============================] - 0s 3ms/step - loss: 1.0585 - mse: 0.3314 - val_loss: 1.5700 - val_mse: 0.8425\n",
      "Epoch 123/500\n",
      "160/160 [==============================] - 1s 3ms/step - loss: 1.0558 - mse: 0.3284 - val_loss: 1.5694 - val_mse: 0.8419\n",
      "Epoch 124/500\n",
      "160/160 [==============================] - 1s 3ms/step - loss: 1.0556 - mse: 0.3284 - val_loss: 1.5700 - val_mse: 0.8424\n",
      "Epoch 125/500\n",
      "160/160 [==============================] - 1s 3ms/step - loss: 1.0577 - mse: 0.3300 - val_loss: 1.5697 - val_mse: 0.8421\n",
      "Epoch 126/500\n",
      "160/160 [==============================] - 0s 3ms/step - loss: 1.0532 - mse: 0.3258 - val_loss: 1.5697 - val_mse: 0.8417\n",
      "Epoch 127/500\n",
      "160/160 [==============================] - 0s 3ms/step - loss: 1.0554 - mse: 0.3276 - val_loss: 1.5687 - val_mse: 0.8409\n",
      "Epoch 128/500\n",
      "160/160 [==============================] - 0s 3ms/step - loss: 1.0541 - mse: 0.3265 - val_loss: 1.5683 - val_mse: 0.8403\n",
      "Epoch 129/500\n",
      "160/160 [==============================] - 0s 3ms/step - loss: 1.0535 - mse: 0.3258 - val_loss: 1.5679 - val_mse: 0.8397\n",
      "Epoch 130/500\n",
      "160/160 [==============================] - 0s 3ms/step - loss: 1.0553 - mse: 0.3273 - val_loss: 1.5680 - val_mse: 0.8399\n",
      "Epoch 131/500\n",
      "160/160 [==============================] - 0s 3ms/step - loss: 1.0544 - mse: 0.3264 - val_loss: 1.5678 - val_mse: 0.8396\n",
      "Epoch 132/500\n",
      "160/160 [==============================] - 0s 3ms/step - loss: 1.0508 - mse: 0.3225 - val_loss: 1.5679 - val_mse: 0.8394\n",
      "Epoch 133/500\n",
      "160/160 [==============================] - 0s 3ms/step - loss: 1.0503 - mse: 0.3220 - val_loss: 1.5673 - val_mse: 0.8388\n",
      "Epoch 134/500\n",
      "160/160 [==============================] - 0s 3ms/step - loss: 1.0508 - mse: 0.3224 - val_loss: 1.5669 - val_mse: 0.8382\n",
      "Epoch 135/500\n",
      "160/160 [==============================] - 0s 3ms/step - loss: 1.0538 - mse: 0.3253 - val_loss: 1.5668 - val_mse: 0.8380\n",
      "Epoch 136/500\n",
      "160/160 [==============================] - 0s 3ms/step - loss: 1.0498 - mse: 0.3214 - val_loss: 1.5667 - val_mse: 0.8379\n",
      "Epoch 137/500\n",
      "160/160 [==============================] - 0s 3ms/step - loss: 1.0503 - mse: 0.3217 - val_loss: 1.5671 - val_mse: 0.8381\n",
      "Epoch 138/500\n",
      "160/160 [==============================] - 0s 3ms/step - loss: 1.0538 - mse: 0.3247 - val_loss: 1.5663 - val_mse: 0.8373\n",
      "Epoch 139/500\n",
      "160/160 [==============================] - 0s 3ms/step - loss: 1.0542 - mse: 0.3253 - val_loss: 1.5665 - val_mse: 0.8374\n",
      "Epoch 140/500\n",
      "160/160 [==============================] - 0s 3ms/step - loss: 1.0470 - mse: 0.3182 - val_loss: 1.5661 - val_mse: 0.8371\n",
      "Epoch 141/500\n",
      "160/160 [==============================] - 0s 3ms/step - loss: 1.0484 - mse: 0.3193 - val_loss: 1.5660 - val_mse: 0.8369\n",
      "Epoch 142/500\n",
      "160/160 [==============================] - 0s 2ms/step - loss: 1.0525 - mse: 0.3235 - val_loss: 1.5659 - val_mse: 0.8367\n",
      "Epoch 143/500\n",
      "160/160 [==============================] - 0s 3ms/step - loss: 1.0509 - mse: 0.3217 - val_loss: 1.5663 - val_mse: 0.8369\n",
      "Epoch 144/500\n",
      "160/160 [==============================] - 0s 3ms/step - loss: 1.0480 - mse: 0.3188 - val_loss: 1.5656 - val_mse: 0.8363\n",
      "Epoch 145/500\n",
      "160/160 [==============================] - 0s 2ms/step - loss: 1.0464 - mse: 0.3170 - val_loss: 1.5652 - val_mse: 0.8358\n",
      "Epoch 146/500\n",
      "160/160 [==============================] - 0s 3ms/step - loss: 1.0459 - mse: 0.3168 - val_loss: 1.5653 - val_mse: 0.8358\n",
      "Epoch 147/500\n",
      "160/160 [==============================] - 0s 3ms/step - loss: 1.0495 - mse: 0.3200 - val_loss: 1.5654 - val_mse: 0.8355\n",
      "Epoch 148/500\n",
      "160/160 [==============================] - 0s 3ms/step - loss: 1.0453 - mse: 0.3157 - val_loss: 1.5651 - val_mse: 0.8354\n",
      "Epoch 149/500\n",
      "160/160 [==============================] - 0s 3ms/step - loss: 1.0472 - mse: 0.3176 - val_loss: 1.5654 - val_mse: 0.8357\n",
      "Epoch 150/500\n",
      "160/160 [==============================] - 0s 3ms/step - loss: 1.0455 - mse: 0.3158 - val_loss: 1.5653 - val_mse: 0.8354\n",
      "Epoch 151/500\n",
      "160/160 [==============================] - 0s 3ms/step - loss: 1.0458 - mse: 0.3161 - val_loss: 1.5650 - val_mse: 0.8352\n",
      "Epoch 152/500\n",
      "160/160 [==============================] - 0s 2ms/step - loss: 1.0481 - mse: 0.3184 - val_loss: 1.5649 - val_mse: 0.8350\n",
      "Epoch 153/500\n",
      "160/160 [==============================] - 0s 3ms/step - loss: 1.0509 - mse: 0.3208 - val_loss: 1.5647 - val_mse: 0.8347\n",
      "Epoch 154/500\n",
      "160/160 [==============================] - 0s 3ms/step - loss: 1.0445 - mse: 0.3146 - val_loss: 1.5645 - val_mse: 0.8345\n",
      "Epoch 155/500\n",
      "160/160 [==============================] - 0s 3ms/step - loss: 1.0426 - mse: 0.3128 - val_loss: 1.5646 - val_mse: 0.8343\n",
      "Epoch 156/500\n",
      "160/160 [==============================] - 0s 3ms/step - loss: 1.0480 - mse: 0.3178 - val_loss: 1.5648 - val_mse: 0.8344\n",
      "Epoch 157/500\n",
      "160/160 [==============================] - 0s 3ms/step - loss: 1.0490 - mse: 0.3187 - val_loss: 1.5647 - val_mse: 0.8344\n",
      "Epoch 158/500\n",
      "160/160 [==============================] - 0s 3ms/step - loss: 1.0500 - mse: 0.3197 - val_loss: 1.5646 - val_mse: 0.8340\n",
      "Epoch 159/500\n",
      "160/160 [==============================] - 0s 3ms/step - loss: 1.0444 - mse: 0.3139 - val_loss: 1.5644 - val_mse: 0.8339\n",
      "Epoch 160/500\n",
      "160/160 [==============================] - 0s 3ms/step - loss: 1.0453 - mse: 0.3149 - val_loss: 1.5643 - val_mse: 0.8334\n",
      "Epoch 161/500\n",
      "160/160 [==============================] - 0s 3ms/step - loss: 1.0458 - mse: 0.3153 - val_loss: 1.5641 - val_mse: 0.8331\n",
      "Epoch 162/500\n",
      "160/160 [==============================] - 0s 3ms/step - loss: 1.0445 - mse: 0.3139 - val_loss: 1.5642 - val_mse: 0.8333\n",
      "Epoch 163/500\n",
      "160/160 [==============================] - 0s 3ms/step - loss: 1.0443 - mse: 0.3134 - val_loss: 1.5642 - val_mse: 0.8332\n",
      "Epoch 164/500\n",
      "160/160 [==============================] - 0s 3ms/step - loss: 1.0461 - mse: 0.3152 - val_loss: 1.5641 - val_mse: 0.8332\n",
      "Epoch 165/500\n",
      "160/160 [==============================] - 0s 3ms/step - loss: 1.0467 - mse: 0.3156 - val_loss: 1.5643 - val_mse: 0.8333\n",
      "Epoch 166/500\n",
      "160/160 [==============================] - 0s 3ms/step - loss: 1.0458 - mse: 0.3151 - val_loss: 1.5643 - val_mse: 0.8333\n",
      "Epoch 00166: early stopping\n"
     ]
    }
   ],
   "source": [
    "# from keras.callbacks import EarlyStopping\n",
    "\n",
    "with tf.device('/cpu:0'):\n",
    "\n",
    "    mf_bias_reg_model = get_mf_bias_l2_reg_model(nb_users, nb_movies, k, lambda_)\n",
    "\n",
    "    early_stopping = EarlyStopping(monitor='val_mse', patience=5, verbose=1)\n",
    "\n",
    "    history = mf_bias_reg_model.fit(X_train, y_train, epochs=500, batch_size=512, validation_split=0.1, callbacks=[early_stopping])"
   ]
  },
  {
   "cell_type": "markdown",
   "metadata": {},
   "source": [
    "As you can see the training stops before 500 epochs, when the validation MSE stops decreasing during 5 consecutive epochs (the patience value = 5). "
   ]
  },
  {
   "cell_type": "markdown",
   "metadata": {},
   "source": [
    "## Grid search embedding size and regularization factor with early stopping"
   ]
  },
  {
   "cell_type": "markdown",
   "metadata": {},
   "source": [
    "So for the moment we didn't grid search our model hyper-parameters, such as `k` and `lambda_`. There exists some scikit-learn wrappers for keras models in order to use scikit grid search functions, unfortunately they only work with single input keras models, which is not our case as we have two inputs: the user and the movie indexes.\n",
    "\n",
    "So let's implement your own grid search function for the two parameters `k` and `lambda_`. With big enough datasets, it is not necessary to do a cross-validation for each hyper-parameter combination, and we can simply split the training set into a sub-training set and a validation set to test our hyper-parameters. It does work because the validation set is big enough to see enough data variations, and with very big datasets, it is anyway not possible anymore to do a full cross-validation as it takes too much time to train. \n",
    "\n",
    "Fill in the `grid_search` function below and use early stopping with a validation split (just like above), and retrieve the validation RMSE (you can get the MSE from the `history` variable that is returned by the `fit` method (and then take the `sqrt` of that)) for all the hyper-parameter combinations from the `param_grid` dictionary of hyper-parameter values. Call the `get_model_function` parameter (yes, you can pass functions as parameters!) to generate each model, and return the hyper-parameters that give the lowest RMSE on the 10% validation set, the RMSE value, and the best corresponding trained model."
   ]
  },
  {
   "cell_type": "code",
   "execution_count": 38,
   "metadata": {},
   "outputs": [],
   "source": [
    "# testing itertools and other parts of the function before create it \n",
    "\n",
    "# list1 = ['A', 'B', 'C']\n",
    "# list2 = [1, 2, 3]\n",
    "\n",
    "# [x for x in itertools.product(list1, list2)] \n",
    "\n",
    "# [x for x in itertools.combinations(list1, 2)] \n",
    "\n",
    "# lambdas_ = [0.0002, 0.00005, 0.00002]\n",
    "# ks = [15,30]\n",
    "\n",
    "# param_grid = dict(k=ks, lambda_=lambdas_)\n",
    "\n",
    "# param_grid['k'][0]\n",
    "\n",
    "# for params in itertools.product(lambdas_, ks):\n",
    "    # print(params)\n",
    "    \n",
    "# for key,  params in itertools.combinations(param_grid[key], 2):\n",
    "    # print(params)\n",
    "\n",
    "# get_mf_bias_l2_reg_model(nb_users=nb_users, nb_movies=nb_movies, param_grid['k'][0], param_grid['lambda_'][0])\n",
    "\n",
    "# for params in itertools.product(param_grid['k'], param_grid['lambda_']):\n",
    "#     print(params)\n",
    "\n",
    "# list_params_combi = []\n",
    "# for params in itertools.product(param_grid['k'], param_grid['lambda_']):\n",
    "#     list_params_combi.append(params)\n",
    "\n",
    "# # print(list_params_combi[0][1])\n",
    "# list_params_combi\n",
    "\n",
    "# for k, lamb in list_params_combi:\n",
    "#     print(i, j)\n",
    "\n",
    "# best_score = np.inf\n",
    "# mse_score = 0.83\n",
    "# if mse_score < best_score:\n",
    "#     best_score = mse_score\n",
    "    \n",
    "# best_score\n",
    "# print(history.model)\n",
    "# mf_bias_reg_model\n"
   ]
  },
  {
   "cell_type": "code",
   "execution_count": 18,
   "metadata": {},
   "outputs": [],
   "source": [
    "\n",
    "def grid_search(data, param_grid, get_model_function, nb_users, nb_movies, validation_size = 0.1):\n",
    "    \"\"\"\n",
    "    Performs a grid search over the \n",
    "    \n",
    "    Input:\n",
    "        data : DataFrame : The training set to be split between training and validation sets\n",
    "        param_grid : dict : Dictionary containing the values of the hyper-parameters to grid-search\n",
    "        get_model_function : function : A function that returns the keras model to grid-search\n",
    "        nb_users : int : The number of unique users\n",
    "        nb_movies : int : The number of unique movies\n",
    "        validation_size : float : Proportion of the validation set\n",
    "        \n",
    "    Output:\n",
    "        best_params : dict : A dictionary of the best hyper-parameters values\n",
    "        best_score : float : The validation RMSE corresponding to the best\n",
    "        best_model : keras.Model : The model trained with the best hyper-parameters\n",
    "        \n",
    "    \"\"\"\n",
    "    \n",
    "    best_score = np.inf\n",
    "    best_params = {}\n",
    "    best_model = None\n",
    "    \n",
    "    #TOFILL\n",
    "    \n",
    "    # Creaing sub train and validation sets \n",
    "    sub_train, sub_val = train_test_split(data, test_size=validation_size)\n",
    "\n",
    "    X_sub_train = [sub_train[\"userId\"].to_numpy(), sub_train[\"movieId\"].to_numpy()]\n",
    "    y_sub_train = sub_train[\"rating\"].to_numpy()\n",
    "\n",
    "    X_sub_val = [sub_val[\"userId\"].to_numpy(), sub_val[\"movieId\"].to_numpy()]\n",
    "    y_sub_val = sub_val[\"rating\"].to_numpy()\n",
    "    \n",
    "    # creating loop te create a list of all possible params combinations \n",
    "    list_params_combi = []\n",
    "    for params in itertools.product(param_grid['k'], param_grid['lambda_']):\n",
    "        list_params_combi.append(params)\n",
    "        \n",
    "    # Creating a loop \n",
    "    for k, lamb in list_params_combi:\n",
    "        mf_bias_reg_model = get_mf_bias_l2_reg_model(nb_users=nb_users, nb_movies=nb_movies, k=k, lambda_=lamb)\n",
    "        # history = mf_bias_reg_model.fit(X_train, y_train, epochs=50, batch_size=512)\n",
    "        early_stopping = EarlyStopping(monitor='val_mse', patience=5, verbose=1)\n",
    "        history = mf_bias_reg_model.fit(X_sub_train, y_sub_train, epochs=50, batch_size=512, validation_data =(X_sub_val, y_sub_val) , callbacks=[early_stopping])\n",
    "        mse_score = history.history['val_mse'][-1]\n",
    "        if mse_score < best_score:\n",
    "            best_score = mse_score\n",
    "            # best_params = history.params\n",
    "            best_params = (k, lamb)\n",
    "            best_model = mf_bias_reg_model\n",
    "            # best_model = history.model\n",
    "\n",
    "    return best_params, best_score, best_model"
   ]
  },
  {
   "cell_type": "code",
   "execution_count": 19,
   "metadata": {
    "scrolled": true
   },
   "outputs": [
    {
     "name": "stderr",
     "output_type": "stream",
     "text": [
      "2022-06-21 09:30:54.392011: I tensorflow/compiler/mlir/mlir_graph_optimization_pass.cc:116] None of the MLIR optimization passes are enabled (registered 2)\n",
      "2022-06-21 09:30:54.447060: I tensorflow/core/platform/profile_utils/cpu_utils.cc:112] CPU Frequency: 1700000000 Hz\n"
     ]
    },
    {
     "name": "stdout",
     "output_type": "stream",
     "text": [
      "Epoch 1/50\n"
     ]
    },
    {
     "name": "stderr",
     "output_type": "stream",
     "text": [
      "2022-06-21 09:30:55.807889: I tensorflow/stream_executor/platform/default/dso_loader.cc:49] Successfully opened dynamic library libcublas.so.10\n"
     ]
    },
    {
     "name": "stdout",
     "output_type": "stream",
     "text": [
      "160/160 [==============================] - 4s 9ms/step - loss: 13.0726 - mse: 13.0601 - val_loss: 11.9458 - val_mse: 11.9357\n",
      "Epoch 2/50\n",
      "160/160 [==============================] - 1s 4ms/step - loss: 11.5960 - mse: 11.5705 - val_loss: 9.1141 - val_mse: 8.9802\n",
      "Epoch 3/50\n",
      "160/160 [==============================] - 1s 4ms/step - loss: 8.0848 - mse: 7.8813 - val_loss: 5.4543 - val_mse: 5.0180\n",
      "Epoch 4/50\n",
      "160/160 [==============================] - 1s 4ms/step - loss: 4.8042 - mse: 4.2919 - val_loss: 3.8542 - val_mse: 3.1395\n",
      "Epoch 5/50\n",
      "160/160 [==============================] - 1s 4ms/step - loss: 3.5211 - mse: 2.7559 - val_loss: 3.3339 - val_mse: 2.4414\n",
      "Epoch 6/50\n",
      "160/160 [==============================] - 1s 4ms/step - loss: 3.0608 - mse: 2.1360 - val_loss: 3.0987 - val_mse: 2.0907\n",
      "Epoch 7/50\n",
      "160/160 [==============================] - 1s 4ms/step - loss: 2.8440 - mse: 1.8138 - val_loss: 2.9647 - val_mse: 1.8754\n",
      "Epoch 8/50\n",
      "160/160 [==============================] - 1s 3ms/step - loss: 2.7028 - mse: 1.5974 - val_loss: 2.8814 - val_mse: 1.7340\n",
      "Epoch 9/50\n",
      "160/160 [==============================] - 1s 4ms/step - loss: 2.6339 - mse: 1.4747 - val_loss: 2.8234 - val_mse: 1.6331\n",
      "Epoch 10/50\n",
      "160/160 [==============================] - 1s 4ms/step - loss: 2.5645 - mse: 1.3658 - val_loss: 2.7778 - val_mse: 1.5582\n",
      "Epoch 11/50\n",
      "160/160 [==============================] - 1s 3ms/step - loss: 2.5264 - mse: 1.3012 - val_loss: 2.7417 - val_mse: 1.5010\n",
      "Epoch 12/50\n",
      "160/160 [==============================] - 1s 4ms/step - loss: 2.4714 - mse: 1.2269 - val_loss: 2.7097 - val_mse: 1.4562\n",
      "Epoch 13/50\n",
      "160/160 [==============================] - 1s 4ms/step - loss: 2.4541 - mse: 1.1976 - val_loss: 2.6801 - val_mse: 1.4186\n",
      "Epoch 14/50\n",
      "160/160 [==============================] - 1s 3ms/step - loss: 2.4242 - mse: 1.1618 - val_loss: 2.6532 - val_mse: 1.3884\n",
      "Epoch 15/50\n",
      "160/160 [==============================] - 1s 4ms/step - loss: 2.4006 - mse: 1.1354 - val_loss: 2.6269 - val_mse: 1.3633\n",
      "Epoch 16/50\n",
      "160/160 [==============================] - 1s 3ms/step - loss: 2.3715 - mse: 1.1086 - val_loss: 2.6016 - val_mse: 1.3407\n",
      "Epoch 17/50\n",
      "160/160 [==============================] - 1s 4ms/step - loss: 2.3469 - mse: 1.0869 - val_loss: 2.5752 - val_mse: 1.3202\n",
      "Epoch 18/50\n",
      "160/160 [==============================] - 1s 3ms/step - loss: 2.3255 - mse: 1.0721 - val_loss: 2.5490 - val_mse: 1.3009\n",
      "Epoch 19/50\n",
      "160/160 [==============================] - 1s 4ms/step - loss: 2.3085 - mse: 1.0626 - val_loss: 2.5249 - val_mse: 1.2853\n",
      "Epoch 20/50\n",
      "160/160 [==============================] - 1s 4ms/step - loss: 2.2785 - mse: 1.0415 - val_loss: 2.4989 - val_mse: 1.2694\n",
      "Epoch 21/50\n",
      "160/160 [==============================] - 1s 4ms/step - loss: 2.2640 - mse: 1.0377 - val_loss: 2.4753 - val_mse: 1.2571\n",
      "Epoch 22/50\n",
      "160/160 [==============================] - 1s 4ms/step - loss: 2.2441 - mse: 1.0284 - val_loss: 2.4482 - val_mse: 1.2420\n",
      "Epoch 23/50\n",
      "160/160 [==============================] - 1s 4ms/step - loss: 2.2338 - mse: 1.0297 - val_loss: 2.4242 - val_mse: 1.2298\n",
      "Epoch 24/50\n",
      "160/160 [==============================] - 1s 4ms/step - loss: 2.2075 - mse: 1.0163 - val_loss: 2.3993 - val_mse: 1.2169\n",
      "Epoch 25/50\n",
      "160/160 [==============================] - 1s 3ms/step - loss: 2.1853 - mse: 1.0063 - val_loss: 2.3748 - val_mse: 1.2053\n",
      "Epoch 26/50\n",
      "160/160 [==============================] - 1s 3ms/step - loss: 2.1692 - mse: 1.0026 - val_loss: 2.3510 - val_mse: 1.1946\n",
      "Epoch 27/50\n",
      "160/160 [==============================] - 1s 4ms/step - loss: 2.1504 - mse: 0.9976 - val_loss: 2.3268 - val_mse: 1.1828\n",
      "Epoch 28/50\n",
      "160/160 [==============================] - 1s 4ms/step - loss: 2.1322 - mse: 0.9917 - val_loss: 2.3044 - val_mse: 1.1733\n",
      "Epoch 29/50\n",
      "160/160 [==============================] - 1s 4ms/step - loss: 2.1154 - mse: 0.9873 - val_loss: 2.2811 - val_mse: 1.1627\n",
      "Epoch 30/50\n",
      "160/160 [==============================] - 1s 3ms/step - loss: 2.0981 - mse: 0.9830 - val_loss: 2.2599 - val_mse: 1.1544\n",
      "Epoch 31/50\n",
      "160/160 [==============================] - 1s 4ms/step - loss: 2.0686 - mse: 0.9661 - val_loss: 2.2366 - val_mse: 1.1430\n",
      "Epoch 32/50\n",
      "160/160 [==============================] - 1s 4ms/step - loss: 2.0609 - mse: 0.9705 - val_loss: 2.2156 - val_mse: 1.1337\n",
      "Epoch 33/50\n",
      "160/160 [==============================] - 1s 4ms/step - loss: 2.0502 - mse: 0.9705 - val_loss: 2.1959 - val_mse: 1.1260\n",
      "Epoch 34/50\n",
      "160/160 [==============================] - 1s 4ms/step - loss: 2.0259 - mse: 0.9587 - val_loss: 2.1764 - val_mse: 1.1174\n",
      "Epoch 35/50\n",
      "160/160 [==============================] - 1s 4ms/step - loss: 2.0021 - mse: 0.9462 - val_loss: 2.1571 - val_mse: 1.1091\n",
      "Epoch 36/50\n",
      "160/160 [==============================] - 1s 3ms/step - loss: 1.9843 - mse: 0.9394 - val_loss: 2.1386 - val_mse: 1.1004\n",
      "Epoch 37/50\n",
      "160/160 [==============================] - 1s 4ms/step - loss: 1.9785 - mse: 0.9430 - val_loss: 2.1203 - val_mse: 1.0925\n",
      "Epoch 38/50\n",
      "160/160 [==============================] - 1s 4ms/step - loss: 1.9695 - mse: 0.9439 - val_loss: 2.1031 - val_mse: 1.0847\n",
      "Epoch 39/50\n",
      "160/160 [==============================] - 1s 4ms/step - loss: 1.9502 - mse: 0.9337 - val_loss: 2.0868 - val_mse: 1.0778\n",
      "Epoch 40/50\n",
      "160/160 [==============================] - 1s 4ms/step - loss: 1.9404 - mse: 0.9333 - val_loss: 2.0715 - val_mse: 1.0706\n",
      "Epoch 41/50\n",
      "160/160 [==============================] - 1s 3ms/step - loss: 1.9261 - mse: 0.9265 - val_loss: 2.0568 - val_mse: 1.0638\n",
      "Epoch 42/50\n",
      "160/160 [==============================] - 1s 4ms/step - loss: 1.9061 - mse: 0.9150 - val_loss: 2.0424 - val_mse: 1.0564\n",
      "Epoch 43/50\n",
      "160/160 [==============================] - 1s 4ms/step - loss: 1.8956 - mse: 0.9111 - val_loss: 2.0296 - val_mse: 1.0509\n",
      "Epoch 44/50\n",
      "160/160 [==============================] - 1s 4ms/step - loss: 1.8852 - mse: 0.9079 - val_loss: 2.0163 - val_mse: 1.0435\n",
      "Epoch 45/50\n",
      "160/160 [==============================] - 1s 3ms/step - loss: 1.8664 - mse: 0.8951 - val_loss: 2.0044 - val_mse: 1.0375\n",
      "Epoch 46/50\n",
      "160/160 [==============================] - 1s 4ms/step - loss: 1.8684 - mse: 0.9022 - val_loss: 1.9930 - val_mse: 1.0317\n",
      "Epoch 47/50\n",
      "160/160 [==============================] - 1s 3ms/step - loss: 1.8524 - mse: 0.8924 - val_loss: 1.9824 - val_mse: 1.0261\n",
      "Epoch 48/50\n",
      "160/160 [==============================] - 1s 4ms/step - loss: 1.8402 - mse: 0.8844 - val_loss: 1.9719 - val_mse: 1.0206\n",
      "Epoch 49/50\n",
      "160/160 [==============================] - 1s 3ms/step - loss: 1.8380 - mse: 0.8868 - val_loss: 1.9632 - val_mse: 1.0156\n",
      "Epoch 50/50\n",
      "160/160 [==============================] - 1s 4ms/step - loss: 1.8230 - mse: 0.8765 - val_loss: 1.9542 - val_mse: 1.0111\n",
      "Epoch 1/50\n",
      "160/160 [==============================] - 2s 5ms/step - loss: 13.0629 - mse: 13.0591 - val_loss: 11.8799 - val_mse: 11.8757\n",
      "Epoch 2/50\n",
      "160/160 [==============================] - 1s 4ms/step - loss: 11.4748 - mse: 11.4659 - val_loss: 8.8625 - val_mse: 8.8236\n",
      "Epoch 3/50\n",
      "160/160 [==============================] - 1s 4ms/step - loss: 7.8006 - mse: 7.7429 - val_loss: 4.9617 - val_mse: 4.8404\n",
      "Epoch 4/50\n",
      "160/160 [==============================] - 1s 4ms/step - loss: 4.2493 - mse: 4.1063 - val_loss: 3.0979 - val_mse: 2.8951\n",
      "Epoch 5/50\n",
      "160/160 [==============================] - 1s 4ms/step - loss: 2.7043 - mse: 2.4856 - val_loss: 2.4427 - val_mse: 2.1819\n",
      "Epoch 6/50\n",
      "160/160 [==============================] - 1s 4ms/step - loss: 2.1085 - mse: 1.8364 - val_loss: 2.1326 - val_mse: 1.8298\n",
      "Epoch 7/50\n",
      "160/160 [==============================] - 1s 4ms/step - loss: 1.8254 - mse: 1.5137 - val_loss: 1.9523 - val_mse: 1.6164\n",
      "Epoch 8/50\n",
      "160/160 [==============================] - 1s 4ms/step - loss: 1.6462 - mse: 1.3031 - val_loss: 1.8392 - val_mse: 1.4763\n",
      "Epoch 9/50\n",
      "160/160 [==============================] - 1s 4ms/step - loss: 1.5159 - mse: 1.1472 - val_loss: 1.7636 - val_mse: 1.3779\n",
      "Epoch 10/50\n",
      "160/160 [==============================] - 1s 4ms/step - loss: 1.4354 - mse: 1.0449 - val_loss: 1.7122 - val_mse: 1.3077\n",
      "Epoch 11/50\n",
      "160/160 [==============================] - 1s 4ms/step - loss: 1.3876 - mse: 0.9788 - val_loss: 1.6736 - val_mse: 1.2529\n",
      "Epoch 12/50\n",
      "160/160 [==============================] - 1s 4ms/step - loss: 1.3370 - mse: 0.9127 - val_loss: 1.6467 - val_mse: 1.2129\n",
      "Epoch 13/50\n",
      "160/160 [==============================] - 1s 4ms/step - loss: 1.3087 - mse: 0.8718 - val_loss: 1.6256 - val_mse: 1.1804\n",
      "Epoch 14/50\n",
      "160/160 [==============================] - 1s 4ms/step - loss: 1.2817 - mse: 0.8339 - val_loss: 1.6098 - val_mse: 1.1552\n",
      "Epoch 15/50\n",
      "160/160 [==============================] - 1s 4ms/step - loss: 1.2629 - mse: 0.8062 - val_loss: 1.5957 - val_mse: 1.1333\n",
      "Epoch 16/50\n",
      "160/160 [==============================] - 1s 4ms/step - loss: 1.2396 - mse: 0.7756 - val_loss: 1.5859 - val_mse: 1.1169\n",
      "Epoch 17/50\n",
      "160/160 [==============================] - 1s 4ms/step - loss: 1.2287 - mse: 0.7583 - val_loss: 1.5766 - val_mse: 1.1024\n",
      "Epoch 18/50\n",
      "160/160 [==============================] - 1s 4ms/step - loss: 1.2146 - mse: 0.7392 - val_loss: 1.5695 - val_mse: 1.0913\n",
      "Epoch 19/50\n",
      "160/160 [==============================] - 1s 4ms/step - loss: 1.2047 - mse: 0.7256 - val_loss: 1.5620 - val_mse: 1.0801\n",
      "Epoch 20/50\n",
      "160/160 [==============================] - 1s 4ms/step - loss: 1.2014 - mse: 0.7188 - val_loss: 1.5541 - val_mse: 1.0699\n",
      "Epoch 21/50\n",
      "160/160 [==============================] - 1s 4ms/step - loss: 1.1910 - mse: 0.7063 - val_loss: 1.5479 - val_mse: 1.0618\n",
      "Epoch 22/50\n",
      "160/160 [==============================] - 1s 4ms/step - loss: 1.1741 - mse: 0.6877 - val_loss: 1.5422 - val_mse: 1.0550\n",
      "Epoch 23/50\n",
      "160/160 [==============================] - 1s 4ms/step - loss: 1.1704 - mse: 0.6829 - val_loss: 1.5367 - val_mse: 1.0489\n",
      "Epoch 24/50\n",
      "160/160 [==============================] - 1s 4ms/step - loss: 1.1689 - mse: 0.6809 - val_loss: 1.5299 - val_mse: 1.0416\n",
      "Epoch 25/50\n",
      "160/160 [==============================] - 1s 4ms/step - loss: 1.1585 - mse: 0.6702 - val_loss: 1.5244 - val_mse: 1.0363\n",
      "Epoch 26/50\n",
      "160/160 [==============================] - 1s 4ms/step - loss: 1.1493 - mse: 0.6614 - val_loss: 1.5185 - val_mse: 1.0309\n",
      "Epoch 27/50\n",
      "160/160 [==============================] - 1s 4ms/step - loss: 1.1403 - mse: 0.6531 - val_loss: 1.5126 - val_mse: 1.0258\n",
      "Epoch 28/50\n",
      "160/160 [==============================] - 1s 4ms/step - loss: 1.1354 - mse: 0.6487 - val_loss: 1.5075 - val_mse: 1.0217\n",
      "Epoch 29/50\n",
      "160/160 [==============================] - 1s 4ms/step - loss: 1.1370 - mse: 0.6515 - val_loss: 1.5025 - val_mse: 1.0177\n",
      "Epoch 30/50\n",
      "160/160 [==============================] - 1s 4ms/step - loss: 1.1181 - mse: 0.6335 - val_loss: 1.4958 - val_mse: 1.0128\n",
      "Epoch 31/50\n",
      "160/160 [==============================] - 1s 4ms/step - loss: 1.1158 - mse: 0.6333 - val_loss: 1.4920 - val_mse: 1.0103\n",
      "Epoch 32/50\n",
      "160/160 [==============================] - 1s 4ms/step - loss: 1.1154 - mse: 0.6341 - val_loss: 1.4851 - val_mse: 1.0049\n",
      "Epoch 33/50\n",
      "160/160 [==============================] - 1s 4ms/step - loss: 1.1037 - mse: 0.6240 - val_loss: 1.4796 - val_mse: 1.0012\n",
      "Epoch 34/50\n",
      "160/160 [==============================] - 1s 4ms/step - loss: 1.1015 - mse: 0.6237 - val_loss: 1.4750 - val_mse: 0.9983\n",
      "Epoch 35/50\n",
      "160/160 [==============================] - 1s 4ms/step - loss: 1.0895 - mse: 0.6133 - val_loss: 1.4690 - val_mse: 0.9941\n",
      "Epoch 36/50\n",
      "160/160 [==============================] - 1s 4ms/step - loss: 1.0936 - mse: 0.6192 - val_loss: 1.4641 - val_mse: 0.9909\n",
      "Epoch 37/50\n",
      "160/160 [==============================] - 1s 4ms/step - loss: 1.0865 - mse: 0.6138 - val_loss: 1.4579 - val_mse: 0.9866\n",
      "Epoch 38/50\n",
      "160/160 [==============================] - 1s 4ms/step - loss: 1.0772 - mse: 0.6063 - val_loss: 1.4533 - val_mse: 0.9840\n",
      "Epoch 39/50\n",
      "160/160 [==============================] - 1s 4ms/step - loss: 1.0714 - mse: 0.6026 - val_loss: 1.4474 - val_mse: 0.9799\n",
      "Epoch 40/50\n",
      "160/160 [==============================] - 1s 4ms/step - loss: 1.0669 - mse: 0.6000 - val_loss: 1.4422 - val_mse: 0.9761\n",
      "Epoch 41/50\n",
      "160/160 [==============================] - 1s 4ms/step - loss: 1.0542 - mse: 0.5887 - val_loss: 1.4372 - val_mse: 0.9730\n",
      "Epoch 42/50\n",
      "160/160 [==============================] - 1s 4ms/step - loss: 1.0473 - mse: 0.5838 - val_loss: 1.4327 - val_mse: 0.9702\n",
      "Epoch 43/50\n",
      "160/160 [==============================] - 1s 4ms/step - loss: 1.0405 - mse: 0.5785 - val_loss: 1.4282 - val_mse: 0.9672\n",
      "Epoch 44/50\n",
      "160/160 [==============================] - 1s 4ms/step - loss: 1.0406 - mse: 0.5801 - val_loss: 1.4237 - val_mse: 0.9645\n",
      "Epoch 45/50\n",
      "160/160 [==============================] - 1s 4ms/step - loss: 1.0279 - mse: 0.5691 - val_loss: 1.4192 - val_mse: 0.9614\n",
      "Epoch 46/50\n",
      "160/160 [==============================] - 1s 4ms/step - loss: 1.0234 - mse: 0.5661 - val_loss: 1.4151 - val_mse: 0.9589\n",
      "Epoch 47/50\n",
      "160/160 [==============================] - 1s 4ms/step - loss: 1.0144 - mse: 0.5587 - val_loss: 1.4106 - val_mse: 0.9556\n",
      "Epoch 48/50\n",
      "160/160 [==============================] - 1s 4ms/step - loss: 1.0122 - mse: 0.5576 - val_loss: 1.4070 - val_mse: 0.9533\n",
      "Epoch 49/50\n",
      "160/160 [==============================] - 1s 4ms/step - loss: 1.0049 - mse: 0.5515 - val_loss: 1.4037 - val_mse: 0.9511\n",
      "Epoch 50/50\n",
      "160/160 [==============================] - 1s 4ms/step - loss: 0.9945 - mse: 0.5423 - val_loss: 1.3996 - val_mse: 0.9484\n",
      "Epoch 1/50\n",
      "160/160 [==============================] - 2s 5ms/step - loss: 13.0342 - mse: 13.0325 - val_loss: 11.9405 - val_mse: 11.9388\n",
      "Epoch 2/50\n",
      "160/160 [==============================] - 1s 3ms/step - loss: 11.6391 - mse: 11.6362 - val_loss: 9.4186 - val_mse: 9.4065\n",
      "Epoch 3/50\n",
      "160/160 [==============================] - 1s 3ms/step - loss: 8.3860 - mse: 8.3670 - val_loss: 5.3022 - val_mse: 5.2582\n",
      "Epoch 4/50\n",
      "160/160 [==============================] - 1s 4ms/step - loss: 4.4818 - mse: 4.4286 - val_loss: 3.0709 - val_mse: 2.9916\n",
      "Epoch 5/50\n",
      "160/160 [==============================] - 1s 4ms/step - loss: 2.6312 - mse: 2.5448 - val_loss: 2.2877 - val_mse: 2.1824\n",
      "Epoch 6/50\n",
      "160/160 [==============================] - 1s 4ms/step - loss: 1.9528 - mse: 1.8424 - val_loss: 1.9255 - val_mse: 1.8011\n",
      "Epoch 7/50\n",
      "160/160 [==============================] - 1s 4ms/step - loss: 1.6044 - mse: 1.4760 - val_loss: 1.7165 - val_mse: 1.5767\n",
      "Epoch 8/50\n",
      "160/160 [==============================] - 1s 4ms/step - loss: 1.4072 - mse: 1.2640 - val_loss: 1.5857 - val_mse: 1.4329\n",
      "Epoch 9/50\n",
      "160/160 [==============================] - 1s 4ms/step - loss: 1.2492 - mse: 1.0935 - val_loss: 1.4973 - val_mse: 1.3334\n",
      "Epoch 10/50\n",
      "160/160 [==============================] - 1s 3ms/step - loss: 1.1535 - mse: 0.9871 - val_loss: 1.4369 - val_mse: 1.2633\n",
      "Epoch 11/50\n",
      "160/160 [==============================] - 1s 3ms/step - loss: 1.0892 - mse: 0.9134 - val_loss: 1.3930 - val_mse: 1.2110\n",
      "Epoch 12/50\n",
      "160/160 [==============================] - 1s 4ms/step - loss: 1.0413 - mse: 0.8573 - val_loss: 1.3612 - val_mse: 1.1719\n",
      "Epoch 13/50\n",
      "160/160 [==============================] - 1s 4ms/step - loss: 1.0042 - mse: 0.8132 - val_loss: 1.3377 - val_mse: 1.1420\n",
      "Epoch 14/50\n",
      "160/160 [==============================] - 1s 4ms/step - loss: 0.9715 - mse: 0.7742 - val_loss: 1.3198 - val_mse: 1.1183\n",
      "Epoch 15/50\n",
      "160/160 [==============================] - 1s 4ms/step - loss: 0.9554 - mse: 0.7526 - val_loss: 1.3069 - val_mse: 1.1004\n",
      "Epoch 16/50\n",
      "160/160 [==============================] - 1s 4ms/step - loss: 0.9271 - mse: 0.7195 - val_loss: 1.2972 - val_mse: 1.0863\n",
      "Epoch 17/50\n",
      "160/160 [==============================] - 1s 3ms/step - loss: 0.9142 - mse: 0.7023 - val_loss: 1.2895 - val_mse: 1.0748\n",
      "Epoch 18/50\n",
      "160/160 [==============================] - 1s 4ms/step - loss: 0.8940 - mse: 0.6784 - val_loss: 1.2830 - val_mse: 1.0649\n",
      "Epoch 19/50\n",
      "160/160 [==============================] - 1s 4ms/step - loss: 0.8883 - mse: 0.6694 - val_loss: 1.2779 - val_mse: 1.0569\n",
      "Epoch 20/50\n",
      "160/160 [==============================] - 1s 4ms/step - loss: 0.8808 - mse: 0.6591 - val_loss: 1.2746 - val_mse: 1.0509\n",
      "Epoch 21/50\n",
      "160/160 [==============================] - 1s 4ms/step - loss: 0.8642 - mse: 0.6399 - val_loss: 1.2707 - val_mse: 1.0449\n",
      "Epoch 22/50\n",
      "160/160 [==============================] - 1s 4ms/step - loss: 0.8584 - mse: 0.6320 - val_loss: 1.2672 - val_mse: 1.0394\n",
      "Epoch 23/50\n",
      "160/160 [==============================] - 1s 4ms/step - loss: 0.8503 - mse: 0.6222 - val_loss: 1.2655 - val_mse: 1.0361\n",
      "Epoch 24/50\n",
      "160/160 [==============================] - 1s 4ms/step - loss: 0.8440 - mse: 0.6143 - val_loss: 1.2636 - val_mse: 1.0328\n",
      "Epoch 25/50\n",
      "160/160 [==============================] - 1s 4ms/step - loss: 0.8392 - mse: 0.6082 - val_loss: 1.2618 - val_mse: 1.0298\n",
      "Epoch 26/50\n",
      "160/160 [==============================] - 1s 4ms/step - loss: 0.8335 - mse: 0.6012 - val_loss: 1.2605 - val_mse: 1.0276\n",
      "Epoch 27/50\n",
      "160/160 [==============================] - 1s 4ms/step - loss: 0.8317 - mse: 0.5986 - val_loss: 1.2590 - val_mse: 1.0253\n",
      "Epoch 28/50\n",
      "160/160 [==============================] - 1s 4ms/step - loss: 0.8208 - mse: 0.5871 - val_loss: 1.2579 - val_mse: 1.0236\n",
      "Epoch 29/50\n",
      "160/160 [==============================] - 1s 4ms/step - loss: 0.8195 - mse: 0.5851 - val_loss: 1.2563 - val_mse: 1.0215\n",
      "Epoch 30/50\n",
      "160/160 [==============================] - 1s 4ms/step - loss: 0.8158 - mse: 0.5810 - val_loss: 1.2542 - val_mse: 1.0192\n",
      "Epoch 31/50\n",
      "160/160 [==============================] - 1s 3ms/step - loss: 0.8053 - mse: 0.5702 - val_loss: 1.2523 - val_mse: 1.0171\n",
      "Epoch 32/50\n",
      "160/160 [==============================] - 1s 3ms/step - loss: 0.8031 - mse: 0.5679 - val_loss: 1.2518 - val_mse: 1.0163\n",
      "Epoch 33/50\n",
      "160/160 [==============================] - 1s 3ms/step - loss: 0.7949 - mse: 0.5593 - val_loss: 1.2503 - val_mse: 1.0147\n",
      "Epoch 34/50\n",
      "160/160 [==============================] - 1s 4ms/step - loss: 0.7846 - mse: 0.5491 - val_loss: 1.2483 - val_mse: 1.0127\n",
      "Epoch 35/50\n",
      "160/160 [==============================] - 1s 4ms/step - loss: 0.7829 - mse: 0.5473 - val_loss: 1.2475 - val_mse: 1.0121\n",
      "Epoch 36/50\n",
      "160/160 [==============================] - 1s 4ms/step - loss: 0.7754 - mse: 0.5400 - val_loss: 1.2455 - val_mse: 1.0101\n",
      "Epoch 37/50\n",
      "160/160 [==============================] - 1s 4ms/step - loss: 0.7680 - mse: 0.5327 - val_loss: 1.2445 - val_mse: 1.0091\n",
      "Epoch 38/50\n",
      "160/160 [==============================] - 1s 3ms/step - loss: 0.7656 - mse: 0.5304 - val_loss: 1.2428 - val_mse: 1.0076\n",
      "Epoch 39/50\n",
      "160/160 [==============================] - 1s 3ms/step - loss: 0.7553 - mse: 0.5202 - val_loss: 1.2410 - val_mse: 1.0059\n",
      "Epoch 40/50\n",
      "160/160 [==============================] - 1s 4ms/step - loss: 0.7450 - mse: 0.5100 - val_loss: 1.2396 - val_mse: 1.0046\n",
      "Epoch 41/50\n",
      "160/160 [==============================] - 1s 4ms/step - loss: 0.7437 - mse: 0.5088 - val_loss: 1.2396 - val_mse: 1.0049\n",
      "Epoch 42/50\n",
      "160/160 [==============================] - 1s 4ms/step - loss: 0.7384 - mse: 0.5039 - val_loss: 1.2381 - val_mse: 1.0036\n",
      "Epoch 43/50\n",
      "160/160 [==============================] - 1s 4ms/step - loss: 0.7298 - mse: 0.4954 - val_loss: 1.2375 - val_mse: 1.0030\n",
      "Epoch 44/50\n",
      "160/160 [==============================] - 1s 4ms/step - loss: 0.7201 - mse: 0.4857 - val_loss: 1.2373 - val_mse: 1.0031\n",
      "Epoch 45/50\n",
      "160/160 [==============================] - 1s 4ms/step - loss: 0.7114 - mse: 0.4774 - val_loss: 1.2354 - val_mse: 1.0015\n",
      "Epoch 46/50\n",
      "160/160 [==============================] - 1s 4ms/step - loss: 0.7120 - mse: 0.4783 - val_loss: 1.2358 - val_mse: 1.0018\n",
      "Epoch 47/50\n",
      "160/160 [==============================] - 1s 4ms/step - loss: 0.6971 - mse: 0.4632 - val_loss: 1.2358 - val_mse: 1.0019\n",
      "Epoch 48/50\n",
      "160/160 [==============================] - 1s 4ms/step - loss: 0.6918 - mse: 0.4581 - val_loss: 1.2355 - val_mse: 1.0018\n",
      "Epoch 49/50\n",
      "160/160 [==============================] - 1s 3ms/step - loss: 0.6871 - mse: 0.4535 - val_loss: 1.2349 - val_mse: 1.0015\n",
      "Epoch 50/50\n",
      "160/160 [==============================] - 1s 4ms/step - loss: 0.6805 - mse: 0.4471 - val_loss: 1.2346 - val_mse: 1.0010\n",
      "Epoch 1/50\n",
      "160/160 [==============================] - 2s 5ms/step - loss: 13.0920 - mse: 13.0683 - val_loss: 11.9047 - val_mse: 11.8879\n",
      "Epoch 2/50\n",
      "160/160 [==============================] - 1s 4ms/step - loss: 11.3982 - mse: 11.3560 - val_loss: 8.0856 - val_mse: 7.8664\n",
      "Epoch 3/50\n",
      "160/160 [==============================] - 1s 4ms/step - loss: 6.8413 - mse: 6.5122 - val_loss: 4.2971 - val_mse: 3.6355\n",
      "Epoch 4/50\n",
      "160/160 [==============================] - 1s 4ms/step - loss: 3.8213 - mse: 3.0754 - val_loss: 3.4149 - val_mse: 2.4705\n",
      "Epoch 5/50\n",
      "160/160 [==============================] - 1s 4ms/step - loss: 3.1110 - mse: 2.1219 - val_loss: 3.1337 - val_mse: 2.0321\n",
      "Epoch 6/50\n",
      "160/160 [==============================] - 1s 4ms/step - loss: 2.8369 - mse: 1.7087 - val_loss: 2.9994 - val_mse: 1.7986\n",
      "Epoch 7/50\n",
      "160/160 [==============================] - 1s 4ms/step - loss: 2.7234 - mse: 1.5040 - val_loss: 2.9239 - val_mse: 1.6587\n",
      "Epoch 8/50\n",
      "160/160 [==============================] - 1s 4ms/step - loss: 2.6441 - mse: 1.3667 - val_loss: 2.8727 - val_mse: 1.5652\n",
      "Epoch 9/50\n",
      "160/160 [==============================] - 1s 4ms/step - loss: 2.5757 - mse: 1.2609 - val_loss: 2.8348 - val_mse: 1.5011\n",
      "Epoch 10/50\n",
      "160/160 [==============================] - 1s 4ms/step - loss: 2.5341 - mse: 1.1962 - val_loss: 2.8005 - val_mse: 1.4517\n",
      "Epoch 11/50\n",
      "160/160 [==============================] - 1s 4ms/step - loss: 2.5154 - mse: 1.1641 - val_loss: 2.7716 - val_mse: 1.4169\n",
      "Epoch 12/50\n",
      "160/160 [==============================] - 1s 4ms/step - loss: 2.4772 - mse: 1.1210 - val_loss: 2.7431 - val_mse: 1.3870\n",
      "Epoch 13/50\n",
      "160/160 [==============================] - 1s 4ms/step - loss: 2.4390 - mse: 1.0840 - val_loss: 2.7138 - val_mse: 1.3611\n",
      "Epoch 14/50\n",
      "160/160 [==============================] - 1s 4ms/step - loss: 2.4178 - mse: 1.0659 - val_loss: 2.6866 - val_mse: 1.3403\n",
      "Epoch 15/50\n",
      "160/160 [==============================] - 1s 4ms/step - loss: 2.3964 - mse: 1.0515 - val_loss: 2.6599 - val_mse: 1.3226\n",
      "Epoch 16/50\n",
      "160/160 [==============================] - 1s 4ms/step - loss: 2.3696 - mse: 1.0338 - val_loss: 2.6333 - val_mse: 1.3059\n",
      "Epoch 17/50\n",
      "160/160 [==============================] - 1s 4ms/step - loss: 2.3376 - mse: 1.0128 - val_loss: 2.6064 - val_mse: 1.2908\n",
      "Epoch 18/50\n",
      "160/160 [==============================] - 1s 4ms/step - loss: 2.3089 - mse: 0.9970 - val_loss: 2.5789 - val_mse: 1.2750\n",
      "Epoch 19/50\n",
      "160/160 [==============================] - 1s 4ms/step - loss: 2.2827 - mse: 0.9833 - val_loss: 2.5532 - val_mse: 1.2629\n",
      "Epoch 20/50\n",
      "160/160 [==============================] - 1s 4ms/step - loss: 2.2600 - mse: 0.9730 - val_loss: 2.5264 - val_mse: 1.2497\n",
      "Epoch 21/50\n",
      "160/160 [==============================] - 1s 4ms/step - loss: 2.2436 - mse: 0.9706 - val_loss: 2.5020 - val_mse: 1.2389\n",
      "Epoch 22/50\n",
      "160/160 [==============================] - 1s 4ms/step - loss: 2.2209 - mse: 0.9611 - val_loss: 2.4747 - val_mse: 1.2263\n",
      "Epoch 23/50\n",
      "160/160 [==============================] - 1s 4ms/step - loss: 2.1973 - mse: 0.9520 - val_loss: 2.4514 - val_mse: 1.2169\n",
      "Epoch 24/50\n",
      "160/160 [==============================] - 1s 4ms/step - loss: 2.1750 - mse: 0.9441 - val_loss: 2.4249 - val_mse: 1.2040\n",
      "Epoch 25/50\n",
      "160/160 [==============================] - 1s 4ms/step - loss: 2.1555 - mse: 0.9380 - val_loss: 2.4017 - val_mse: 1.1958\n",
      "Epoch 26/50\n",
      "160/160 [==============================] - 1s 4ms/step - loss: 2.1244 - mse: 0.9216 - val_loss: 2.3766 - val_mse: 1.1845\n",
      "Epoch 27/50\n",
      "160/160 [==============================] - 1s 4ms/step - loss: 2.1147 - mse: 0.9257 - val_loss: 2.3522 - val_mse: 1.1730\n",
      "Epoch 28/50\n",
      "160/160 [==============================] - 1s 4ms/step - loss: 2.0947 - mse: 0.9185 - val_loss: 2.3290 - val_mse: 1.1621\n",
      "Epoch 29/50\n",
      "160/160 [==============================] - 1s 4ms/step - loss: 2.0817 - mse: 0.9181 - val_loss: 2.3071 - val_mse: 1.1528\n",
      "Epoch 30/50\n",
      "160/160 [==============================] - 1s 4ms/step - loss: 2.0533 - mse: 0.9025 - val_loss: 2.2834 - val_mse: 1.1418\n",
      "Epoch 31/50\n",
      "160/160 [==============================] - 1s 4ms/step - loss: 2.0362 - mse: 0.8981 - val_loss: 2.2625 - val_mse: 1.1320\n",
      "Epoch 32/50\n",
      "160/160 [==============================] - 1s 4ms/step - loss: 2.0261 - mse: 0.8978 - val_loss: 2.2419 - val_mse: 1.1238\n",
      "Epoch 33/50\n",
      "160/160 [==============================] - 1s 4ms/step - loss: 2.0031 - mse: 0.8875 - val_loss: 2.2214 - val_mse: 1.1145\n",
      "Epoch 34/50\n",
      "160/160 [==============================] - 1s 4ms/step - loss: 1.9933 - mse: 0.8883 - val_loss: 2.2011 - val_mse: 1.1046\n",
      "Epoch 35/50\n",
      "160/160 [==============================] - 1s 4ms/step - loss: 1.9685 - mse: 0.8737 - val_loss: 2.1830 - val_mse: 1.0968\n",
      "Epoch 36/50\n",
      "160/160 [==============================] - 1s 4ms/step - loss: 1.9486 - mse: 0.8651 - val_loss: 2.1643 - val_mse: 1.0872\n",
      "Epoch 37/50\n",
      "160/160 [==============================] - 1s 4ms/step - loss: 1.9421 - mse: 0.8671 - val_loss: 2.1471 - val_mse: 1.0794\n",
      "Epoch 38/50\n",
      "160/160 [==============================] - 1s 4ms/step - loss: 1.9209 - mse: 0.8549 - val_loss: 2.1309 - val_mse: 1.0712\n",
      "Epoch 39/50\n",
      "160/160 [==============================] - 1s 4ms/step - loss: 1.9077 - mse: 0.8507 - val_loss: 2.1161 - val_mse: 1.0643\n",
      "Epoch 40/50\n",
      "160/160 [==============================] - 1s 4ms/step - loss: 1.8993 - mse: 0.8491 - val_loss: 2.1000 - val_mse: 1.0567\n",
      "Epoch 41/50\n",
      "160/160 [==============================] - 1s 4ms/step - loss: 1.8920 - mse: 0.8511 - val_loss: 2.0848 - val_mse: 1.0484\n",
      "Epoch 42/50\n",
      "160/160 [==============================] - 1s 4ms/step - loss: 1.8705 - mse: 0.8358 - val_loss: 2.0718 - val_mse: 1.0424\n",
      "Epoch 43/50\n",
      "160/160 [==============================] - 1s 4ms/step - loss: 1.8647 - mse: 0.8366 - val_loss: 2.0582 - val_mse: 1.0353\n",
      "Epoch 44/50\n",
      "160/160 [==============================] - 1s 4ms/step - loss: 1.8541 - mse: 0.8331 - val_loss: 2.0458 - val_mse: 1.0290\n",
      "Epoch 45/50\n",
      "160/160 [==============================] - 1s 4ms/step - loss: 1.8396 - mse: 0.8244 - val_loss: 2.0344 - val_mse: 1.0237\n",
      "Epoch 46/50\n",
      "160/160 [==============================] - 1s 4ms/step - loss: 1.8330 - mse: 0.8239 - val_loss: 2.0232 - val_mse: 1.0177\n",
      "Epoch 47/50\n",
      "160/160 [==============================] - 1s 4ms/step - loss: 1.8216 - mse: 0.8172 - val_loss: 2.0126 - val_mse: 1.0124\n",
      "Epoch 48/50\n",
      "160/160 [==============================] - 1s 4ms/step - loss: 1.8131 - mse: 0.8138 - val_loss: 2.0021 - val_mse: 1.0067\n",
      "Epoch 49/50\n",
      "160/160 [==============================] - 1s 4ms/step - loss: 1.7992 - mse: 0.8044 - val_loss: 1.9930 - val_mse: 1.0022\n",
      "Epoch 50/50\n",
      "160/160 [==============================] - 1s 4ms/step - loss: 1.7952 - mse: 0.8061 - val_loss: 1.9829 - val_mse: 0.9962\n",
      "Epoch 1/50\n",
      "160/160 [==============================] - 2s 5ms/step - loss: 13.0885 - mse: 13.0812 - val_loss: 11.8982 - val_mse: 11.8916\n",
      "Epoch 2/50\n",
      "160/160 [==============================] - 1s 4ms/step - loss: 11.3306 - mse: 11.3173 - val_loss: 7.8712 - val_mse: 7.8100\n",
      "Epoch 3/50\n",
      "160/160 [==============================] - 1s 4ms/step - loss: 6.4685 - mse: 6.3762 - val_loss: 3.5407 - val_mse: 3.3515\n",
      "Epoch 4/50\n",
      "160/160 [==============================] - 1s 4ms/step - loss: 2.9655 - mse: 2.7503 - val_loss: 2.4561 - val_mse: 2.1768\n",
      "Epoch 5/50\n",
      "160/160 [==============================] - 1s 4ms/step - loss: 2.0845 - mse: 1.7894 - val_loss: 2.0822 - val_mse: 1.7452\n",
      "Epoch 6/50\n",
      "160/160 [==============================] - 1s 4ms/step - loss: 1.7483 - mse: 1.4000 - val_loss: 1.8991 - val_mse: 1.5198\n",
      "Epoch 7/50\n",
      "160/160 [==============================] - 1s 4ms/step - loss: 1.5695 - mse: 1.1816 - val_loss: 1.7982 - val_mse: 1.3868\n",
      "Epoch 8/50\n",
      "160/160 [==============================] - 1s 4ms/step - loss: 1.4549 - mse: 1.0367 - val_loss: 1.7374 - val_mse: 1.3008\n",
      "Epoch 9/50\n",
      "160/160 [==============================] - 1s 4ms/step - loss: 1.3839 - mse: 0.9421 - val_loss: 1.6995 - val_mse: 1.2431\n",
      "Epoch 10/50\n",
      "160/160 [==============================] - 1s 4ms/step - loss: 1.3408 - mse: 0.8803 - val_loss: 1.6741 - val_mse: 1.2023\n",
      "Epoch 11/50\n",
      "160/160 [==============================] - 1s 4ms/step - loss: 1.3181 - mse: 0.8428 - val_loss: 1.6545 - val_mse: 1.1703\n",
      "Epoch 12/50\n",
      "160/160 [==============================] - 1s 4ms/step - loss: 1.2851 - mse: 0.7987 - val_loss: 1.6403 - val_mse: 1.1469\n",
      "Epoch 13/50\n",
      "160/160 [==============================] - 1s 4ms/step - loss: 1.2644 - mse: 0.7688 - val_loss: 1.6281 - val_mse: 1.1277\n",
      "Epoch 14/50\n",
      "160/160 [==============================] - 1s 4ms/step - loss: 1.2498 - mse: 0.7480 - val_loss: 1.6211 - val_mse: 1.1150\n",
      "Epoch 15/50\n",
      "160/160 [==============================] - 1s 4ms/step - loss: 1.2352 - mse: 0.7281 - val_loss: 1.6119 - val_mse: 1.1017\n",
      "Epoch 16/50\n",
      "160/160 [==============================] - 1s 4ms/step - loss: 1.2230 - mse: 0.7123 - val_loss: 1.6052 - val_mse: 1.0923\n",
      "Epoch 17/50\n",
      "160/160 [==============================] - 1s 4ms/step - loss: 1.2079 - mse: 0.6946 - val_loss: 1.5980 - val_mse: 1.0831\n",
      "Epoch 18/50\n",
      "160/160 [==============================] - 1s 4ms/step - loss: 1.1940 - mse: 0.6788 - val_loss: 1.5921 - val_mse: 1.0764\n",
      "Epoch 19/50\n",
      "160/160 [==============================] - 1s 4ms/step - loss: 1.1943 - mse: 0.6783 - val_loss: 1.5856 - val_mse: 1.0689\n",
      "Epoch 20/50\n",
      "160/160 [==============================] - 1s 4ms/step - loss: 1.1687 - mse: 0.6521 - val_loss: 1.5796 - val_mse: 1.0632\n",
      "Epoch 21/50\n",
      "160/160 [==============================] - 1s 4ms/step - loss: 1.1663 - mse: 0.6500 - val_loss: 1.5732 - val_mse: 1.0571\n",
      "Epoch 22/50\n",
      "160/160 [==============================] - 1s 4ms/step - loss: 1.1512 - mse: 0.6354 - val_loss: 1.5682 - val_mse: 1.0526\n",
      "Epoch 23/50\n",
      "160/160 [==============================] - 1s 4ms/step - loss: 1.1369 - mse: 0.6218 - val_loss: 1.5635 - val_mse: 1.0486\n",
      "Epoch 24/50\n",
      "160/160 [==============================] - 1s 4ms/step - loss: 1.1275 - mse: 0.6128 - val_loss: 1.5566 - val_mse: 1.0429\n",
      "Epoch 25/50\n",
      "160/160 [==============================] - 1s 4ms/step - loss: 1.1181 - mse: 0.6048 - val_loss: 1.5530 - val_mse: 1.0402\n",
      "Epoch 26/50\n",
      "160/160 [==============================] - 1s 4ms/step - loss: 1.1028 - mse: 0.5903 - val_loss: 1.5455 - val_mse: 1.0338\n",
      "Epoch 27/50\n",
      "160/160 [==============================] - 1s 4ms/step - loss: 1.0944 - mse: 0.5829 - val_loss: 1.5408 - val_mse: 1.0301\n",
      "Epoch 28/50\n",
      "160/160 [==============================] - 1s 4ms/step - loss: 1.0809 - mse: 0.5704 - val_loss: 1.5361 - val_mse: 1.0264\n",
      "Epoch 29/50\n",
      "160/160 [==============================] - 1s 4ms/step - loss: 1.0735 - mse: 0.5641 - val_loss: 1.5308 - val_mse: 1.0220\n",
      "Epoch 30/50\n",
      "160/160 [==============================] - 1s 4ms/step - loss: 1.0562 - mse: 0.5480 - val_loss: 1.5273 - val_mse: 1.0193\n",
      "Epoch 31/50\n",
      "160/160 [==============================] - 1s 4ms/step - loss: 1.0477 - mse: 0.5401 - val_loss: 1.5234 - val_mse: 1.0163\n",
      "Epoch 32/50\n",
      "160/160 [==============================] - 1s 4ms/step - loss: 1.0336 - mse: 0.5270 - val_loss: 1.5193 - val_mse: 1.0127\n",
      "Epoch 33/50\n",
      "160/160 [==============================] - 1s 4ms/step - loss: 1.0167 - mse: 0.5105 - val_loss: 1.5156 - val_mse: 1.0099\n",
      "Epoch 34/50\n",
      "160/160 [==============================] - 1s 4ms/step - loss: 1.0078 - mse: 0.5025 - val_loss: 1.5122 - val_mse: 1.0073\n",
      "Epoch 35/50\n",
      "160/160 [==============================] - 1s 4ms/step - loss: 0.9977 - mse: 0.4930 - val_loss: 1.5092 - val_mse: 1.0046\n",
      "Epoch 36/50\n",
      "160/160 [==============================] - 1s 4ms/step - loss: 0.9938 - mse: 0.4895 - val_loss: 1.5060 - val_mse: 1.0014\n",
      "Epoch 37/50\n",
      "160/160 [==============================] - 1s 4ms/step - loss: 0.9819 - mse: 0.4778 - val_loss: 1.5035 - val_mse: 0.9993\n",
      "Epoch 38/50\n",
      "160/160 [==============================] - 1s 4ms/step - loss: 0.9661 - mse: 0.4623 - val_loss: 1.5023 - val_mse: 0.9985\n",
      "Epoch 39/50\n",
      "160/160 [==============================] - 1s 4ms/step - loss: 0.9570 - mse: 0.4536 - val_loss: 1.4978 - val_mse: 0.9944\n",
      "Epoch 40/50\n",
      "160/160 [==============================] - 1s 4ms/step - loss: 0.9472 - mse: 0.4442 - val_loss: 1.4946 - val_mse: 0.9912\n",
      "Epoch 41/50\n",
      "160/160 [==============================] - 1s 4ms/step - loss: 0.9401 - mse: 0.4367 - val_loss: 1.4931 - val_mse: 0.9901\n",
      "Epoch 42/50\n",
      "160/160 [==============================] - 1s 4ms/step - loss: 0.9264 - mse: 0.4238 - val_loss: 1.4898 - val_mse: 0.9866\n",
      "Epoch 43/50\n",
      "160/160 [==============================] - 1s 4ms/step - loss: 0.9194 - mse: 0.4164 - val_loss: 1.4892 - val_mse: 0.9861\n",
      "Epoch 44/50\n",
      "160/160 [==============================] - 1s 4ms/step - loss: 0.9102 - mse: 0.4074 - val_loss: 1.4873 - val_mse: 0.9843\n",
      "Epoch 45/50\n",
      "160/160 [==============================] - 1s 4ms/step - loss: 0.9020 - mse: 0.3993 - val_loss: 1.4866 - val_mse: 0.9835\n",
      "Epoch 46/50\n",
      "160/160 [==============================] - 1s 4ms/step - loss: 0.8898 - mse: 0.3870 - val_loss: 1.4838 - val_mse: 0.9807\n",
      "Epoch 47/50\n",
      "160/160 [==============================] - 1s 4ms/step - loss: 0.8830 - mse: 0.3802 - val_loss: 1.4808 - val_mse: 0.9776\n",
      "Epoch 48/50\n",
      "160/160 [==============================] - 1s 4ms/step - loss: 0.8745 - mse: 0.3716 - val_loss: 1.4791 - val_mse: 0.9756\n",
      "Epoch 49/50\n",
      "160/160 [==============================] - 1s 4ms/step - loss: 0.8674 - mse: 0.3643 - val_loss: 1.4784 - val_mse: 0.9748\n",
      "Epoch 50/50\n",
      "160/160 [==============================] - 1s 4ms/step - loss: 0.8608 - mse: 0.3577 - val_loss: 1.4764 - val_mse: 0.9728\n",
      "Epoch 1/50\n",
      "160/160 [==============================] - 2s 5ms/step - loss: 13.0539 - mse: 13.0506 - val_loss: 11.9317 - val_mse: 11.9288\n",
      "Epoch 2/50\n",
      "160/160 [==============================] - 1s 4ms/step - loss: 11.4831 - mse: 11.4779 - val_loss: 8.2734 - val_mse: 8.2512\n",
      "Epoch 3/50\n",
      "160/160 [==============================] - 1s 4ms/step - loss: 6.8012 - mse: 6.7667 - val_loss: 3.5466 - val_mse: 3.4720\n",
      "Epoch 4/50\n",
      "160/160 [==============================] - 1s 4ms/step - loss: 2.9200 - mse: 2.8340 - val_loss: 2.2772 - val_mse: 2.1628\n",
      "Epoch 5/50\n",
      "160/160 [==============================] - 1s 4ms/step - loss: 1.8878 - mse: 1.7662 - val_loss: 1.8462 - val_mse: 1.7057\n",
      "Epoch 6/50\n",
      "160/160 [==============================] - 1s 4ms/step - loss: 1.5049 - mse: 1.3591 - val_loss: 1.6370 - val_mse: 1.4767\n",
      "Epoch 7/50\n",
      "160/160 [==============================] - 1s 4ms/step - loss: 1.2921 - mse: 1.1277 - val_loss: 1.5204 - val_mse: 1.3442\n",
      "Epoch 8/50\n",
      "160/160 [==============================] - 1s 4ms/step - loss: 1.1766 - mse: 0.9971 - val_loss: 1.4478 - val_mse: 1.2589\n",
      "Epoch 9/50\n",
      "160/160 [==============================] - 1s 4ms/step - loss: 1.0886 - mse: 0.8968 - val_loss: 1.4018 - val_mse: 1.2023\n",
      "Epoch 10/50\n",
      "160/160 [==============================] - 1s 4ms/step - loss: 1.0242 - mse: 0.8225 - val_loss: 1.3715 - val_mse: 1.1631\n",
      "Epoch 11/50\n",
      "160/160 [==============================] - 1s 4ms/step - loss: 0.9844 - mse: 0.7739 - val_loss: 1.3493 - val_mse: 1.1335\n",
      "Epoch 12/50\n",
      "160/160 [==============================] - 1s 4ms/step - loss: 0.9588 - mse: 0.7415 - val_loss: 1.3336 - val_mse: 1.1114\n",
      "Epoch 13/50\n",
      "160/160 [==============================] - 1s 4ms/step - loss: 0.9310 - mse: 0.7074 - val_loss: 1.3249 - val_mse: 1.0974\n",
      "Epoch 14/50\n",
      "160/160 [==============================] - 1s 4ms/step - loss: 0.9094 - mse: 0.6809 - val_loss: 1.3152 - val_mse: 1.0832\n",
      "Epoch 15/50\n",
      "160/160 [==============================] - 1s 4ms/step - loss: 0.8939 - mse: 0.6610 - val_loss: 1.3105 - val_mse: 1.0746\n",
      "Epoch 16/50\n",
      "160/160 [==============================] - 1s 4ms/step - loss: 0.8801 - mse: 0.6435 - val_loss: 1.3034 - val_mse: 1.0644\n",
      "Epoch 17/50\n",
      "160/160 [==============================] - 1s 4ms/step - loss: 0.8610 - mse: 0.6214 - val_loss: 1.3007 - val_mse: 1.0591\n",
      "Epoch 18/50\n",
      "160/160 [==============================] - 1s 4ms/step - loss: 0.8474 - mse: 0.6052 - val_loss: 1.2979 - val_mse: 1.0541\n",
      "Epoch 19/50\n",
      "160/160 [==============================] - 1s 4ms/step - loss: 0.8298 - mse: 0.5856 - val_loss: 1.2950 - val_mse: 1.0494\n",
      "Epoch 20/50\n",
      "160/160 [==============================] - 1s 4ms/step - loss: 0.8250 - mse: 0.5790 - val_loss: 1.2936 - val_mse: 1.0464\n",
      "Epoch 21/50\n",
      "160/160 [==============================] - 1s 4ms/step - loss: 0.8130 - mse: 0.5655 - val_loss: 1.2908 - val_mse: 1.0425\n",
      "Epoch 22/50\n",
      "160/160 [==============================] - 1s 4ms/step - loss: 0.7950 - mse: 0.5465 - val_loss: 1.2890 - val_mse: 1.0396\n",
      "Epoch 23/50\n",
      "160/160 [==============================] - 1s 4ms/step - loss: 0.7933 - mse: 0.5437 - val_loss: 1.2888 - val_mse: 1.0385\n",
      "Epoch 24/50\n",
      "160/160 [==============================] - 1s 4ms/step - loss: 0.7791 - mse: 0.5286 - val_loss: 1.2881 - val_mse: 1.0372\n",
      "Epoch 25/50\n",
      "160/160 [==============================] - 1s 4ms/step - loss: 0.7635 - mse: 0.5125 - val_loss: 1.2872 - val_mse: 1.0357\n",
      "Epoch 26/50\n",
      "160/160 [==============================] - 1s 4ms/step - loss: 0.7457 - mse: 0.4941 - val_loss: 1.2880 - val_mse: 1.0361\n",
      "Epoch 27/50\n",
      "160/160 [==============================] - 1s 4ms/step - loss: 0.7358 - mse: 0.4839 - val_loss: 1.2867 - val_mse: 1.0343\n",
      "Epoch 28/50\n",
      "160/160 [==============================] - 1s 4ms/step - loss: 0.7236 - mse: 0.4711 - val_loss: 1.2872 - val_mse: 1.0346\n",
      "Epoch 29/50\n",
      "160/160 [==============================] - 1s 4ms/step - loss: 0.7160 - mse: 0.4634 - val_loss: 1.2881 - val_mse: 1.0352\n",
      "Epoch 30/50\n",
      "160/160 [==============================] - 1s 4ms/step - loss: 0.6969 - mse: 0.4440 - val_loss: 1.2887 - val_mse: 1.0355\n",
      "Epoch 31/50\n",
      "160/160 [==============================] - 1s 4ms/step - loss: 0.6930 - mse: 0.4397 - val_loss: 1.2898 - val_mse: 1.0363\n",
      "Epoch 32/50\n",
      "160/160 [==============================] - 1s 4ms/step - loss: 0.6738 - mse: 0.4204 - val_loss: 1.2910 - val_mse: 1.0372\n",
      "Epoch 00032: early stopping\n"
     ]
    }
   ],
   "source": [
    "lambdas_ = [0.0002, 0.00005, 0.00002]\n",
    "ks = [15,30]\n",
    "\n",
    "param_grid = dict(k=ks, lambda_=lambdas_)\n",
    "\n",
    "best_params, best_score, best_model = grid_search(train, param_grid, get_mf_bias_l2_reg_model,\n",
    "                                      nb_users, nb_movies, validation_size = 0.1)\n"
   ]
  },
  {
   "cell_type": "code",
   "execution_count": 44,
   "metadata": {},
   "outputs": [
    {
     "name": "stdout",
     "output_type": "stream",
     "text": [
      "Best hyper-parameters : (15, 5e-05)\n",
      "Best validation RMSE : 0.955210268497467\n"
     ]
    }
   ],
   "source": [
    "print('Best hyper-parameters : ' + str(best_params))\n",
    "print('Best validation RMSE : ' + str(best_score))"
   ]
  },
  {
   "cell_type": "code",
   "execution_count": 46,
   "metadata": {},
   "outputs": [
    {
     "name": "stdout",
     "output_type": "stream",
     "text": [
      "Best model test RMSE : 0.9651023561989621 \n"
     ]
    }
   ],
   "source": [
    "y_pred = best_model.predict(X_test)\n",
    "\n",
    "test_rmse = sqrt(mean_squared_error(y_test, y_pred))\n",
    "\n",
    "print(\"Best model test RMSE : %s \" % test_rmse)"
   ]
  },
  {
   "cell_type": "markdown",
   "metadata": {},
   "source": [
    "## Retrain on all the dataset with the best hyper-parameters"
   ]
  },
  {
   "cell_type": "markdown",
   "metadata": {},
   "source": [
    "Actually other hyper-parameters such as the ones of SGD should also be grid-searched, like the number of epochs or the batch size. But that would be a bit long for this course. \n",
    "\n",
    "Now we want to do the best prediction possible, so retrain below your model on the whole dataset, including the test set, with the best values obtained from your grid search to make new predictions with our optimal parameters :"
   ]
  },
  {
   "cell_type": "code",
   "execution_count": 20,
   "metadata": {
    "scrolled": true
   },
   "outputs": [
    {
     "name": "stdout",
     "output_type": "stream",
     "text": [
      "Epoch 1/500\n",
      "178/178 [==============================] - 2s 5ms/step - loss: 12.9790 - mse: 12.9753 - val_loss: 11.9113 - val_mse: 11.9069\n",
      "Epoch 2/500\n",
      "178/178 [==============================] - 1s 4ms/step - loss: 11.2192 - mse: 11.2090 - val_loss: 8.2752 - val_mse: 8.2267\n",
      "Epoch 3/500\n",
      "178/178 [==============================] - 1s 4ms/step - loss: 6.9852 - mse: 6.9134 - val_loss: 4.1584 - val_mse: 4.0111\n",
      "Epoch 4/500\n",
      "178/178 [==============================] - 1s 3ms/step - loss: 3.5007 - mse: 3.3305 - val_loss: 2.7161 - val_mse: 2.4859\n",
      "Epoch 5/500\n",
      "178/178 [==============================] - 1s 4ms/step - loss: 2.3765 - mse: 2.1314 - val_loss: 2.2269 - val_mse: 1.9422\n",
      "Epoch 6/500\n",
      "178/178 [==============================] - 1s 4ms/step - loss: 1.9288 - mse: 1.6335 - val_loss: 1.9832 - val_mse: 1.6585\n",
      "Epoch 7/500\n",
      "178/178 [==============================] - 1s 3ms/step - loss: 1.6929 - mse: 1.3599 - val_loss: 1.8421 - val_mse: 1.4859\n",
      "Epoch 8/500\n",
      "178/178 [==============================] - 1s 3ms/step - loss: 1.5634 - mse: 1.2005 - val_loss: 1.7530 - val_mse: 1.3713\n",
      "Epoch 9/500\n",
      "178/178 [==============================] - 1s 4ms/step - loss: 1.4698 - mse: 1.0827 - val_loss: 1.6927 - val_mse: 1.2901\n",
      "Epoch 10/500\n",
      "178/178 [==============================] - 1s 4ms/step - loss: 1.4008 - mse: 0.9938 - val_loss: 1.6516 - val_mse: 1.2320\n",
      "Epoch 11/500\n",
      "178/178 [==============================] - 1s 4ms/step - loss: 1.3683 - mse: 0.9448 - val_loss: 1.6211 - val_mse: 1.1873\n",
      "Epoch 12/500\n",
      "178/178 [==============================] - 1s 4ms/step - loss: 1.3354 - mse: 0.8985 - val_loss: 1.5986 - val_mse: 1.1533\n",
      "Epoch 13/500\n",
      "178/178 [==============================] - 1s 4ms/step - loss: 1.3064 - mse: 0.8585 - val_loss: 1.5794 - val_mse: 1.1247\n",
      "Epoch 14/500\n",
      "178/178 [==============================] - 1s 4ms/step - loss: 1.2823 - mse: 0.8255 - val_loss: 1.5640 - val_mse: 1.1017\n",
      "Epoch 15/500\n",
      "178/178 [==============================] - 1s 4ms/step - loss: 1.2689 - mse: 0.8050 - val_loss: 1.5516 - val_mse: 1.0833\n",
      "Epoch 16/500\n",
      "178/178 [==============================] - 1s 3ms/step - loss: 1.2633 - mse: 0.7937 - val_loss: 1.5419 - val_mse: 1.0688\n",
      "Epoch 17/500\n",
      "178/178 [==============================] - 1s 3ms/step - loss: 1.2559 - mse: 0.7819 - val_loss: 1.5317 - val_mse: 1.0549\n",
      "Epoch 18/500\n",
      "178/178 [==============================] - 1s 4ms/step - loss: 1.2375 - mse: 0.7599 - val_loss: 1.5234 - val_mse: 1.0440\n",
      "Epoch 19/500\n",
      "178/178 [==============================] - 1s 3ms/step - loss: 1.2290 - mse: 0.7492 - val_loss: 1.5145 - val_mse: 1.0330\n",
      "Epoch 20/500\n",
      "178/178 [==============================] - 1s 4ms/step - loss: 1.2248 - mse: 0.7431 - val_loss: 1.5067 - val_mse: 1.0244\n",
      "Epoch 21/500\n",
      "178/178 [==============================] - 1s 4ms/step - loss: 1.2108 - mse: 0.7284 - val_loss: 1.4985 - val_mse: 1.0156\n",
      "Epoch 22/500\n",
      "178/178 [==============================] - 1s 3ms/step - loss: 1.2090 - mse: 0.7262 - val_loss: 1.4919 - val_mse: 1.0089\n",
      "Epoch 23/500\n",
      "178/178 [==============================] - 1s 4ms/step - loss: 1.1980 - mse: 0.7152 - val_loss: 1.4850 - val_mse: 1.0026\n",
      "Epoch 24/500\n",
      "178/178 [==============================] - 1s 4ms/step - loss: 1.1891 - mse: 0.7070 - val_loss: 1.4770 - val_mse: 0.9954\n",
      "Epoch 25/500\n",
      "178/178 [==============================] - 1s 4ms/step - loss: 1.1856 - mse: 0.7041 - val_loss: 1.4692 - val_mse: 0.9891\n",
      "Epoch 26/500\n",
      "178/178 [==============================] - 1s 4ms/step - loss: 1.1768 - mse: 0.6970 - val_loss: 1.4634 - val_mse: 0.9840\n",
      "Epoch 27/500\n",
      "178/178 [==============================] - 1s 3ms/step - loss: 1.1715 - mse: 0.6928 - val_loss: 1.4566 - val_mse: 0.9788\n",
      "Epoch 28/500\n",
      "178/178 [==============================] - 1s 4ms/step - loss: 1.1651 - mse: 0.6877 - val_loss: 1.4489 - val_mse: 0.9729\n",
      "Epoch 29/500\n",
      "178/178 [==============================] - 1s 4ms/step - loss: 1.1562 - mse: 0.6808 - val_loss: 1.4423 - val_mse: 0.9680\n",
      "Epoch 30/500\n",
      "178/178 [==============================] - 1s 4ms/step - loss: 1.1402 - mse: 0.6666 - val_loss: 1.4358 - val_mse: 0.9632\n",
      "Epoch 31/500\n",
      "178/178 [==============================] - 1s 3ms/step - loss: 1.1439 - mse: 0.6721 - val_loss: 1.4291 - val_mse: 0.9585\n",
      "Epoch 32/500\n",
      "178/178 [==============================] - 1s 4ms/step - loss: 1.1377 - mse: 0.6679 - val_loss: 1.4226 - val_mse: 0.9541\n",
      "Epoch 33/500\n",
      "178/178 [==============================] - 1s 4ms/step - loss: 1.1190 - mse: 0.6510 - val_loss: 1.4170 - val_mse: 0.9507\n",
      "Epoch 34/500\n",
      "178/178 [==============================] - 1s 4ms/step - loss: 1.1143 - mse: 0.6485 - val_loss: 1.4103 - val_mse: 0.9461\n",
      "Epoch 35/500\n",
      "178/178 [==============================] - 1s 4ms/step - loss: 1.1050 - mse: 0.6413 - val_loss: 1.4049 - val_mse: 0.9426\n",
      "Epoch 36/500\n",
      "178/178 [==============================] - 1s 4ms/step - loss: 1.1004 - mse: 0.6387 - val_loss: 1.3990 - val_mse: 0.9384\n",
      "Epoch 37/500\n",
      "178/178 [==============================] - 1s 4ms/step - loss: 1.0861 - mse: 0.6261 - val_loss: 1.3929 - val_mse: 0.9343\n",
      "Epoch 38/500\n",
      "178/178 [==============================] - 1s 4ms/step - loss: 1.0822 - mse: 0.6243 - val_loss: 1.3879 - val_mse: 0.9312\n",
      "Epoch 39/500\n",
      "178/178 [==============================] - 1s 4ms/step - loss: 1.0729 - mse: 0.6167 - val_loss: 1.3831 - val_mse: 0.9280\n",
      "Epoch 40/500\n",
      "178/178 [==============================] - 1s 4ms/step - loss: 1.0582 - mse: 0.6038 - val_loss: 1.3787 - val_mse: 0.9251\n",
      "Epoch 41/500\n",
      "178/178 [==============================] - 1s 3ms/step - loss: 1.0530 - mse: 0.5999 - val_loss: 1.3733 - val_mse: 0.9212\n",
      "Epoch 42/500\n",
      "178/178 [==============================] - 1s 4ms/step - loss: 1.0433 - mse: 0.5918 - val_loss: 1.3695 - val_mse: 0.9187\n",
      "Epoch 43/500\n",
      "178/178 [==============================] - 1s 4ms/step - loss: 1.0283 - mse: 0.5778 - val_loss: 1.3647 - val_mse: 0.9152\n",
      "Epoch 44/500\n",
      "178/178 [==============================] - 1s 4ms/step - loss: 1.0255 - mse: 0.5765 - val_loss: 1.3618 - val_mse: 0.9133\n",
      "Epoch 45/500\n",
      "178/178 [==============================] - 1s 3ms/step - loss: 1.0164 - mse: 0.5684 - val_loss: 1.3571 - val_mse: 0.9098\n",
      "Epoch 46/500\n",
      "178/178 [==============================] - 1s 3ms/step - loss: 1.0085 - mse: 0.5613 - val_loss: 1.3529 - val_mse: 0.9065\n",
      "Epoch 47/500\n",
      "178/178 [==============================] - 1s 3ms/step - loss: 1.0039 - mse: 0.5581 - val_loss: 1.3501 - val_mse: 0.9043\n",
      "Epoch 48/500\n",
      "178/178 [==============================] - 1s 3ms/step - loss: 0.9856 - mse: 0.5401 - val_loss: 1.3456 - val_mse: 0.9004\n",
      "Epoch 49/500\n",
      "178/178 [==============================] - 1s 3ms/step - loss: 0.9785 - mse: 0.5336 - val_loss: 1.3423 - val_mse: 0.8978\n",
      "Epoch 50/500\n",
      "178/178 [==============================] - 1s 4ms/step - loss: 0.9764 - mse: 0.5319 - val_loss: 1.3399 - val_mse: 0.8958\n",
      "Epoch 51/500\n",
      "178/178 [==============================] - 1s 3ms/step - loss: 0.9630 - mse: 0.5193 - val_loss: 1.3374 - val_mse: 0.8938\n",
      "Epoch 52/500\n",
      "178/178 [==============================] - 1s 4ms/step - loss: 0.9585 - mse: 0.5151 - val_loss: 1.3352 - val_mse: 0.8919\n",
      "Epoch 53/500\n",
      "178/178 [==============================] - 1s 3ms/step - loss: 0.9462 - mse: 0.5032 - val_loss: 1.3334 - val_mse: 0.8903\n",
      "Epoch 54/500\n",
      "178/178 [==============================] - 1s 4ms/step - loss: 0.9380 - mse: 0.4951 - val_loss: 1.3311 - val_mse: 0.8884\n",
      "Epoch 55/500\n",
      "178/178 [==============================] - 1s 3ms/step - loss: 0.9372 - mse: 0.4945 - val_loss: 1.3286 - val_mse: 0.8859\n",
      "Epoch 56/500\n",
      "178/178 [==============================] - 1s 3ms/step - loss: 0.9272 - mse: 0.4848 - val_loss: 1.3281 - val_mse: 0.8857\n",
      "Epoch 57/500\n",
      "178/178 [==============================] - 1s 3ms/step - loss: 0.9232 - mse: 0.4807 - val_loss: 1.3260 - val_mse: 0.8837\n",
      "Epoch 58/500\n",
      "178/178 [==============================] - 1s 3ms/step - loss: 0.9134 - mse: 0.4712 - val_loss: 1.3247 - val_mse: 0.8825\n",
      "Epoch 59/500\n",
      "178/178 [==============================] - 1s 3ms/step - loss: 0.9143 - mse: 0.4723 - val_loss: 1.3237 - val_mse: 0.8815\n",
      "Epoch 60/500\n",
      "178/178 [==============================] - 1s 3ms/step - loss: 0.9000 - mse: 0.4576 - val_loss: 1.3228 - val_mse: 0.8806\n",
      "Epoch 61/500\n",
      "178/178 [==============================] - 1s 3ms/step - loss: 0.8964 - mse: 0.4544 - val_loss: 1.3218 - val_mse: 0.8794\n",
      "Epoch 62/500\n",
      "178/178 [==============================] - 1s 3ms/step - loss: 0.8901 - mse: 0.4479 - val_loss: 1.3204 - val_mse: 0.8782\n",
      "Epoch 63/500\n",
      "178/178 [==============================] - 1s 3ms/step - loss: 0.8891 - mse: 0.4468 - val_loss: 1.3199 - val_mse: 0.8774\n",
      "Epoch 64/500\n",
      "178/178 [==============================] - 1s 3ms/step - loss: 0.8780 - mse: 0.4356 - val_loss: 1.3191 - val_mse: 0.8764\n",
      "Epoch 65/500\n",
      "178/178 [==============================] - 1s 3ms/step - loss: 0.8756 - mse: 0.4330 - val_loss: 1.3192 - val_mse: 0.8767\n",
      "Epoch 66/500\n",
      "178/178 [==============================] - 1s 3ms/step - loss: 0.8734 - mse: 0.4309 - val_loss: 1.3175 - val_mse: 0.8749\n",
      "Epoch 67/500\n",
      "178/178 [==============================] - 1s 3ms/step - loss: 0.8702 - mse: 0.4276 - val_loss: 1.3178 - val_mse: 0.8749\n",
      "Epoch 68/500\n",
      "178/178 [==============================] - 1s 4ms/step - loss: 0.8629 - mse: 0.4200 - val_loss: 1.3172 - val_mse: 0.8742\n",
      "Epoch 69/500\n",
      "178/178 [==============================] - 1s 3ms/step - loss: 0.8557 - mse: 0.4129 - val_loss: 1.3172 - val_mse: 0.8740\n",
      "Epoch 70/500\n",
      "178/178 [==============================] - 1s 3ms/step - loss: 0.8526 - mse: 0.4095 - val_loss: 1.3165 - val_mse: 0.8732\n",
      "Epoch 71/500\n",
      "178/178 [==============================] - 1s 3ms/step - loss: 0.8512 - mse: 0.4081 - val_loss: 1.3163 - val_mse: 0.8729\n",
      "Epoch 72/500\n",
      "178/178 [==============================] - 1s 3ms/step - loss: 0.8426 - mse: 0.3995 - val_loss: 1.3162 - val_mse: 0.8728\n",
      "Epoch 73/500\n",
      "178/178 [==============================] - 1s 3ms/step - loss: 0.8419 - mse: 0.3986 - val_loss: 1.3164 - val_mse: 0.8729\n",
      "Epoch 74/500\n",
      "178/178 [==============================] - 1s 3ms/step - loss: 0.8410 - mse: 0.3976 - val_loss: 1.3157 - val_mse: 0.8720\n",
      "Epoch 75/500\n",
      "178/178 [==============================] - 1s 4ms/step - loss: 0.8306 - mse: 0.3872 - val_loss: 1.3160 - val_mse: 0.8722\n",
      "Epoch 76/500\n",
      "178/178 [==============================] - 1s 3ms/step - loss: 0.8272 - mse: 0.3835 - val_loss: 1.3158 - val_mse: 0.8719\n",
      "Epoch 77/500\n",
      "178/178 [==============================] - 1s 3ms/step - loss: 0.8305 - mse: 0.3868 - val_loss: 1.3152 - val_mse: 0.8711\n",
      "Epoch 78/500\n",
      "178/178 [==============================] - 1s 3ms/step - loss: 0.8288 - mse: 0.3850 - val_loss: 1.3155 - val_mse: 0.8714\n",
      "Epoch 79/500\n",
      "178/178 [==============================] - 1s 3ms/step - loss: 0.8195 - mse: 0.3755 - val_loss: 1.3155 - val_mse: 0.8714\n",
      "Epoch 80/500\n",
      "178/178 [==============================] - 1s 3ms/step - loss: 0.8200 - mse: 0.3761 - val_loss: 1.3151 - val_mse: 0.8709\n",
      "Epoch 81/500\n",
      "178/178 [==============================] - 1s 3ms/step - loss: 0.8184 - mse: 0.3743 - val_loss: 1.3156 - val_mse: 0.8712\n",
      "Epoch 82/500\n",
      "178/178 [==============================] - 1s 3ms/step - loss: 0.8158 - mse: 0.3715 - val_loss: 1.3160 - val_mse: 0.8716\n",
      "Epoch 83/500\n",
      "178/178 [==============================] - 1s 3ms/step - loss: 0.8114 - mse: 0.3672 - val_loss: 1.3159 - val_mse: 0.8717\n",
      "Epoch 84/500\n",
      "178/178 [==============================] - 1s 3ms/step - loss: 0.8065 - mse: 0.3623 - val_loss: 1.3166 - val_mse: 0.8722\n",
      "Epoch 85/500\n",
      "178/178 [==============================] - 1s 3ms/step - loss: 0.8059 - mse: 0.3617 - val_loss: 1.3165 - val_mse: 0.8720\n",
      "Epoch 86/500\n",
      "178/178 [==============================] - 1s 4ms/step - loss: 0.8004 - mse: 0.3560 - val_loss: 1.3165 - val_mse: 0.8719\n",
      "Epoch 87/500\n",
      "178/178 [==============================] - 1s 3ms/step - loss: 0.7984 - mse: 0.3540 - val_loss: 1.3166 - val_mse: 0.8720\n",
      "Epoch 88/500\n",
      "178/178 [==============================] - 1s 3ms/step - loss: 0.7967 - mse: 0.3522 - val_loss: 1.3162 - val_mse: 0.8716\n",
      "Epoch 89/500\n",
      "178/178 [==============================] - 1s 3ms/step - loss: 0.7917 - mse: 0.3473 - val_loss: 1.3164 - val_mse: 0.8717\n",
      "Epoch 90/500\n",
      "178/178 [==============================] - 1s 4ms/step - loss: 0.7949 - mse: 0.3504 - val_loss: 1.3164 - val_mse: 0.8717\n",
      "Epoch 00090: early stopping\n"
     ]
    },
    {
     "data": {
      "text/plain": [
       "<tensorflow.python.keras.callbacks.History at 0x7f5c201010a0>"
      ]
     },
     "execution_count": 20,
     "metadata": {},
     "output_type": "execute_result"
    }
   ],
   "source": [
    "from keras.callbacks import EarlyStopping\n",
    "\n",
    "X = [dataset[\"userId\"].to_numpy(), dataset[\"movieId\"].to_numpy()]\n",
    "y = dataset[\"rating\"].to_numpy()\n",
    "\n",
    "#TOFILL\n",
    "best_model=get_mf_bias_l2_reg_model(nb_users, nb_movies, k = 15, lambda_ = 5e-05)\n",
    "\n",
    "early_stopping = EarlyStopping(monitor='val_mse', patience=10, verbose=1)\n",
    "\n",
    "best_model.fit(X, y, epochs=500, batch_size=512, validation_split=0.1, callbacks=[early_stopping])"
   ]
  },
  {
   "cell_type": "code",
   "execution_count": 48,
   "metadata": {},
   "outputs": [
    {
     "name": "stdout",
     "output_type": "stream",
     "text": [
      "Best model test RMSE : 0.9327933772872936 \n"
     ]
    }
   ],
   "source": [
    "y_pred = best_model.predict(X_test)\n",
    "\n",
    "test_rmse = sqrt(mean_squared_error(y_test, y_pred))\n",
    "\n",
    "print(\"Best model test RMSE : %s \" % test_rmse)"
   ]
  },
  {
   "cell_type": "markdown",
   "metadata": {},
   "source": [
    "## Recommend the top-5 movies for the 10 first users"
   ]
  },
  {
   "cell_type": "markdown",
   "metadata": {},
   "source": [
    "With your retrained best model with optimal hyper parameters, compute the predictions for all the ratings that are not in the `dataset` for the 10 first users (indexes from 0 to 9). That means all the movies $i$ that these users $u \\in 0,\\ldots,9$ haven't rated, thus all the $u,i$ combinations that are not in the `dataset` dataframe rows.\n",
    "\n",
    "Order these predicted ratings for these users by decreasing order, and print out the 5 first ones, i.e. the ones that have the highest predicted ratings. Use the *movies.csv* file to print the real titles."
   ]
  },
  {
   "cell_type": "code",
   "execution_count": 37,
   "metadata": {
    "tags": []
   },
   "outputs": [],
   "source": [
    "user_id = 9\n",
    "\n",
    "unrated_movies_id = np.array(list(set(range(len(dataset.movieId.unique()))) - set(dataset[dataset['userId'] == user_id].movieId.values)))\n",
    "    \n",
    "user_id = np.full(len(unrated_movies_id), user_id)\n",
    "    \n",
    "y_pred = best_model.predict([user_id, unrated_movies_id])"
   ]
  },
  {
   "cell_type": "code",
   "execution_count": 102,
   "metadata": {
    "tags": []
   },
   "outputs": [
    {
     "data": {
      "text/plain": [
       "array([2378,  710,  258, 1781,   23])"
      ]
     },
     "execution_count": 102,
     "metadata": {},
     "output_type": "execute_result"
    }
   ],
   "source": [
    "list_y = y_pred.flatten().tolist()\n",
    "\n",
    "# y_pred.flatten().argsort()[\n",
    "\n",
    "np.argsort(y_pred.flatten())[-5:][::-1]"
   ]
  },
  {
   "cell_type": "code",
   "execution_count": 103,
   "metadata": {},
   "outputs": [
    {
     "name": "stdout",
     "output_type": "stream",
     "text": [
      "[2378  710  258 1781   23]\n",
      "[2518  726  268 1921   25]\n",
      "[4.4084635 4.1870985 4.1821394 4.156847  4.148259 ]\n"
     ]
    }
   ],
   "source": [
    "nb_movies = len(set(dataset['movieId']))\n",
    "rated_movies = set(dataset[ dataset['userId'] == 9]['movieId'])\n",
    "unrated_movies = set(range(nb_movies)) - rated_movies\n",
    "    \n",
    "#Building all unrated (user_id, movie_id) pairs\n",
    "user_id_array = np.full(len(unrated_movies), user_id)\n",
    "movies_array = np.array(list(unrated_movies))\n",
    "\n",
    "\n",
    "#And predicting rating for these pairs\n",
    "y_pred = best_model.predict([user_id_array, movies_array])\n",
    "\n",
    "    \n",
    "five_idxs = np.argsort(y_pred.flatten())[-5:][::-1]\n",
    "five_best_movie_ids = movies_array[five_best_idxs]\n",
    "five_best_ratings = y_pred[five_best_idxs].ravel()\n",
    "print(five_best_idxs)\n",
    "print(five_best_movie_ids)\n",
    "print(five_best_ratings)"
   ]
  },
  {
   "cell_type": "code",
   "execution_count": 104,
   "metadata": {},
   "outputs": [],
   "source": [
    "def get_top5_for_user(model, user_id, dataset):\n",
    "    \"\"\"\n",
    "    Returns a list of the 5 movies that have the highest ratings among the unrated movies\n",
    "    of user `user_id`, along with a list of their predicted ratings.\n",
    "    \n",
    "    Input :\n",
    "        model : keras.models.Model : A trained matrix factorization model\n",
    "        user_id : int : The user id to use\n",
    "        dataset : DataFrame : The whole dataset, useful to find the movies \n",
    "            the user `user_id` has already rated\n",
    "    \n",
    "    Output :\n",
    "        five_best_movie_ids : list : The five movie ids among unrated movies by user `user_id` \n",
    "            that have the highest predicted ratings, in order\n",
    "        five_best_ratings : list : The corresponding five ratings\n",
    "    \"\"\"\n",
    "    \n",
    "    #TOFILL\n",
    "    \n",
    "    unrated_movies_id = np.array(list(set(range(len(dataset.movieId.unique()))) - set(dataset[dataset['userId'] == user_id].movieId.values)))\n",
    "    \n",
    "    user_id = np.full(len(unrated_movies_id), user_id)\n",
    "    \n",
    "    y_pred = model.predict([user_id, unrated_movies_id])\n",
    "    \n",
    "    best_idxs = five_idxs = np.argsort(y_pred.flatten())[-5:][::-1]\n",
    "    best_movie_ids = unrated_movies_id[best_idxs]\n",
    "    best_ratings = y_pred[best_idxs].flatten()\n",
    "    \n",
    "    return five_best_movie_ids, five_best_ratings"
   ]
  },
  {
   "cell_type": "code",
   "execution_count": 105,
   "metadata": {
    "collapsed": true,
    "jupyter": {
     "outputs_hidden": true
    },
    "tags": []
   },
   "outputs": [
    {
     "name": "stdout",
     "output_type": "stream",
     "text": [
      "0\n",
      "Harry Potter and the Order of the Phoenix (2007)- Rating : 4.4084635\n",
      "Contact (1997)- Rating : 4.1870985\n",
      "Patton (1970)- Rating : 4.1821394\n",
      "Blind Side, The  (2009)- Rating : 4.156847\n",
      "Fugitive, The (1993)- Rating : 4.148259\n",
      "\n",
      "1\n",
      "Harry Potter and the Order of the Phoenix (2007)- Rating : 4.4084635\n",
      "Contact (1997)- Rating : 4.1870985\n",
      "Patton (1970)- Rating : 4.1821394\n",
      "Blind Side, The  (2009)- Rating : 4.156847\n",
      "Fugitive, The (1993)- Rating : 4.148259\n",
      "\n",
      "2\n",
      "Harry Potter and the Order of the Phoenix (2007)- Rating : 4.4084635\n",
      "Contact (1997)- Rating : 4.1870985\n",
      "Patton (1970)- Rating : 4.1821394\n",
      "Blind Side, The  (2009)- Rating : 4.156847\n",
      "Fugitive, The (1993)- Rating : 4.148259\n",
      "\n",
      "3\n",
      "Harry Potter and the Order of the Phoenix (2007)- Rating : 4.4084635\n",
      "Contact (1997)- Rating : 4.1870985\n",
      "Patton (1970)- Rating : 4.1821394\n",
      "Blind Side, The  (2009)- Rating : 4.156847\n",
      "Fugitive, The (1993)- Rating : 4.148259\n",
      "\n",
      "4\n",
      "Harry Potter and the Order of the Phoenix (2007)- Rating : 4.4084635\n",
      "Contact (1997)- Rating : 4.1870985\n",
      "Patton (1970)- Rating : 4.1821394\n",
      "Blind Side, The  (2009)- Rating : 4.156847\n",
      "Fugitive, The (1993)- Rating : 4.148259\n",
      "\n",
      "5\n",
      "Harry Potter and the Order of the Phoenix (2007)- Rating : 4.4084635\n",
      "Contact (1997)- Rating : 4.1870985\n",
      "Patton (1970)- Rating : 4.1821394\n",
      "Blind Side, The  (2009)- Rating : 4.156847\n",
      "Fugitive, The (1993)- Rating : 4.148259\n",
      "\n",
      "6\n",
      "Harry Potter and the Order of the Phoenix (2007)- Rating : 4.4084635\n",
      "Contact (1997)- Rating : 4.1870985\n",
      "Patton (1970)- Rating : 4.1821394\n",
      "Blind Side, The  (2009)- Rating : 4.156847\n",
      "Fugitive, The (1993)- Rating : 4.148259\n",
      "\n",
      "7\n",
      "Harry Potter and the Order of the Phoenix (2007)- Rating : 4.4084635\n",
      "Contact (1997)- Rating : 4.1870985\n",
      "Patton (1970)- Rating : 4.1821394\n",
      "Blind Side, The  (2009)- Rating : 4.156847\n",
      "Fugitive, The (1993)- Rating : 4.148259\n",
      "\n",
      "8\n",
      "Harry Potter and the Order of the Phoenix (2007)- Rating : 4.4084635\n",
      "Contact (1997)- Rating : 4.1870985\n",
      "Patton (1970)- Rating : 4.1821394\n",
      "Blind Side, The  (2009)- Rating : 4.156847\n",
      "Fugitive, The (1993)- Rating : 4.148259\n",
      "\n",
      "9\n",
      "Harry Potter and the Order of the Phoenix (2007)- Rating : 4.4084635\n",
      "Contact (1997)- Rating : 4.1870985\n",
      "Patton (1970)- Rating : 4.1821394\n",
      "Blind Side, The  (2009)- Rating : 4.156847\n",
      "Fugitive, The (1993)- Rating : 4.148259\n",
      "\n"
     ]
    }
   ],
   "source": [
    "#TOFILL\n",
    "\n",
    "movie_to_title = dict(zip(df_movies['movieId'], df_movies['title']))\n",
    "\n",
    "movie_ids_map_inv = {v: k for k, v in movie_ids_map.items()}\n",
    "\n",
    "for Id in range(10):\n",
    "    print(str(Id) + '')\n",
    "    five_best_movie_ids, five_best_ratings =  get_top5_for_user(best_model, Id, dataset)\n",
    "    for i in range(5):\n",
    "        print(movie_to_title[movie_ids_map_inv[five_best_movie_ids[i] ] ] + \n",
    "              '- Rating : ' + str(five_best_ratings[i]) )\n",
    "    print('')"
   ]
  },
  {
   "cell_type": "code",
   "execution_count": 143,
   "metadata": {},
   "outputs": [
    {
     "ename": "ValueError",
     "evalue": "All arguments should have the same length. The length of argument `hover_name` is 9724, whereas the length of  previously-processed arguments ['x', 'y'] is 610",
     "output_type": "error",
     "traceback": [
      "\u001b[0;31m---------------------------------------------------------------------------\u001b[0m",
      "\u001b[0;31mValueError\u001b[0m                                Traceback (most recent call last)",
      "Input \u001b[0;32mIn [143]\u001b[0m, in \u001b[0;36m<cell line: 32>\u001b[0;34m()\u001b[0m\n\u001b[1;32m     27\u001b[0m principal_components \u001b[38;5;241m=\u001b[39m pca\u001b[38;5;241m.\u001b[39mfit_transform(scaled_movie_embeddings)\n\u001b[1;32m     29\u001b[0m movie_titles_ordered \u001b[38;5;241m=\u001b[39m [movie_to_title[ movie_ids_map_inv[i]] \u001b[38;5;28;01mfor\u001b[39;00m i \u001b[38;5;129;01min\u001b[39;00m \u001b[38;5;28mrange\u001b[39m(nb_movies) ]\n\u001b[0;32m---> 32\u001b[0m \u001b[43mscatter_plot\u001b[49m\u001b[43m(\u001b[49m\u001b[43mprincipal_components\u001b[49m\u001b[43m,\u001b[49m\u001b[38;5;124;43m'\u001b[39;49m\u001b[38;5;124;43m2 components PCA from movie embeddings\u001b[39;49m\u001b[38;5;124;43m'\u001b[39;49m\u001b[43m,\u001b[49m\u001b[43m \u001b[49m\u001b[43mmovie_titles_ordered\u001b[49m\u001b[43m,\u001b[49m\u001b[43m \u001b[49m\u001b[43mdata_matrix\u001b[49m\u001b[38;5;241;43m.\u001b[39;49m\u001b[43mmean\u001b[49m\u001b[43m(\u001b[49m\u001b[43m)\u001b[49m\u001b[43m \u001b[49m\u001b[43m)\u001b[49m\n",
      "Input \u001b[0;32mIn [143]\u001b[0m, in \u001b[0;36mscatter_plot\u001b[0;34m(components, title, movie_titles, average_ratings)\u001b[0m\n\u001b[1;32m     10\u001b[0m labels \u001b[38;5;241m=\u001b[39m {\u001b[38;5;28mstr\u001b[39m(i): \u001b[38;5;124mf\u001b[39m\u001b[38;5;124m\"\u001b[39m\u001b[38;5;124mPC \u001b[39m\u001b[38;5;132;01m{\u001b[39;00mi\u001b[38;5;241m+\u001b[39m\u001b[38;5;241m1\u001b[39m\u001b[38;5;132;01m}\u001b[39;00m\u001b[38;5;124m\"\u001b[39m \u001b[38;5;28;01mfor\u001b[39;00m i \u001b[38;5;129;01min\u001b[39;00m \u001b[38;5;28mrange\u001b[39m(\u001b[38;5;241m2\u001b[39m)}\n\u001b[1;32m     11\u001b[0m labels[\u001b[38;5;124m'\u001b[39m\u001b[38;5;124mcolor\u001b[39m\u001b[38;5;124m'\u001b[39m] \u001b[38;5;241m=\u001b[39m \u001b[38;5;124m'\u001b[39m\u001b[38;5;124mRatings\u001b[39m\u001b[38;5;124m'\u001b[39m\n\u001b[0;32m---> 12\u001b[0m fig \u001b[38;5;241m=\u001b[39m \u001b[43mpx\u001b[49m\u001b[38;5;241;43m.\u001b[39;49m\u001b[43mscatter\u001b[49m\u001b[43m(\u001b[49m\n\u001b[1;32m     13\u001b[0m \u001b[43m    \u001b[49m\u001b[43mx\u001b[49m\u001b[38;5;241;43m=\u001b[39;49m\u001b[43mcomponents\u001b[49m\u001b[38;5;241;43m.\u001b[39;49m\u001b[43mT\u001b[49m\u001b[43m[\u001b[49m\u001b[38;5;241;43m0\u001b[39;49m\u001b[43m]\u001b[49m\u001b[43m,\u001b[49m\u001b[43my\u001b[49m\u001b[38;5;241;43m=\u001b[39;49m\u001b[43mcomponents\u001b[49m\u001b[38;5;241;43m.\u001b[39;49m\u001b[43mT\u001b[49m\u001b[43m[\u001b[49m\u001b[38;5;241;43m1\u001b[39;49m\u001b[43m]\u001b[49m\u001b[43m,\u001b[49m\n\u001b[1;32m     14\u001b[0m \u001b[43m    \u001b[49m\u001b[43mcolor\u001b[49m\u001b[38;5;241;43m=\u001b[39;49m\u001b[43maverage_ratings\u001b[49m\u001b[43m,\u001b[49m\n\u001b[1;32m     15\u001b[0m \u001b[43m    \u001b[49m\u001b[43mlabels\u001b[49m\u001b[38;5;241;43m=\u001b[39;49m\u001b[43mlabels\u001b[49m\u001b[43m,\u001b[49m\n\u001b[1;32m     16\u001b[0m \u001b[43m    \u001b[49m\u001b[43mwidth\u001b[49m\u001b[38;5;241;43m=\u001b[39;49m\u001b[38;5;241;43m1000\u001b[39;49m\u001b[43m,\u001b[49m\u001b[43m \u001b[49m\u001b[43mheight\u001b[49m\u001b[38;5;241;43m=\u001b[39;49m\u001b[38;5;241;43m800\u001b[39;49m\u001b[43m,\u001b[49m\n\u001b[1;32m     17\u001b[0m \u001b[43m    \u001b[49m\u001b[43mhover_name\u001b[49m\u001b[38;5;241;43m=\u001b[39;49m\u001b[43mnp\u001b[49m\u001b[38;5;241;43m.\u001b[39;49m\u001b[43marray\u001b[49m\u001b[43m(\u001b[49m\u001b[43mmovie_titles_ordered\u001b[49m\u001b[43m)\u001b[49m\u001b[43m,\u001b[49m\n\u001b[1;32m     18\u001b[0m \u001b[43m    \u001b[49m\u001b[43mtitle\u001b[49m\u001b[38;5;241;43m=\u001b[39;49m\u001b[43mtitle\u001b[49m\u001b[43m)\u001b[49m\n\u001b[1;32m     19\u001b[0m fig\u001b[38;5;241m.\u001b[39mshow()\n",
      "File \u001b[0;32m~/anaconda3/envs/ML_4_gpu/lib/python3.9/site-packages/plotly/express/_chart_types.py:66\u001b[0m, in \u001b[0;36mscatter\u001b[0;34m(data_frame, x, y, color, symbol, size, hover_name, hover_data, custom_data, text, facet_row, facet_col, facet_col_wrap, facet_row_spacing, facet_col_spacing, error_x, error_x_minus, error_y, error_y_minus, animation_frame, animation_group, category_orders, labels, orientation, color_discrete_sequence, color_discrete_map, color_continuous_scale, range_color, color_continuous_midpoint, symbol_sequence, symbol_map, opacity, size_max, marginal_x, marginal_y, trendline, trendline_options, trendline_color_override, trendline_scope, log_x, log_y, range_x, range_y, render_mode, title, template, width, height)\u001b[0m\n\u001b[1;32m     12\u001b[0m \u001b[38;5;28;01mdef\u001b[39;00m \u001b[38;5;21mscatter\u001b[39m(\n\u001b[1;32m     13\u001b[0m     data_frame\u001b[38;5;241m=\u001b[39m\u001b[38;5;28;01mNone\u001b[39;00m,\n\u001b[1;32m     14\u001b[0m     x\u001b[38;5;241m=\u001b[39m\u001b[38;5;28;01mNone\u001b[39;00m,\n\u001b[0;32m   (...)\u001b[0m\n\u001b[1;32m     60\u001b[0m     height\u001b[38;5;241m=\u001b[39m\u001b[38;5;28;01mNone\u001b[39;00m,\n\u001b[1;32m     61\u001b[0m ):\n\u001b[1;32m     62\u001b[0m     \u001b[38;5;124;03m\"\"\"\u001b[39;00m\n\u001b[1;32m     63\u001b[0m \u001b[38;5;124;03m    In a scatter plot, each row of `data_frame` is represented by a symbol\u001b[39;00m\n\u001b[1;32m     64\u001b[0m \u001b[38;5;124;03m    mark in 2D space.\u001b[39;00m\n\u001b[1;32m     65\u001b[0m \u001b[38;5;124;03m    \"\"\"\u001b[39;00m\n\u001b[0;32m---> 66\u001b[0m     \u001b[38;5;28;01mreturn\u001b[39;00m \u001b[43mmake_figure\u001b[49m\u001b[43m(\u001b[49m\u001b[43margs\u001b[49m\u001b[38;5;241;43m=\u001b[39;49m\u001b[38;5;28;43mlocals\u001b[39;49m\u001b[43m(\u001b[49m\u001b[43m)\u001b[49m\u001b[43m,\u001b[49m\u001b[43m \u001b[49m\u001b[43mconstructor\u001b[49m\u001b[38;5;241;43m=\u001b[39;49m\u001b[43mgo\u001b[49m\u001b[38;5;241;43m.\u001b[39;49m\u001b[43mScatter\u001b[49m\u001b[43m)\u001b[49m\n",
      "File \u001b[0;32m~/anaconda3/envs/ML_4_gpu/lib/python3.9/site-packages/plotly/express/_core.py:1945\u001b[0m, in \u001b[0;36mmake_figure\u001b[0;34m(args, constructor, trace_patch, layout_patch)\u001b[0m\n\u001b[1;32m   1942\u001b[0m layout_patch \u001b[38;5;241m=\u001b[39m layout_patch \u001b[38;5;129;01mor\u001b[39;00m {}\n\u001b[1;32m   1943\u001b[0m apply_default_cascade(args)\n\u001b[0;32m-> 1945\u001b[0m args \u001b[38;5;241m=\u001b[39m \u001b[43mbuild_dataframe\u001b[49m\u001b[43m(\u001b[49m\u001b[43margs\u001b[49m\u001b[43m,\u001b[49m\u001b[43m \u001b[49m\u001b[43mconstructor\u001b[49m\u001b[43m)\u001b[49m\n\u001b[1;32m   1946\u001b[0m \u001b[38;5;28;01mif\u001b[39;00m constructor \u001b[38;5;129;01min\u001b[39;00m [go\u001b[38;5;241m.\u001b[39mTreemap, go\u001b[38;5;241m.\u001b[39mSunburst, go\u001b[38;5;241m.\u001b[39mIcicle] \u001b[38;5;129;01mand\u001b[39;00m args[\u001b[38;5;124m\"\u001b[39m\u001b[38;5;124mpath\u001b[39m\u001b[38;5;124m\"\u001b[39m] \u001b[38;5;129;01mis\u001b[39;00m \u001b[38;5;129;01mnot\u001b[39;00m \u001b[38;5;28;01mNone\u001b[39;00m:\n\u001b[1;32m   1947\u001b[0m     args \u001b[38;5;241m=\u001b[39m process_dataframe_hierarchy(args)\n",
      "File \u001b[0;32m~/anaconda3/envs/ML_4_gpu/lib/python3.9/site-packages/plotly/express/_core.py:1405\u001b[0m, in \u001b[0;36mbuild_dataframe\u001b[0;34m(args, constructor)\u001b[0m\n\u001b[1;32m   1402\u001b[0m     args[\u001b[38;5;124m\"\u001b[39m\u001b[38;5;124mcolor\u001b[39m\u001b[38;5;124m\"\u001b[39m] \u001b[38;5;241m=\u001b[39m \u001b[38;5;28;01mNone\u001b[39;00m\n\u001b[1;32m   1403\u001b[0m \u001b[38;5;66;03m# now that things have been prepped, we do the systematic rewriting of `args`\u001b[39;00m\n\u001b[0;32m-> 1405\u001b[0m df_output, wide_id_vars \u001b[38;5;241m=\u001b[39m \u001b[43mprocess_args_into_dataframe\u001b[49m\u001b[43m(\u001b[49m\n\u001b[1;32m   1406\u001b[0m \u001b[43m    \u001b[49m\u001b[43margs\u001b[49m\u001b[43m,\u001b[49m\u001b[43m \u001b[49m\u001b[43mwide_mode\u001b[49m\u001b[43m,\u001b[49m\u001b[43m \u001b[49m\u001b[43mvar_name\u001b[49m\u001b[43m,\u001b[49m\u001b[43m \u001b[49m\u001b[43mvalue_name\u001b[49m\n\u001b[1;32m   1407\u001b[0m \u001b[43m\u001b[49m\u001b[43m)\u001b[49m\n\u001b[1;32m   1409\u001b[0m \u001b[38;5;66;03m# now that `df_output` exists and `args` contains only references, we complete\u001b[39;00m\n\u001b[1;32m   1410\u001b[0m \u001b[38;5;66;03m# the special-case and wide-mode handling by further rewriting args and/or mutating\u001b[39;00m\n\u001b[1;32m   1411\u001b[0m \u001b[38;5;66;03m# df_output\u001b[39;00m\n\u001b[1;32m   1413\u001b[0m count_name \u001b[38;5;241m=\u001b[39m _escape_col_name(df_output, \u001b[38;5;124m\"\u001b[39m\u001b[38;5;124mcount\u001b[39m\u001b[38;5;124m\"\u001b[39m, [var_name, value_name])\n",
      "File \u001b[0;32m~/anaconda3/envs/ML_4_gpu/lib/python3.9/site-packages/plotly/express/_core.py:1245\u001b[0m, in \u001b[0;36mprocess_args_into_dataframe\u001b[0;34m(args, wide_mode, var_name, value_name)\u001b[0m\n\u001b[1;32m   1242\u001b[0m         col_name \u001b[38;5;241m=\u001b[39m _check_name_not_reserved(field, reserved_names)\n\u001b[1;32m   1244\u001b[0m     \u001b[38;5;28;01mif\u001b[39;00m length \u001b[38;5;129;01mand\u001b[39;00m \u001b[38;5;28mlen\u001b[39m(argument) \u001b[38;5;241m!=\u001b[39m length:\n\u001b[0;32m-> 1245\u001b[0m         \u001b[38;5;28;01mraise\u001b[39;00m \u001b[38;5;167;01mValueError\u001b[39;00m(\n\u001b[1;32m   1246\u001b[0m             \u001b[38;5;124m\"\u001b[39m\u001b[38;5;124mAll arguments should have the same length. \u001b[39m\u001b[38;5;124m\"\u001b[39m\n\u001b[1;32m   1247\u001b[0m             \u001b[38;5;124m\"\u001b[39m\u001b[38;5;124mThe length of argument `\u001b[39m\u001b[38;5;132;01m%s\u001b[39;00m\u001b[38;5;124m` is \u001b[39m\u001b[38;5;132;01m%d\u001b[39;00m\u001b[38;5;124m, whereas the \u001b[39m\u001b[38;5;124m\"\u001b[39m\n\u001b[1;32m   1248\u001b[0m             \u001b[38;5;124m\"\u001b[39m\u001b[38;5;124mlength of  previously-processed arguments \u001b[39m\u001b[38;5;132;01m%s\u001b[39;00m\u001b[38;5;124m is \u001b[39m\u001b[38;5;132;01m%d\u001b[39;00m\u001b[38;5;124m\"\u001b[39m\n\u001b[1;32m   1249\u001b[0m             \u001b[38;5;241m%\u001b[39m (field, \u001b[38;5;28mlen\u001b[39m(argument), \u001b[38;5;28mstr\u001b[39m(\u001b[38;5;28mlist\u001b[39m(df_output\u001b[38;5;241m.\u001b[39mcolumns)), length)\n\u001b[1;32m   1250\u001b[0m         )\n\u001b[1;32m   1251\u001b[0m     df_output[\u001b[38;5;28mstr\u001b[39m(col_name)] \u001b[38;5;241m=\u001b[39m to_unindexed_series(argument)\n\u001b[1;32m   1253\u001b[0m \u001b[38;5;66;03m# Finally, update argument with column name now that column exists\u001b[39;00m\n",
      "\u001b[0;31mValueError\u001b[0m: All arguments should have the same length. The length of argument `hover_name` is 9724, whereas the length of  previously-processed arguments ['x', 'y'] is 610"
     ]
    }
   ],
   "source": [
    "from sklearn.preprocessing import StandardScaler\n",
    "from sklearn.decomposition import PCA\n",
    "import plotly.express as px\n",
    "\n",
    "#TOFILL\n",
    "\n",
    "\n",
    "def scatter_plot(components, title, movie_titles, average_ratings):\n",
    "    \n",
    "    labels = {str(i): f\"PC {i+1}\" for i in range(2)}\n",
    "    labels['color'] = 'Ratings'\n",
    "    fig = px.scatter(\n",
    "        x=components.T[0],y=components.T[1],\n",
    "        color=average_ratings,\n",
    "        labels=labels,\n",
    "        width=1000, height=800,\n",
    "        hover_name=np.array(movie_titles_ordered),\n",
    "        title=title)\n",
    "    fig.show()\n",
    "\n",
    "    \n",
    "movie_embeddings = best_model.get_weights()[0]\n",
    "scaled_movie_embeddings = StandardScaler().fit_transform(movie_embeddings)\n",
    "\n",
    "\n",
    "pca = PCA(n_components=2)\n",
    "principal_components = pca.fit_transform(scaled_movie_embeddings)\n",
    "\n",
    "movie_titles_ordered = [movie_to_title[ movie_ids_map_inv[i]] for i in range(nb_movies) ]\n",
    "\n",
    "\n",
    "scatter_plot(principal_components,'2 components PCA from movie embeddings', movie_titles_ordered, data_matrix.mean() )"
   ]
  },
  {
   "cell_type": "markdown",
   "metadata": {},
   "source": [
    "## Visualize the embeddings"
   ]
  },
  {
   "cell_type": "markdown",
   "metadata": {},
   "source": [
    "Let's now have a look at what is going on in the embedding space of the movies that we learnt. Our brain cannot picture anything beyond 3 dimensions, and we learnt high dimensional embeddings (k=15 or 30), so we are going to project the movies embeddings on a 2D plane, first with PCA, and then with another algorithm made for visualizing high dimensional spaces called t-sne."
   ]
  },
  {
   "cell_type": "markdown",
   "metadata": {},
   "source": [
    "### PCA"
   ]
  },
  {
   "cell_type": "markdown",
   "metadata": {},
   "source": [
    "You have already studied PCA, it is a useful technique for dimensionality reduction, but also simply for visualization. Don't forget to scale your embeddings first. To access the embeddings values of your keras model, have a look at the *get_weights()* function.\n",
    "\n",
    "Compute a PCA on all your movies embeddings, get the 2 first principal components, and do a scatter plot of 20 randomly sampled movies on a 2D plane, where each movie is a point defined by the two values of the two first principal components of the PCA from its embedding. Add the titles to the plot, and try to see if you can interpret the axes of the PCA through to different movie genres, like in Figure 3 from the article *Matrix Factorization Techniques for Recommender Systems*."
   ]
  },
  {
   "cell_type": "code",
   "execution_count": 133,
   "metadata": {},
   "outputs": [],
   "source": [
    "import plotly.express as px"
   ]
  },
  {
   "cell_type": "code",
   "execution_count": 140,
   "metadata": {},
   "outputs": [
    {
     "name": "stderr",
     "output_type": "stream",
     "text": [
      "/home/fernando.arroyo@Digital-Grenoble.local/anaconda3/envs/ML_4_gpu/lib/python3.9/site-packages/sklearn/manifold/_t_sne.py:780: FutureWarning: The default initialization in TSNE will change from 'random' to 'pca' in 1.2.\n",
      "  warnings.warn(\n",
      "/home/fernando.arroyo@Digital-Grenoble.local/anaconda3/envs/ML_4_gpu/lib/python3.9/site-packages/sklearn/manifold/_t_sne.py:790: FutureWarning: The default learning rate in TSNE will change from 200.0 to 'auto' in 1.2.\n",
      "  warnings.warn(\n"
     ]
    },
    {
     "ename": "TypeError",
     "evalue": "len() of unsized object",
     "output_type": "error",
     "traceback": [
      "\u001b[0;31m---------------------------------------------------------------------------\u001b[0m",
      "\u001b[0;31mTypeError\u001b[0m                                 Traceback (most recent call last)",
      "Input \u001b[0;32mIn [140]\u001b[0m, in \u001b[0;36m<cell line: 13>\u001b[0;34m()\u001b[0m\n\u001b[1;32m      6\u001b[0m labels[\u001b[38;5;124m'\u001b[39m\u001b[38;5;124mcolor\u001b[39m\u001b[38;5;124m'\u001b[39m] \u001b[38;5;241m=\u001b[39m \u001b[38;5;124m'\u001b[39m\u001b[38;5;124mRatings\u001b[39m\u001b[38;5;124m'\u001b[39m\n\u001b[1;32m      8\u001b[0m \u001b[38;5;66;03m# plt.figure()\u001b[39;00m\n\u001b[1;32m      9\u001b[0m \u001b[38;5;66;03m# plt.scatter(x=tsne.T[0],y=tsne.T[1])\u001b[39;00m\n\u001b[1;32m     10\u001b[0m \u001b[38;5;66;03m# plt.title('Movie embedings 2 components tsne')\u001b[39;00m\n\u001b[1;32m     11\u001b[0m \u001b[38;5;66;03m# plt.show()\u001b[39;00m\n\u001b[0;32m---> 13\u001b[0m fig \u001b[38;5;241m=\u001b[39m \u001b[43mpx\u001b[49m\u001b[38;5;241;43m.\u001b[39;49m\u001b[43mscatter\u001b[49m\u001b[43m(\u001b[49m\u001b[43mx\u001b[49m\u001b[38;5;241;43m=\u001b[39;49m\u001b[43mcomponents\u001b[49m\u001b[38;5;241;43m.\u001b[39;49m\u001b[43mT\u001b[49m\u001b[43m[\u001b[49m\u001b[38;5;241;43m0\u001b[39;49m\u001b[43m]\u001b[49m\u001b[43m,\u001b[49m\u001b[43my\u001b[49m\u001b[38;5;241;43m=\u001b[39;49m\u001b[43mcomponents\u001b[49m\u001b[38;5;241;43m.\u001b[39;49m\u001b[43mT\u001b[49m\u001b[43m[\u001b[49m\u001b[38;5;241;43m1\u001b[39;49m\u001b[43m]\u001b[49m\u001b[43m,\u001b[49m\n\u001b[1;32m     14\u001b[0m \u001b[43m                 \u001b[49m\u001b[43mcolor\u001b[49m\u001b[38;5;241;43m=\u001b[39;49m\u001b[43mdata_matrix\u001b[49m\u001b[38;5;241;43m.\u001b[39;49m\u001b[43mmean\u001b[49m\u001b[43m(\u001b[49m\u001b[43m)\u001b[49m\u001b[43m,\u001b[49m\n\u001b[1;32m     15\u001b[0m \u001b[43m                 \u001b[49m\u001b[43mlabels\u001b[49m\u001b[38;5;241;43m=\u001b[39;49m\u001b[43mlabels\u001b[49m\u001b[43m,\u001b[49m\n\u001b[1;32m     16\u001b[0m \u001b[43m                 \u001b[49m\u001b[43mwidth\u001b[49m\u001b[38;5;241;43m=\u001b[39;49m\u001b[38;5;241;43m1000\u001b[39;49m\u001b[43m,\u001b[49m\u001b[43m \u001b[49m\u001b[43mheight\u001b[49m\u001b[38;5;241;43m=\u001b[39;49m\u001b[38;5;241;43m800\u001b[39;49m\u001b[43m,\u001b[49m\n\u001b[1;32m     17\u001b[0m \u001b[43m                 \u001b[49m\u001b[43mhover_name\u001b[49m\u001b[38;5;241;43m=\u001b[39;49m\u001b[43mnp\u001b[49m\u001b[38;5;241;43m.\u001b[39;49m\u001b[43marray\u001b[49m\u001b[43m(\u001b[49m\u001b[43mmovie_to_title\u001b[49m\u001b[43m)\u001b[49m\u001b[43m,\u001b[49m\n\u001b[1;32m     18\u001b[0m \u001b[43m                 \u001b[49m\u001b[43mtitle\u001b[49m\u001b[38;5;241;43m=\u001b[39;49m\u001b[38;5;124;43m'\u001b[39;49m\u001b[38;5;124;43mMovie embedings 2 components tsne\u001b[39;49m\u001b[38;5;124;43m'\u001b[39;49m\u001b[43m)\u001b[49m\n\u001b[1;32m     19\u001b[0m fig\u001b[38;5;241m.\u001b[39mshow()\n",
      "File \u001b[0;32m~/anaconda3/envs/ML_4_gpu/lib/python3.9/site-packages/plotly/express/_chart_types.py:66\u001b[0m, in \u001b[0;36mscatter\u001b[0;34m(data_frame, x, y, color, symbol, size, hover_name, hover_data, custom_data, text, facet_row, facet_col, facet_col_wrap, facet_row_spacing, facet_col_spacing, error_x, error_x_minus, error_y, error_y_minus, animation_frame, animation_group, category_orders, labels, orientation, color_discrete_sequence, color_discrete_map, color_continuous_scale, range_color, color_continuous_midpoint, symbol_sequence, symbol_map, opacity, size_max, marginal_x, marginal_y, trendline, trendline_options, trendline_color_override, trendline_scope, log_x, log_y, range_x, range_y, render_mode, title, template, width, height)\u001b[0m\n\u001b[1;32m     12\u001b[0m \u001b[38;5;28;01mdef\u001b[39;00m \u001b[38;5;21mscatter\u001b[39m(\n\u001b[1;32m     13\u001b[0m     data_frame\u001b[38;5;241m=\u001b[39m\u001b[38;5;28;01mNone\u001b[39;00m,\n\u001b[1;32m     14\u001b[0m     x\u001b[38;5;241m=\u001b[39m\u001b[38;5;28;01mNone\u001b[39;00m,\n\u001b[0;32m   (...)\u001b[0m\n\u001b[1;32m     60\u001b[0m     height\u001b[38;5;241m=\u001b[39m\u001b[38;5;28;01mNone\u001b[39;00m,\n\u001b[1;32m     61\u001b[0m ):\n\u001b[1;32m     62\u001b[0m     \u001b[38;5;124;03m\"\"\"\u001b[39;00m\n\u001b[1;32m     63\u001b[0m \u001b[38;5;124;03m    In a scatter plot, each row of `data_frame` is represented by a symbol\u001b[39;00m\n\u001b[1;32m     64\u001b[0m \u001b[38;5;124;03m    mark in 2D space.\u001b[39;00m\n\u001b[1;32m     65\u001b[0m \u001b[38;5;124;03m    \"\"\"\u001b[39;00m\n\u001b[0;32m---> 66\u001b[0m     \u001b[38;5;28;01mreturn\u001b[39;00m \u001b[43mmake_figure\u001b[49m\u001b[43m(\u001b[49m\u001b[43margs\u001b[49m\u001b[38;5;241;43m=\u001b[39;49m\u001b[38;5;28;43mlocals\u001b[39;49m\u001b[43m(\u001b[49m\u001b[43m)\u001b[49m\u001b[43m,\u001b[49m\u001b[43m \u001b[49m\u001b[43mconstructor\u001b[49m\u001b[38;5;241;43m=\u001b[39;49m\u001b[43mgo\u001b[49m\u001b[38;5;241;43m.\u001b[39;49m\u001b[43mScatter\u001b[49m\u001b[43m)\u001b[49m\n",
      "File \u001b[0;32m~/anaconda3/envs/ML_4_gpu/lib/python3.9/site-packages/plotly/express/_core.py:1945\u001b[0m, in \u001b[0;36mmake_figure\u001b[0;34m(args, constructor, trace_patch, layout_patch)\u001b[0m\n\u001b[1;32m   1942\u001b[0m layout_patch \u001b[38;5;241m=\u001b[39m layout_patch \u001b[38;5;129;01mor\u001b[39;00m {}\n\u001b[1;32m   1943\u001b[0m apply_default_cascade(args)\n\u001b[0;32m-> 1945\u001b[0m args \u001b[38;5;241m=\u001b[39m \u001b[43mbuild_dataframe\u001b[49m\u001b[43m(\u001b[49m\u001b[43margs\u001b[49m\u001b[43m,\u001b[49m\u001b[43m \u001b[49m\u001b[43mconstructor\u001b[49m\u001b[43m)\u001b[49m\n\u001b[1;32m   1946\u001b[0m \u001b[38;5;28;01mif\u001b[39;00m constructor \u001b[38;5;129;01min\u001b[39;00m [go\u001b[38;5;241m.\u001b[39mTreemap, go\u001b[38;5;241m.\u001b[39mSunburst, go\u001b[38;5;241m.\u001b[39mIcicle] \u001b[38;5;129;01mand\u001b[39;00m args[\u001b[38;5;124m\"\u001b[39m\u001b[38;5;124mpath\u001b[39m\u001b[38;5;124m\"\u001b[39m] \u001b[38;5;129;01mis\u001b[39;00m \u001b[38;5;129;01mnot\u001b[39;00m \u001b[38;5;28;01mNone\u001b[39;00m:\n\u001b[1;32m   1947\u001b[0m     args \u001b[38;5;241m=\u001b[39m process_dataframe_hierarchy(args)\n",
      "File \u001b[0;32m~/anaconda3/envs/ML_4_gpu/lib/python3.9/site-packages/plotly/express/_core.py:1405\u001b[0m, in \u001b[0;36mbuild_dataframe\u001b[0;34m(args, constructor)\u001b[0m\n\u001b[1;32m   1402\u001b[0m     args[\u001b[38;5;124m\"\u001b[39m\u001b[38;5;124mcolor\u001b[39m\u001b[38;5;124m\"\u001b[39m] \u001b[38;5;241m=\u001b[39m \u001b[38;5;28;01mNone\u001b[39;00m\n\u001b[1;32m   1403\u001b[0m \u001b[38;5;66;03m# now that things have been prepped, we do the systematic rewriting of `args`\u001b[39;00m\n\u001b[0;32m-> 1405\u001b[0m df_output, wide_id_vars \u001b[38;5;241m=\u001b[39m \u001b[43mprocess_args_into_dataframe\u001b[49m\u001b[43m(\u001b[49m\n\u001b[1;32m   1406\u001b[0m \u001b[43m    \u001b[49m\u001b[43margs\u001b[49m\u001b[43m,\u001b[49m\u001b[43m \u001b[49m\u001b[43mwide_mode\u001b[49m\u001b[43m,\u001b[49m\u001b[43m \u001b[49m\u001b[43mvar_name\u001b[49m\u001b[43m,\u001b[49m\u001b[43m \u001b[49m\u001b[43mvalue_name\u001b[49m\n\u001b[1;32m   1407\u001b[0m \u001b[43m\u001b[49m\u001b[43m)\u001b[49m\n\u001b[1;32m   1409\u001b[0m \u001b[38;5;66;03m# now that `df_output` exists and `args` contains only references, we complete\u001b[39;00m\n\u001b[1;32m   1410\u001b[0m \u001b[38;5;66;03m# the special-case and wide-mode handling by further rewriting args and/or mutating\u001b[39;00m\n\u001b[1;32m   1411\u001b[0m \u001b[38;5;66;03m# df_output\u001b[39;00m\n\u001b[1;32m   1413\u001b[0m count_name \u001b[38;5;241m=\u001b[39m _escape_col_name(df_output, \u001b[38;5;124m\"\u001b[39m\u001b[38;5;124mcount\u001b[39m\u001b[38;5;124m\"\u001b[39m, [var_name, value_name])\n",
      "File \u001b[0;32m~/anaconda3/envs/ML_4_gpu/lib/python3.9/site-packages/plotly/express/_core.py:1244\u001b[0m, in \u001b[0;36mprocess_args_into_dataframe\u001b[0;34m(args, wide_mode, var_name, value_name)\u001b[0m\n\u001b[1;32m   1241\u001b[0m \u001b[38;5;28;01mif\u001b[39;00m col_name \u001b[38;5;129;01mis\u001b[39;00m \u001b[38;5;28;01mNone\u001b[39;00m:  \u001b[38;5;66;03m# numpy array, list...\u001b[39;00m\n\u001b[1;32m   1242\u001b[0m     col_name \u001b[38;5;241m=\u001b[39m _check_name_not_reserved(field, reserved_names)\n\u001b[0;32m-> 1244\u001b[0m \u001b[38;5;28;01mif\u001b[39;00m length \u001b[38;5;129;01mand\u001b[39;00m \u001b[38;5;28;43mlen\u001b[39;49m\u001b[43m(\u001b[49m\u001b[43margument\u001b[49m\u001b[43m)\u001b[49m \u001b[38;5;241m!=\u001b[39m length:\n\u001b[1;32m   1245\u001b[0m     \u001b[38;5;28;01mraise\u001b[39;00m \u001b[38;5;167;01mValueError\u001b[39;00m(\n\u001b[1;32m   1246\u001b[0m         \u001b[38;5;124m\"\u001b[39m\u001b[38;5;124mAll arguments should have the same length. \u001b[39m\u001b[38;5;124m\"\u001b[39m\n\u001b[1;32m   1247\u001b[0m         \u001b[38;5;124m\"\u001b[39m\u001b[38;5;124mThe length of argument `\u001b[39m\u001b[38;5;132;01m%s\u001b[39;00m\u001b[38;5;124m` is \u001b[39m\u001b[38;5;132;01m%d\u001b[39;00m\u001b[38;5;124m, whereas the \u001b[39m\u001b[38;5;124m\"\u001b[39m\n\u001b[1;32m   1248\u001b[0m         \u001b[38;5;124m\"\u001b[39m\u001b[38;5;124mlength of  previously-processed arguments \u001b[39m\u001b[38;5;132;01m%s\u001b[39;00m\u001b[38;5;124m is \u001b[39m\u001b[38;5;132;01m%d\u001b[39;00m\u001b[38;5;124m\"\u001b[39m\n\u001b[1;32m   1249\u001b[0m         \u001b[38;5;241m%\u001b[39m (field, \u001b[38;5;28mlen\u001b[39m(argument), \u001b[38;5;28mstr\u001b[39m(\u001b[38;5;28mlist\u001b[39m(df_output\u001b[38;5;241m.\u001b[39mcolumns)), length)\n\u001b[1;32m   1250\u001b[0m     )\n\u001b[1;32m   1251\u001b[0m df_output[\u001b[38;5;28mstr\u001b[39m(col_name)] \u001b[38;5;241m=\u001b[39m to_unindexed_series(argument)\n",
      "\u001b[0;31mTypeError\u001b[0m: len() of unsized object"
     ]
    }
   ],
   "source": [
    "from sklearn.manifold import TSNE\n",
    "\n",
    "tsne = TSNE(n_components=2).fit_transform(movie_embeddings_std)\n",
    "\n",
    "labels = {str(i): f\"PC {i+1}\" for i in range(2)}\n",
    "labels['color'] = 'Ratings'\n",
    "\n",
    "# plt.figure()\n",
    "# plt.scatter(x=tsne.T[0],y=tsne.T[1])\n",
    "# plt.title('Movie embedings 2 components tsne')\n",
    "# plt.show()\n",
    "\n",
    "fig = px.scatter(x=components.T[0],y=components.T[1],\n",
    "                 color=data_matrix.mean(),\n",
    "                 labels=labels,\n",
    "                 width=1000, height=800,\n",
    "                 hover_name=np.array(movie_to_title),\n",
    "                 title='Movie embedings 2 components tsne')\n",
    "fig.show()\n",
    "\n"
   ]
  },
  {
   "cell_type": "code",
   "execution_count": 126,
   "metadata": {},
   "outputs": [
    {
     "data": {
      "image/png": "[encoded data removed]",
      "text/plain": [
       "<Figure size 1152x576 with 1 Axes>"
      ]
     },
     "metadata": {
      "needs_background": "light"
     },
     "output_type": "display_data"
    }
   ],
   "source": [
    "from sklearn.preprocessing import StandardScaler\n",
    "from sklearn.decomposition import PCA\n",
    "\n",
    "scaler = StandardScaler()\n",
    "movie_embeddings = best_model.get_weights()[0]\n",
    "movie_embeddings_std = scaler.fit_transform(movie_embeddings) \n",
    "\n",
    "pca = PCA(n_components=2)\n",
    "components = pca.fit_transform(movie_embeddings_std)\n",
    "labels = {str(i): f\"PC {i+1}\" for i in range(2)}\n",
    "labels['color'] = 'Ratings'\n",
    "\n",
    "plt.figure(figsize=(16,8))\n",
    "# plt.scatter(components.T[0], components.T[1], c=data_matrix.mean())\n",
    "plt.scatter(components[:,0], components[:,1])\n",
    "# plt.labels() \n",
    "plt.show()\n",
    "# , c=data_matrix.mean()"
   ]
  },
  {
   "cell_type": "code",
   "execution_count": 105,
   "metadata": {
    "tags": []
   },
   "outputs": [
    {
     "data": {
      "text/plain": [
       "9724"
      ]
     },
     "execution_count": 105,
     "metadata": {},
     "output_type": "execute_result"
    }
   ],
   "source": [
    "len(movie_titles_ordered)"
   ]
  },
  {
   "cell_type": "code",
   "execution_count": 107,
   "metadata": {},
   "outputs": [
    {
     "data": {
      "text/plain": [
       "9724"
      ]
     },
     "execution_count": 107,
     "metadata": {},
     "output_type": "execute_result"
    }
   ],
   "source": [
    "len(data_matrix.mean())"
   ]
  },
  {
   "cell_type": "code",
   "execution_count": 108,
   "metadata": {},
   "outputs": [
    {
     "ename": "ValueError",
     "evalue": "All arguments should have the same length. The length of argument `hover_name` is 9724, whereas the length of  previously-processed arguments ['x', 'y'] is 610",
     "output_type": "error",
     "traceback": [
      "\u001b[0;31m---------------------------------------------------------------------------\u001b[0m",
      "\u001b[0;31mValueError\u001b[0m                                Traceback (most recent call last)",
      "Input \u001b[0;32mIn [108]\u001b[0m, in \u001b[0;36m<cell line: 32>\u001b[0;34m()\u001b[0m\n\u001b[1;32m     27\u001b[0m principal_components \u001b[38;5;241m=\u001b[39m pca\u001b[38;5;241m.\u001b[39mfit_transform(scaled_movie_embeddings)\n\u001b[1;32m     29\u001b[0m movie_titles_ordered \u001b[38;5;241m=\u001b[39m [ml_movie_id_to_title[ inverse_movie_ids_map[i]] \u001b[38;5;28;01mfor\u001b[39;00m i \u001b[38;5;129;01min\u001b[39;00m \u001b[38;5;28mrange\u001b[39m(nb_movies) ]\n\u001b[0;32m---> 32\u001b[0m \u001b[43mscatter_plot\u001b[49m\u001b[43m(\u001b[49m\u001b[43mprincipal_components\u001b[49m\u001b[43m,\u001b[49m\u001b[38;5;124;43m'\u001b[39;49m\u001b[38;5;124;43m2 components PCA from movie embeddings\u001b[39;49m\u001b[38;5;124;43m'\u001b[39;49m\u001b[43m,\u001b[49m\u001b[43m \u001b[49m\u001b[43mmovie_titles_ordered\u001b[49m\u001b[43m,\u001b[49m\u001b[43m \u001b[49m\u001b[43mdata_matrix\u001b[49m\u001b[38;5;241;43m.\u001b[39;49m\u001b[43mmean\u001b[49m\u001b[43m(\u001b[49m\u001b[43m)\u001b[49m\u001b[43m \u001b[49m\u001b[43m)\u001b[49m\n",
      "Input \u001b[0;32mIn [108]\u001b[0m, in \u001b[0;36mscatter_plot\u001b[0;34m(components, title, movie_titles, average_ratings)\u001b[0m\n\u001b[1;32m     10\u001b[0m labels \u001b[38;5;241m=\u001b[39m {\u001b[38;5;28mstr\u001b[39m(i): \u001b[38;5;124mf\u001b[39m\u001b[38;5;124m\"\u001b[39m\u001b[38;5;124mPC \u001b[39m\u001b[38;5;132;01m{\u001b[39;00mi\u001b[38;5;241m+\u001b[39m\u001b[38;5;241m1\u001b[39m\u001b[38;5;132;01m}\u001b[39;00m\u001b[38;5;124m\"\u001b[39m \u001b[38;5;28;01mfor\u001b[39;00m i \u001b[38;5;129;01min\u001b[39;00m \u001b[38;5;28mrange\u001b[39m(\u001b[38;5;241m2\u001b[39m)}\n\u001b[1;32m     11\u001b[0m labels[\u001b[38;5;124m'\u001b[39m\u001b[38;5;124mcolor\u001b[39m\u001b[38;5;124m'\u001b[39m] \u001b[38;5;241m=\u001b[39m \u001b[38;5;124m'\u001b[39m\u001b[38;5;124mRatings\u001b[39m\u001b[38;5;124m'\u001b[39m\n\u001b[0;32m---> 12\u001b[0m fig \u001b[38;5;241m=\u001b[39m \u001b[43mpx\u001b[49m\u001b[38;5;241;43m.\u001b[39;49m\u001b[43mscatter\u001b[49m\u001b[43m(\u001b[49m\n\u001b[1;32m     13\u001b[0m \u001b[43m    \u001b[49m\u001b[43mx\u001b[49m\u001b[38;5;241;43m=\u001b[39;49m\u001b[43mcomponents\u001b[49m\u001b[38;5;241;43m.\u001b[39;49m\u001b[43mT\u001b[49m\u001b[43m[\u001b[49m\u001b[38;5;241;43m0\u001b[39;49m\u001b[43m]\u001b[49m\u001b[43m,\u001b[49m\u001b[43my\u001b[49m\u001b[38;5;241;43m=\u001b[39;49m\u001b[43mcomponents\u001b[49m\u001b[38;5;241;43m.\u001b[39;49m\u001b[43mT\u001b[49m\u001b[43m[\u001b[49m\u001b[38;5;241;43m1\u001b[39;49m\u001b[43m]\u001b[49m\u001b[43m,\u001b[49m\n\u001b[1;32m     14\u001b[0m \u001b[43m    \u001b[49m\u001b[43mcolor\u001b[49m\u001b[38;5;241;43m=\u001b[39;49m\u001b[43maverage_ratings\u001b[49m\u001b[43m,\u001b[49m\n\u001b[1;32m     15\u001b[0m \u001b[43m    \u001b[49m\u001b[43mlabels\u001b[49m\u001b[38;5;241;43m=\u001b[39;49m\u001b[43mlabels\u001b[49m\u001b[43m,\u001b[49m\n\u001b[1;32m     16\u001b[0m \u001b[43m    \u001b[49m\u001b[43mwidth\u001b[49m\u001b[38;5;241;43m=\u001b[39;49m\u001b[38;5;241;43m1000\u001b[39;49m\u001b[43m,\u001b[49m\u001b[43m \u001b[49m\u001b[43mheight\u001b[49m\u001b[38;5;241;43m=\u001b[39;49m\u001b[38;5;241;43m800\u001b[39;49m\u001b[43m,\u001b[49m\n\u001b[1;32m     17\u001b[0m \u001b[43m    \u001b[49m\u001b[43mhover_name\u001b[49m\u001b[38;5;241;43m=\u001b[39;49m\u001b[43mnp\u001b[49m\u001b[38;5;241;43m.\u001b[39;49m\u001b[43marray\u001b[49m\u001b[43m(\u001b[49m\u001b[43mmovie_titles_ordered\u001b[49m\u001b[43m)\u001b[49m\u001b[43m,\u001b[49m\n\u001b[1;32m     18\u001b[0m \u001b[43m    \u001b[49m\u001b[43mtitle\u001b[49m\u001b[38;5;241;43m=\u001b[39;49m\u001b[43mtitle\u001b[49m\u001b[43m)\u001b[49m\n\u001b[1;32m     19\u001b[0m fig\u001b[38;5;241m.\u001b[39mshow()\n",
      "File \u001b[0;32m~/anaconda3/envs/ML_4_gpu/lib/python3.9/site-packages/plotly/express/_chart_types.py:66\u001b[0m, in \u001b[0;36mscatter\u001b[0;34m(data_frame, x, y, color, symbol, size, hover_name, hover_data, custom_data, text, facet_row, facet_col, facet_col_wrap, facet_row_spacing, facet_col_spacing, error_x, error_x_minus, error_y, error_y_minus, animation_frame, animation_group, category_orders, labels, orientation, color_discrete_sequence, color_discrete_map, color_continuous_scale, range_color, color_continuous_midpoint, symbol_sequence, symbol_map, opacity, size_max, marginal_x, marginal_y, trendline, trendline_options, trendline_color_override, trendline_scope, log_x, log_y, range_x, range_y, render_mode, title, template, width, height)\u001b[0m\n\u001b[1;32m     12\u001b[0m \u001b[38;5;28;01mdef\u001b[39;00m \u001b[38;5;21mscatter\u001b[39m(\n\u001b[1;32m     13\u001b[0m     data_frame\u001b[38;5;241m=\u001b[39m\u001b[38;5;28;01mNone\u001b[39;00m,\n\u001b[1;32m     14\u001b[0m     x\u001b[38;5;241m=\u001b[39m\u001b[38;5;28;01mNone\u001b[39;00m,\n\u001b[0;32m   (...)\u001b[0m\n\u001b[1;32m     60\u001b[0m     height\u001b[38;5;241m=\u001b[39m\u001b[38;5;28;01mNone\u001b[39;00m,\n\u001b[1;32m     61\u001b[0m ):\n\u001b[1;32m     62\u001b[0m     \u001b[38;5;124;03m\"\"\"\u001b[39;00m\n\u001b[1;32m     63\u001b[0m \u001b[38;5;124;03m    In a scatter plot, each row of `data_frame` is represented by a symbol\u001b[39;00m\n\u001b[1;32m     64\u001b[0m \u001b[38;5;124;03m    mark in 2D space.\u001b[39;00m\n\u001b[1;32m     65\u001b[0m \u001b[38;5;124;03m    \"\"\"\u001b[39;00m\n\u001b[0;32m---> 66\u001b[0m     \u001b[38;5;28;01mreturn\u001b[39;00m \u001b[43mmake_figure\u001b[49m\u001b[43m(\u001b[49m\u001b[43margs\u001b[49m\u001b[38;5;241;43m=\u001b[39;49m\u001b[38;5;28;43mlocals\u001b[39;49m\u001b[43m(\u001b[49m\u001b[43m)\u001b[49m\u001b[43m,\u001b[49m\u001b[43m \u001b[49m\u001b[43mconstructor\u001b[49m\u001b[38;5;241;43m=\u001b[39;49m\u001b[43mgo\u001b[49m\u001b[38;5;241;43m.\u001b[39;49m\u001b[43mScatter\u001b[49m\u001b[43m)\u001b[49m\n",
      "File \u001b[0;32m~/anaconda3/envs/ML_4_gpu/lib/python3.9/site-packages/plotly/express/_core.py:1945\u001b[0m, in \u001b[0;36mmake_figure\u001b[0;34m(args, constructor, trace_patch, layout_patch)\u001b[0m\n\u001b[1;32m   1942\u001b[0m layout_patch \u001b[38;5;241m=\u001b[39m layout_patch \u001b[38;5;129;01mor\u001b[39;00m {}\n\u001b[1;32m   1943\u001b[0m apply_default_cascade(args)\n\u001b[0;32m-> 1945\u001b[0m args \u001b[38;5;241m=\u001b[39m \u001b[43mbuild_dataframe\u001b[49m\u001b[43m(\u001b[49m\u001b[43margs\u001b[49m\u001b[43m,\u001b[49m\u001b[43m \u001b[49m\u001b[43mconstructor\u001b[49m\u001b[43m)\u001b[49m\n\u001b[1;32m   1946\u001b[0m \u001b[38;5;28;01mif\u001b[39;00m constructor \u001b[38;5;129;01min\u001b[39;00m [go\u001b[38;5;241m.\u001b[39mTreemap, go\u001b[38;5;241m.\u001b[39mSunburst, go\u001b[38;5;241m.\u001b[39mIcicle] \u001b[38;5;129;01mand\u001b[39;00m args[\u001b[38;5;124m\"\u001b[39m\u001b[38;5;124mpath\u001b[39m\u001b[38;5;124m\"\u001b[39m] \u001b[38;5;129;01mis\u001b[39;00m \u001b[38;5;129;01mnot\u001b[39;00m \u001b[38;5;28;01mNone\u001b[39;00m:\n\u001b[1;32m   1947\u001b[0m     args \u001b[38;5;241m=\u001b[39m process_dataframe_hierarchy(args)\n",
      "File \u001b[0;32m~/anaconda3/envs/ML_4_gpu/lib/python3.9/site-packages/plotly/express/_core.py:1405\u001b[0m, in \u001b[0;36mbuild_dataframe\u001b[0;34m(args, constructor)\u001b[0m\n\u001b[1;32m   1402\u001b[0m     args[\u001b[38;5;124m\"\u001b[39m\u001b[38;5;124mcolor\u001b[39m\u001b[38;5;124m\"\u001b[39m] \u001b[38;5;241m=\u001b[39m \u001b[38;5;28;01mNone\u001b[39;00m\n\u001b[1;32m   1403\u001b[0m \u001b[38;5;66;03m# now that things have been prepped, we do the systematic rewriting of `args`\u001b[39;00m\n\u001b[0;32m-> 1405\u001b[0m df_output, wide_id_vars \u001b[38;5;241m=\u001b[39m \u001b[43mprocess_args_into_dataframe\u001b[49m\u001b[43m(\u001b[49m\n\u001b[1;32m   1406\u001b[0m \u001b[43m    \u001b[49m\u001b[43margs\u001b[49m\u001b[43m,\u001b[49m\u001b[43m \u001b[49m\u001b[43mwide_mode\u001b[49m\u001b[43m,\u001b[49m\u001b[43m \u001b[49m\u001b[43mvar_name\u001b[49m\u001b[43m,\u001b[49m\u001b[43m \u001b[49m\u001b[43mvalue_name\u001b[49m\n\u001b[1;32m   1407\u001b[0m \u001b[43m\u001b[49m\u001b[43m)\u001b[49m\n\u001b[1;32m   1409\u001b[0m \u001b[38;5;66;03m# now that `df_output` exists and `args` contains only references, we complete\u001b[39;00m\n\u001b[1;32m   1410\u001b[0m \u001b[38;5;66;03m# the special-case and wide-mode handling by further rewriting args and/or mutating\u001b[39;00m\n\u001b[1;32m   1411\u001b[0m \u001b[38;5;66;03m# df_output\u001b[39;00m\n\u001b[1;32m   1413\u001b[0m count_name \u001b[38;5;241m=\u001b[39m _escape_col_name(df_output, \u001b[38;5;124m\"\u001b[39m\u001b[38;5;124mcount\u001b[39m\u001b[38;5;124m\"\u001b[39m, [var_name, value_name])\n",
      "File \u001b[0;32m~/anaconda3/envs/ML_4_gpu/lib/python3.9/site-packages/plotly/express/_core.py:1245\u001b[0m, in \u001b[0;36mprocess_args_into_dataframe\u001b[0;34m(args, wide_mode, var_name, value_name)\u001b[0m\n\u001b[1;32m   1242\u001b[0m         col_name \u001b[38;5;241m=\u001b[39m _check_name_not_reserved(field, reserved_names)\n\u001b[1;32m   1244\u001b[0m     \u001b[38;5;28;01mif\u001b[39;00m length \u001b[38;5;129;01mand\u001b[39;00m \u001b[38;5;28mlen\u001b[39m(argument) \u001b[38;5;241m!=\u001b[39m length:\n\u001b[0;32m-> 1245\u001b[0m         \u001b[38;5;28;01mraise\u001b[39;00m \u001b[38;5;167;01mValueError\u001b[39;00m(\n\u001b[1;32m   1246\u001b[0m             \u001b[38;5;124m\"\u001b[39m\u001b[38;5;124mAll arguments should have the same length. \u001b[39m\u001b[38;5;124m\"\u001b[39m\n\u001b[1;32m   1247\u001b[0m             \u001b[38;5;124m\"\u001b[39m\u001b[38;5;124mThe length of argument `\u001b[39m\u001b[38;5;132;01m%s\u001b[39;00m\u001b[38;5;124m` is \u001b[39m\u001b[38;5;132;01m%d\u001b[39;00m\u001b[38;5;124m, whereas the \u001b[39m\u001b[38;5;124m\"\u001b[39m\n\u001b[1;32m   1248\u001b[0m             \u001b[38;5;124m\"\u001b[39m\u001b[38;5;124mlength of  previously-processed arguments \u001b[39m\u001b[38;5;132;01m%s\u001b[39;00m\u001b[38;5;124m is \u001b[39m\u001b[38;5;132;01m%d\u001b[39;00m\u001b[38;5;124m\"\u001b[39m\n\u001b[1;32m   1249\u001b[0m             \u001b[38;5;241m%\u001b[39m (field, \u001b[38;5;28mlen\u001b[39m(argument), \u001b[38;5;28mstr\u001b[39m(\u001b[38;5;28mlist\u001b[39m(df_output\u001b[38;5;241m.\u001b[39mcolumns)), length)\n\u001b[1;32m   1250\u001b[0m         )\n\u001b[1;32m   1251\u001b[0m     df_output[\u001b[38;5;28mstr\u001b[39m(col_name)] \u001b[38;5;241m=\u001b[39m to_unindexed_series(argument)\n\u001b[1;32m   1253\u001b[0m \u001b[38;5;66;03m# Finally, update argument with column name now that column exists\u001b[39;00m\n",
      "\u001b[0;31mValueError\u001b[0m: All arguments should have the same length. The length of argument `hover_name` is 9724, whereas the length of  previously-processed arguments ['x', 'y'] is 610"
     ]
    }
   ],
   "source": [
    "from sklearn.preprocessing import StandardScaler\n",
    "from sklearn.decomposition import PCA\n",
    "import plotly.express as px\n",
    "\n",
    "#TOFILL\n",
    "\n",
    "\n",
    "def scatter_plot(components, title, movie_titles, average_ratings):\n",
    "    \n",
    "    labels = {str(i): f\"PC {i+1}\" for i in range(2)}\n",
    "    labels['color'] = 'Ratings'\n",
    "    fig = px.scatter(\n",
    "        x=components.T[0],y=components.T[1],\n",
    "        color=average_ratings,\n",
    "        labels=labels,\n",
    "        width=1000, height=800,\n",
    "        hover_name=np.array(movie_titles_ordered),\n",
    "        title=title)\n",
    "    fig.show()\n",
    "\n",
    "    \n",
    "movie_embeddings = best_model.get_weights()[0]\n",
    "scaled_movie_embeddings = StandardScaler().fit_transform(movie_embeddings)\n",
    "\n",
    "\n",
    "pca = PCA(n_components=2)\n",
    "principal_components = pca.fit_transform(scaled_movie_embeddings)\n",
    "\n",
    "movie_titles_ordered = [ml_movie_id_to_title[ inverse_movie_ids_map[i]] for i in range(nb_movies) ]\n",
    "\n",
    "\n",
    "scatter_plot(principal_components,'2 components PCA from movie embeddings', movie_titles_ordered, data_matrix.mean() )"
   ]
  },
  {
   "cell_type": "markdown",
   "metadata": {},
   "source": [
    "## t-sne"
   ]
  },
  {
   "cell_type": "markdown",
   "metadata": {},
   "source": [
    "Let's do the same with t-sne, an algorithm specialized for visualizing high dimensional spaces, you can read more about it there : https://en.wikipedia.org/wiki/T-distributed_stochastic_neighbor_embedding"
   ]
  },
  {
   "cell_type": "code",
   "execution_count": null,
   "metadata": {},
   "outputs": [],
   "source": [
    "from sklearn.manifold import TSNE\n",
    "\n",
    "#TOFILL:\n"
   ]
  },
  {
   "cell_type": "markdown",
   "metadata": {},
   "source": [
    "T-sne in general tends to preserve local similarities better than PCA. In any case, it's always interesting to try both for visualizing high dimensional data."
   ]
  },
  {
   "cell_type": "code",
   "execution_count": null,
   "metadata": {},
   "outputs": [],
   "source": []
  },
  {
   "cell_type": "markdown",
   "metadata": {},
   "source": [
    "Optionally, you can export your embedding and upload them on https://projector.tensorflow.org/ to visualize the embeddings in 3D. You can also use the movies genres from the *movies.csv* file to make one plot for each movie genre and try to see if some parts of the embedding space are representative of a movie genre."
   ]
  },
  {
   "cell_type": "markdown",
   "metadata": {},
   "source": [
    "# OPTIONAL PARTS"
   ]
  },
  {
   "cell_type": "markdown",
   "metadata": {},
   "source": [
    "## Recommend movies to yourself"
   ]
  },
  {
   "cell_type": "markdown",
   "metadata": {},
   "source": [
    "Implement a function that ask you to rate 20 movies, then add your own ratings to the dataset, retrain the model, and compute your own top-5 predictions."
   ]
  },
  {
   "cell_type": "code",
   "execution_count": null,
   "metadata": {
    "scrolled": true
   },
   "outputs": [],
   "source": [
    "import random\n",
    "\n",
    "def rate_my_movies(my_user_id, dataset, nb_movies, nb_to_rate, movie_ids_map):\n",
    "    \"\"\"\n",
    "    Returns a dataframe in the same format as the dataset dataframe, with\n",
    "    ratings entered by the user for `nb_to_rate` random movies\n",
    "    \n",
    "    Input :\n",
    "        my_user_id : int : The user_id of the new ratings\n",
    "        dataset : DataFrame : The whole dataset \n",
    "        nb_movies : int : Number of unique movie ids\n",
    "        nb_to_rate : int : Number of movies to rate\n",
    "        movie_ids_map : dict : The mapping of original file userId to a new index starting at 0.\n",
    "    \n",
    "    Output : \n",
    "        my_ratings : DataFrame : A dataframe with the same column as `dataset` containing\n",
    "            the new ratings entered by the user\n",
    "    \"\"\"\n",
    "    #TOFILL\n",
    " \n",
    "\n",
    "\n",
    "\n",
    "    return my_ratings\n",
    "\n",
    "\n",
    "my_user_id = len(user_ids_map)\n",
    "\n",
    "my_ratings = rate_my_movies(my_user_id, dataset, nb_movies, 20, movie_ids_map)\n",
    "\n"
   ]
  },
  {
   "cell_type": "code",
   "execution_count": null,
   "metadata": {},
   "outputs": [],
   "source": [
    "dataset_with_me = pd.concat([dataset, my_ratings], axis = 0).sample(frac=1).reset_index(drop=True)\n",
    "\n",
    "X_with_me = [dataset_with_me[\"userId\"].to_numpy(), dataset_with_me[\"movieId\"].to_numpy()]\n",
    "y_with_me = dataset_with_me[\"rating\"].to_numpy()\n"
   ]
  },
  {
   "cell_type": "code",
   "execution_count": null,
   "metadata": {
    "scrolled": true
   },
   "outputs": [],
   "source": [
    "best_model=get_mf_bias_l2_reg_model(nb_users + 1, nb_movies, 15, 1*10**-5)\n",
    "\n",
    "early_stopping = EarlyStopping(monitor='val_mse', patience=10, verbose=1)\n",
    "\n",
    "best_model.fit(X_with_me, y_with_me, epochs=500, batch_size=512, validation_split=0.1, callbacks=[early_stopping])"
   ]
  },
  {
   "cell_type": "code",
   "execution_count": null,
   "metadata": {},
   "outputs": [],
   "source": [
    "five_best_movie_ids, five_best_ratings =  get_top5_for_user(best_model, my_user_id, dataset)\n",
    "for i in range(5):\n",
    "    print('\\t' + ml_movie_id_to_title[ inverse_movie_ids_map[ five_best_movie_ids[i] ] ] + \n",
    "          '; predicted rating : ' + str(five_best_ratings[i]) )\n",
    "print('')"
   ]
  },
  {
   "cell_type": "code",
   "execution_count": null,
   "metadata": {},
   "outputs": [],
   "source": []
  },
  {
   "cell_type": "markdown",
   "metadata": {},
   "source": [
    "## Reuse the movie embeddings to predict the movies genre with multi-label classification"
   ]
  },
  {
   "cell_type": "markdown",
   "metadata": {},
   "source": [
    "Beyond the goal of predicting missing rating, the matrix factorization techniques also produces vectorial representation of movies and users: their embeddings, what we just visualized for the movies. With a big enough dataset, these embeddings actually are good abstract representations of the movies and of the users, and can be reused as features for other tasks, such as classification.\n",
    "\n",
    "In the *movies.csv*, there is a column that gives the genres of each movie. Let's try to predict the genres of the movies from the embeddings we learnt. As you can see, each movie can have more than one genre, so in classification terms, more than one class. We can achieve that with *multilabel classification*. You can read more about it there: https://scikit-learn.org/stable/modules/multiclass.html\n",
    "\n",
    "Load the movies genre, encode them as binary classes and use the classes imported below to train a multilabel classifier that uses the movie embeddings as features, and the movie genres as classes. Use the *OneVsRestClassifier* with a simple *LinearSVC* without any hyper-parameter tuning. Finally print the test accuracy, F1, precision and recall for each class, as well as the number of time each class appears in the dataset."
   ]
  },
  {
   "cell_type": "code",
   "execution_count": null,
   "metadata": {},
   "outputs": [],
   "source": [
    "from sklearn.preprocessing import MultiLabelBinarizer\n",
    "from sklearn.model_selection import train_test_split\n",
    "from sklearn.multiclass import OneVsRestClassifier\n",
    "from sklearn.svm import LinearSVC\n",
    "from sklearn.metrics import accuracy_score, f1_score, precision_score, recall_score\n",
    "\n",
    "#TOFILL\n"
   ]
  },
  {
   "cell_type": "markdown",
   "metadata": {},
   "source": [
    "On rare classes, you should get a very high accuracy, with a very low F1. Indeed these classes are really imbalanced : there are a few positives, hence the classifier is largely biased toward the negatives, and rarely predict a positive for these classes. This is why accuracy is generally a bad measure with imbalanced dataset : the high number of true negatives makes the accuracy number high, while our model is actually barely capable of predicting true positives.\n",
    "\n",
    "Let's compare our classifier performance with a *DummyClassifier*, the dummy classifier takes the ratio $r = \\frac{nb\\_positives}{nb\\_positives + nb\\_negatives}$ as the probability to predict a positive, and then do it randomly."
   ]
  },
  {
   "cell_type": "code",
   "execution_count": null,
   "metadata": {
    "scrolled": true
   },
   "outputs": [],
   "source": [
    "from sklearn.dummy import DummyClassifier\n",
    "\n",
    "#TOFILL\n",
    "\n"
   ]
  },
  {
   "cell_type": "markdown",
   "metadata": {},
   "source": [
    "As you can see, simply respecting the class balance, even at random, produces better F1 on most classes. One way to compensate for class imbalance is to tell the classifier to weight more the true samples at training time, accordingly with the ratio $r$ between true and false samples. With scikit-learn SVM implementation, you can use the argument *class_weight* for setting the weight of the positive and negative samples at training time. See : https://scikit-learn.org/stable/auto_examples/svm/plot_separating_hyperplane_unbalanced.html\n",
    "\n",
    "But if you just want to set the class weights accordingly with the ratio between positives and negatives, you can just set *class_weight = ‘balanced’*. Test it with the LinearSVC classifier:"
   ]
  },
  {
   "cell_type": "code",
   "execution_count": null,
   "metadata": {
    "scrolled": true
   },
   "outputs": [],
   "source": [
    "#TOFILL\n",
    "\n"
   ]
  },
  {
   "cell_type": "markdown",
   "metadata": {},
   "source": [
    "F1 is now much better than with the dummy classifier, however is is still not very convincing. This is quite normal given the size of the dataset we are using, which is pretty small to get really meaningful embeddings. But with bigger datasets, reusing embeddings as features for auxiliary tasks such as classification is actually a very effective way of doing so when there is no other informations about the items we try to classify. Here the items are the movies, the dataset doesn't provide more information about them, but one could imagine fetching from internet textual descriptions of the movies and use them as features alongside the embeddings to improve the classification results."
   ]
  },
  {
   "cell_type": "markdown",
   "metadata": {},
   "source": [
    "## Try out the different SGD algorithms"
   ]
  },
  {
   "cell_type": "markdown",
   "metadata": {},
   "source": [
    "In all the notebook we used the 'adam' `optimizer` to train our model, which is a variation of SGD. Keras proposes different variations of SGD: https://keras.io/optimizers/ . This article gif images gives an intuitive view of their different behavior : https://medium.com/@ramrajchandradevan/the-evolution-of-gradient-descend-optimization-algorithm-4106a6702d39\n",
    "\n",
    "Try a few ones with our model and see how the training and testing loss evolves."
   ]
  },
  {
   "cell_type": "code",
   "execution_count": null,
   "metadata": {},
   "outputs": [],
   "source": [
    "#TOFILL"
   ]
  },
  {
   "cell_type": "markdown",
   "metadata": {},
   "source": [
    "## Add the global bias $\\mu$  parameter to the model"
   ]
  },
  {
   "cell_type": "markdown",
   "metadata": {},
   "source": [
    "Remember we didn't added the global bias $\\mu$ to our model yet (Equations (4-5) from Koren's paper). Use your best google skills to find a way to add an embedding layer that does that.\n",
    "\n",
    "Hint : Use a constant `Input` layer."
   ]
  },
  {
   "cell_type": "code",
   "execution_count": null,
   "metadata": {},
   "outputs": [],
   "source": [
    "from keras import backend as K\n",
    "#TOFILL\n"
   ]
  },
  {
   "cell_type": "code",
   "execution_count": null,
   "metadata": {},
   "outputs": [],
   "source": []
  },
  {
   "cell_type": "code",
   "execution_count": null,
   "metadata": {},
   "outputs": [],
   "source": []
  },
  {
   "cell_type": "code",
   "execution_count": null,
   "metadata": {},
   "outputs": [],
   "source": []
  },
  {
   "cell_type": "markdown",
   "metadata": {},
   "source": [
    "## Implement your own Stochastic Gradient Descent for Matrix Factorization with numpy instead of Keras (very optional)"
   ]
  },
  {
   "cell_type": "markdown",
   "metadata": {},
   "source": [
    "Now you know everything to implement your own matrix factorization SGD model, all with numpy arrays. Start without the biases again, and without mini-batches. The gradient update equations are described in page 4 of Koren's paper. Let's initialize your $p$ and $q$ embeddings with a gaussian sampling. Print the RMSE at the beginning of each epoch, and finally compute the RMSE of your model on the test set."
   ]
  },
  {
   "cell_type": "code",
   "execution_count": null,
   "metadata": {},
   "outputs": [],
   "source": [
    "from numpy.random import normal\n",
    "\n",
    "P = normal(size = (nb_users,k))\n",
    "Q = normal(size = (nb_movies,k))\n",
    "\n",
    "gamma = 0.1\n",
    "lambda_ = 0.00001\n",
    "epochs = 10\n",
    "\n",
    "for e in range(epochs):\n",
    "    for j in range(train.shape[0]):\n",
    "        u = train['userId'].iloc[j]\n",
    "        i = train['movieId'].iloc[j]\n",
    "        r_ui = train['rating'].iloc[j]\n",
    "        \n",
    "        #TOFILL\n"
   ]
  },
  {
   "cell_type": "code",
   "execution_count": null,
   "metadata": {},
   "outputs": [],
   "source": []
  },
  {
   "cell_type": "code",
   "execution_count": null,
   "metadata": {},
   "outputs": [],
   "source": []
  }
 ],
 "metadata": {
  "interpreter": {
   "hash": "916dbcbb3f70747c44a77c7bcd40155683ae19c65e1c03b4aa3499c5328201f1"
  },
  "kernelspec": {
   "display_name": "Python [conda env:ML_4_gpu]",
   "language": "python",
   "name": "conda-env-ML_4_gpu-py"
  },
  "language_info": {
   "codemirror_mode": {
    "name": "ipython",
    "version": 3
   },
   "file_extension": ".py",
   "mimetype": "text/x-python",
   "name": "python",
   "nbconvert_exporter": "python",
   "pygments_lexer": "ipython3",
   "version": "3.9.12"
  }
 },
 "nbformat": 4,
 "nbformat_minor": 4
}
