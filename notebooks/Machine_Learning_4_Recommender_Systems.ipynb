{
 "cells": [
  {
   "cell_type": "code",
   "execution_count": 14,
   "metadata": {},
   "outputs": [],
   "source": [
    "import numpy as np\n",
    "import pandas as pd\n",
    "from collections import defaultdict\n",
    "from sklearn.model_selection import train_test_split\n",
    "import matplotlib.pyplot as plt\n",
    "from matplotlib import rcParams\n",
    "%matplotlib inline"
   ]
  },
  {
   "cell_type": "code",
   "execution_count": 15,
   "metadata": {},
   "outputs": [],
   "source": [
    "import keras\n",
    "from keras.models import Model\n",
    "from keras.layers import Embedding, Input, Reshape\n",
    "from keras.layers.merge import Dot"
   ]
  },
  {
   "cell_type": "markdown",
   "metadata": {},
   "source": [
    "**Resources** :\n",
    "\n",
    "*Matrix Factorization techniques for Recommender Systems*, Koren (2009)    \n",
    "https://www.inf.unibz.it/~ricci/ISR/papers/ieeecomputer.pdf\n",
    "\n",
    "Hands on Machine Learning with scikit-learn and tensorflow:             \n",
    "https://drive.google.com/file/d/1t0rc3x5YQBgLXVLET6BzR4jn5vzMI_m0/view?usp=sharing\n",
    "\n",
    "The movieLens dataset:                                                \n",
    "https://grouplens.org/datasets/movielens/ \n",
    "\n",
    "Keras Functional API doc :                                            \n",
    "https://keras.io/guides/functional_api/\n"
   ]
  },
  {
   "cell_type": "markdown",
   "metadata": {},
   "source": [
    "# Recommender systems : collaborative filtering via matrix factorization"
   ]
  },
  {
   "cell_type": "markdown",
   "metadata": {},
   "source": [
    "Do you wonder how Netflix is able to recommend you movies despite it doesn't know anything about you but the ratings you gave to the movies you watched ? This is what we are going to explore during this 3 days machine learning module.\n",
    "\n",
    "First off, let's learn about what are recommender system, collaborative filtering and matrix factorization techniques, which are all very well introduced in Koren's 2009 famous article : *Matrix Factorization techniques for Recommender Systems* : https://www.inf.unibz.it/~ricci/ISR/papers/ieeecomputer.pdf . Read the 4 first pages (up to section *adding biases* included). \n",
    "\n",
    "Through this notebook we are going to re-implement the model described in the pages you read, and apply it to a classic movie ratings dataset coming from the website *movieLens*. To do so, we will use a powerful deep learning python library called *Keras*, that makes it easy to train complex models based on linear algebra."
   ]
  },
  {
   "cell_type": "markdown",
   "metadata": {},
   "source": [
    "## Load the dataset"
   ]
  },
  {
   "cell_type": "markdown",
   "metadata": {},
   "source": [
    "For this module, we are going to use the movieLens dataset, that contains data from the movie recommending website movielens. The data is a subset of ratings from 0 to 5 given by some users of the website to a subset of movies. You can read more about it here (we are using the latest small dataset) : https://grouplens.org/datasets/movielens/ , and in the *README* file that is in the *data/ml-latest-small/* folder.\n",
    "\n",
    "Load the ratings data from the `ratings.csv` file into a dataframe. The userId and movieId provided in the file don't start from 0, and are not contiguous (i.e. there are missing indexes).\n",
    "\n",
    "Re-index the user and movie ids to indexes going from 0 to `nb_users` and 0 to `nb_movies` respectively, by building two dictionnaries `user_ids_map` and `movie_ids_map` that maps the file ids to your new ids. \n",
    "And finally, split the rows of this dataframe in a random 90%/10% train/test sets.\n",
    "\n",
    "To do so, fill the `get_train_test_sets` function below, and respect the returned objects structures that are described in the docstring.\n"
   ]
  },
  {
   "cell_type": "code",
   "execution_count": 16,
   "metadata": {},
   "outputs": [],
   "source": [
    "# Loading datasets \n",
    "df_ratings = pd.read_csv('../data/ml-latest-small/ratings.csv')\n",
    "df_rat = df_ratings.copy()\n",
    "\n",
    "df_movies_csv = pd.read_csv('../data/ml-latest-small/movies.csv')\n",
    "df_movies = df_movies_csv.copy()\n",
    "\n",
    "df_links_csv = pd.read_csv('../data/ml-latest-small/links.csv')\n",
    "df_links = df_links_csv.copy()\n",
    "\n",
    "df_tags_csv = pd.read_csv('../data/ml-latest-small/tags.csv')\n",
    "df_tags = df_tags_csv.copy()\n"
   ]
  },
  {
   "cell_type": "code",
   "execution_count": 19,
   "metadata": {},
   "outputs": [],
   "source": [
    "## Exploring data structure \n",
    "# df_ratings.shape\n",
    "# df_ratings.columns\n",
    "# df_ratings.info()\n",
    "# df_ratings.describe()\n",
    "\n",
    "## checking nan\n",
    "# df_ratings.isna().sum()\n",
    "\n",
    "## unique values and vamue counts \n",
    "# df_ratings.nunique()\n",
    "# df_ratings.value_counts()\n",
    "\n",
    "# df_rat"
   ]
  },
  {
   "cell_type": "code",
   "execution_count": 20,
   "metadata": {},
   "outputs": [],
   "source": [
    "## Testing functiion \n",
    "# user_ids_map = dict(zip(df_rat['userId'].unique(),list(range(0,df_rat['userId'].nunique())))) \n",
    "# movie_ids_map = dict(zip(df_rat['movieId'].unique(),list(range(0,df_rat['movieId'].nunique()))))\n",
    "# nb_users = df_rat['userId'].nunique()\n",
    "# nb_movies = df_rat['movieId'].nunique()\n",
    "# df_rat['movieId'] = df_rat.movieId.map(movie_ids_map)\n",
    "# df_rat['userId'] = df_rat.userId.map(user_ids_map)\n",
    "# train, test = train_test_split(df_rat, train_size=0.9)"
   ]
  },
  {
   "cell_type": "code",
   "execution_count": 17,
   "metadata": {},
   "outputs": [],
   "source": [
    "def get_train_test_sets(data_path, train_prop = 0.9):\n",
    "    \"\"\"\n",
    "    Build train and test sets and reindex userIds and MovieIds from 0 with contiguous indexes.\n",
    "    \n",
    "    Input: \n",
    "        data_path : string : the path to the ratings file\n",
    "        train_prop : float : The proportion of the training set \n",
    "    \n",
    "    Output:\n",
    "        train : pandas.DataFrame : A dataframe with columns [userId, movieId, rating, timestamp], where\n",
    "            the userId and movieId value have been replaced with new ids starting at 0. \n",
    "            Contains `train_prop` random entries from the input file.\n",
    "        test : pandas.DataFrame : Same as `train`, contains the 1 - `train_prop` remaining entries.\n",
    "        nb_users : int : Number of unique user ids\n",
    "        nb_movies : int : Number of unique movie ids\n",
    "        user_ids_map : dict : A mapping of original file userId to a new index starting at 0.\n",
    "            Keys are int from the original userId column, values are int of the new indexation.\n",
    "        movie_ids_map : dict : Same as `user_ids_map` for the movieIds.\n",
    "    \"\"\"\n",
    "    \n",
    "    #TOFILL\n",
    "    df = pd.read_csv(data_path)\n",
    "    user_ids_map = dict(zip(df['userId'].unique(),list(range(0,df['userId'].nunique())))) \n",
    "    movie_ids_map = dict(zip(df['movieId'].unique(),list(range(0,df['movieId'].nunique()))))\n",
    "    nb_users = df['userId'].nunique()\n",
    "    nb_movies = df['movieId'].nunique()\n",
    "    df['movieId'] = df.movieId.map(movie_ids_map)\n",
    "    df['userId'] = df.userId.map(user_ids_map)\n",
    "    train, test = train_test_split(df, train_size=train_prop)\n",
    "\n",
    "    return train, test, nb_users, nb_movies, user_ids_map, movie_ids_map"
   ]
  },
  {
   "cell_type": "code",
   "execution_count": 18,
   "metadata": {
    "scrolled": true
   },
   "outputs": [
    {
     "name": "stdout",
     "output_type": "stream",
     "text": [
      "There are 9724 movies, 610 users, and 100836 ratings\n"
     ]
    }
   ],
   "source": [
    "ratings_s_path =  '../data/ml-latest-small/ratings.csv'\n",
    "train, test, nb_users, nb_movies, user_ids_map, movie_ids_map = get_train_test_sets(ratings_s_path)\n",
    "dataset = pd.concat((train,test), axis = 0)\n",
    "\n",
    "print(\"There are %i movies, %i users, and %i ratings\" % (nb_movies, nb_users, dataset.shape[0]))"
   ]
  },
  {
   "cell_type": "code",
   "execution_count": 19,
   "metadata": {},
   "outputs": [],
   "source": [
    "X_train = [train[\"userId\"].to_numpy(), train[\"movieId\"].to_numpy()]\n",
    "y_train = train[\"rating\"].to_numpy()\n",
    "\n",
    "X_test = [test[\"userId\"].to_numpy(), test[\"movieId\"].to_numpy()]\n",
    "y_test = test[\"rating\"].to_numpy()"
   ]
  },
  {
   "cell_type": "markdown",
   "metadata": {},
   "source": [
    "Let's have a quick look at the ratings distribution:"
   ]
  },
  {
   "cell_type": "code",
   "execution_count": 24,
   "metadata": {
    "scrolled": true
   },
   "outputs": [
    {
     "data": {
      "text/plain": [
       "<AxesSubplot:>"
      ]
     },
     "execution_count": 24,
     "metadata": {},
     "output_type": "execute_result"
    },
    {
     "data": {
      "image/png": "[encoded data removed]",
      "text/plain": [
       "<Figure size 432x288 with 1 Axes>"
      ]
     },
     "metadata": {
      "needs_background": "light"
     },
     "output_type": "display_data"
    }
   ],
   "source": [
    "dataset['rating'].hist(bins=10)"
   ]
  },
  {
   "cell_type": "markdown",
   "metadata": {},
   "source": [
    "In this dataset there are a lot of missing values, because not all the user/movie pairs have an associated rating. Indeed, each user rates only a few movies ! The goal of this notebook is to predict (some of) the missing user/movie ratings.\n",
    "\n",
    "Print how many movies each of the 5 first users have rated, and print the percentage of available ratings in the whole dataset (i.e. the ratio between number of ratings and all the possible users/movies combinations):"
   ]
  },
  {
   "cell_type": "code",
   "execution_count": 20,
   "metadata": {},
   "outputs": [
    {
     "name": "stdout",
     "output_type": "stream",
     "text": [
      "5 first users have rated 874 movies\n"
     ]
    }
   ],
   "source": [
    "#TOFILL\n",
    "# creating a DF with 5 first users \n",
    "df_5users = dataset[dataset['userId'] <= 5]\n",
    "# Printing how many movies each of the 5 first users have rated \n",
    "print('5 first users have rated', len(df_5users['rating']), 'movies')"
   ]
  },
  {
   "cell_type": "code",
   "execution_count": 26,
   "metadata": {},
   "outputs": [],
   "source": [
    "# # verifying total of rated movies multiplying nb_users times nb_movies\n",
    "# test = dataset.groupby(['userId']).count()\n",
    "\n",
    "# test[test.index <= 5].summ()"
   ]
  },
  {
   "cell_type": "code",
   "execution_count": 21,
   "metadata": {},
   "outputs": [
    {
     "name": "stdout",
     "output_type": "stream",
     "text": [
      "The percentage of available ratings in the whole dataset is 1.7 %\n"
     ]
    }
   ],
   "source": [
    "# Total of available rated movies \n",
    "rated_movies = len(dataset['rating'])\n",
    "\n",
    "# Total of all possible rated movies \n",
    "all_possible_rated_movies = nb_users * nb_movies\n",
    "\n",
    "# Percentage of available ratings\n",
    "percentage_rated_movies = rated_movies/all_possible_rated_movies\n",
    "\n",
    "print('The percentage of available ratings in the whole dataset is', \n",
    "      round((percentage_rated_movies*100), 2), '%')"
   ]
  },
  {
   "cell_type": "markdown",
   "metadata": {},
   "source": [
    "There is only 1.7% of ratings that are available, which is normal as each hasn't rated all the movies. To see the dataset in a matrix form with all the missing ratings, use the `Dataframe.pivot()` function, with the `userId` as index, the `movieId` as columns, and the ratings for the `values` :"
   ]
  },
  {
   "cell_type": "code",
   "execution_count": 22,
   "metadata": {},
   "outputs": [
    {
     "data": {
      "text/html": [
       "<div>\n",
       "<style scoped>\n",
       "    .dataframe tbody tr th:only-of-type {\n",
       "        vertical-align: middle;\n",
       "    }\n",
       "\n",
       "    .dataframe tbody tr th {\n",
       "        vertical-align: top;\n",
       "    }\n",
       "\n",
       "    .dataframe thead th {\n",
       "        text-align: right;\n",
       "    }\n",
       "</style>\n",
       "<table border=\"1\" class=\"dataframe\">\n",
       "  <thead>\n",
       "    <tr style=\"text-align: right;\">\n",
       "      <th>movieId</th>\n",
       "      <th>0</th>\n",
       "      <th>1</th>\n",
       "      <th>2</th>\n",
       "      <th>3</th>\n",
       "      <th>4</th>\n",
       "      <th>5</th>\n",
       "      <th>6</th>\n",
       "      <th>7</th>\n",
       "      <th>8</th>\n",
       "      <th>9</th>\n",
       "      <th>...</th>\n",
       "      <th>9714</th>\n",
       "      <th>9715</th>\n",
       "      <th>9716</th>\n",
       "      <th>9717</th>\n",
       "      <th>9718</th>\n",
       "      <th>9719</th>\n",
       "      <th>9720</th>\n",
       "      <th>9721</th>\n",
       "      <th>9722</th>\n",
       "      <th>9723</th>\n",
       "    </tr>\n",
       "    <tr>\n",
       "      <th>userId</th>\n",
       "      <th></th>\n",
       "      <th></th>\n",
       "      <th></th>\n",
       "      <th></th>\n",
       "      <th></th>\n",
       "      <th></th>\n",
       "      <th></th>\n",
       "      <th></th>\n",
       "      <th></th>\n",
       "      <th></th>\n",
       "      <th></th>\n",
       "      <th></th>\n",
       "      <th></th>\n",
       "      <th></th>\n",
       "      <th></th>\n",
       "      <th></th>\n",
       "      <th></th>\n",
       "      <th></th>\n",
       "      <th></th>\n",
       "      <th></th>\n",
       "      <th></th>\n",
       "    </tr>\n",
       "  </thead>\n",
       "  <tbody>\n",
       "    <tr>\n",
       "      <th>0</th>\n",
       "      <td>4.0</td>\n",
       "      <td>4.0</td>\n",
       "      <td>4.0</td>\n",
       "      <td>5.0</td>\n",
       "      <td>5.0</td>\n",
       "      <td>3.0</td>\n",
       "      <td>5.0</td>\n",
       "      <td>4.0</td>\n",
       "      <td>5.0</td>\n",
       "      <td>5.0</td>\n",
       "      <td>...</td>\n",
       "      <td>NaN</td>\n",
       "      <td>NaN</td>\n",
       "      <td>NaN</td>\n",
       "      <td>NaN</td>\n",
       "      <td>NaN</td>\n",
       "      <td>NaN</td>\n",
       "      <td>NaN</td>\n",
       "      <td>NaN</td>\n",
       "      <td>NaN</td>\n",
       "      <td>NaN</td>\n",
       "    </tr>\n",
       "    <tr>\n",
       "      <th>1</th>\n",
       "      <td>NaN</td>\n",
       "      <td>NaN</td>\n",
       "      <td>NaN</td>\n",
       "      <td>NaN</td>\n",
       "      <td>NaN</td>\n",
       "      <td>NaN</td>\n",
       "      <td>NaN</td>\n",
       "      <td>NaN</td>\n",
       "      <td>NaN</td>\n",
       "      <td>NaN</td>\n",
       "      <td>...</td>\n",
       "      <td>NaN</td>\n",
       "      <td>NaN</td>\n",
       "      <td>NaN</td>\n",
       "      <td>NaN</td>\n",
       "      <td>NaN</td>\n",
       "      <td>NaN</td>\n",
       "      <td>NaN</td>\n",
       "      <td>NaN</td>\n",
       "      <td>NaN</td>\n",
       "      <td>NaN</td>\n",
       "    </tr>\n",
       "    <tr>\n",
       "      <th>2</th>\n",
       "      <td>NaN</td>\n",
       "      <td>NaN</td>\n",
       "      <td>NaN</td>\n",
       "      <td>NaN</td>\n",
       "      <td>NaN</td>\n",
       "      <td>NaN</td>\n",
       "      <td>NaN</td>\n",
       "      <td>NaN</td>\n",
       "      <td>NaN</td>\n",
       "      <td>NaN</td>\n",
       "      <td>...</td>\n",
       "      <td>NaN</td>\n",
       "      <td>NaN</td>\n",
       "      <td>NaN</td>\n",
       "      <td>NaN</td>\n",
       "      <td>NaN</td>\n",
       "      <td>NaN</td>\n",
       "      <td>NaN</td>\n",
       "      <td>NaN</td>\n",
       "      <td>NaN</td>\n",
       "      <td>NaN</td>\n",
       "    </tr>\n",
       "    <tr>\n",
       "      <th>3</th>\n",
       "      <td>NaN</td>\n",
       "      <td>NaN</td>\n",
       "      <td>NaN</td>\n",
       "      <td>2.0</td>\n",
       "      <td>NaN</td>\n",
       "      <td>NaN</td>\n",
       "      <td>NaN</td>\n",
       "      <td>NaN</td>\n",
       "      <td>NaN</td>\n",
       "      <td>NaN</td>\n",
       "      <td>...</td>\n",
       "      <td>NaN</td>\n",
       "      <td>NaN</td>\n",
       "      <td>NaN</td>\n",
       "      <td>NaN</td>\n",
       "      <td>NaN</td>\n",
       "      <td>NaN</td>\n",
       "      <td>NaN</td>\n",
       "      <td>NaN</td>\n",
       "      <td>NaN</td>\n",
       "      <td>NaN</td>\n",
       "    </tr>\n",
       "    <tr>\n",
       "      <th>4</th>\n",
       "      <td>4.0</td>\n",
       "      <td>NaN</td>\n",
       "      <td>NaN</td>\n",
       "      <td>NaN</td>\n",
       "      <td>4.0</td>\n",
       "      <td>NaN</td>\n",
       "      <td>NaN</td>\n",
       "      <td>4.0</td>\n",
       "      <td>NaN</td>\n",
       "      <td>NaN</td>\n",
       "      <td>...</td>\n",
       "      <td>NaN</td>\n",
       "      <td>NaN</td>\n",
       "      <td>NaN</td>\n",
       "      <td>NaN</td>\n",
       "      <td>NaN</td>\n",
       "      <td>NaN</td>\n",
       "      <td>NaN</td>\n",
       "      <td>NaN</td>\n",
       "      <td>NaN</td>\n",
       "      <td>NaN</td>\n",
       "    </tr>\n",
       "    <tr>\n",
       "      <th>...</th>\n",
       "      <td>...</td>\n",
       "      <td>...</td>\n",
       "      <td>...</td>\n",
       "      <td>...</td>\n",
       "      <td>...</td>\n",
       "      <td>...</td>\n",
       "      <td>...</td>\n",
       "      <td>...</td>\n",
       "      <td>...</td>\n",
       "      <td>...</td>\n",
       "      <td>...</td>\n",
       "      <td>...</td>\n",
       "      <td>...</td>\n",
       "      <td>...</td>\n",
       "      <td>...</td>\n",
       "      <td>...</td>\n",
       "      <td>...</td>\n",
       "      <td>...</td>\n",
       "      <td>...</td>\n",
       "      <td>...</td>\n",
       "      <td>...</td>\n",
       "    </tr>\n",
       "    <tr>\n",
       "      <th>605</th>\n",
       "      <td>2.5</td>\n",
       "      <td>NaN</td>\n",
       "      <td>NaN</td>\n",
       "      <td>3.0</td>\n",
       "      <td>4.5</td>\n",
       "      <td>4.0</td>\n",
       "      <td>NaN</td>\n",
       "      <td>3.5</td>\n",
       "      <td>NaN</td>\n",
       "      <td>4.0</td>\n",
       "      <td>...</td>\n",
       "      <td>NaN</td>\n",
       "      <td>NaN</td>\n",
       "      <td>NaN</td>\n",
       "      <td>NaN</td>\n",
       "      <td>NaN</td>\n",
       "      <td>NaN</td>\n",
       "      <td>NaN</td>\n",
       "      <td>NaN</td>\n",
       "      <td>NaN</td>\n",
       "      <td>NaN</td>\n",
       "    </tr>\n",
       "    <tr>\n",
       "      <th>606</th>\n",
       "      <td>4.0</td>\n",
       "      <td>NaN</td>\n",
       "      <td>NaN</td>\n",
       "      <td>NaN</td>\n",
       "      <td>NaN</td>\n",
       "      <td>NaN</td>\n",
       "      <td>NaN</td>\n",
       "      <td>5.0</td>\n",
       "      <td>NaN</td>\n",
       "      <td>NaN</td>\n",
       "      <td>...</td>\n",
       "      <td>NaN</td>\n",
       "      <td>NaN</td>\n",
       "      <td>NaN</td>\n",
       "      <td>NaN</td>\n",
       "      <td>NaN</td>\n",
       "      <td>NaN</td>\n",
       "      <td>NaN</td>\n",
       "      <td>NaN</td>\n",
       "      <td>NaN</td>\n",
       "      <td>NaN</td>\n",
       "    </tr>\n",
       "    <tr>\n",
       "      <th>607</th>\n",
       "      <td>2.5</td>\n",
       "      <td>2.0</td>\n",
       "      <td>NaN</td>\n",
       "      <td>4.5</td>\n",
       "      <td>4.5</td>\n",
       "      <td>3.0</td>\n",
       "      <td>NaN</td>\n",
       "      <td>4.0</td>\n",
       "      <td>NaN</td>\n",
       "      <td>NaN</td>\n",
       "      <td>...</td>\n",
       "      <td>NaN</td>\n",
       "      <td>NaN</td>\n",
       "      <td>NaN</td>\n",
       "      <td>NaN</td>\n",
       "      <td>NaN</td>\n",
       "      <td>NaN</td>\n",
       "      <td>NaN</td>\n",
       "      <td>NaN</td>\n",
       "      <td>NaN</td>\n",
       "      <td>NaN</td>\n",
       "    </tr>\n",
       "    <tr>\n",
       "      <th>608</th>\n",
       "      <td>3.0</td>\n",
       "      <td>NaN</td>\n",
       "      <td>NaN</td>\n",
       "      <td>NaN</td>\n",
       "      <td>NaN</td>\n",
       "      <td>NaN</td>\n",
       "      <td>NaN</td>\n",
       "      <td>3.0</td>\n",
       "      <td>NaN</td>\n",
       "      <td>NaN</td>\n",
       "      <td>...</td>\n",
       "      <td>NaN</td>\n",
       "      <td>NaN</td>\n",
       "      <td>NaN</td>\n",
       "      <td>NaN</td>\n",
       "      <td>NaN</td>\n",
       "      <td>NaN</td>\n",
       "      <td>NaN</td>\n",
       "      <td>NaN</td>\n",
       "      <td>NaN</td>\n",
       "      <td>NaN</td>\n",
       "    </tr>\n",
       "    <tr>\n",
       "      <th>609</th>\n",
       "      <td>5.0</td>\n",
       "      <td>NaN</td>\n",
       "      <td>5.0</td>\n",
       "      <td>5.0</td>\n",
       "      <td>4.0</td>\n",
       "      <td>4.0</td>\n",
       "      <td>NaN</td>\n",
       "      <td>4.5</td>\n",
       "      <td>NaN</td>\n",
       "      <td>NaN</td>\n",
       "      <td>...</td>\n",
       "      <td>3.0</td>\n",
       "      <td>3.5</td>\n",
       "      <td>3.5</td>\n",
       "      <td>3.5</td>\n",
       "      <td>3.5</td>\n",
       "      <td>2.5</td>\n",
       "      <td>4.5</td>\n",
       "      <td>3.0</td>\n",
       "      <td>3.5</td>\n",
       "      <td>3.5</td>\n",
       "    </tr>\n",
       "  </tbody>\n",
       "</table>\n",
       "<p>610 rows × 9724 columns</p>\n",
       "</div>"
      ],
      "text/plain": [
       "movieId  0     1     2     3     4     5     6     7     8     9     ...  \\\n",
       "userId                                                               ...   \n",
       "0         4.0   4.0   4.0   5.0   5.0   3.0   5.0   4.0   5.0   5.0  ...   \n",
       "1         NaN   NaN   NaN   NaN   NaN   NaN   NaN   NaN   NaN   NaN  ...   \n",
       "2         NaN   NaN   NaN   NaN   NaN   NaN   NaN   NaN   NaN   NaN  ...   \n",
       "3         NaN   NaN   NaN   2.0   NaN   NaN   NaN   NaN   NaN   NaN  ...   \n",
       "4         4.0   NaN   NaN   NaN   4.0   NaN   NaN   4.0   NaN   NaN  ...   \n",
       "...       ...   ...   ...   ...   ...   ...   ...   ...   ...   ...  ...   \n",
       "605       2.5   NaN   NaN   3.0   4.5   4.0   NaN   3.5   NaN   4.0  ...   \n",
       "606       4.0   NaN   NaN   NaN   NaN   NaN   NaN   5.0   NaN   NaN  ...   \n",
       "607       2.5   2.0   NaN   4.5   4.5   3.0   NaN   4.0   NaN   NaN  ...   \n",
       "608       3.0   NaN   NaN   NaN   NaN   NaN   NaN   3.0   NaN   NaN  ...   \n",
       "609       5.0   NaN   5.0   5.0   4.0   4.0   NaN   4.5   NaN   NaN  ...   \n",
       "\n",
       "movieId  9714  9715  9716  9717  9718  9719  9720  9721  9722  9723  \n",
       "userId                                                               \n",
       "0         NaN   NaN   NaN   NaN   NaN   NaN   NaN   NaN   NaN   NaN  \n",
       "1         NaN   NaN   NaN   NaN   NaN   NaN   NaN   NaN   NaN   NaN  \n",
       "2         NaN   NaN   NaN   NaN   NaN   NaN   NaN   NaN   NaN   NaN  \n",
       "3         NaN   NaN   NaN   NaN   NaN   NaN   NaN   NaN   NaN   NaN  \n",
       "4         NaN   NaN   NaN   NaN   NaN   NaN   NaN   NaN   NaN   NaN  \n",
       "...       ...   ...   ...   ...   ...   ...   ...   ...   ...   ...  \n",
       "605       NaN   NaN   NaN   NaN   NaN   NaN   NaN   NaN   NaN   NaN  \n",
       "606       NaN   NaN   NaN   NaN   NaN   NaN   NaN   NaN   NaN   NaN  \n",
       "607       NaN   NaN   NaN   NaN   NaN   NaN   NaN   NaN   NaN   NaN  \n",
       "608       NaN   NaN   NaN   NaN   NaN   NaN   NaN   NaN   NaN   NaN  \n",
       "609       3.0   3.5   3.5   3.5   3.5   2.5   4.5   3.0   3.5   3.5  \n",
       "\n",
       "[610 rows x 9724 columns]"
      ]
     },
     "execution_count": 22,
     "metadata": {},
     "output_type": "execute_result"
    }
   ],
   "source": [
    "#TOFILL\n",
    "dataset2 = dataset.copy()\n",
    "dataset2.pivot(index='userId', columns='movieId', values='rating')"
   ]
  },
  {
   "cell_type": "markdown",
   "metadata": {},
   "source": [
    "Print all the ratings of user 1. To do so, use the *movies.csv* file and your `movie_ids_map` dictionnary to find the movie title from the new movie indexes, and print the real movie title associated to each rating of user 1 :"
   ]
  },
  {
   "cell_type": "code",
   "execution_count": 23,
   "metadata": {},
   "outputs": [],
   "source": [
    "#TOFILL\n",
    "# creating DF with user 1 values on dataset \n",
    "user1 = dataset[dataset['userId'] == 1]\n",
    "# user1['movieId']"
   ]
  },
  {
   "cell_type": "code",
   "execution_count": 24,
   "metadata": {
    "scrolled": true
   },
   "outputs": [],
   "source": [
    "# Loop to get user1_moviesId_list\n",
    "\n",
    "user1_moviesId_list = [] \n",
    "for Id in user1['movieId']:\n",
    "    user1_moviesId_list.append(Id)\n",
    "    "
   ]
  },
  {
   "cell_type": "code",
   "execution_count": 25,
   "metadata": {},
   "outputs": [],
   "source": [
    "# list out keys and values separately\n",
    "key_mov_Id_map_list = list(movie_ids_map.keys())\n",
    "val_mov_Id_map_list = list(movie_ids_map.values())\n",
    "user1_moviesId_list\n",
    "\n",
    "# loop to get key with values from user1_moviesId_list\n",
    "\n",
    "old_movId_list = []\n",
    "for Id in user1_moviesId_list: \n",
    "    position = val_mov_Id_map_list.index(Id)\n",
    "    # print(key_mov_Id_map_list[position])\n",
    "    old_movId_list.append(key_mov_Id_map_list[position])"
   ]
  },
  {
   "cell_type": "code",
   "execution_count": 26,
   "metadata": {},
   "outputs": [
    {
     "name": "stdout",
     "output_type": "stream",
     "text": [
      "['Shawshank Redemption, The (1994)']\n",
      "['Girl with the Dragon Tattoo, The (2011)']\n",
      "['Django Unchained (2012)']\n",
      "['Good Will Hunting (1997)']\n",
      "['Wolf of Wall Street, The (2013)']\n",
      "['Shutter Island (2010)']\n",
      "['Step Brothers (2008)']\n",
      "['Dark Knight Rises, The (2012)']\n",
      "['Mad Max: Fury Road (2015)']\n",
      "['Inception (2010)']\n",
      "['Louis C.K.: Hilarious (2010)']\n",
      "['Inglourious Basterds (2009)']\n",
      "['Collateral (2004)']\n",
      "['Talladega Nights: The Ballad of Ricky Bobby (2006)']\n",
      "['Zombieland (2009)']\n",
      "['Tommy Boy (1995)']\n",
      "['Town, The (2010)']\n",
      "['Ex Machina (2015)']\n",
      "['Dark Knight, The (2008)']\n",
      "['Gladiator (2000)']\n",
      "['Whiplash (2014)']\n",
      "['Departed, The (2006)']\n",
      "['Kill Bill: Vol. 1 (2003)']\n",
      "['Exit Through the Gift Shop (2010)']\n",
      "['The Jinx: The Life and Deaths of Robert Durst (2015)']\n",
      "['Inside Job (2010)']\n",
      "['The Drop (2014)']\n",
      "['Warrior (2011)']\n",
      "['Interstellar (2014)']\n"
     ]
    }
   ],
   "source": [
    "# loop to print movie titles rated by user1 \n",
    "\n",
    "for Id in old_movId_list:\n",
    "    print(df_movies['title'][df_movies['movieId'] == Id].values)"
   ]
  },
  {
   "cell_type": "markdown",
   "metadata": {},
   "source": [
    "## Matrix Factorization with Keras"
   ]
  },
  {
   "cell_type": "markdown",
   "metadata": {},
   "source": [
    "Keras is a python library made for easily designing complex models such as deep learning models, in this module we are going to use just a few features from it to implement our simple matrix factorization model, as it makes a good introduction to the library before the next module about deep learning where you will also be using Keras.\n",
    "\n",
    "The following function `get_mf_model` implements the model described in equation (2) in Koren's paper (without the $+\\lambda(\\ldots)$ part for the moment). So it basically tries to find the $p_u \\in \\mathbb{R}^k$ and $q_i \\in \\mathbb{R}^k$ vectors that minimizes the squared loss between their dot product $p_u^Tq_i$, and the observed ratings $r_{ui}$, from random initialization of $p_u$ and $q_i$. In machine learning terms, $p_u$ and $q_i$ are called the *embeddings* of the user $u$ and of the movie $i$ respectively. Their size $k$ is an hyper-parameter of the model, which is called the *rank* of the factorization.\n",
    "\n",
    "To do so, it uses the functional API from Keras (the other API proposed is the sequential one, but is not adapted for this model), you can read about it here : https://keras.io/guides/functional_api/ .\n",
    "\n",
    "Keras, unlike Numpy, uses a different progamming paradigm. Numpy uses an *imperative* programming style (like python in general), meaning that when you execute `x.dot(y)`, the dot product is actually calculated. Keras however, uses a *declarative* (also called *symbolic*) programming style, meaning that when you write `Dot()([x, y])`, you tell Keras than when you will call the *fit* function of your model in the future, you will want to do a dot product between the future values that *x* and *y* will have. And this is what Keras is about, it allows you to build your own model as a sequence of operations, describing each input and output, and then later fit it and predict with it.\n",
    "\n",
    "Let's not get in too many details, but retain that the `get_mf_model` function below is not actually executing the model, it creates it, and returns an object of the class `keras.models.Model` that has been instructed with your model operations, and this object can then be trained with the classic `fit` and `predict` functions. \n",
    "\n",
    "Read carefully the comments in the code of the function to understand the different steps in the model creation process:"
   ]
  },
  {
   "cell_type": "code",
   "execution_count": 27,
   "metadata": {},
   "outputs": [],
   "source": [
    "\n",
    "\n",
    "def get_mf_model(nb_users, nb_movies, k):\n",
    "    \"\"\"\n",
    "    Build a simple matrix factorization model from\n",
    "    the number of user, the number of movies, and the size of the embeddings k.\n",
    "    \n",
    "    Input:\n",
    "        nb_users : int : The number of unique users\n",
    "        nb_movies : int : The number of unique movies\n",
    "        k : int : The size of the embeddings\n",
    "        \n",
    "    Output:\n",
    "        model : keras.models.Model : A keras model that implements matrix factorization\n",
    "        \n",
    "    \"\"\"\n",
    "    dim_embedddings = k\n",
    "    \n",
    "    #Inputs:\n",
    "    #First we describe the input of the model, that is the training data that we will give it as X\n",
    "    #In our case, the input are just the user index u and the movie index i.\n",
    "    #So we declare two inputs of size one:\n",
    "    u = Input(shape=(1,), dtype='int32', name = \"u__user_id\")\n",
    "    i = Input(shape=(1,), dtype='int32', name = 'i__movie_id')\n",
    "    \n",
    "    #Then let's declare our variable, the embeddings p and q.\n",
    "    #First with the users, we declare that we have nb_users embeddings, each of size dim_embeddings.\n",
    "    #An embedding object is indexed by calling it with the index parameter like a function,\n",
    "    #so we add a `(u)` at the end to tell keras we want it to be indexed \n",
    "    #by the user ids we will pass at training time as inputs.\n",
    "    p_u = Embedding(nb_users, dim_embedddings, name=\"p_u__user_embedding\")(u)\n",
    "    \n",
    "    #Unfortunatly, when indexing an embeddings it keeps [1,k] matrix shape instead\n",
    "    #of just a [k] vector, so we have to tell Keras that we just want a vector by\n",
    "    #redefining its shape:\n",
    "    p_u = Reshape((dim_embedddings,), name=\"p_u__user_embedding_reshaped\")(p_u)\n",
    "    \n",
    "    # Same thing for the movie embeddings:\n",
    "    q_i = Embedding(nb_movies, dim_embedddings, name=\"q_i__movie_embedding\")(i)\n",
    "    q_i = Reshape((dim_embedddings,), name=\"q_i__movie_embedding_reshaped\")(q_i)\n",
    "    \n",
    "    #Then the dot product between the two indexed embeddings, \n",
    "    #we'll understand the axes = 1 part later.\n",
    "    r_hat = Dot(axes = 1)([q_i, p_u])\n",
    "\n",
    "    #We define our model by giving its input and outputs, in our case\n",
    "    #the user and movie ids will be the inputs, and the output will be\n",
    "    #the estimated rating r_hat, that is the dot product of the \n",
    "    #corresponding embeddings.\n",
    "    model = Model(inputs=[u, i], outputs=r_hat)\n",
    "    \n",
    "    #Finally, we define the loss and metric to use, in our case the mean squared error,\n",
    "    #along with the optimization method, we'll understand what is 'adam' later also.\n",
    "    model.compile(loss='mse', optimizer='adam', metrics=[\"mse\"])\n",
    "\n",
    "    return model\n",
    "\n"
   ]
  },
  {
   "cell_type": "code",
   "execution_count": 28,
   "metadata": {},
   "outputs": [
    {
     "name": "stderr",
     "output_type": "stream",
     "text": [
      "2022-06-13 14:15:55.585316: I tensorflow/compiler/jit/xla_cpu_device.cc:41] Not creating XLA devices, tf_xla_enable_xla_devices not set\n",
      "2022-06-13 14:15:55.586743: I tensorflow/stream_executor/platform/default/dso_loader.cc:49] Successfully opened dynamic library libcuda.so.1\n",
      "2022-06-13 14:15:55.618301: E tensorflow/stream_executor/cuda/cuda_driver.cc:328] failed call to cuInit: CUDA_ERROR_COMPAT_NOT_SUPPORTED_ON_DEVICE: forward compatibility was attempted on non supported HW\n",
      "2022-06-13 14:15:55.618355: I tensorflow/stream_executor/cuda/cuda_diagnostics.cc:169] retrieving CUDA diagnostic information for host: CN-DATA8-08\n",
      "2022-06-13 14:15:55.618368: I tensorflow/stream_executor/cuda/cuda_diagnostics.cc:176] hostname: CN-DATA8-08\n",
      "2022-06-13 14:15:55.618551: I tensorflow/stream_executor/cuda/cuda_diagnostics.cc:200] libcuda reported version is: 510.73.5\n",
      "2022-06-13 14:15:55.618593: I tensorflow/stream_executor/cuda/cuda_diagnostics.cc:204] kernel reported version is: 470.129.6\n",
      "2022-06-13 14:15:55.618604: E tensorflow/stream_executor/cuda/cuda_diagnostics.cc:313] kernel version 470.129.6 does not match DSO version 510.73.5 -- cannot find working devices in this configuration\n",
      "2022-06-13 14:15:55.619123: I tensorflow/core/platform/cpu_feature_guard.cc:142] This TensorFlow binary is optimized with oneAPI Deep Neural Network Library (oneDNN) to use the following CPU instructions in performance-critical operations:  SSE4.1 SSE4.2 AVX AVX2 AVX512F FMA\n",
      "To enable them in other operations, rebuild TensorFlow with the appropriate compiler flags.\n",
      "2022-06-13 14:15:55.619804: I tensorflow/compiler/jit/xla_gpu_device.cc:99] Not creating XLA devices, tf_xla_enable_xla_devices not set\n"
     ]
    }
   ],
   "source": [
    "k = 30\n",
    "mf_model = get_mf_model(nb_users, nb_movies, k)"
   ]
  },
  {
   "cell_type": "markdown",
   "metadata": {},
   "source": [
    "Keras allows us to have a textual overview of the model we defined with the *summary()* function:"
   ]
  },
  {
   "cell_type": "code",
   "execution_count": 29,
   "metadata": {},
   "outputs": [
    {
     "name": "stdout",
     "output_type": "stream",
     "text": [
      "Model: \"model\"\n",
      "__________________________________________________________________________________________________\n",
      "Layer (type)                    Output Shape         Param #     Connected to                     \n",
      "==================================================================================================\n",
      "i__movie_id (InputLayer)        [(None, 1)]          0                                            \n",
      "__________________________________________________________________________________________________\n",
      "u__user_id (InputLayer)         [(None, 1)]          0                                            \n",
      "__________________________________________________________________________________________________\n",
      "q_i__movie_embedding (Embedding (None, 1, 30)        291720      i__movie_id[0][0]                \n",
      "__________________________________________________________________________________________________\n",
      "p_u__user_embedding (Embedding) (None, 1, 30)        18300       u__user_id[0][0]                 \n",
      "__________________________________________________________________________________________________\n",
      "q_i__movie_embedding_reshaped ( (None, 30)           0           q_i__movie_embedding[0][0]       \n",
      "__________________________________________________________________________________________________\n",
      "p_u__user_embedding_reshaped (R (None, 30)           0           p_u__user_embedding[0][0]        \n",
      "__________________________________________________________________________________________________\n",
      "dot (Dot)                       (None, 1)            0           q_i__movie_embedding_reshaped[0][\n",
      "                                                                 p_u__user_embedding_reshaped[0][0\n",
      "==================================================================================================\n",
      "Total params: 310,020\n",
      "Trainable params: 310,020\n",
      "Non-trainable params: 0\n",
      "__________________________________________________________________________________________________\n"
     ]
    }
   ],
   "source": [
    "mf_model.summary()"
   ]
  },
  {
   "cell_type": "markdown",
   "metadata": {},
   "source": [
    "Each of the keras objects we defined in our model is called a *layer*, and we find them in order in the first column. The *Param #* column gives the number of trainable parameters of the layer, in our case these are just the embeddings, and they should be equal to $nb\\_users \\times k$ and $nb\\_movies \\times k$. The *Connected to* column tells for each layer which layers are inputs for this layer (you can safely ignore the `[0][0]` for this module).\n",
    "\n",
    "Finally the *Output Shape* column gives us the shape of the layer, each layer being a *tensor*. A tensor is the generalization of matrices to more than two dimensions. So a matrix is a 2D-tensor and a vector is a 1D-tensor, and each layer can be a matrix, a vector, or a higher-order tensor. The output shape we see is indeed the expected one at each layer, except there is this `None` in first dimension, why is that ?\n",
    "\n",
    "To understand it, we have to get into how Keras is actually minimizing the mean squared loss of our model. In general, when in comes to minimizing error functions on big datasets, a generic method is to use Stocastic Gradient Descent (SGD), briefly described in page 4 of Koren's article. \n",
    "\n",
    "Read about gradient descent, SGD and its variant mini-batch SGD in Chapter 4 of *Hands on ML ...* (pages 111-120):\n",
    "https://drive.google.com/file/d/1t0rc3x5YQBgLXVLET6BzR4jn5vzMI_m0/view?usp=sharing\n",
    "\n",
    "This is what Keras does when it fits the model, it initializes the $q_i$ and $p_u$ embedding vectors randomly, and then perform mini-batch SGD to find the minimum mean squared error on the training set. Since mini-batching means considering multiple training samples at the same time, Keras keeps the first dimension of each layer to stack the samples of each batch, this is why `None` is written, the actual batch_size being set at training time when calling the `fit` function. This is also why we had to set `axes=1` when calling the `Dot` layer in the `get_mf_model` function, because the first dimension (axe 0) of each layer is kept for the batches. And about the `optimizer='adam'`, it is just a variation of mini-batch SGD that is faster, we'll get into more details about SGD variations in the optional parts of this notebook."
   ]
  },
  {
   "cell_type": "markdown",
   "metadata": {},
   "source": [
    "Let's finally train our matrix factorization model on our movieLens data. The `epochs` parameter controls the number of iterations of the SGD algorithm, that is the number of times it is going to pass on each training rating and update the embeddings accordingly. Let's keep it at 20 for the moment:"
   ]
  },
  {
   "cell_type": "code",
   "execution_count": 32,
   "metadata": {
    "scrolled": true
   },
   "outputs": [
    {
     "name": "stderr",
     "output_type": "stream",
     "text": [
      "2022-06-13 14:52:16.167780: I tensorflow/compiler/mlir/mlir_graph_optimization_pass.cc:116] None of the MLIR optimization passes are enabled (registered 2)\n",
      "2022-06-13 14:52:16.187069: I tensorflow/core/platform/profile_utils/cpu_utils.cc:112] CPU Frequency: 1700000000 Hz\n"
     ]
    },
    {
     "name": "stdout",
     "output_type": "stream",
     "text": [
      "Epoch 1/20\n",
      "178/178 [==============================] - 1s 3ms/step - loss: 13.3234 - mse: 13.3234\n",
      "Epoch 2/20\n",
      "178/178 [==============================] - 0s 2ms/step - loss: 12.5054 - mse: 12.5054\n",
      "Epoch 3/20\n",
      "178/178 [==============================] - 0s 2ms/step - loss: 6.7180 - mse: 6.7180\n",
      "Epoch 4/20\n",
      "178/178 [==============================] - 0s 2ms/step - loss: 2.8475 - mse: 2.8475\n",
      "Epoch 5/20\n",
      "178/178 [==============================] - 0s 2ms/step - loss: 1.8623 - mse: 1.8623\n",
      "Epoch 6/20\n",
      "178/178 [==============================] - 0s 3ms/step - loss: 1.4084 - mse: 1.4084\n",
      "Epoch 7/20\n",
      "178/178 [==============================] - 0s 2ms/step - loss: 1.1501 - mse: 1.1501\n",
      "Epoch 8/20\n",
      "178/178 [==============================] - 0s 2ms/step - loss: 0.9854 - mse: 0.9854\n",
      "Epoch 9/20\n",
      "178/178 [==============================] - 0s 2ms/step - loss: 0.8793 - mse: 0.8793\n",
      "Epoch 10/20\n",
      "178/178 [==============================] - 0s 2ms/step - loss: 0.7900 - mse: 0.7900\n",
      "Epoch 11/20\n",
      "178/178 [==============================] - 0s 2ms/step - loss: 0.7229 - mse: 0.7229\n",
      "Epoch 12/20\n",
      "178/178 [==============================] - 0s 2ms/step - loss: 0.6866 - mse: 0.6866\n",
      "Epoch 13/20\n",
      "178/178 [==============================] - 0s 2ms/step - loss: 0.6537 - mse: 0.6537\n",
      "Epoch 14/20\n",
      "178/178 [==============================] - 0s 2ms/step - loss: 0.6235 - mse: 0.6235\n",
      "Epoch 15/20\n",
      "178/178 [==============================] - 0s 2ms/step - loss: 0.6002 - mse: 0.6002\n",
      "Epoch 16/20\n",
      "178/178 [==============================] - 0s 2ms/step - loss: 0.5789 - mse: 0.5789\n",
      "Epoch 17/20\n",
      "178/178 [==============================] - 0s 2ms/step - loss: 0.5666 - mse: 0.5666\n",
      "Epoch 18/20\n",
      "178/178 [==============================] - 0s 2ms/step - loss: 0.5591 - mse: 0.5591\n",
      "Epoch 19/20\n",
      "178/178 [==============================] - 0s 2ms/step - loss: 0.5407 - mse: 0.5407\n",
      "Epoch 20/20\n",
      "178/178 [==============================] - 0s 2ms/step - loss: 0.5241 - mse: 0.5241\n"
     ]
    }
   ],
   "source": [
    "history = mf_model.fit(X_train, y_train, epochs=20, batch_size=512)"
   ]
  },
  {
   "cell_type": "markdown",
   "metadata": {},
   "source": [
    "And we can now try to predict the test ratings, and report our root mean squared error like in other regression problems:"
   ]
  },
  {
   "cell_type": "code",
   "execution_count": 33,
   "metadata": {},
   "outputs": [
    {
     "name": "stdout",
     "output_type": "stream",
     "text": [
      " Test RMSE : 1.0844122943178018 \n"
     ]
    }
   ],
   "source": [
    "from sklearn.metrics import mean_squared_error\n",
    "from math import sqrt\n",
    "\n",
    "y_pred = mf_model.predict(X_test)\n",
    "\n",
    "test_rmse = sqrt(mean_squared_error(y_test, y_pred))\n",
    "\n",
    "print(\" Test RMSE : %s \" % test_rmse)"
   ]
  },
  {
   "cell_type": "markdown",
   "metadata": {},
   "source": [
    "You should get about 1.1/1.2 RMSE, we can probably do better !"
   ]
  },
  {
   "cell_type": "markdown",
   "metadata": {},
   "source": [
    "## Train the same model on your GPU and on your CPU, and compare the training time"
   ]
  },
  {
   "cell_type": "markdown",
   "metadata": {},
   "source": [
    "Keras uses the `tensorflow` python library for the computation part, if you have installed your GPU drivers and the GPU version of keras, then it will run on your GPU by default. We can force tensorflow to use the cpu instead:"
   ]
  },
  {
   "cell_type": "code",
   "execution_count": 34,
   "metadata": {},
   "outputs": [
    {
     "name": "stdout",
     "output_type": "stream",
     "text": [
      "Epoch 1/20\n",
      "178/178 [==============================] - 1s 2ms/step - loss: 13.3575 - mse: 13.3575\n",
      "Epoch 2/20\n",
      "178/178 [==============================] - 0s 2ms/step - loss: 12.5804 - mse: 12.5804\n",
      "Epoch 3/20\n",
      "178/178 [==============================] - 0s 2ms/step - loss: 6.7737 - mse: 6.7737\n",
      "Epoch 4/20\n",
      "178/178 [==============================] - 0s 2ms/step - loss: 2.8364 - mse: 2.8364\n",
      "Epoch 5/20\n",
      "178/178 [==============================] - 0s 2ms/step - loss: 1.8226 - mse: 1.8226\n",
      "Epoch 6/20\n",
      "178/178 [==============================] - 0s 2ms/step - loss: 1.3812 - mse: 1.3812\n",
      "Epoch 7/20\n",
      "178/178 [==============================] - 0s 2ms/step - loss: 1.1478 - mse: 1.1478\n",
      "Epoch 8/20\n",
      "178/178 [==============================] - 0s 2ms/step - loss: 0.9935 - mse: 0.9935\n",
      "Epoch 9/20\n",
      "178/178 [==============================] - 0s 2ms/step - loss: 0.8971 - mse: 0.8971\n",
      "Epoch 10/20\n",
      "178/178 [==============================] - 0s 2ms/step - loss: 0.8256 - mse: 0.8256\n",
      "Epoch 11/20\n",
      "178/178 [==============================] - 0s 2ms/step - loss: 0.7773 - mse: 0.7773\n",
      "Epoch 12/20\n",
      "178/178 [==============================] - 0s 2ms/step - loss: 0.7325 - mse: 0.7325\n",
      "Epoch 13/20\n",
      "178/178 [==============================] - 0s 3ms/step - loss: 0.7028 - mse: 0.7028\n",
      "Epoch 14/20\n",
      "178/178 [==============================] - 0s 2ms/step - loss: 0.6713 - mse: 0.6713\n",
      "Epoch 15/20\n",
      "178/178 [==============================] - 0s 2ms/step - loss: 0.6499 - mse: 0.6499\n",
      "Epoch 16/20\n",
      "178/178 [==============================] - 0s 2ms/step - loss: 0.6348 - mse: 0.6348\n",
      "Epoch 17/20\n",
      "178/178 [==============================] - 0s 2ms/step - loss: 0.6048 - mse: 0.6048\n",
      "Epoch 18/20\n",
      "178/178 [==============================] - 0s 2ms/step - loss: 0.5903 - mse: 0.5903\n",
      "Epoch 19/20\n",
      "178/178 [==============================] - 0s 2ms/step - loss: 0.5819 - mse: 0.5819\n",
      "Epoch 20/20\n",
      "178/178 [==============================] - 0s 2ms/step - loss: 0.5803 - mse: 0.5803\n"
     ]
    }
   ],
   "source": [
    "import tensorflow as tf\n",
    "\n",
    "with tf.device('/cpu:0'):\n",
    "    mf_model = get_mf_model(nb_users, nb_movies, k)\n",
    "    history = mf_model.fit(X_train, y_train, epochs=20, batch_size=512)"
   ]
  },
  {
   "cell_type": "markdown",
   "metadata": {},
   "source": [
    "Our matrix farctorization model is a really simple model, with not enough operations to parallelize on the GPU, this is why the training time is quite similar for this model. However with deep networks models the training time can be up to 10x times faster on a GPU."
   ]
  },
  {
   "cell_type": "markdown",
   "metadata": {},
   "source": [
    "## Adding user and movie bias"
   ]
  },
  {
   "cell_type": "markdown",
   "metadata": {},
   "source": [
    "Let's enhance our matrix factorization model and add the user and movie biases to the rating estimation function as in equation (4) of Koren's paper ; except we will for the moment forget about the global bias $\\mu$ as it is not so intuitive to implement in Keras. Fill the function below to do so:"
   ]
  },
  {
   "cell_type": "code",
   "execution_count": 44,
   "metadata": {},
   "outputs": [],
   "source": [
    "from keras.layers.merge import Add\n",
    "\n",
    "def get_mf_bias_model(nb_users, nb_movies, k):\n",
    "    \"\"\"\n",
    "    Build a smatrix factorization model with user and movie biases\n",
    "    \n",
    "    Input:\n",
    "        nb_users : int : The number of unique users\n",
    "        nb_movies : int : The number of unique movies\n",
    "        k : int : The size of the embeddings\n",
    "        \n",
    "    Output:\n",
    "        model : keras.models.Model : A keras model that implements matrix factorization with biases\n",
    "        \n",
    "    \"\"\"\n",
    "    \n",
    "    dim_embedddings = k\n",
    "    \n",
    "    # User embeddings\n",
    "    u = Input(shape=(1,), dtype='int32', name = 'u__user_id')\n",
    "    p_u = Embedding(nb_users, dim_embedddings, name=\"p_u__user_embedding\")(u)\n",
    "    p_u = Reshape((dim_embedddings,), name=\"p_u__user_embedding_reshaped\")(p_u)\n",
    "    \n",
    "    # Movie embeddings\n",
    "    i = Input(shape=(1,), dtype='int32', name = 'i__movie_id')\n",
    "    q_i = Embedding(nb_movies, dim_embedddings, name=\"q_i__movie_embedding\")(i)\n",
    "    q_i = Reshape((dim_embedddings,), name=\"q_i__movie_embedding_reshaped\")(q_i)\n",
    "\n",
    "    # Dot product\n",
    "    d = Dot(axes = 1)([p_u, q_i])\n",
    "    \n",
    "    # Computing user biais = the embeddings of the user of 1D  \n",
    "    b_u = Embedding(nb_users, 1)(u)\n",
    "    b_u = Reshape((1,),)(b_u)\n",
    "    \n",
    "    # Computing movie biais = the embeddings of the movies of 1D\n",
    "    b_i = Embedding(nb_movies, 1)(i)\n",
    "    b_i = Reshape((1,),)(b_i)\n",
    "    \n",
    "    # Adding use and movie biais to de output\n",
    "    # source : https://stackoverflow.com/questions/44932823/bias-weights-for-embedding-layers-in-keras\n",
    "    r_hat = Add()([d, b_i, b_u])\n",
    "    \n",
    "    model = Model(inputs=[u, i], outputs=r_hat)\n",
    "    \n",
    "    model.compile(loss='mse', optimizer='adam', metrics=[\"mse\"])\n",
    "    \n",
    "    return model\n",
    "\n"
   ]
  },
  {
   "cell_type": "code",
   "execution_count": 40,
   "metadata": {},
   "outputs": [],
   "source": [
    "mf_bias_model = get_mf_bias_model(nb_users, nb_movies, k)"
   ]
  },
  {
   "cell_type": "code",
   "execution_count": 41,
   "metadata": {},
   "outputs": [
    {
     "name": "stdout",
     "output_type": "stream",
     "text": [
      "Model: \"model_3\"\n",
      "__________________________________________________________________________________________________\n",
      "Layer (type)                    Output Shape         Param #     Connected to                     \n",
      "==================================================================================================\n",
      "u__user_id (InputLayer)         [(None, 1)]          0                                            \n",
      "__________________________________________________________________________________________________\n",
      "i__movie_id (InputLayer)        [(None, 1)]          0                                            \n",
      "__________________________________________________________________________________________________\n",
      "p_u__user_embedding (Embedding) (None, 1, 30)        18300       u__user_id[0][0]                 \n",
      "__________________________________________________________________________________________________\n",
      "q_i__movie_embedding (Embedding (None, 1, 30)        291720      i__movie_id[0][0]                \n",
      "__________________________________________________________________________________________________\n",
      "p_u__user_embedding_reshaped (R (None, 30)           0           p_u__user_embedding[0][0]        \n",
      "__________________________________________________________________________________________________\n",
      "q_i__movie_embedding_reshaped ( (None, 30)           0           q_i__movie_embedding[0][0]       \n",
      "__________________________________________________________________________________________________\n",
      "embedding_4 (Embedding)         (None, 1, 1)         9724        i__movie_id[0][0]                \n",
      "__________________________________________________________________________________________________\n",
      "embedding_3 (Embedding)         (None, 1, 1)         610         u__user_id[0][0]                 \n",
      "__________________________________________________________________________________________________\n",
      "dot_4 (Dot)                     (None, 1)            0           p_u__user_embedding_reshaped[0][0\n",
      "                                                                 q_i__movie_embedding_reshaped[0][\n",
      "__________________________________________________________________________________________________\n",
      "reshape_4 (Reshape)             (None, 1)            0           embedding_4[0][0]                \n",
      "__________________________________________________________________________________________________\n",
      "reshape_3 (Reshape)             (None, 1)            0           embedding_3[0][0]                \n",
      "__________________________________________________________________________________________________\n",
      "add_1 (Add)                     (None, 1)            0           dot_4[0][0]                      \n",
      "                                                                 reshape_4[0][0]                  \n",
      "                                                                 reshape_3[0][0]                  \n",
      "==================================================================================================\n",
      "Total params: 320,354\n",
      "Trainable params: 320,354\n",
      "Non-trainable params: 0\n",
      "__________________________________________________________________________________________________\n"
     ]
    }
   ],
   "source": [
    "mf_bias_model.summary()"
   ]
  },
  {
   "cell_type": "code",
   "execution_count": 54,
   "metadata": {},
   "outputs": [
    {
     "name": "stdout",
     "output_type": "stream",
     "text": [
      "Epoch 1/20\n",
      "178/178 [==============================] - 0s 3ms/step - loss: 0.5426 - mse: 0.5426\n",
      "Epoch 2/20\n",
      "178/178 [==============================] - 0s 3ms/step - loss: 0.5282 - mse: 0.5282\n",
      "Epoch 3/20\n",
      "178/178 [==============================] - 0s 3ms/step - loss: 0.5139 - mse: 0.5139\n",
      "Epoch 4/20\n",
      "178/178 [==============================] - 0s 3ms/step - loss: 0.5001 - mse: 0.5001\n",
      "Epoch 5/20\n",
      "178/178 [==============================] - 0s 3ms/step - loss: 0.4861 - mse: 0.4861\n",
      "Epoch 6/20\n",
      "178/178 [==============================] - 0s 3ms/step - loss: 0.4719 - mse: 0.4719\n",
      "Epoch 7/20\n",
      "178/178 [==============================] - 0s 3ms/step - loss: 0.4584 - mse: 0.4584\n",
      "Epoch 8/20\n",
      "178/178 [==============================] - 0s 3ms/step - loss: 0.4447 - mse: 0.4447\n",
      "Epoch 9/20\n",
      "178/178 [==============================] - 0s 2ms/step - loss: 0.4310 - mse: 0.4310\n",
      "Epoch 10/20\n",
      "178/178 [==============================] - 0s 3ms/step - loss: 0.4180 - mse: 0.4180\n",
      "Epoch 11/20\n",
      "178/178 [==============================] - 0s 2ms/step - loss: 0.4048 - mse: 0.4048\n",
      "Epoch 12/20\n",
      "178/178 [==============================] - 0s 3ms/step - loss: 0.3915 - mse: 0.3915\n",
      "Epoch 13/20\n",
      "178/178 [==============================] - 0s 3ms/step - loss: 0.3789 - mse: 0.3789\n",
      "Epoch 14/20\n",
      "178/178 [==============================] - 0s 3ms/step - loss: 0.3660 - mse: 0.3660\n",
      "Epoch 15/20\n",
      "178/178 [==============================] - 0s 3ms/step - loss: 0.3536 - mse: 0.3536\n",
      "Epoch 16/20\n",
      "178/178 [==============================] - 0s 3ms/step - loss: 0.3413 - mse: 0.3413\n",
      "Epoch 17/20\n",
      "178/178 [==============================] - 0s 3ms/step - loss: 0.3293 - mse: 0.3293\n",
      "Epoch 18/20\n",
      "178/178 [==============================] - 0s 3ms/step - loss: 0.3176 - mse: 0.3176\n",
      "Epoch 19/20\n",
      "178/178 [==============================] - 0s 2ms/step - loss: 0.3064 - mse: 0.3064\n",
      "Epoch 20/20\n",
      "178/178 [==============================] - 0s 3ms/step - loss: 0.2956 - mse: 0.2956\n"
     ]
    }
   ],
   "source": [
    "history = mf_bias_model.fit(X_train, y_train, epochs=20, batch_size=512)\n"
   ]
  },
  {
   "cell_type": "code",
   "execution_count": 56,
   "metadata": {},
   "outputs": [
    {
     "name": "stdout",
     "output_type": "stream",
     "text": [
      " Test RMSE : 1.022039379369746 \n"
     ]
    }
   ],
   "source": [
    "y_pred = mf_bias_model.predict(X_test)\n",
    "\n",
    "test_rmse = sqrt(mean_squared_error(y_test, y_pred))\n",
    "\n",
    "print(\" Test RMSE : %s \" % test_rmse)"
   ]
  },
  {
   "cell_type": "markdown",
   "metadata": {},
   "source": [
    "You should get a lower RMSE, about 1.0/1.1"
   ]
  },
  {
   "cell_type": "markdown",
   "metadata": {},
   "source": [
    "## Adding L2 regularization"
   ]
  },
  {
   "cell_type": "markdown",
   "metadata": {},
   "source": [
    "For the moment we have omitted the regularization of the embeddings and bias parameters, as described in equation (5) of Koren's paper. We are now going to add them to the model, have a look at https://keras.io/layers/embeddings/ and https://keras.io/regularizers/ to see how to do this with keras. Fill the function below to implement it:"
   ]
  },
  {
   "cell_type": "code",
   "execution_count": 57,
   "metadata": {},
   "outputs": [],
   "source": [
    "from keras import regularizers\n",
    "\n",
    "def get_mf_bias_l2_reg_model(nb_users, nb_movies, k, lambda_):\n",
    "    \"\"\"\n",
    "    Build a smatrix factorization model with user and movie biases, and L2 regularization\n",
    "    \n",
    "    Input:\n",
    "        nb_users : int : The number of unique users\n",
    "        nb_movies : int : The number of unique movies\n",
    "        k : int : The size of the embeddings\n",
    "        \n",
    "    Output:\n",
    "        model : keras.models.Model : A keras model that implements matrix factorization with biases\n",
    "            and L2 regularization\n",
    "        \n",
    "    \"\"\"\n",
    "    \n",
    "    #TOFILL\n",
    "    \n",
    "    dim_embedddings = k\n",
    "    \n",
    "    # User embeddings\n",
    "    u = Input(shape=(1,), dtype='int32', name = 'u__user_id')\n",
    "    p_u = Embedding(nb_users, dim_embedddings, name=\"p_u__user_embedding\", embeddings_regularizer=regularizers.L2(lambda_))(u)\n",
    "    p_u = Reshape((dim_embedddings,), name=\"p_u__user_embedding_reshaped\")(p_u)\n",
    "    \n",
    "    # Movie embeddings\n",
    "    i = Input(shape=(1,), dtype='int32', name = 'i__movie_id')\n",
    "    q_i = Embedding(nb_movies, dim_embedddings, name=\"q_i__movie_embedding\", embeddings_regularizer=regularizers.L2(lambda_))(i)\n",
    "    q_i = Reshape((dim_embedddings,), name=\"q_i__movie_embedding_reshaped\")(q_i)\n",
    "\n",
    "    # Dot product\n",
    "    d = Dot(axes = 1)([p_u, q_i])\n",
    "    \n",
    "    # Computing user biais = the embeddings of the user of 1D  \n",
    "    b_u = Embedding(nb_users, 1, embeddings_regularizer=regularizers.L2(lambda_))(u)\n",
    "    b_u = Reshape((1,),)(b_u)\n",
    "    \n",
    "    # Computing movie biais = the embeddings of the movies of 1D\n",
    "    b_i = Embedding(nb_movies, 1, embeddings_regularizer=regularizers.L2(lambda_))(i)\n",
    "    b_i = Reshape((1,),)(b_i)\n",
    "    \n",
    "    # Adding use and movie biais to de output\n",
    "    # source : https://stackoverflow.com/questions/44932823/bias-weights-for-embedding-layers-in-keras\n",
    "    r_hat = Add()([d, b_i, b_u])\n",
    "    \n",
    "    model = Model(inputs=[u, i], outputs=r_hat)\n",
    "    \n",
    "    model.compile(loss='mse', optimizer='adam', metrics=[\"mse\"])\n",
    "    \n",
    "    return model\n",
    "\n"
   ]
  },
  {
   "cell_type": "code",
   "execution_count": 60,
   "metadata": {},
   "outputs": [],
   "source": [
    "lambda_ = 0.0001\n",
    "mf_bias_reg_model = get_mf_bias_l2_reg_model(nb_users, nb_movies, k, lambda_)"
   ]
  },
  {
   "cell_type": "code",
   "execution_count": 61,
   "metadata": {},
   "outputs": [
    {
     "name": "stdout",
     "output_type": "stream",
     "text": [
      "Model: \"model_6\"\n",
      "__________________________________________________________________________________________________\n",
      "Layer (type)                    Output Shape         Param #     Connected to                     \n",
      "==================================================================================================\n",
      "u__user_id (InputLayer)         [(None, 1)]          0                                            \n",
      "__________________________________________________________________________________________________\n",
      "i__movie_id (InputLayer)        [(None, 1)]          0                                            \n",
      "__________________________________________________________________________________________________\n",
      "p_u__user_embedding (Embedding) (None, 1, 30)        18300       u__user_id[0][0]                 \n",
      "__________________________________________________________________________________________________\n",
      "q_i__movie_embedding (Embedding (None, 1, 30)        291720      i__movie_id[0][0]                \n",
      "__________________________________________________________________________________________________\n",
      "p_u__user_embedding_reshaped (R (None, 30)           0           p_u__user_embedding[0][0]        \n",
      "__________________________________________________________________________________________________\n",
      "q_i__movie_embedding_reshaped ( (None, 30)           0           q_i__movie_embedding[0][0]       \n",
      "__________________________________________________________________________________________________\n",
      "embedding_10 (Embedding)        (None, 1, 1)         9724        i__movie_id[0][0]                \n",
      "__________________________________________________________________________________________________\n",
      "embedding_9 (Embedding)         (None, 1, 1)         610         u__user_id[0][0]                 \n",
      "__________________________________________________________________________________________________\n",
      "dot_7 (Dot)                     (None, 1)            0           p_u__user_embedding_reshaped[0][0\n",
      "                                                                 q_i__movie_embedding_reshaped[0][\n",
      "__________________________________________________________________________________________________\n",
      "reshape_10 (Reshape)            (None, 1)            0           embedding_10[0][0]               \n",
      "__________________________________________________________________________________________________\n",
      "reshape_9 (Reshape)             (None, 1)            0           embedding_9[0][0]                \n",
      "__________________________________________________________________________________________________\n",
      "add_4 (Add)                     (None, 1)            0           dot_7[0][0]                      \n",
      "                                                                 reshape_10[0][0]                 \n",
      "                                                                 reshape_9[0][0]                  \n",
      "==================================================================================================\n",
      "Total params: 320,354\n",
      "Trainable params: 320,354\n",
      "Non-trainable params: 0\n",
      "__________________________________________________________________________________________________\n"
     ]
    }
   ],
   "source": [
    "mf_bias_reg_model.summary()"
   ]
  },
  {
   "cell_type": "code",
   "execution_count": 62,
   "metadata": {},
   "outputs": [
    {
     "name": "stdout",
     "output_type": "stream",
     "text": [
      "Epoch 1/50\n",
      "178/178 [==============================] - 1s 2ms/step - loss: 13.0205 - mse: 13.0077\n",
      "Epoch 2/50\n",
      "178/178 [==============================] - 0s 2ms/step - loss: 10.6900 - mse: 10.6495\n",
      "Epoch 3/50\n",
      "178/178 [==============================] - 0s 2ms/step - loss: 5.1463 - mse: 4.8941\n",
      "Epoch 4/50\n",
      "178/178 [==============================] - 0s 2ms/step - loss: 2.8528 - mse: 2.3766\n",
      "Epoch 5/50\n",
      "178/178 [==============================] - 0s 2ms/step - loss: 2.2887 - mse: 1.6866\n",
      "Epoch 6/50\n",
      "178/178 [==============================] - 0s 2ms/step - loss: 2.0755 - mse: 1.3918\n",
      "Epoch 7/50\n",
      "178/178 [==============================] - 0s 2ms/step - loss: 1.9446 - mse: 1.2045\n",
      "Epoch 8/50\n",
      "178/178 [==============================] - 0s 2ms/step - loss: 1.8685 - mse: 1.0882\n",
      "Epoch 9/50\n",
      "178/178 [==============================] - 0s 2ms/step - loss: 1.8292 - mse: 1.0210\n",
      "Epoch 10/50\n",
      "178/178 [==============================] - 0s 2ms/step - loss: 1.7876 - mse: 0.9609\n",
      "Epoch 11/50\n",
      "178/178 [==============================] - 0s 2ms/step - loss: 1.7601 - mse: 0.9196\n",
      "Epoch 12/50\n",
      "178/178 [==============================] - 0s 2ms/step - loss: 1.7410 - mse: 0.8926\n",
      "Epoch 13/50\n",
      "178/178 [==============================] - 0s 2ms/step - loss: 1.7117 - mse: 0.8583\n",
      "Epoch 14/50\n",
      "178/178 [==============================] - 0s 2ms/step - loss: 1.7072 - mse: 0.8522\n",
      "Epoch 15/50\n",
      "178/178 [==============================] - 0s 2ms/step - loss: 1.6859 - mse: 0.8306\n",
      "Epoch 16/50\n",
      "178/178 [==============================] - 0s 2ms/step - loss: 1.6555 - mse: 0.8026\n",
      "Epoch 17/50\n",
      "178/178 [==============================] - 0s 2ms/step - loss: 1.6474 - mse: 0.7978\n",
      "Epoch 18/50\n",
      "178/178 [==============================] - 0s 2ms/step - loss: 1.6308 - mse: 0.7851\n",
      "Epoch 19/50\n",
      "178/178 [==============================] - 0s 2ms/step - loss: 1.6141 - mse: 0.7731\n",
      "Epoch 20/50\n",
      "178/178 [==============================] - 0s 2ms/step - loss: 1.5966 - mse: 0.7606\n",
      "Epoch 21/50\n",
      "178/178 [==============================] - 0s 2ms/step - loss: 1.5865 - mse: 0.7564\n",
      "Epoch 22/50\n",
      "178/178 [==============================] - 0s 2ms/step - loss: 1.5744 - mse: 0.7505\n",
      "Epoch 23/50\n",
      "178/178 [==============================] - 0s 2ms/step - loss: 1.5544 - mse: 0.7358\n",
      "Epoch 24/50\n",
      "178/178 [==============================] - 0s 2ms/step - loss: 1.5459 - mse: 0.7332\n",
      "Epoch 25/50\n",
      "178/178 [==============================] - 0s 2ms/step - loss: 1.5223 - mse: 0.7159\n",
      "Epoch 26/50\n",
      "178/178 [==============================] - 0s 2ms/step - loss: 1.5127 - mse: 0.7118\n",
      "Epoch 27/50\n",
      "178/178 [==============================] - 0s 2ms/step - loss: 1.4918 - mse: 0.6976\n",
      "Epoch 28/50\n",
      "178/178 [==============================] - 0s 2ms/step - loss: 1.4879 - mse: 0.6991\n",
      "Epoch 29/50\n",
      "178/178 [==============================] - 0s 2ms/step - loss: 1.4664 - mse: 0.6833\n",
      "Epoch 30/50\n",
      "178/178 [==============================] - 0s 2ms/step - loss: 1.4641 - mse: 0.6849\n",
      "Epoch 31/50\n",
      "178/178 [==============================] - 0s 2ms/step - loss: 1.4462 - mse: 0.6727\n",
      "Epoch 32/50\n",
      "178/178 [==============================] - 0s 2ms/step - loss: 1.4316 - mse: 0.6630\n",
      "Epoch 33/50\n",
      "178/178 [==============================] - 0s 2ms/step - loss: 1.4234 - mse: 0.6601\n",
      "Epoch 34/50\n",
      "178/178 [==============================] - 0s 2ms/step - loss: 1.4080 - mse: 0.6477\n",
      "Epoch 35/50\n",
      "178/178 [==============================] - 0s 2ms/step - loss: 1.3946 - mse: 0.6391\n",
      "Epoch 36/50\n",
      "178/178 [==============================] - 0s 2ms/step - loss: 1.3863 - mse: 0.6342\n",
      "Epoch 37/50\n",
      "178/178 [==============================] - 0s 2ms/step - loss: 1.3740 - mse: 0.6261\n",
      "Epoch 38/50\n",
      "178/178 [==============================] - 0s 2ms/step - loss: 1.3641 - mse: 0.6190\n",
      "Epoch 39/50\n",
      "178/178 [==============================] - 0s 2ms/step - loss: 1.3511 - mse: 0.6092\n",
      "Epoch 40/50\n",
      "178/178 [==============================] - 0s 2ms/step - loss: 1.3441 - mse: 0.6059\n",
      "Epoch 41/50\n",
      "178/178 [==============================] - 0s 2ms/step - loss: 1.3273 - mse: 0.5919\n",
      "Epoch 42/50\n",
      "178/178 [==============================] - 0s 2ms/step - loss: 1.3237 - mse: 0.5901\n",
      "Epoch 43/50\n",
      "178/178 [==============================] - 0s 2ms/step - loss: 1.3090 - mse: 0.5785\n",
      "Epoch 44/50\n",
      "178/178 [==============================] - 0s 2ms/step - loss: 1.3025 - mse: 0.5739\n",
      "Epoch 45/50\n",
      "178/178 [==============================] - 0s 2ms/step - loss: 1.2964 - mse: 0.5696\n",
      "Epoch 46/50\n",
      "178/178 [==============================] - 0s 2ms/step - loss: 1.2841 - mse: 0.5594\n",
      "Epoch 47/50\n",
      "178/178 [==============================] - 0s 2ms/step - loss: 1.2801 - mse: 0.5568\n",
      "Epoch 48/50\n",
      "178/178 [==============================] - 0s 2ms/step - loss: 1.2739 - mse: 0.5519\n",
      "Epoch 49/50\n",
      "178/178 [==============================] - 0s 2ms/step - loss: 1.2676 - mse: 0.5472\n",
      "Epoch 50/50\n",
      "178/178 [==============================] - 0s 2ms/step - loss: 1.2516 - mse: 0.5328\n"
     ]
    }
   ],
   "source": [
    "history = mf_bias_reg_model.fit(X_train, y_train, epochs=50, batch_size=512)\n"
   ]
  },
  {
   "cell_type": "code",
   "execution_count": 64,
   "metadata": {},
   "outputs": [
    {
     "name": "stdout",
     "output_type": "stream",
     "text": [
      " Test RMSE : 0.953440780663721 \n"
     ]
    }
   ],
   "source": [
    "y_pred = mf_bias_reg_model.predict(X_test)\n",
    "\n",
    "test_rmse = sqrt(mean_squared_error(y_test, y_pred))\n",
    "\n",
    "print(\" Test RMSE : %s \" % test_rmse)\n",
    "\n",
    "# là on obtient un meilleur RMSE "
   ]
  },
  {
   "cell_type": "markdown",
   "metadata": {},
   "source": [
    "You should get a slightly better RMSE, but sometimes regularization is very important for achieving good test performances, in depends on the data."
   ]
  },
  {
   "cell_type": "markdown",
   "metadata": {},
   "source": [
    "## Early Stopping"
   ]
  },
  {
   "cell_type": "markdown",
   "metadata": {},
   "source": [
    "Instead of setting manually the maximum number of epochs, we prefer to use *early stopping*. When training with early stopping, keras keeps a given validation set though the parameter `validation_split`, on which it is going to monitor a performance measure you give it (here the `mse`) at every epoch, and continue optimization while the mse on the validation set keeps going down, and stops it when it goes back up. This mechanism is an easy way to avoid over-fitting, you can read more about it there : https://machinelearningmastery.com/how-to-stop-training-deep-neural-networks-at-the-right-time-using-early-stopping/\n",
    "\n",
    "In general when using early stopping we setup a high number of maximum epochs, that is never reach because the optimization is stopped by early stopping first :"
   ]
  },
  {
   "cell_type": "code",
   "execution_count": 65,
   "metadata": {},
   "outputs": [
    {
     "name": "stdout",
     "output_type": "stream",
     "text": [
      "Epoch 1/500\n",
      "160/160 [==============================] - 2s 7ms/step - loss: 13.0811 - mse: 13.0680 - val_loss: 12.1393 - val_mse: 12.1287\n",
      "Epoch 2/500\n",
      "160/160 [==============================] - 0s 3ms/step - loss: 11.4161 - mse: 11.3927 - val_loss: 8.1960 - val_mse: 8.0821\n",
      "Epoch 3/500\n",
      "160/160 [==============================] - 0s 3ms/step - loss: 6.6748 - mse: 6.5025 - val_loss: 3.9222 - val_mse: 3.5675\n",
      "Epoch 4/500\n",
      "160/160 [==============================] - 0s 3ms/step - loss: 3.2879 - mse: 2.8845 - val_loss: 2.8584 - val_mse: 2.3370\n",
      "Epoch 5/500\n",
      "160/160 [==============================] - 0s 3ms/step - loss: 2.4617 - mse: 1.9120 - val_loss: 2.5082 - val_mse: 1.8861\n",
      "Epoch 6/500\n",
      "160/160 [==============================] - 0s 3ms/step - loss: 2.1373 - mse: 1.4963 - val_loss: 2.3413 - val_mse: 1.6498\n",
      "Epoch 7/500\n",
      "160/160 [==============================] - 0s 3ms/step - loss: 1.9860 - mse: 1.2805 - val_loss: 2.2486 - val_mse: 1.5073\n",
      "Epoch 8/500\n",
      "160/160 [==============================] - 0s 3ms/step - loss: 1.8906 - mse: 1.1394 - val_loss: 2.1895 - val_mse: 1.4110\n",
      "Epoch 9/500\n",
      "160/160 [==============================] - 0s 3ms/step - loss: 1.8292 - mse: 1.0435 - val_loss: 2.1505 - val_mse: 1.3461\n",
      "Epoch 10/500\n",
      "160/160 [==============================] - 0s 3ms/step - loss: 1.7857 - mse: 0.9760 - val_loss: 2.1239 - val_mse: 1.3006\n",
      "Epoch 11/500\n",
      "160/160 [==============================] - 0s 3ms/step - loss: 1.7525 - mse: 0.9256 - val_loss: 2.1006 - val_mse: 1.2643\n",
      "Epoch 12/500\n",
      "160/160 [==============================] - 0s 3ms/step - loss: 1.7264 - mse: 0.8875 - val_loss: 2.0817 - val_mse: 1.2362\n",
      "Epoch 13/500\n",
      "160/160 [==============================] - 0s 3ms/step - loss: 1.7142 - mse: 0.8673 - val_loss: 2.0638 - val_mse: 1.2129\n",
      "Epoch 14/500\n",
      "160/160 [==============================] - 0s 3ms/step - loss: 1.6923 - mse: 0.8406 - val_loss: 2.0508 - val_mse: 1.1964\n",
      "Epoch 15/500\n",
      "160/160 [==============================] - 0s 3ms/step - loss: 1.6740 - mse: 0.8193 - val_loss: 2.0373 - val_mse: 1.1821\n",
      "Epoch 16/500\n",
      "160/160 [==============================] - 0s 3ms/step - loss: 1.6540 - mse: 0.7991 - val_loss: 2.0243 - val_mse: 1.1698\n",
      "Epoch 17/500\n",
      "160/160 [==============================] - 0s 3ms/step - loss: 1.6454 - mse: 0.7910 - val_loss: 2.0097 - val_mse: 1.1571\n",
      "Epoch 18/500\n",
      "160/160 [==============================] - 0s 3ms/step - loss: 1.6307 - mse: 0.7783 - val_loss: 1.9978 - val_mse: 1.1475\n",
      "Epoch 19/500\n",
      "160/160 [==============================] - 0s 3ms/step - loss: 1.6133 - mse: 0.7640 - val_loss: 1.9846 - val_mse: 1.1374\n",
      "Epoch 20/500\n",
      "160/160 [==============================] - 0s 3ms/step - loss: 1.5955 - mse: 0.7497 - val_loss: 1.9719 - val_mse: 1.1285\n",
      "Epoch 21/500\n",
      "160/160 [==============================] - 0s 3ms/step - loss: 1.5848 - mse: 0.7428 - val_loss: 1.9608 - val_mse: 1.1219\n",
      "Epoch 22/500\n",
      "160/160 [==============================] - 0s 3ms/step - loss: 1.5792 - mse: 0.7411 - val_loss: 1.9480 - val_mse: 1.1133\n",
      "Epoch 23/500\n",
      "160/160 [==============================] - 0s 3ms/step - loss: 1.5652 - mse: 0.7319 - val_loss: 1.9343 - val_mse: 1.1045\n",
      "Epoch 24/500\n",
      "160/160 [==============================] - 0s 3ms/step - loss: 1.5485 - mse: 0.7205 - val_loss: 1.9230 - val_mse: 1.0978\n",
      "Epoch 25/500\n",
      "160/160 [==============================] - 0s 3ms/step - loss: 1.5338 - mse: 0.7103 - val_loss: 1.9122 - val_mse: 1.0921\n",
      "Epoch 26/500\n",
      "160/160 [==============================] - 0s 3ms/step - loss: 1.5190 - mse: 0.7005 - val_loss: 1.8996 - val_mse: 1.0838\n",
      "Epoch 27/500\n",
      "160/160 [==============================] - 0s 3ms/step - loss: 1.5083 - mse: 0.6943 - val_loss: 1.8871 - val_mse: 1.0768\n",
      "Epoch 28/500\n",
      "160/160 [==============================] - 0s 3ms/step - loss: 1.5001 - mse: 0.6913 - val_loss: 1.8749 - val_mse: 1.0689\n",
      "Epoch 29/500\n",
      "160/160 [==============================] - 0s 2ms/step - loss: 1.4816 - mse: 0.6769 - val_loss: 1.8630 - val_mse: 1.0623\n",
      "Epoch 30/500\n",
      "160/160 [==============================] - 0s 2ms/step - loss: 1.4703 - mse: 0.6710 - val_loss: 1.8544 - val_mse: 1.0576\n",
      "Epoch 31/500\n",
      "160/160 [==============================] - 0s 3ms/step - loss: 1.4580 - mse: 0.6628 - val_loss: 1.8436 - val_mse: 1.0514\n",
      "Epoch 32/500\n",
      "160/160 [==============================] - 0s 3ms/step - loss: 1.4452 - mse: 0.6541 - val_loss: 1.8320 - val_mse: 1.0443\n",
      "Epoch 33/500\n",
      "160/160 [==============================] - 0s 3ms/step - loss: 1.4332 - mse: 0.6468 - val_loss: 1.8219 - val_mse: 1.0378\n",
      "Epoch 34/500\n",
      "160/160 [==============================] - 0s 3ms/step - loss: 1.4208 - mse: 0.6379 - val_loss: 1.8117 - val_mse: 1.0319\n",
      "Epoch 35/500\n",
      "160/160 [==============================] - 0s 3ms/step - loss: 1.4143 - mse: 0.6351 - val_loss: 1.8017 - val_mse: 1.0254\n",
      "Epoch 36/500\n",
      "160/160 [==============================] - 0s 3ms/step - loss: 1.4106 - mse: 0.6351 - val_loss: 1.7929 - val_mse: 1.0200\n",
      "Epoch 37/500\n",
      "160/160 [==============================] - 0s 3ms/step - loss: 1.3944 - mse: 0.6226 - val_loss: 1.7833 - val_mse: 1.0137\n",
      "Epoch 38/500\n",
      "160/160 [==============================] - 0s 3ms/step - loss: 1.3849 - mse: 0.6160 - val_loss: 1.7732 - val_mse: 1.0069\n",
      "Epoch 39/500\n",
      "160/160 [==============================] - 0s 3ms/step - loss: 1.3691 - mse: 0.6035 - val_loss: 1.7644 - val_mse: 1.0010\n",
      "Epoch 40/500\n",
      "160/160 [==============================] - 0s 3ms/step - loss: 1.3518 - mse: 0.5890 - val_loss: 1.7568 - val_mse: 0.9966\n",
      "Epoch 41/500\n",
      "160/160 [==============================] - 0s 3ms/step - loss: 1.3536 - mse: 0.5944 - val_loss: 1.7489 - val_mse: 0.9913\n",
      "Epoch 42/500\n",
      "160/160 [==============================] - 0s 3ms/step - loss: 1.3410 - mse: 0.5841 - val_loss: 1.7387 - val_mse: 0.9834\n",
      "Epoch 43/500\n",
      "160/160 [==============================] - 0s 3ms/step - loss: 1.3316 - mse: 0.5773 - val_loss: 1.7325 - val_mse: 0.9796\n",
      "Epoch 44/500\n",
      "160/160 [==============================] - 0s 3ms/step - loss: 1.3238 - mse: 0.5720 - val_loss: 1.7243 - val_mse: 0.9742\n",
      "Epoch 45/500\n",
      "160/160 [==============================] - 0s 3ms/step - loss: 1.3169 - mse: 0.5675 - val_loss: 1.7168 - val_mse: 0.9687\n",
      "Epoch 46/500\n",
      "160/160 [==============================] - 0s 3ms/step - loss: 1.3018 - mse: 0.5546 - val_loss: 1.7105 - val_mse: 0.9642\n",
      "Epoch 47/500\n",
      "160/160 [==============================] - 0s 3ms/step - loss: 1.2885 - mse: 0.5430 - val_loss: 1.7038 - val_mse: 0.9593\n",
      "Epoch 48/500\n",
      "160/160 [==============================] - 0s 2ms/step - loss: 1.2885 - mse: 0.5448 - val_loss: 1.6984 - val_mse: 0.9558\n",
      "Epoch 49/500\n",
      "160/160 [==============================] - 0s 3ms/step - loss: 1.2766 - mse: 0.5349 - val_loss: 1.6920 - val_mse: 0.9512\n",
      "Epoch 50/500\n",
      "160/160 [==============================] - 0s 3ms/step - loss: 1.2669 - mse: 0.5266 - val_loss: 1.6848 - val_mse: 0.9459\n",
      "Epoch 51/500\n",
      "160/160 [==============================] - 0s 3ms/step - loss: 1.2630 - mse: 0.5247 - val_loss: 1.6795 - val_mse: 0.9419\n",
      "Epoch 52/500\n",
      "160/160 [==============================] - 0s 3ms/step - loss: 1.2574 - mse: 0.5202 - val_loss: 1.6747 - val_mse: 0.9385\n",
      "Epoch 53/500\n",
      "160/160 [==============================] - 0s 3ms/step - loss: 1.2436 - mse: 0.5080 - val_loss: 1.6698 - val_mse: 0.9351\n",
      "Epoch 54/500\n",
      "160/160 [==============================] - 0s 3ms/step - loss: 1.2397 - mse: 0.5055 - val_loss: 1.6654 - val_mse: 0.9319\n",
      "Epoch 55/500\n",
      "160/160 [==============================] - 0s 3ms/step - loss: 1.2278 - mse: 0.4952 - val_loss: 1.6594 - val_mse: 0.9272\n",
      "Epoch 56/500\n",
      "160/160 [==============================] - 0s 3ms/step - loss: 1.2301 - mse: 0.4981 - val_loss: 1.6566 - val_mse: 0.9252\n",
      "Epoch 57/500\n",
      "160/160 [==============================] - 0s 3ms/step - loss: 1.2233 - mse: 0.4925 - val_loss: 1.6520 - val_mse: 0.9217\n",
      "Epoch 58/500\n",
      "160/160 [==============================] - 0s 3ms/step - loss: 1.2130 - mse: 0.4832 - val_loss: 1.6478 - val_mse: 0.9182\n",
      "Epoch 59/500\n",
      "160/160 [==============================] - 0s 3ms/step - loss: 1.2057 - mse: 0.4767 - val_loss: 1.6438 - val_mse: 0.9148\n",
      "Epoch 60/500\n",
      "160/160 [==============================] - 0s 3ms/step - loss: 1.1979 - mse: 0.4697 - val_loss: 1.6395 - val_mse: 0.9112\n",
      "Epoch 61/500\n",
      "160/160 [==============================] - 0s 3ms/step - loss: 1.1887 - mse: 0.4608 - val_loss: 1.6362 - val_mse: 0.9089\n",
      "Epoch 62/500\n",
      "160/160 [==============================] - 0s 3ms/step - loss: 1.1919 - mse: 0.4648 - val_loss: 1.6330 - val_mse: 0.9064\n",
      "Epoch 63/500\n",
      "160/160 [==============================] - 0s 3ms/step - loss: 1.1853 - mse: 0.4592 - val_loss: 1.6292 - val_mse: 0.9030\n",
      "Epoch 64/500\n",
      "160/160 [==============================] - 0s 2ms/step - loss: 1.1762 - mse: 0.4506 - val_loss: 1.6264 - val_mse: 0.9005\n",
      "Epoch 65/500\n",
      "160/160 [==============================] - 0s 3ms/step - loss: 1.1750 - mse: 0.4498 - val_loss: 1.6240 - val_mse: 0.8986\n",
      "Epoch 66/500\n",
      "160/160 [==============================] - 0s 3ms/step - loss: 1.1692 - mse: 0.4440 - val_loss: 1.6218 - val_mse: 0.8969\n",
      "Epoch 67/500\n",
      "160/160 [==============================] - 0s 2ms/step - loss: 1.1655 - mse: 0.4410 - val_loss: 1.6188 - val_mse: 0.8943\n",
      "Epoch 68/500\n",
      "160/160 [==============================] - 0s 3ms/step - loss: 1.1588 - mse: 0.4344 - val_loss: 1.6163 - val_mse: 0.8920\n",
      "Epoch 69/500\n",
      "160/160 [==============================] - 0s 3ms/step - loss: 1.1522 - mse: 0.4285 - val_loss: 1.6139 - val_mse: 0.8900\n",
      "Epoch 70/500\n",
      "160/160 [==============================] - 0s 3ms/step - loss: 1.1476 - mse: 0.4241 - val_loss: 1.6120 - val_mse: 0.8885\n",
      "Epoch 71/500\n",
      "160/160 [==============================] - 0s 3ms/step - loss: 1.1487 - mse: 0.4253 - val_loss: 1.6093 - val_mse: 0.8859\n",
      "Epoch 72/500\n",
      "160/160 [==============================] - 0s 3ms/step - loss: 1.1452 - mse: 0.4219 - val_loss: 1.6074 - val_mse: 0.8841\n",
      "Epoch 73/500\n",
      "160/160 [==============================] - 0s 3ms/step - loss: 1.1372 - mse: 0.4142 - val_loss: 1.6057 - val_mse: 0.8827\n",
      "Epoch 74/500\n",
      "160/160 [==============================] - 0s 3ms/step - loss: 1.1396 - mse: 0.4165 - val_loss: 1.6039 - val_mse: 0.8810\n",
      "Epoch 75/500\n",
      "160/160 [==============================] - 0s 2ms/step - loss: 1.1324 - mse: 0.4097 - val_loss: 1.6015 - val_mse: 0.8785\n",
      "Epoch 76/500\n",
      "160/160 [==============================] - 0s 3ms/step - loss: 1.1335 - mse: 0.4107 - val_loss: 1.6006 - val_mse: 0.8775\n",
      "Epoch 77/500\n",
      "160/160 [==============================] - 0s 3ms/step - loss: 1.1234 - mse: 0.4008 - val_loss: 1.5988 - val_mse: 0.8758\n",
      "Epoch 78/500\n",
      "160/160 [==============================] - 0s 3ms/step - loss: 1.1245 - mse: 0.4019 - val_loss: 1.5977 - val_mse: 0.8747\n",
      "Epoch 79/500\n",
      "160/160 [==============================] - 0s 3ms/step - loss: 1.1173 - mse: 0.3945 - val_loss: 1.5965 - val_mse: 0.8738\n",
      "Epoch 80/500\n",
      "160/160 [==============================] - 0s 3ms/step - loss: 1.1196 - mse: 0.3970 - val_loss: 1.5948 - val_mse: 0.8721\n",
      "Epoch 81/500\n",
      "160/160 [==============================] - 0s 3ms/step - loss: 1.1150 - mse: 0.3923 - val_loss: 1.5936 - val_mse: 0.8708\n",
      "Epoch 82/500\n",
      "160/160 [==============================] - 0s 2ms/step - loss: 1.1097 - mse: 0.3873 - val_loss: 1.5921 - val_mse: 0.8694\n",
      "Epoch 83/500\n",
      "160/160 [==============================] - 0s 3ms/step - loss: 1.1110 - mse: 0.3884 - val_loss: 1.5911 - val_mse: 0.8683\n",
      "Epoch 84/500\n",
      "160/160 [==============================] - 0s 3ms/step - loss: 1.1056 - mse: 0.3832 - val_loss: 1.5895 - val_mse: 0.8665\n",
      "Epoch 85/500\n",
      "160/160 [==============================] - 0s 3ms/step - loss: 1.1006 - mse: 0.3779 - val_loss: 1.5888 - val_mse: 0.8659\n",
      "Epoch 86/500\n",
      "160/160 [==============================] - 0s 2ms/step - loss: 1.1051 - mse: 0.3822 - val_loss: 1.5880 - val_mse: 0.8648\n",
      "Epoch 87/500\n",
      "160/160 [==============================] - 0s 3ms/step - loss: 1.0965 - mse: 0.3736 - val_loss: 1.5870 - val_mse: 0.8638\n",
      "Epoch 88/500\n",
      "160/160 [==============================] - 0s 3ms/step - loss: 1.0988 - mse: 0.3755 - val_loss: 1.5862 - val_mse: 0.8630\n",
      "Epoch 89/500\n",
      "160/160 [==============================] - 0s 3ms/step - loss: 1.0917 - mse: 0.3690 - val_loss: 1.5855 - val_mse: 0.8622\n",
      "Epoch 90/500\n",
      "160/160 [==============================] - 0s 3ms/step - loss: 1.0913 - mse: 0.3679 - val_loss: 1.5846 - val_mse: 0.8611\n",
      "Epoch 91/500\n",
      "160/160 [==============================] - 0s 3ms/step - loss: 1.0903 - mse: 0.3671 - val_loss: 1.5836 - val_mse: 0.8600\n",
      "Epoch 92/500\n",
      "160/160 [==============================] - 0s 3ms/step - loss: 1.0853 - mse: 0.3622 - val_loss: 1.5829 - val_mse: 0.8592\n",
      "Epoch 93/500\n",
      "160/160 [==============================] - 0s 3ms/step - loss: 1.0876 - mse: 0.3641 - val_loss: 1.5821 - val_mse: 0.8583\n",
      "Epoch 94/500\n",
      "160/160 [==============================] - 0s 2ms/step - loss: 1.0802 - mse: 0.3567 - val_loss: 1.5813 - val_mse: 0.8576\n",
      "Epoch 95/500\n",
      "160/160 [==============================] - 0s 2ms/step - loss: 1.0788 - mse: 0.3552 - val_loss: 1.5808 - val_mse: 0.8570\n",
      "Epoch 96/500\n",
      "160/160 [==============================] - 0s 3ms/step - loss: 1.0830 - mse: 0.3593 - val_loss: 1.5799 - val_mse: 0.8559\n",
      "Epoch 97/500\n",
      "160/160 [==============================] - 0s 3ms/step - loss: 1.0796 - mse: 0.3558 - val_loss: 1.5792 - val_mse: 0.8552\n",
      "Epoch 98/500\n",
      "160/160 [==============================] - 0s 3ms/step - loss: 1.0740 - mse: 0.3502 - val_loss: 1.5786 - val_mse: 0.8545\n",
      "Epoch 99/500\n",
      "160/160 [==============================] - 0s 2ms/step - loss: 1.0734 - mse: 0.3494 - val_loss: 1.5778 - val_mse: 0.8537\n",
      "Epoch 100/500\n",
      "160/160 [==============================] - 0s 3ms/step - loss: 1.0779 - mse: 0.3538 - val_loss: 1.5769 - val_mse: 0.8526\n",
      "Epoch 101/500\n",
      "160/160 [==============================] - 0s 3ms/step - loss: 1.0757 - mse: 0.3518 - val_loss: 1.5770 - val_mse: 0.8519\n",
      "Epoch 102/500\n",
      "160/160 [==============================] - 0s 2ms/step - loss: 1.0745 - mse: 0.3498 - val_loss: 1.5766 - val_mse: 0.8520\n",
      "Epoch 103/500\n",
      "160/160 [==============================] - 0s 2ms/step - loss: 1.0740 - mse: 0.3495 - val_loss: 1.5757 - val_mse: 0.8509\n",
      "Epoch 104/500\n",
      "160/160 [==============================] - 0s 3ms/step - loss: 1.0712 - mse: 0.3466 - val_loss: 1.5758 - val_mse: 0.8511\n",
      "Epoch 105/500\n",
      "160/160 [==============================] - 0s 2ms/step - loss: 1.0743 - mse: 0.3495 - val_loss: 1.5751 - val_mse: 0.8502\n",
      "Epoch 106/500\n",
      "160/160 [==============================] - 0s 3ms/step - loss: 1.0681 - mse: 0.3433 - val_loss: 1.5747 - val_mse: 0.8498\n",
      "Epoch 107/500\n",
      "160/160 [==============================] - 0s 3ms/step - loss: 1.0682 - mse: 0.3432 - val_loss: 1.5740 - val_mse: 0.8490\n",
      "Epoch 108/500\n",
      "160/160 [==============================] - 0s 3ms/step - loss: 1.0617 - mse: 0.3369 - val_loss: 1.5735 - val_mse: 0.8482\n",
      "Epoch 109/500\n",
      "160/160 [==============================] - 0s 2ms/step - loss: 1.0640 - mse: 0.3390 - val_loss: 1.5734 - val_mse: 0.8478\n",
      "Epoch 110/500\n",
      "160/160 [==============================] - 0s 2ms/step - loss: 1.0647 - mse: 0.3391 - val_loss: 1.5726 - val_mse: 0.8469\n",
      "Epoch 111/500\n",
      "160/160 [==============================] - 0s 3ms/step - loss: 1.0675 - mse: 0.3422 - val_loss: 1.5725 - val_mse: 0.8468\n",
      "Epoch 112/500\n",
      "160/160 [==============================] - 0s 3ms/step - loss: 1.0612 - mse: 0.3358 - val_loss: 1.5723 - val_mse: 0.8468\n",
      "Epoch 113/500\n",
      "160/160 [==============================] - 0s 3ms/step - loss: 1.0644 - mse: 0.3390 - val_loss: 1.5717 - val_mse: 0.8460\n",
      "Epoch 114/500\n",
      "160/160 [==============================] - 0s 2ms/step - loss: 1.0612 - mse: 0.3354 - val_loss: 1.5715 - val_mse: 0.8456\n",
      "Epoch 115/500\n",
      "160/160 [==============================] - 0s 3ms/step - loss: 1.0600 - mse: 0.3342 - val_loss: 1.5709 - val_mse: 0.8449\n",
      "Epoch 116/500\n",
      "160/160 [==============================] - 0s 3ms/step - loss: 1.0638 - mse: 0.3377 - val_loss: 1.5704 - val_mse: 0.8444\n",
      "Epoch 117/500\n",
      "160/160 [==============================] - 0s 3ms/step - loss: 1.0602 - mse: 0.3343 - val_loss: 1.5697 - val_mse: 0.8437\n",
      "Epoch 118/500\n",
      "160/160 [==============================] - 0s 2ms/step - loss: 1.0584 - mse: 0.3322 - val_loss: 1.5696 - val_mse: 0.8432\n",
      "Epoch 119/500\n",
      "160/160 [==============================] - 0s 2ms/step - loss: 1.0596 - mse: 0.3334 - val_loss: 1.5694 - val_mse: 0.8430\n",
      "Epoch 120/500\n",
      "160/160 [==============================] - 0s 3ms/step - loss: 1.0602 - mse: 0.3341 - val_loss: 1.5691 - val_mse: 0.8425\n",
      "Epoch 121/500\n",
      "160/160 [==============================] - 0s 2ms/step - loss: 1.0577 - mse: 0.3312 - val_loss: 1.5695 - val_mse: 0.8431\n",
      "Epoch 122/500\n",
      "160/160 [==============================] - 0s 2ms/step - loss: 1.0541 - mse: 0.3278 - val_loss: 1.5692 - val_mse: 0.8428\n",
      "Epoch 123/500\n",
      "160/160 [==============================] - 0s 2ms/step - loss: 1.0549 - mse: 0.3286 - val_loss: 1.5685 - val_mse: 0.8417\n",
      "Epoch 124/500\n",
      "160/160 [==============================] - 0s 2ms/step - loss: 1.0583 - mse: 0.3318 - val_loss: 1.5684 - val_mse: 0.8414\n",
      "Epoch 125/500\n",
      "160/160 [==============================] - 0s 3ms/step - loss: 1.0545 - mse: 0.3275 - val_loss: 1.5676 - val_mse: 0.8409\n",
      "Epoch 126/500\n",
      "160/160 [==============================] - 0s 2ms/step - loss: 1.0545 - mse: 0.3281 - val_loss: 1.5676 - val_mse: 0.8406\n",
      "Epoch 127/500\n",
      "160/160 [==============================] - 0s 2ms/step - loss: 1.0535 - mse: 0.3268 - val_loss: 1.5674 - val_mse: 0.8401\n",
      "Epoch 128/500\n",
      "160/160 [==============================] - 0s 3ms/step - loss: 1.0540 - mse: 0.3270 - val_loss: 1.5673 - val_mse: 0.8399\n",
      "Epoch 129/500\n",
      "160/160 [==============================] - 0s 3ms/step - loss: 1.0562 - mse: 0.3292 - val_loss: 1.5670 - val_mse: 0.8395\n",
      "Epoch 130/500\n",
      "160/160 [==============================] - 0s 3ms/step - loss: 1.0518 - mse: 0.3247 - val_loss: 1.5675 - val_mse: 0.8398\n",
      "Epoch 131/500\n",
      "160/160 [==============================] - 0s 2ms/step - loss: 1.0498 - mse: 0.3225 - val_loss: 1.5670 - val_mse: 0.8396\n",
      "Epoch 132/500\n",
      "160/160 [==============================] - 0s 2ms/step - loss: 1.0540 - mse: 0.3266 - val_loss: 1.5666 - val_mse: 0.8392\n",
      "Epoch 133/500\n",
      "160/160 [==============================] - 0s 3ms/step - loss: 1.0530 - mse: 0.3253 - val_loss: 1.5662 - val_mse: 0.8386\n",
      "Epoch 134/500\n",
      "160/160 [==============================] - 0s 2ms/step - loss: 1.0524 - mse: 0.3250 - val_loss: 1.5660 - val_mse: 0.8381\n",
      "Epoch 135/500\n",
      "160/160 [==============================] - 0s 3ms/step - loss: 1.0517 - mse: 0.3238 - val_loss: 1.5661 - val_mse: 0.8383\n",
      "Epoch 136/500\n",
      "160/160 [==============================] - 0s 3ms/step - loss: 1.0485 - mse: 0.3210 - val_loss: 1.5655 - val_mse: 0.8375\n",
      "Epoch 137/500\n",
      "160/160 [==============================] - 0s 3ms/step - loss: 1.0485 - mse: 0.3208 - val_loss: 1.5656 - val_mse: 0.8376\n",
      "Epoch 138/500\n",
      "160/160 [==============================] - 0s 3ms/step - loss: 1.0482 - mse: 0.3203 - val_loss: 1.5648 - val_mse: 0.8369\n",
      "Epoch 139/500\n",
      "160/160 [==============================] - 0s 2ms/step - loss: 1.0520 - mse: 0.3242 - val_loss: 1.5649 - val_mse: 0.8368\n",
      "Epoch 140/500\n",
      "160/160 [==============================] - 0s 2ms/step - loss: 1.0464 - mse: 0.3185 - val_loss: 1.5648 - val_mse: 0.8367\n",
      "Epoch 141/500\n",
      "160/160 [==============================] - 0s 2ms/step - loss: 1.0501 - mse: 0.3221 - val_loss: 1.5650 - val_mse: 0.8367\n",
      "Epoch 142/500\n",
      "160/160 [==============================] - 0s 2ms/step - loss: 1.0480 - mse: 0.3200 - val_loss: 1.5647 - val_mse: 0.8365\n",
      "Epoch 143/500\n",
      "160/160 [==============================] - 0s 3ms/step - loss: 1.0507 - mse: 0.3226 - val_loss: 1.5644 - val_mse: 0.8361\n",
      "Epoch 144/500\n",
      "160/160 [==============================] - 0s 2ms/step - loss: 1.0473 - mse: 0.3194 - val_loss: 1.5641 - val_mse: 0.8358\n",
      "Epoch 145/500\n",
      "160/160 [==============================] - 0s 3ms/step - loss: 1.0478 - mse: 0.3195 - val_loss: 1.5638 - val_mse: 0.8352\n",
      "Epoch 146/500\n",
      "160/160 [==============================] - 0s 3ms/step - loss: 1.0451 - mse: 0.3167 - val_loss: 1.5640 - val_mse: 0.8352\n",
      "Epoch 147/500\n",
      "160/160 [==============================] - 0s 2ms/step - loss: 1.0465 - mse: 0.3179 - val_loss: 1.5639 - val_mse: 0.8350\n",
      "Epoch 148/500\n",
      "160/160 [==============================] - 0s 2ms/step - loss: 1.0479 - mse: 0.3192 - val_loss: 1.5640 - val_mse: 0.8354\n",
      "Epoch 149/500\n",
      "160/160 [==============================] - 0s 3ms/step - loss: 1.0489 - mse: 0.3203 - val_loss: 1.5637 - val_mse: 0.8349\n",
      "Epoch 150/500\n",
      "160/160 [==============================] - 0s 3ms/step - loss: 1.0467 - mse: 0.3180 - val_loss: 1.5635 - val_mse: 0.8346\n",
      "Epoch 151/500\n",
      "160/160 [==============================] - 0s 2ms/step - loss: 1.0463 - mse: 0.3176 - val_loss: 1.5633 - val_mse: 0.8343\n",
      "Epoch 152/500\n",
      "160/160 [==============================] - 0s 3ms/step - loss: 1.0443 - mse: 0.3154 - val_loss: 1.5632 - val_mse: 0.8343\n",
      "Epoch 153/500\n",
      "160/160 [==============================] - 0s 2ms/step - loss: 1.0493 - mse: 0.3202 - val_loss: 1.5637 - val_mse: 0.8348\n",
      "Epoch 154/500\n",
      "160/160 [==============================] - 0s 2ms/step - loss: 1.0478 - mse: 0.3190 - val_loss: 1.5633 - val_mse: 0.8342\n",
      "Epoch 155/500\n",
      "160/160 [==============================] - 0s 3ms/step - loss: 1.0451 - mse: 0.3160 - val_loss: 1.5634 - val_mse: 0.8342\n",
      "Epoch 156/500\n",
      "160/160 [==============================] - 0s 3ms/step - loss: 1.0482 - mse: 0.3192 - val_loss: 1.5631 - val_mse: 0.8339\n",
      "Epoch 157/500\n",
      "160/160 [==============================] - 0s 3ms/step - loss: 1.0401 - mse: 0.3112 - val_loss: 1.5628 - val_mse: 0.8334\n",
      "Epoch 158/500\n",
      "160/160 [==============================] - 0s 2ms/step - loss: 1.0486 - mse: 0.3193 - val_loss: 1.5630 - val_mse: 0.8336\n",
      "Epoch 159/500\n",
      "160/160 [==============================] - 0s 3ms/step - loss: 1.0444 - mse: 0.3152 - val_loss: 1.5624 - val_mse: 0.8329\n",
      "Epoch 160/500\n",
      "160/160 [==============================] - 0s 3ms/step - loss: 1.0475 - mse: 0.3181 - val_loss: 1.5630 - val_mse: 0.8333\n",
      "Epoch 161/500\n",
      "160/160 [==============================] - 0s 3ms/step - loss: 1.0430 - mse: 0.3137 - val_loss: 1.5627 - val_mse: 0.8330\n",
      "Epoch 162/500\n",
      "160/160 [==============================] - 0s 2ms/step - loss: 1.0436 - mse: 0.3140 - val_loss: 1.5628 - val_mse: 0.8333\n",
      "Epoch 163/500\n",
      "160/160 [==============================] - 0s 2ms/step - loss: 1.0380 - mse: 0.3086 - val_loss: 1.5624 - val_mse: 0.8328\n",
      "Epoch 164/500\n",
      "160/160 [==============================] - 0s 3ms/step - loss: 1.0438 - mse: 0.3143 - val_loss: 1.5623 - val_mse: 0.8325\n",
      "Epoch 165/500\n",
      "160/160 [==============================] - 0s 3ms/step - loss: 1.0406 - mse: 0.3108 - val_loss: 1.5622 - val_mse: 0.8325\n",
      "Epoch 166/500\n",
      "160/160 [==============================] - 0s 2ms/step - loss: 1.0449 - mse: 0.3153 - val_loss: 1.5623 - val_mse: 0.8322\n",
      "Epoch 167/500\n",
      "160/160 [==============================] - 0s 3ms/step - loss: 1.0424 - mse: 0.3127 - val_loss: 1.5621 - val_mse: 0.8321\n",
      "Epoch 168/500\n",
      "160/160 [==============================] - 0s 2ms/step - loss: 1.0471 - mse: 0.3170 - val_loss: 1.5623 - val_mse: 0.8324\n",
      "Epoch 169/500\n",
      "160/160 [==============================] - 0s 2ms/step - loss: 1.0437 - mse: 0.3140 - val_loss: 1.5621 - val_mse: 0.8320\n",
      "Epoch 170/500\n",
      "160/160 [==============================] - 0s 3ms/step - loss: 1.0431 - mse: 0.3131 - val_loss: 1.5627 - val_mse: 0.8324\n",
      "Epoch 171/500\n",
      "160/160 [==============================] - 0s 2ms/step - loss: 1.0415 - mse: 0.3113 - val_loss: 1.5622 - val_mse: 0.8321\n",
      "Epoch 172/500\n",
      "160/160 [==============================] - 0s 2ms/step - loss: 1.0442 - mse: 0.3141 - val_loss: 1.5619 - val_mse: 0.8316\n",
      "Epoch 173/500\n",
      "160/160 [==============================] - 0s 2ms/step - loss: 1.0424 - mse: 0.3121 - val_loss: 1.5621 - val_mse: 0.8318\n",
      "Epoch 174/500\n",
      "160/160 [==============================] - 0s 3ms/step - loss: 1.0461 - mse: 0.3160 - val_loss: 1.5614 - val_mse: 0.8311\n",
      "Epoch 175/500\n",
      "160/160 [==============================] - 0s 3ms/step - loss: 1.0452 - mse: 0.3150 - val_loss: 1.5617 - val_mse: 0.8315\n",
      "Epoch 176/500\n",
      "160/160 [==============================] - 0s 3ms/step - loss: 1.0410 - mse: 0.3110 - val_loss: 1.5617 - val_mse: 0.8311\n",
      "Epoch 177/500\n",
      "160/160 [==============================] - 0s 2ms/step - loss: 1.0418 - mse: 0.3113 - val_loss: 1.5619 - val_mse: 0.8314\n",
      "Epoch 178/500\n",
      "160/160 [==============================] - 0s 2ms/step - loss: 1.0446 - mse: 0.3140 - val_loss: 1.5622 - val_mse: 0.8317\n",
      "Epoch 179/500\n",
      "160/160 [==============================] - 0s 3ms/step - loss: 1.0462 - mse: 0.3156 - val_loss: 1.5621 - val_mse: 0.8316\n",
      "Epoch 00179: early stopping\n"
     ]
    }
   ],
   "source": [
    "from keras.callbacks import EarlyStopping\n",
    "\n",
    "mf_bias_reg_model = get_mf_bias_l2_reg_model(nb_users, nb_movies, k, lambda_)\n",
    "\n",
    "early_stopping = EarlyStopping(monitor='val_mse', patience=5, verbose=1)\n",
    "\n",
    "history = mf_bias_reg_model.fit(X_train, y_train, epochs=500, batch_size=512, validation_split=0.1, callbacks=[early_stopping])"
   ]
  },
  {
   "cell_type": "markdown",
   "metadata": {},
   "source": [
    "As you can see the training stops before 500 epochs, when the validation MSE stops decreasing during 5 consecutive epochs (the patience value = 5). "
   ]
  },
  {
   "cell_type": "markdown",
   "metadata": {},
   "source": [
    "## Grid search embedding size and regularization factor with early stopping"
   ]
  },
  {
   "cell_type": "markdown",
   "metadata": {},
   "source": [
    "So for the moment we didn't grid search our model hyper-parameters, such as `k` and `lambda_`. There exists some scikit-learn wrappers for keras models in order to use scikit grid search functions, unfortunately they only work with single input keras models, which is not our case as we have two inputs: the user and the movie indexes.\n",
    "\n",
    "So let's implement your own grid search function for the two parameters `k` and `lambda_`. With big enough datasets, it is not necessary to do a cross-validation for each hyper-parameter combination, and we can simply split the training set into a sub-training set and a validation set to test our hyper-parameters. It does work because the validation set is big enough to see enough data variations, and with very big datasets, it is anyway not possible anymore to do a full cross-validation as it takes too much time to train. \n",
    "\n",
    "Fill in the `grid_search` function below and use early stopping with a validation split (just like above), and retrieve the validation RMSE (you can get the MSE from the `history` variable that is returned by the `fit` method (and then take the `sqrt` of that)) for all the hyper-parameter combinations from the `param_grid` dictionary of hyper-parameter values. Call the `get_model_function` parameter (yes, you can pass functions as parameters!) to generate each model, and return the hyper-parameters that give the lowest RMSE on the 10% validation set, the RMSE value, and the best corresponding trained model."
   ]
  },
  {
   "cell_type": "code",
   "execution_count": null,
   "metadata": {},
   "outputs": [],
   "source": [
    "import itertools\n",
    "\n",
    "\n",
    "def grid_search(data, param_grid, get_model_function, nb_users, nb_movies, validation_size = 0.1):\n",
    "    \"\"\"\n",
    "    Performs a grid search over the \n",
    "    \n",
    "    Input:\n",
    "        data : DataFrame : The training set to be split between training and validation sets\n",
    "        param_grid : dict : Dictionary containing the values of the hyper-parameters to grid-search\n",
    "        get_model_function : function : A function that returns the keras model to grid-search\n",
    "        nb_users : int : The number of unique users\n",
    "        nb_movies : int : The number of unique movies\n",
    "        validation_size : float : Proportion of the validation set\n",
    "        \n",
    "    Output:\n",
    "        best_params : dict : A dictionary of the best hyper-parameters values\n",
    "        best_score : float : The validation RMSE corresponding to the best\n",
    "        best_model : keras.Model : The model trained with the best hyper-parameters\n",
    "        \n",
    "    \"\"\"\n",
    "    \n",
    "    best_score = np.inf\n",
    "    best_params = {}\n",
    "    best_model = None\n",
    "    \n",
    "    #TOFILL\n",
    "    \n",
    "\n",
    "    return best_params, best_score, best_model"
   ]
  },
  {
   "cell_type": "code",
   "execution_count": null,
   "metadata": {
    "scrolled": true
   },
   "outputs": [],
   "source": [
    "lambdas_ = [0.0002, 0.00005, 0.00002]\n",
    "ks = [15,30]\n",
    "\n",
    "param_grid = dict(k=ks, lambda_=lambdas_)\n",
    "\n",
    "best_params, best_score, best_model = grid_search(train, param_grid, get_mf_bias_l2_reg_model,\n",
    "                                      nb_users, nb_movies, validation_size = 0.1)\n"
   ]
  },
  {
   "cell_type": "code",
   "execution_count": null,
   "metadata": {},
   "outputs": [],
   "source": [
    "print('Best hyper-parameters : ' + str(best_params))\n",
    "print('Best validation RMSE : ' + str(best_score))"
   ]
  },
  {
   "cell_type": "code",
   "execution_count": null,
   "metadata": {},
   "outputs": [],
   "source": [
    "y_pred = best_model.predict(X_test)\n",
    "\n",
    "test_rmse = sqrt(mean_squared_error(y_test, y_pred))\n",
    "\n",
    "print(\"Best model test RMSE : %s \" % test_rmse)"
   ]
  },
  {
   "cell_type": "markdown",
   "metadata": {},
   "source": [
    "## Retrain on all the dataset with the best hyper-parameters"
   ]
  },
  {
   "cell_type": "markdown",
   "metadata": {},
   "source": [
    "Actually other hyper-parameters such as the ones of SGD should also be grid-searched, like the number of epochs or the batch size. But that would be a bit long for this course. \n",
    "\n",
    "Now we want to do the best prediction possible, so retrain below your model on the whole dataset, including the test set, with the best values obtained from your grid search to make new predictions with our optimal parameters :"
   ]
  },
  {
   "cell_type": "code",
   "execution_count": null,
   "metadata": {
    "scrolled": true
   },
   "outputs": [],
   "source": [
    "from keras.callbacks import EarlyStopping\n",
    "\n",
    "X = [dataset[\"userId\"].to_numpy(), dataset[\"movieId\"].to_numpy()]\n",
    "y = dataset[\"rating\"].to_numpy()\n",
    "\n",
    "#TOFILL\n",
    "best_model=get_mf_bias_l2_reg_model(nb_users, nb_movies, k =, lambda_ =)\n",
    "\n",
    "early_stopping = EarlyStopping(monitor='val_mse', patience=10, verbose=1)\n",
    "\n",
    "best_model.fit(X, y, epochs=500, batch_size=512, validation_split=0.1, callbacks=[early_stopping])"
   ]
  },
  {
   "cell_type": "markdown",
   "metadata": {},
   "source": [
    "## Recommend the top-5 movies for the 10 first users"
   ]
  },
  {
   "cell_type": "markdown",
   "metadata": {},
   "source": [
    "With your retrained best model with optimal hyper parameters, compute the predictions for all the ratings that are not in the `dataset` for the 10 first users (indexes from 0 to 9). That means all the movies $i$ that these users $u \\in 0,\\ldots,9$ haven't rated, thus all the $u,i$ combinations that are not in the `dataset` dataframe rows.\n",
    "\n",
    "Order these predicted ratings for these users by decreasing order, and print out the 5 first ones, i.e. the ones that have the highest predicted ratings. Use the *movies.csv* file to print the real titles."
   ]
  },
  {
   "cell_type": "code",
   "execution_count": null,
   "metadata": {},
   "outputs": [],
   "source": [
    "def get_top5_for_user(model, user_id, dataset):\n",
    "    \"\"\"\n",
    "    Returns a list of the 5 movies that have the highest ratings among the unrated movies\n",
    "    of user `user_id`, along with a list of their predicted ratings.\n",
    "    \n",
    "    Input :\n",
    "        model : keras.models.Model : A trained matrix factorization model\n",
    "        user_id : int : The user id to use\n",
    "        dataset : DataFrame : The whole dataset, useful to find the movies \n",
    "            the user `user_id` has already rated\n",
    "    \n",
    "    Output :\n",
    "        five_best_movie_ids : list : The five movie ids among unrated movies by user `user_id` \n",
    "            that have the highest predicted ratings, in order\n",
    "        five_best_ratings : list : The corresponding five ratings\n",
    "    \"\"\"\n",
    "    \n",
    "    #TOFILL\n",
    "    \n",
    "    \n",
    "    return five_best_movie_ids, five_best_ratings"
   ]
  },
  {
   "cell_type": "code",
   "execution_count": null,
   "metadata": {
    "scrolled": true
   },
   "outputs": [],
   "source": [
    "#TOFILL\n",
    "\n"
   ]
  },
  {
   "cell_type": "markdown",
   "metadata": {},
   "source": [
    "## Visualize the embeddings"
   ]
  },
  {
   "cell_type": "markdown",
   "metadata": {},
   "source": [
    "Let's now have a look at what is going on in the embedding space of the movies that we learnt. Our brain cannot picture anything beyond 3 dimensions, and we learnt high dimensional embeddings (k=15 or 30), so we are going to project the movies embeddings on a 2D plane, first with PCA, and then with another algorithm made for visualizing high dimensional spaces called t-sne."
   ]
  },
  {
   "cell_type": "markdown",
   "metadata": {},
   "source": [
    "### PCA"
   ]
  },
  {
   "cell_type": "markdown",
   "metadata": {},
   "source": [
    "You have already studied PCA, it is a useful technique for dimensionality reduction, but also simply for visualization. Don't forget to scale your embeddings first. To access the embeddings values of your keras model, have a look at the *get_weights()* function.\n",
    "\n",
    "Compute a PCA on all your movies embeddings, get the 2 first principal components, and do a scatter plot of 20 randomly sampled movies on a 2D plane, where each movie is a point defined by the two values of the two first principal components of the PCA from its embedding. Add the titles to the plot, and try to see if you can interpret the axes of the PCA through to different movie genres, like in Figure 3 from the article *Matrix Factorization Techniques for Recommender Systems*."
   ]
  },
  {
   "cell_type": "code",
   "execution_count": null,
   "metadata": {},
   "outputs": [],
   "source": [
    "from sklearn.preprocessing import StandardScaler\n",
    "from sklearn.decomposition import PCA\n",
    "\n",
    "#TOFILL\n"
   ]
  },
  {
   "cell_type": "markdown",
   "metadata": {},
   "source": [
    "## t-sne"
   ]
  },
  {
   "cell_type": "markdown",
   "metadata": {},
   "source": [
    "Let's do the same with t-sne, an algorithm specialized for visualizing high dimensional spaces, you can read more about it there : https://en.wikipedia.org/wiki/T-distributed_stochastic_neighbor_embedding"
   ]
  },
  {
   "cell_type": "code",
   "execution_count": null,
   "metadata": {},
   "outputs": [],
   "source": [
    "from sklearn.manifold import TSNE\n",
    "\n",
    "#TOFILL:\n"
   ]
  },
  {
   "cell_type": "markdown",
   "metadata": {},
   "source": [
    "T-sne in general tends to preserve local similarities better than PCA. In any case, it's always interesting to try both for visualizing high dimensional data."
   ]
  },
  {
   "cell_type": "code",
   "execution_count": null,
   "metadata": {},
   "outputs": [],
   "source": []
  },
  {
   "cell_type": "markdown",
   "metadata": {},
   "source": [
    "Optionally, you can export your embedding and upload them on https://projector.tensorflow.org/ to visualize the embeddings in 3D. You can also use the movies genres from the *movies.csv* file to make one plot for each movie genre and try to see if some parts of the embedding space are representative of a movie genre."
   ]
  },
  {
   "cell_type": "markdown",
   "metadata": {},
   "source": [
    "# OPTIONAL PARTS"
   ]
  },
  {
   "cell_type": "markdown",
   "metadata": {},
   "source": [
    "## Recommend movies to yourself"
   ]
  },
  {
   "cell_type": "markdown",
   "metadata": {},
   "source": [
    "Implement a function that ask you to rate 20 movies, then add your own ratings to the dataset, retrain the model, and compute your own top-5 predictions."
   ]
  },
  {
   "cell_type": "code",
   "execution_count": null,
   "metadata": {
    "scrolled": true
   },
   "outputs": [],
   "source": [
    "import random\n",
    "\n",
    "def rate_my_movies(my_user_id, dataset, nb_movies, nb_to_rate, movie_ids_map):\n",
    "    \"\"\"\n",
    "    Returns a dataframe in the same format as the dataset dataframe, with\n",
    "    ratings entered by the user for `nb_to_rate` random movies\n",
    "    \n",
    "    Input :\n",
    "        my_user_id : int : The user_id of the new ratings\n",
    "        dataset : DataFrame : The whole dataset \n",
    "        nb_movies : int : Number of unique movie ids\n",
    "        nb_to_rate : int : Number of movies to rate\n",
    "        movie_ids_map : dict : The mapping of original file userId to a new index starting at 0.\n",
    "    \n",
    "    Output : \n",
    "        my_ratings : DataFrame : A dataframe with the same column as `dataset` containing\n",
    "            the new ratings entered by the user\n",
    "    \"\"\"\n",
    "    #TOFILL\n",
    " \n",
    "\n",
    "\n",
    "\n",
    "    return my_ratings\n",
    "\n",
    "\n",
    "my_user_id = len(user_ids_map)\n",
    "\n",
    "my_ratings = rate_my_movies(my_user_id, dataset, nb_movies, 20, movie_ids_map)\n",
    "\n"
   ]
  },
  {
   "cell_type": "code",
   "execution_count": null,
   "metadata": {},
   "outputs": [],
   "source": [
    "dataset_with_me = pd.concat([dataset, my_ratings], axis = 0).sample(frac=1).reset_index(drop=True)\n",
    "\n",
    "X_with_me = [dataset_with_me[\"userId\"].to_numpy(), dataset_with_me[\"movieId\"].to_numpy()]\n",
    "y_with_me = dataset_with_me[\"rating\"].to_numpy()\n"
   ]
  },
  {
   "cell_type": "code",
   "execution_count": null,
   "metadata": {
    "scrolled": true
   },
   "outputs": [],
   "source": [
    "best_model=get_mf_bias_l2_reg_model(nb_users + 1, nb_movies, 15, 1*10**-5)\n",
    "\n",
    "early_stopping = EarlyStopping(monitor='val_mse', patience=10, verbose=1)\n",
    "\n",
    "best_model.fit(X_with_me, y_with_me, epochs=500, batch_size=512, validation_split=0.1, callbacks=[early_stopping])"
   ]
  },
  {
   "cell_type": "code",
   "execution_count": null,
   "metadata": {},
   "outputs": [],
   "source": [
    "five_best_movie_ids, five_best_ratings =  get_top5_for_user(best_model, my_user_id, dataset)\n",
    "for i in range(5):\n",
    "    print('\\t' + ml_movie_id_to_title[ inverse_movie_ids_map[ five_best_movie_ids[i] ] ] + \n",
    "          '; predicted rating : ' + str(five_best_ratings[i]) )\n",
    "print('')"
   ]
  },
  {
   "cell_type": "code",
   "execution_count": null,
   "metadata": {},
   "outputs": [],
   "source": []
  },
  {
   "cell_type": "markdown",
   "metadata": {},
   "source": [
    "## Reuse the movie embeddings to predict the movies genre with multi-label classification"
   ]
  },
  {
   "cell_type": "markdown",
   "metadata": {},
   "source": [
    "Beyond the goal of predicting missing rating, the matrix factorization techniques also produces vectorial representation of movies and users: their embeddings, what we just visualized for the movies. With a big enough dataset, these embeddings actually are good abstract representations of the movies and of the users, and can be reused as features for other tasks, such as classification.\n",
    "\n",
    "In the *movies.csv*, there is a column that gives the genres of each movie. Let's try to predict the genres of the movies from the embeddings we learnt. As you can see, each movie can have more than one genre, so in classification terms, more than one class. We can achieve that with *multilabel classification*. You can read more about it there: https://scikit-learn.org/stable/modules/multiclass.html\n",
    "\n",
    "Load the movies genre, encode them as binary classes and use the classes imported below to train a multilabel classifier that uses the movie embeddings as features, and the movie genres as classes. Use the *OneVsRestClassifier* with a simple *LinearSVC* without any hyper-parameter tuning. Finally print the test accuracy, F1, precision and recall for each class, as well as the number of time each class appears in the dataset."
   ]
  },
  {
   "cell_type": "code",
   "execution_count": null,
   "metadata": {},
   "outputs": [],
   "source": [
    "from sklearn.preprocessing import MultiLabelBinarizer\n",
    "from sklearn.model_selection import train_test_split\n",
    "from sklearn.multiclass import OneVsRestClassifier\n",
    "from sklearn.svm import LinearSVC\n",
    "from sklearn.metrics import accuracy_score, f1_score, precision_score, recall_score\n",
    "\n",
    "#TOFILL\n"
   ]
  },
  {
   "cell_type": "markdown",
   "metadata": {},
   "source": [
    "On rare classes, you should get a very high accuracy, with a very low F1. Indeed these classes are really imbalanced : there are a few positives, hence the classifier is largely biased toward the negatives, and rarely predict a positive for these classes. This is why accuracy is generally a bad measure with imbalanced dataset : the high number of true negatives makes the accuracy number high, while our model is actually barely capable of predicting true positives.\n",
    "\n",
    "Let's compare our classifier performance with a *DummyClassifier*, the dummy classifier takes the ratio $r = \\frac{nb\\_positives}{nb\\_positives + nb\\_negatives}$ as the probability to predict a positive, and then do it randomly."
   ]
  },
  {
   "cell_type": "code",
   "execution_count": null,
   "metadata": {
    "scrolled": true
   },
   "outputs": [],
   "source": [
    "from sklearn.dummy import DummyClassifier\n",
    "\n",
    "#TOFILL\n",
    "\n"
   ]
  },
  {
   "cell_type": "markdown",
   "metadata": {},
   "source": [
    "As you can see, simply respecting the class balance, even at random, produces better F1 on most classes. One way to compensate for class imbalance is to tell the classifier to weight more the true samples at training time, accordingly with the ratio $r$ between true and false samples. With scikit-learn SVM implementation, you can use the argument *class_weight* for setting the weight of the positive and negative samples at training time. See : https://scikit-learn.org/stable/auto_examples/svm/plot_separating_hyperplane_unbalanced.html\n",
    "\n",
    "But if you just want to set the class weights accordingly with the ratio between positives and negatives, you can just set *class_weight = ‘balanced’*. Test it with the LinearSVC classifier:"
   ]
  },
  {
   "cell_type": "code",
   "execution_count": null,
   "metadata": {
    "scrolled": true
   },
   "outputs": [],
   "source": [
    "#TOFILL\n",
    "\n"
   ]
  },
  {
   "cell_type": "markdown",
   "metadata": {},
   "source": [
    "F1 is now much better than with the dummy classifier, however is is still not very convincing. This is quite normal given the size of the dataset we are using, which is pretty small to get really meaningful embeddings. But with bigger datasets, reusing embeddings as features for auxiliary tasks such as classification is actually a very effective way of doing so when there is no other informations about the items we try to classify. Here the items are the movies, the dataset doesn't provide more information about them, but one could imagine fetching from internet textual descriptions of the movies and use them as features alongside the embeddings to improve the classification results."
   ]
  },
  {
   "cell_type": "markdown",
   "metadata": {},
   "source": [
    "## Try out the different SGD algorithms"
   ]
  },
  {
   "cell_type": "markdown",
   "metadata": {},
   "source": [
    "In all the notebook we used the 'adam' `optimizer` to train our model, which is a variation of SGD. Keras proposes different variations of SGD: https://keras.io/optimizers/ . This article gif images gives an intuitive view of their different behavior : https://medium.com/@ramrajchandradevan/the-evolution-of-gradient-descend-optimization-algorithm-4106a6702d39\n",
    "\n",
    "Try a few ones with our model and see how the training and testing loss evolves."
   ]
  },
  {
   "cell_type": "code",
   "execution_count": null,
   "metadata": {},
   "outputs": [],
   "source": [
    "#TOFILL"
   ]
  },
  {
   "cell_type": "markdown",
   "metadata": {},
   "source": [
    "## Add the global bias $\\mu$  parameter to the model"
   ]
  },
  {
   "cell_type": "markdown",
   "metadata": {},
   "source": [
    "Remember we didn't added the global bias $\\mu$ to our model yet (Equations (4-5) from Koren's paper). Use your best google skills to find a way to add an embedding layer that does that.\n",
    "\n",
    "Hint : Use a constant `Input` layer."
   ]
  },
  {
   "cell_type": "code",
   "execution_count": null,
   "metadata": {},
   "outputs": [],
   "source": [
    "from keras import backend as K\n",
    "#TOFILL\n"
   ]
  },
  {
   "cell_type": "code",
   "execution_count": null,
   "metadata": {},
   "outputs": [],
   "source": []
  },
  {
   "cell_type": "code",
   "execution_count": null,
   "metadata": {},
   "outputs": [],
   "source": []
  },
  {
   "cell_type": "code",
   "execution_count": null,
   "metadata": {},
   "outputs": [],
   "source": []
  },
  {
   "cell_type": "markdown",
   "metadata": {},
   "source": [
    "## Implement your own Stochastic Gradient Descent for Matrix Factorization with numpy instead of Keras (very optional)"
   ]
  },
  {
   "cell_type": "markdown",
   "metadata": {},
   "source": [
    "Now you know everything to implement your own matrix factorization SGD model, all with numpy arrays. Start without the biases again, and without mini-batches. The gradient update equations are described in page 4 of Koren's paper. Let's initialize your $p$ and $q$ embeddings with a gaussian sampling. Print the RMSE at the beginning of each epoch, and finally compute the RMSE of your model on the test set."
   ]
  },
  {
   "cell_type": "code",
   "execution_count": null,
   "metadata": {},
   "outputs": [],
   "source": [
    "from numpy.random import normal\n",
    "\n",
    "P = normal(size = (nb_users,k))\n",
    "Q = normal(size = (nb_movies,k))\n",
    "\n",
    "gamma = 0.1\n",
    "lambda_ = 0.00001\n",
    "epochs = 10\n",
    "\n",
    "for e in range(epochs):\n",
    "    for j in range(train.shape[0]):\n",
    "        u = train['userId'].iloc[j]\n",
    "        i = train['movieId'].iloc[j]\n",
    "        r_ui = train['rating'].iloc[j]\n",
    "        \n",
    "        #TOFILL\n"
   ]
  },
  {
   "cell_type": "code",
   "execution_count": null,
   "metadata": {},
   "outputs": [],
   "source": []
  },
  {
   "cell_type": "code",
   "execution_count": null,
   "metadata": {},
   "outputs": [],
   "source": []
  }
 ],
 "metadata": {
  "interpreter": {
   "hash": "916dbcbb3f70747c44a77c7bcd40155683ae19c65e1c03b4aa3499c5328201f1"
  },
  "kernelspec": {
   "display_name": "Python 3 (ipykernel)",
   "language": "python",
   "name": "python3"
  },
  "language_info": {
   "codemirror_mode": {
    "name": "ipython",
    "version": 3
   },
   "file_extension": ".py",
   "mimetype": "text/x-python",
   "name": "python",
   "nbconvert_exporter": "python",
   "pygments_lexer": "ipython3",
   "version": "3.9.12"
  }
 },
 "nbformat": 4,
 "nbformat_minor": 4
}
